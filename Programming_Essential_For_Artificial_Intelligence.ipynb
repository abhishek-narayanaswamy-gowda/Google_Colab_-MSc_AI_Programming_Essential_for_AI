{
  "nbformat": 4,
  "nbformat_minor": 0,
  "metadata": {
    "colab": {
      "provenance": [],
      "toc_visible": true,
      "authorship_tag": "ABX9TyMfvv13RW/+wgN4KzE4RuAP",
      "include_colab_link": true
    },
    "kernelspec": {
      "name": "python3",
      "display_name": "Python 3"
    },
    "language_info": {
      "name": "python"
    }
  },
  "cells": [
    {
      "cell_type": "markdown",
      "metadata": {
        "id": "view-in-github",
        "colab_type": "text"
      },
      "source": [
        "<a href=\"https://colab.research.google.com/github/abhishek-narayanaswamy-gowda/Google_Colab_-MSc_AI_Programming_Essential_for_AI/blob/main/Programming_Essential_For_Artificial_Intelligence.ipynb\" target=\"_parent\"><img src=\"https://colab.research.google.com/assets/colab-badge.svg\" alt=\"Open In Colab\"/></a>"
      ]
    },
    {
      "cell_type": "code",
      "source": [
        "# Magic command to print data without print\n",
        "from IPython.core.interactiveshell import InteractiveShell\n",
        "InteractiveShell.ast_node_interactivity = \"all\""
      ],
      "metadata": {
        "id": "ScgcKIY14pCa"
      },
      "execution_count": null,
      "outputs": []
    },
    {
      "cell_type": "markdown",
      "source": [
        "#INTRODUCTION\n"
      ],
      "metadata": {
        "id": "LzFYQAS2EeKV"
      }
    },
    {
      "cell_type": "markdown",
      "source": [
        "##Sequential Steps\n"
      ],
      "metadata": {
        "id": "1vWRRdP94ih8"
      }
    },
    {
      "cell_type": "code",
      "execution_count": null,
      "metadata": {
        "id": "On29WH6TWxuR"
      },
      "outputs": [],
      "source": [
        "x=2"
      ]
    },
    {
      "cell_type": "code",
      "source": [
        "print(x)"
      ],
      "metadata": {
        "colab": {
          "base_uri": "https://localhost:8080/"
        },
        "id": "Dktpg6uG588o",
        "outputId": "60da5d67-f800-4125-f934-f0e2ff9424a0"
      },
      "execution_count": null,
      "outputs": [
        {
          "output_type": "stream",
          "name": "stdout",
          "text": [
            "2\n"
          ]
        }
      ]
    },
    {
      "cell_type": "code",
      "source": [
        "x=x+2"
      ],
      "metadata": {
        "id": "jvSVgjID5-VE"
      },
      "execution_count": null,
      "outputs": []
    },
    {
      "cell_type": "code",
      "source": [
        "print(x)"
      ],
      "metadata": {
        "colab": {
          "base_uri": "https://localhost:8080/"
        },
        "id": "CEkajNF86BhW",
        "outputId": "952371ab-261f-451d-d286-402639fe5d37"
      },
      "execution_count": null,
      "outputs": [
        {
          "output_type": "stream",
          "name": "stdout",
          "text": [
            "4\n"
          ]
        }
      ]
    },
    {
      "cell_type": "markdown",
      "source": [
        "##Conditional Steps"
      ],
      "metadata": {
        "id": "ZS6TWZbL6ImQ"
      }
    },
    {
      "cell_type": "code",
      "source": [
        "x=5\n",
        "if x<10:\n",
        "  print('Smaller')\n",
        "if x>20:\n",
        "  print('Bigger')\n",
        "print('Finis')"
      ],
      "metadata": {
        "colab": {
          "base_uri": "https://localhost:8080/"
        },
        "id": "dGGwbbA86DcD",
        "outputId": "41c53158-82eb-4ef9-e2bb-50a59cc9cd35"
      },
      "execution_count": null,
      "outputs": [
        {
          "output_type": "stream",
          "name": "stdout",
          "text": [
            "Smaller\n",
            "Finis\n"
          ]
        }
      ]
    },
    {
      "cell_type": "markdown",
      "source": [
        "##Repeated Steps"
      ],
      "metadata": {
        "id": "I0kpv1YN6gOu"
      }
    },
    {
      "cell_type": "code",
      "source": [
        "n=5\n",
        "while n>0:\n",
        "  print(n)\n",
        "  n=n-1\n",
        "print('Blast off!')"
      ],
      "metadata": {
        "colab": {
          "base_uri": "https://localhost:8080/"
        },
        "id": "AX6YeqvB6c5O",
        "outputId": "3b8c502f-78a8-4dc2-e47c-2ba76edcf847"
      },
      "execution_count": null,
      "outputs": [
        {
          "output_type": "stream",
          "name": "stdout",
          "text": [
            "5\n",
            "4\n",
            "3\n",
            "2\n",
            "1\n",
            "Blast off!\n"
          ]
        }
      ]
    },
    {
      "cell_type": "markdown",
      "source": [
        "#"
      ],
      "metadata": {
        "id": "xYGrm4Gd735b"
      }
    },
    {
      "cell_type": "markdown",
      "source": [
        "Write a program that uses a print function to say 'hello world' as shown in 'Desired Output'."
      ],
      "metadata": {
        "id": "AF3qKM2LEJOt"
      }
    },
    {
      "cell_type": "code",
      "source": [
        "# First program\n",
        "\n",
        "print('hello world')"
      ],
      "metadata": {
        "colab": {
          "base_uri": "https://localhost:8080/"
        },
        "id": "dEMaa3Rq67Bf",
        "outputId": "d14488fd-1a5d-4a34-99a8-7355c730e505"
      },
      "execution_count": null,
      "outputs": [
        {
          "output_type": "stream",
          "name": "stdout",
          "text": [
            "hello world\n"
          ]
        }
      ]
    },
    {
      "cell_type": "markdown",
      "source": [
        "# CHAPTER 2: VARIABLES, EXPRESSIONS AND STATEMENTS"
      ],
      "metadata": {
        "id": "1SW3J2Q-E-TE"
      }
    },
    {
      "cell_type": "markdown",
      "source": [
        "##Constants"
      ],
      "metadata": {
        "id": "OI1Ds531G0jT"
      }
    },
    {
      "cell_type": "code",
      "source": [
        "print(123)"
      ],
      "metadata": {
        "id": "p_t13skhFKB1",
        "colab": {
          "base_uri": "https://localhost:8080/"
        },
        "outputId": "4c39a5ae-89d0-4521-b5bd-a69c1a4564d4"
      },
      "execution_count": null,
      "outputs": [
        {
          "output_type": "stream",
          "name": "stdout",
          "text": [
            "123\n"
          ]
        }
      ]
    },
    {
      "cell_type": "code",
      "source": [
        "print(98.6)"
      ],
      "metadata": {
        "colab": {
          "base_uri": "https://localhost:8080/"
        },
        "id": "eFsOM815HIy4",
        "outputId": "ce118543-d3ff-415f-f248-2448a97ea828"
      },
      "execution_count": null,
      "outputs": [
        {
          "output_type": "stream",
          "name": "stdout",
          "text": [
            "98.6\n"
          ]
        }
      ]
    },
    {
      "cell_type": "code",
      "source": [
        "print('Hello World!')"
      ],
      "metadata": {
        "colab": {
          "base_uri": "https://localhost:8080/"
        },
        "id": "Pz_EFcEDHOS7",
        "outputId": "a1a42aac-ca9b-4a8c-ceb1-decbe62ade82"
      },
      "execution_count": null,
      "outputs": [
        {
          "output_type": "stream",
          "name": "stdout",
          "text": [
            "Hello World!\n"
          ]
        }
      ]
    },
    {
      "cell_type": "markdown",
      "source": [
        "##Variable"
      ],
      "metadata": {
        "id": "oAClS8UXJETx"
      }
    },
    {
      "cell_type": "code",
      "source": [
        "x=12.2"
      ],
      "metadata": {
        "id": "PKvS7AAmHWXB"
      },
      "execution_count": null,
      "outputs": []
    },
    {
      "cell_type": "code",
      "source": [
        "y=14"
      ],
      "metadata": {
        "id": "Py8GmkzeJJsh"
      },
      "execution_count": null,
      "outputs": []
    },
    {
      "cell_type": "code",
      "source": [
        "x=100"
      ],
      "metadata": {
        "id": "DQ2nhNC7JOpX"
      },
      "execution_count": null,
      "outputs": []
    },
    {
      "cell_type": "code",
      "source": [
        "print(x)"
      ],
      "metadata": {
        "colab": {
          "base_uri": "https://localhost:8080/"
        },
        "id": "TLDm54HDJP_f",
        "outputId": "5510b9f5-2c00-4908-d55c-d88c0ec29a3f"
      },
      "execution_count": null,
      "outputs": [
        {
          "output_type": "stream",
          "name": "stdout",
          "text": [
            "100\n"
          ]
        }
      ]
    },
    {
      "cell_type": "markdown",
      "source": [
        "##Sentences or Lines"
      ],
      "metadata": {
        "id": "o6tVi72GMl89"
      }
    },
    {
      "cell_type": "code",
      "source": [
        "#Assignment statement- we assign a value to a variable using assignment statement(=)\n",
        "x=2"
      ],
      "metadata": {
        "id": "30P3I1SjJRpx"
      },
      "execution_count": null,
      "outputs": []
    },
    {
      "cell_type": "code",
      "source": [
        "#Assignment statement with expression\n",
        "x=x+2"
      ],
      "metadata": {
        "id": "G5-Z2Hx4MyY5"
      },
      "execution_count": null,
      "outputs": []
    },
    {
      "cell_type": "code",
      "source": [
        "#print statement is function call with parenthsis\n",
        "print(x)"
      ],
      "metadata": {
        "colab": {
          "base_uri": "https://localhost:8080/"
        },
        "id": "SS-t3nyUM6PQ",
        "outputId": "10f4d3d4-9871-42d9-9113-0d8b57030ee7"
      },
      "execution_count": null,
      "outputs": [
        {
          "output_type": "stream",
          "name": "stdout",
          "text": [
            "4\n"
          ]
        }
      ]
    },
    {
      "cell_type": "markdown",
      "source": [
        "##Expressions"
      ],
      "metadata": {
        "id": "pgUoj3dvNnIj"
      }
    },
    {
      "cell_type": "code",
      "source": [
        "#Addition\n",
        "a=2\n",
        "a=a+2\n",
        "print(a)"
      ],
      "metadata": {
        "colab": {
          "base_uri": "https://localhost:8080/"
        },
        "id": "9gl-BU60M9Q8",
        "outputId": "2191f4ac-327e-4b04-9605-d94e7231a9fd"
      },
      "execution_count": null,
      "outputs": [
        {
          "output_type": "stream",
          "name": "stdout",
          "text": [
            "4\n"
          ]
        }
      ]
    },
    {
      "cell_type": "code",
      "source": [
        "#Subtraction\n",
        "s=2\n",
        "s=s-1\n",
        "print(s)"
      ],
      "metadata": {
        "colab": {
          "base_uri": "https://localhost:8080/"
        },
        "id": "wJI3Jt2APMvR",
        "outputId": "331e11a8-8b79-4753-f0ee-9fe163f556e7"
      },
      "execution_count": null,
      "outputs": [
        {
          "output_type": "stream",
          "name": "stdout",
          "text": [
            "1\n"
          ]
        }
      ]
    },
    {
      "cell_type": "code",
      "source": [
        "#multiplication\n",
        "m=440*12\n",
        "print(m)"
      ],
      "metadata": {
        "colab": {
          "base_uri": "https://localhost:8080/"
        },
        "id": "0pWg2VUTPZj_",
        "outputId": "963b2de6-1d12-4ba6-ff1e-54c20cd74805"
      },
      "execution_count": null,
      "outputs": [
        {
          "output_type": "stream",
          "name": "stdout",
          "text": [
            "5280\n"
          ]
        }
      ]
    },
    {
      "cell_type": "code",
      "source": [
        "#division\n",
        "d=m/10\n",
        "print(d)"
      ],
      "metadata": {
        "colab": {
          "base_uri": "https://localhost:8080/"
        },
        "id": "09r3P8UZPji4",
        "outputId": "12c30f1a-9021-402a-c579-d39677975a2c"
      },
      "execution_count": null,
      "outputs": [
        {
          "output_type": "stream",
          "name": "stdout",
          "text": [
            "528.0\n"
          ]
        }
      ]
    },
    {
      "cell_type": "code",
      "source": [
        "#modulus\n",
        "mo=23\n",
        "mod=mo%5\n",
        "print(mod)"
      ],
      "metadata": {
        "colab": {
          "base_uri": "https://localhost:8080/"
        },
        "id": "eYrPtbQ6Pwg3",
        "outputId": "157aa43f-3137-45ea-fabc-65943cea61d5"
      },
      "execution_count": null,
      "outputs": [
        {
          "output_type": "stream",
          "name": "stdout",
          "text": [
            "3\n"
          ]
        }
      ]
    },
    {
      "cell_type": "markdown",
      "source": [
        "##Type -- Different types of Data Type"
      ],
      "metadata": {
        "id": "IGwCXWcTR0jV"
      }
    },
    {
      "cell_type": "code",
      "source": [
        "#Integer\n",
        "i=42\n",
        "type(i)"
      ],
      "metadata": {
        "colab": {
          "base_uri": "https://localhost:8080/"
        },
        "id": "BqN_W5FsP9To",
        "outputId": "fbb2237b-acd9-468d-acd4-b4950c75ffdc"
      },
      "execution_count": null,
      "outputs": [
        {
          "output_type": "execute_result",
          "data": {
            "text/plain": [
              "int"
            ]
          },
          "metadata": {},
          "execution_count": 127
        }
      ]
    },
    {
      "cell_type": "code",
      "source": [
        "#String\n",
        "ss='Hello '\n",
        "SS='World!'\n",
        "s=ss+SS # here + concatenates the string\n",
        "print(s)\n",
        "type(s)"
      ],
      "metadata": {
        "colab": {
          "base_uri": "https://localhost:8080/"
        },
        "id": "GiPV_8VwSMyB",
        "outputId": "b6a07543-7f36-4e0a-a199-87ba8fa55bf1"
      },
      "execution_count": null,
      "outputs": [
        {
          "output_type": "stream",
          "name": "stdout",
          "text": [
            "Hello World!\n"
          ]
        },
        {
          "output_type": "execute_result",
          "data": {
            "text/plain": [
              "str"
            ]
          },
          "metadata": {},
          "execution_count": 128
        }
      ]
    },
    {
      "cell_type": "code",
      "source": [
        "#Float\n",
        "f=1.23\n",
        "type(f)"
      ],
      "metadata": {
        "colab": {
          "base_uri": "https://localhost:8080/"
        },
        "id": "p9OQekh3Svtc",
        "outputId": "a383680e-18c3-47a7-9b8a-4492ea1ebe0e"
      },
      "execution_count": null,
      "outputs": [
        {
          "output_type": "execute_result",
          "data": {
            "text/plain": [
              "float"
            ]
          },
          "metadata": {},
          "execution_count": 129
        }
      ]
    },
    {
      "cell_type": "markdown",
      "source": [
        "##Type Converstion"
      ],
      "metadata": {
        "id": "dm3t9zgAdEZE"
      }
    },
    {
      "cell_type": "code",
      "source": [
        "#implicit conversion\n",
        "print(float(99)+100)"
      ],
      "metadata": {
        "colab": {
          "base_uri": "https://localhost:8080/"
        },
        "id": "7jfAOxFXTLWU",
        "outputId": "8df98efd-35ff-4950-e2ee-df38c7803383"
      },
      "execution_count": null,
      "outputs": [
        {
          "output_type": "stream",
          "name": "stdout",
          "text": [
            "199.0\n"
          ]
        }
      ]
    },
    {
      "cell_type": "code",
      "source": [
        "i=10"
      ],
      "metadata": {
        "id": "3Wa3-bncda81"
      },
      "execution_count": null,
      "outputs": []
    },
    {
      "cell_type": "code",
      "source": [
        "type(i)"
      ],
      "metadata": {
        "colab": {
          "base_uri": "https://localhost:8080/"
        },
        "id": "pc2UdFvPdfL0",
        "outputId": "4c28a8b6-a8e6-48d0-c304-873bbf5c0174"
      },
      "execution_count": null,
      "outputs": [
        {
          "output_type": "execute_result",
          "data": {
            "text/plain": [
              "int"
            ]
          },
          "metadata": {},
          "execution_count": 132
        }
      ]
    },
    {
      "cell_type": "code",
      "source": [
        "f=float(i)"
      ],
      "metadata": {
        "id": "cWZIQXU9dhHA"
      },
      "execution_count": null,
      "outputs": []
    },
    {
      "cell_type": "code",
      "source": [
        "print(f)"
      ],
      "metadata": {
        "colab": {
          "base_uri": "https://localhost:8080/"
        },
        "id": "5J5pvuNxdlU1",
        "outputId": "dcebd348-3659-4479-d989-b2d026d2f11b"
      },
      "execution_count": null,
      "outputs": [
        {
          "output_type": "stream",
          "name": "stdout",
          "text": [
            "10.0\n"
          ]
        }
      ]
    },
    {
      "cell_type": "code",
      "source": [
        "type(f)"
      ],
      "metadata": {
        "colab": {
          "base_uri": "https://localhost:8080/"
        },
        "id": "PG6ryOArdnx8",
        "outputId": "68082dbb-69c9-4070-9e5b-a03062bbdd29"
      },
      "execution_count": null,
      "outputs": [
        {
          "output_type": "execute_result",
          "data": {
            "text/plain": [
              "float"
            ]
          },
          "metadata": {},
          "execution_count": 135
        }
      ]
    },
    {
      "cell_type": "code",
      "source": [
        "print(type(f))"
      ],
      "metadata": {
        "colab": {
          "base_uri": "https://localhost:8080/"
        },
        "id": "MB66xjowduxm",
        "outputId": "3a20ce8c-8eb0-4041-def8-4f3810593d9a"
      },
      "execution_count": null,
      "outputs": [
        {
          "output_type": "stream",
          "name": "stdout",
          "text": [
            "<class 'float'>\n"
          ]
        }
      ]
    },
    {
      "cell_type": "markdown",
      "source": [
        "### Integer Division"
      ],
      "metadata": {
        "id": "6S6EVFudd7Aq"
      }
    },
    {
      "cell_type": "code",
      "source": [
        "print(10/2)"
      ],
      "metadata": {
        "colab": {
          "base_uri": "https://localhost:8080/"
        },
        "id": "WLa1A1sJdz4Z",
        "outputId": "2e68360b-88f7-47da-8112-01cde6bc1c8e"
      },
      "execution_count": null,
      "outputs": [
        {
          "output_type": "stream",
          "name": "stdout",
          "text": [
            "5.0\n"
          ]
        }
      ]
    },
    {
      "cell_type": "code",
      "source": [
        "print(9/2)"
      ],
      "metadata": {
        "colab": {
          "base_uri": "https://localhost:8080/"
        },
        "id": "H_fqh1WfeEaX",
        "outputId": "41f53e42-3b90-4756-b85e-b9cb72e1f4ff"
      },
      "execution_count": null,
      "outputs": [
        {
          "output_type": "stream",
          "name": "stdout",
          "text": [
            "4.5\n"
          ]
        }
      ]
    },
    {
      "cell_type": "code",
      "source": [
        "print(99/100)"
      ],
      "metadata": {
        "colab": {
          "base_uri": "https://localhost:8080/"
        },
        "id": "6_T8Cg9neGpM",
        "outputId": "6e585e08-0238-47e3-eae2-6e0accd0c503"
      },
      "execution_count": null,
      "outputs": [
        {
          "output_type": "stream",
          "name": "stdout",
          "text": [
            "0.99\n"
          ]
        }
      ]
    },
    {
      "cell_type": "code",
      "source": [
        "print(10.0/2.0)"
      ],
      "metadata": {
        "colab": {
          "base_uri": "https://localhost:8080/"
        },
        "id": "7jg4E2qxeJLg",
        "outputId": "c20d8fd1-f0e5-40f2-a493-a28b32c7d670"
      },
      "execution_count": null,
      "outputs": [
        {
          "output_type": "stream",
          "name": "stdout",
          "text": [
            "5.0\n"
          ]
        }
      ]
    },
    {
      "cell_type": "code",
      "source": [
        "print(99.0/100.0)"
      ],
      "metadata": {
        "colab": {
          "base_uri": "https://localhost:8080/"
        },
        "id": "7hrKwV1DeOOL",
        "outputId": "2559d893-e8dc-43fd-c258-c36066e751f4"
      },
      "execution_count": null,
      "outputs": [
        {
          "output_type": "stream",
          "name": "stdout",
          "text": [
            "0.99\n"
          ]
        }
      ]
    },
    {
      "cell_type": "markdown",
      "source": [
        "###String Convertions"
      ],
      "metadata": {
        "id": "-4voLwtfebw1"
      }
    },
    {
      "cell_type": "code",
      "source": [
        "sval='123'\n",
        "type(sval)"
      ],
      "metadata": {
        "colab": {
          "base_uri": "https://localhost:8080/"
        },
        "id": "O2XHMVNLeUtE",
        "outputId": "8f7aabc5-566d-4703-8708-e2f205579a9c"
      },
      "execution_count": null,
      "outputs": [
        {
          "output_type": "execute_result",
          "data": {
            "text/plain": [
              "str"
            ]
          },
          "metadata": {},
          "execution_count": 142
        }
      ]
    },
    {
      "cell_type": "code",
      "source": [
        "print(sval+1)"
      ],
      "metadata": {
        "colab": {
          "base_uri": "https://localhost:8080/",
          "height": 141
        },
        "id": "Jla9MBO6eiWf",
        "outputId": "8ecf60c0-2e87-4bb6-a529-c7743f42ef1b"
      },
      "execution_count": null,
      "outputs": [
        {
          "output_type": "error",
          "ename": "TypeError",
          "evalue": "can only concatenate str (not \"int\") to str",
          "traceback": [
            "\u001b[0;31m---------------------------------------------------------------------------\u001b[0m",
            "\u001b[0;31mTypeError\u001b[0m                                 Traceback (most recent call last)",
            "\u001b[0;32m<ipython-input-143-d31b14f87b22>\u001b[0m in \u001b[0;36m<cell line: 1>\u001b[0;34m()\u001b[0m\n\u001b[0;32m----> 1\u001b[0;31m \u001b[0mprint\u001b[0m\u001b[0;34m(\u001b[0m\u001b[0msval\u001b[0m\u001b[0;34m+\u001b[0m\u001b[0;36m1\u001b[0m\u001b[0;34m)\u001b[0m\u001b[0;34m\u001b[0m\u001b[0;34m\u001b[0m\u001b[0m\n\u001b[0m",
            "\u001b[0;31mTypeError\u001b[0m: can only concatenate str (not \"int\") to str"
          ]
        }
      ]
    },
    {
      "cell_type": "code",
      "source": [
        "ival=int(sval)"
      ],
      "metadata": {
        "id": "avmKFwHEelIt"
      },
      "execution_count": null,
      "outputs": []
    },
    {
      "cell_type": "code",
      "source": [
        "print(ival)"
      ],
      "metadata": {
        "colab": {
          "base_uri": "https://localhost:8080/"
        },
        "id": "cEDgd5T1euWR",
        "outputId": "d88edea7-6cf1-41d9-acec-516ab3058fef"
      },
      "execution_count": null,
      "outputs": [
        {
          "output_type": "stream",
          "name": "stdout",
          "text": [
            "123\n"
          ]
        }
      ]
    },
    {
      "cell_type": "code",
      "source": [
        "type(ival)"
      ],
      "metadata": {
        "colab": {
          "base_uri": "https://localhost:8080/"
        },
        "id": "EFaRdPkFexFk",
        "outputId": "88039b63-e4ef-4404-d77f-51aafa977f0e"
      },
      "execution_count": null,
      "outputs": [
        {
          "output_type": "execute_result",
          "data": {
            "text/plain": [
              "int"
            ]
          },
          "metadata": {},
          "execution_count": 146
        }
      ]
    },
    {
      "cell_type": "code",
      "source": [
        "print(ival+1)"
      ],
      "metadata": {
        "colab": {
          "base_uri": "https://localhost:8080/"
        },
        "id": "mwhz6btaezZn",
        "outputId": "97bc058b-5f40-4b95-df45-a2d44955dfe5"
      },
      "execution_count": null,
      "outputs": [
        {
          "output_type": "stream",
          "name": "stdout",
          "text": [
            "124\n"
          ]
        }
      ]
    },
    {
      "cell_type": "code",
      "source": [
        "nsv='hello bob'\n",
        "niv=int(nsv)"
      ],
      "metadata": {
        "colab": {
          "base_uri": "https://localhost:8080/",
          "height": 158
        },
        "id": "nA-KMBTCfCbD",
        "outputId": "a300e652-e7dd-4066-dff7-3ef9bd3c7686"
      },
      "execution_count": null,
      "outputs": [
        {
          "output_type": "error",
          "ename": "ValueError",
          "evalue": "invalid literal for int() with base 10: 'hello bob'",
          "traceback": [
            "\u001b[0;31m---------------------------------------------------------------------------\u001b[0m",
            "\u001b[0;31mValueError\u001b[0m                                Traceback (most recent call last)",
            "\u001b[0;32m<ipython-input-148-b5861b7660c3>\u001b[0m in \u001b[0;36m<cell line: 2>\u001b[0;34m()\u001b[0m\n\u001b[1;32m      1\u001b[0m \u001b[0mnsv\u001b[0m\u001b[0;34m=\u001b[0m\u001b[0;34m'hello bob'\u001b[0m\u001b[0;34m\u001b[0m\u001b[0;34m\u001b[0m\u001b[0m\n\u001b[0;32m----> 2\u001b[0;31m \u001b[0mniv\u001b[0m\u001b[0;34m=\u001b[0m\u001b[0mint\u001b[0m\u001b[0;34m(\u001b[0m\u001b[0mnsv\u001b[0m\u001b[0;34m)\u001b[0m\u001b[0;34m\u001b[0m\u001b[0;34m\u001b[0m\u001b[0m\n\u001b[0m",
            "\u001b[0;31mValueError\u001b[0m: invalid literal for int() with base 10: 'hello bob'"
          ]
        }
      ]
    },
    {
      "cell_type": "markdown",
      "source": [
        "##User input"
      ],
      "metadata": {
        "id": "-j-KXk8BfN88"
      }
    },
    {
      "cell_type": "code",
      "source": [
        "#We can instruct PYTHON to pause and read the DATA from the USER using the \"input()\" function\n",
        "#The input() returns a string\n",
        "\n",
        "name=input('Who are you? ')\n",
        "print('Welcome',name)"
      ],
      "metadata": {
        "colab": {
          "base_uri": "https://localhost:8080/"
        },
        "id": "-6XwkLpxfMCq",
        "outputId": "291516bf-6c42-4169-9e35-157a9d9e9d97"
      },
      "execution_count": null,
      "outputs": [
        {
          "output_type": "stream",
          "name": "stdout",
          "text": [
            "Who are you? Abhishek Narayanaswamy\n",
            "Welcome Abhishek Narayanaswamy\n"
          ]
        }
      ]
    },
    {
      "cell_type": "markdown",
      "source": [
        "###Converting USER input"
      ],
      "metadata": {
        "id": "rxFsFbxif-9O"
      }
    },
    {
      "cell_type": "code",
      "source": [
        "inp=input('Europe floor? ')\n",
        "usf=int(inp)+1\n",
        "print('United States floor', usf)"
      ],
      "metadata": {
        "colab": {
          "base_uri": "https://localhost:8080/"
        },
        "id": "oZpTlKTrf2IC",
        "outputId": "3fdbe733-d384-4d9d-e02d-a54d9377f1cd"
      },
      "execution_count": null,
      "outputs": [
        {
          "output_type": "stream",
          "name": "stdout",
          "text": [
            "Europe floor? 3\n",
            "United States floor 4\n"
          ]
        }
      ]
    },
    {
      "cell_type": "markdown",
      "source": [
        "##Comments"
      ],
      "metadata": {
        "id": "tc-pC9XsgjPY"
      }
    },
    {
      "cell_type": "code",
      "source": [
        "# Anything after a pound sign # is a comment\n",
        "'''\n",
        "This is a multi line comment\n",
        "'''\n"
      ],
      "metadata": {
        "colab": {
          "base_uri": "https://localhost:8080/",
          "height": 36
        },
        "id": "rwV54H0vgaxd",
        "outputId": "224be69d-f3a0-405d-ed44-e5addc7f1e01"
      },
      "execution_count": null,
      "outputs": [
        {
          "output_type": "execute_result",
          "data": {
            "text/plain": [
              "'\\nThis is a multi line comment\\n'"
            ],
            "application/vnd.google.colaboratory.intrinsic+json": {
              "type": "string"
            }
          },
          "metadata": {},
          "execution_count": 151
        }
      ]
    },
    {
      "cell_type": "markdown",
      "source": [
        "##Exercise 1\n",
        "\n",
        "*   Write a program to prompt the user for hours and rate per hour to compute gross pay.\n",
        "\n",
        "\n"
      ],
      "metadata": {
        "id": "BbzpaAJXhVAp"
      }
    },
    {
      "cell_type": "code",
      "source": [
        "hours=input('Enter hours: ')\n",
        "rate=input('Enter rate: ')\n",
        "pay = float(hours)*float(rate)\n",
        "print(\"Pay:\",pay)"
      ],
      "metadata": {
        "colab": {
          "base_uri": "https://localhost:8080/"
        },
        "id": "BYZyF27-hzZC",
        "outputId": "b0194223-5ee2-478d-cc78-82dad667f82b"
      },
      "execution_count": null,
      "outputs": [
        {
          "output_type": "stream",
          "name": "stdout",
          "text": [
            "Enter hours: 34\n",
            "Enter rate: 12.5\n",
            "Pay: 425.0\n"
          ]
        }
      ]
    },
    {
      "cell_type": "markdown",
      "source": [
        "##Exercise 2\n",
        "\n",
        "\n",
        "*   Write a program that uses input to prompt a user for their name and then welcomes them.\n",
        "\n"
      ],
      "metadata": {
        "id": "ItyND5c5mDp9"
      }
    },
    {
      "cell_type": "code",
      "source": [
        "nam=input('Enter your name: ')\n",
        "print('Hello', nam)"
      ],
      "metadata": {
        "colab": {
          "base_uri": "https://localhost:8080/"
        },
        "id": "98tPq5doiQIN",
        "outputId": "935237b7-55ee-4d8a-dfd8-91906e1e9a61"
      },
      "execution_count": null,
      "outputs": [
        {
          "output_type": "stream",
          "name": "stdout",
          "text": [
            "Enter your name: Abhishek Narayanaswamy\n",
            "Hello Abhishek Narayanaswamy\n"
          ]
        }
      ]
    },
    {
      "cell_type": "markdown",
      "source": [
        "##Exercise 3\n",
        "\n",
        "* Write a program to evaluate the following expressions."
      ],
      "metadata": {
        "id": "98aW8L82nAnU"
      }
    },
    {
      "cell_type": "code",
      "source": [
        "width=17\n",
        "height=12.0"
      ],
      "metadata": {
        "id": "VoPPqtIlmko9"
      },
      "execution_count": null,
      "outputs": []
    },
    {
      "cell_type": "code",
      "source": [
        "width//2"
      ],
      "metadata": {
        "colab": {
          "base_uri": "https://localhost:8080/"
        },
        "id": "OQsiiWZ-nY6X",
        "outputId": "7866dbf5-17f8-4098-e65b-d91e867f52aa"
      },
      "execution_count": null,
      "outputs": [
        {
          "output_type": "execute_result",
          "data": {
            "text/plain": [
              "8"
            ]
          },
          "metadata": {},
          "execution_count": 155
        }
      ]
    },
    {
      "cell_type": "code",
      "source": [
        "width/2.0"
      ],
      "metadata": {
        "colab": {
          "base_uri": "https://localhost:8080/"
        },
        "id": "YqjSTwXGndPs",
        "outputId": "9197d3ec-c6df-45d4-91fd-de0bdcfd8388"
      },
      "execution_count": null,
      "outputs": [
        {
          "output_type": "execute_result",
          "data": {
            "text/plain": [
              "8.5"
            ]
          },
          "metadata": {},
          "execution_count": 156
        }
      ]
    },
    {
      "cell_type": "code",
      "source": [
        "height/3"
      ],
      "metadata": {
        "colab": {
          "base_uri": "https://localhost:8080/"
        },
        "id": "LE2FTT-HniLM",
        "outputId": "a746c19e-9ad3-4973-840a-f3d45d53d776"
      },
      "execution_count": null,
      "outputs": [
        {
          "output_type": "execute_result",
          "data": {
            "text/plain": [
              "4.0"
            ]
          },
          "metadata": {},
          "execution_count": 157
        }
      ]
    },
    {
      "cell_type": "code",
      "source": [
        "1+2*5"
      ],
      "metadata": {
        "colab": {
          "base_uri": "https://localhost:8080/"
        },
        "id": "wJ13inc5nkXa",
        "outputId": "ca5e86c0-b7bb-4a16-94a7-da3b9b597770"
      },
      "execution_count": null,
      "outputs": [
        {
          "output_type": "execute_result",
          "data": {
            "text/plain": [
              "11"
            ]
          },
          "metadata": {},
          "execution_count": 158
        }
      ]
    },
    {
      "cell_type": "markdown",
      "source": [
        "##Exercise 5\n",
        "\n",
        "* Write a program which prompts the user for a celcius temperature, convert the temperature to fahrenhiet and print out the converted temperature."
      ],
      "metadata": {
        "id": "H2bP-zFGnphy"
      }
    },
    {
      "cell_type": "code",
      "source": [
        "cel=input('Enter the celcius temperature: ')\n",
        "fah=(float(cel)*9/5)+32\n",
        "print('The faherenheit temperature is:',fah)"
      ],
      "metadata": {
        "colab": {
          "base_uri": "https://localhost:8080/"
        },
        "id": "qUSJGtfYnnBG",
        "outputId": "f93b9088-99f3-434a-9278-399757aae9a3"
      },
      "execution_count": null,
      "outputs": [
        {
          "output_type": "stream",
          "name": "stdout",
          "text": [
            "Enter the celcius temperature: 20\n",
            "The faherenheit temperature is: 68.0\n"
          ]
        }
      ]
    },
    {
      "cell_type": "code",
      "source": [
        "x=int(98.6)\n",
        "print(x)"
      ],
      "metadata": {
        "colab": {
          "base_uri": "https://localhost:8080/"
        },
        "id": "Hvqryadct4Cn",
        "outputId": "07489851-7d3a-433f-db88-6b04770b5436"
      },
      "execution_count": null,
      "outputs": [
        {
          "output_type": "stream",
          "name": "stdout",
          "text": [
            "98\n"
          ]
        }
      ]
    },
    {
      "cell_type": "markdown",
      "source": [
        "# CHAPTER 3: Conditional Execution"
      ],
      "metadata": {
        "id": "ReWurpAVcnbl"
      }
    },
    {
      "cell_type": "markdown",
      "source": [
        "##Basic 'if' conditional"
      ],
      "metadata": {
        "id": "9e6kEV6Ectsv"
      }
    },
    {
      "cell_type": "code",
      "source": [
        "# Program to check if a number is greater or not.\n",
        "\n",
        "x=5\n",
        "if  x<10:\n",
        "  print('smaller')\n",
        "if  x>20:\n",
        "  print('bigger')\n",
        "print('Finish')"
      ],
      "metadata": {
        "id": "s49PaWgot_Bx",
        "colab": {
          "base_uri": "https://localhost:8080/"
        },
        "outputId": "c961eb7d-db90-45ed-e2bd-8bcbd8a1fd35"
      },
      "execution_count": null,
      "outputs": [
        {
          "output_type": "stream",
          "name": "stdout",
          "text": [
            "smaller\n",
            "Finish\n"
          ]
        }
      ]
    },
    {
      "cell_type": "markdown",
      "source": [
        "## Comparison operators\n",
        "\n",
        "\n",
        "\n",
        "*    '<' less than\n",
        "*    '<=' less than equal to\n",
        "*    '==' equal to\n",
        "*  '>' greater than\n",
        "*  '>=' greater than equal to\n",
        "\n",
        "Note: '=' is just an assignment operator.\n",
        "\n"
      ],
      "metadata": {
        "id": "ZAhOznoYdYKP"
      }
    },
    {
      "cell_type": "code",
      "source": [
        "x=5\n",
        "if x==5:\n",
        "  print('Equals 5')\n",
        "if x>4:\n",
        "  print('Greater than 4')\n",
        "if x>=5:\n",
        "  print('greater than or equal to 5')\n",
        "if x<6:print('less than 6')\n",
        "if x<=5:\n",
        "  print('less than or equal to 5')\n",
        "if x!=6:\n",
        "  print('not equal to 6')"
      ],
      "metadata": {
        "colab": {
          "base_uri": "https://localhost:8080/"
        },
        "id": "uHuZKdUGdV7p",
        "outputId": "40a462ad-4520-4813-fc7f-d3ac4f9731a9"
      },
      "execution_count": null,
      "outputs": [
        {
          "output_type": "stream",
          "name": "stdout",
          "text": [
            "Equals 5\n",
            "Greater than 4\n",
            "greater than or equal to 5\n",
            "less than 6\n",
            "less than or equal to 5\n",
            "not equal to 6\n"
          ]
        }
      ]
    },
    {
      "cell_type": "markdown",
      "source": [
        "## Indentation"
      ],
      "metadata": {
        "id": "w-myQmZMftnP"
      }
    },
    {
      "cell_type": "code",
      "source": [
        "x=5\n",
        "if x>2:\n",
        "  print('Bigger than 2')\n",
        "  print('still bigger')\n",
        "print('done with 2')\n",
        "\n",
        "for i in range(5):\n",
        "  print(i)\n",
        "  if i>2:\n",
        "    print('bigger than 2')\n",
        "  print('done with i',i)\n",
        "print('All done')"
      ],
      "metadata": {
        "colab": {
          "base_uri": "https://localhost:8080/"
        },
        "id": "Ja1MBoxoe6uC",
        "outputId": "8d69ebb6-4368-42a5-8929-ca080bf3a18a"
      },
      "execution_count": null,
      "outputs": [
        {
          "output_type": "stream",
          "name": "stdout",
          "text": [
            "Bigger than 2\n",
            "still bigger\n",
            "done with 2\n",
            "0\n",
            "done with i 0\n",
            "1\n",
            "done with i 1\n",
            "2\n",
            "done with i 2\n",
            "3\n",
            "bigger than 2\n",
            "done with i 3\n",
            "4\n",
            "bigger than 2\n",
            "done with i 4\n",
            "All done\n"
          ]
        }
      ]
    },
    {
      "cell_type": "markdown",
      "source": [
        "## Nested Decisions"
      ],
      "metadata": {
        "id": "ojiwkKlxhA7E"
      }
    },
    {
      "cell_type": "code",
      "source": [
        "x=42\n",
        "if x>1:\n",
        "  print('more than one')\n",
        "  if x<100:\n",
        "    print('less than 100')\n",
        "print('all done')"
      ],
      "metadata": {
        "colab": {
          "base_uri": "https://localhost:8080/"
        },
        "id": "9qN1oiQ9gTMm",
        "outputId": "e4910842-9d02-4025-f02a-63c1c4443a44"
      },
      "execution_count": null,
      "outputs": [
        {
          "output_type": "stream",
          "name": "stdout",
          "text": [
            "more than one\n",
            "less than 100\n",
            "all done\n"
          ]
        }
      ]
    },
    {
      "cell_type": "markdown",
      "source": [
        "## Two way decisions with else"
      ],
      "metadata": {
        "id": "XiaDRdtYh6Wr"
      }
    },
    {
      "cell_type": "code",
      "source": [
        "x=4\n",
        "if x>2:\n",
        "  print('bigger')\n",
        "else:\n",
        "  print('smaller')\n",
        "print('All done')"
      ],
      "metadata": {
        "colab": {
          "base_uri": "https://localhost:8080/"
        },
        "id": "FPf_3n8ohU6v",
        "outputId": "2b813a3f-6d38-4e15-9358-94731adf7096"
      },
      "execution_count": null,
      "outputs": [
        {
          "output_type": "stream",
          "name": "stdout",
          "text": [
            "bigger\n",
            "All done\n"
          ]
        }
      ]
    },
    {
      "cell_type": "markdown",
      "source": [
        "## Multi way"
      ],
      "metadata": {
        "id": "tnubeHlejCcV"
      }
    },
    {
      "cell_type": "code",
      "source": [
        "x=20\n",
        "if x<2:\n",
        "  print('small')\n",
        "elif x<10:\n",
        "  print('medium')\n",
        "else:\n",
        "  print('LARGE')\n",
        "print('All done')"
      ],
      "metadata": {
        "colab": {
          "base_uri": "https://localhost:8080/"
        },
        "id": "qO4FfKY5iNEr",
        "outputId": "76542933-d8a6-45fd-e592-00c3f150a8b5"
      },
      "execution_count": null,
      "outputs": [
        {
          "output_type": "stream",
          "name": "stdout",
          "text": [
            "LARGE\n",
            "All done\n"
          ]
        }
      ]
    },
    {
      "cell_type": "code",
      "source": [
        "if x<2:\n",
        "  print('small')\n",
        "elif x<10:\n",
        "  print('medium')\n",
        "elif x<20:\n",
        "  print('big')\n",
        "elif x<40:\n",
        "  print('large')\n",
        "elif x<100:\n",
        "  print('huge')\n",
        "else:\n",
        "  print('Ginormous')"
      ],
      "metadata": {
        "colab": {
          "base_uri": "https://localhost:8080/"
        },
        "id": "fMjnhQa5jXla",
        "outputId": "618c0b56-b1d6-463b-9e57-fffdd762d30c"
      },
      "execution_count": null,
      "outputs": [
        {
          "output_type": "stream",
          "name": "stdout",
          "text": [
            "large\n"
          ]
        }
      ]
    },
    {
      "cell_type": "markdown",
      "source": [
        "## The try and except structure"
      ],
      "metadata": {
        "id": "Rl7QzKCAqdSJ"
      }
    },
    {
      "cell_type": "code",
      "source": [
        "astr='Hello bob'\n",
        "try:\n",
        "  istr=int(astr)\n",
        "except:\n",
        "  istr=-1\n",
        "print('first',istr)\n",
        "\n",
        "astr='123'\n",
        "try:\n",
        "  istr=int(astr)\n",
        "except:\n",
        "  istr=-1\n",
        "print('second', istr)"
      ],
      "metadata": {
        "colab": {
          "base_uri": "https://localhost:8080/"
        },
        "id": "nA9eNJb-o8Lu",
        "outputId": "1c844ebd-5986-479e-ac0b-c160653edc47"
      },
      "execution_count": null,
      "outputs": [
        {
          "output_type": "stream",
          "name": "stdout",
          "text": [
            "first -1\n",
            "second 123\n"
          ]
        }
      ]
    },
    {
      "cell_type": "code",
      "source": [
        "astr = 'BOB'\n",
        "try:\n",
        "  print('Hello')\n",
        "  istr=int(astr)\n",
        "  print('There')\n",
        "except:\n",
        "  istr=-1\n",
        "\n",
        "print('done', istr)"
      ],
      "metadata": {
        "colab": {
          "base_uri": "https://localhost:8080/"
        },
        "id": "IA0gQX4ZrJ8P",
        "outputId": "61b955c3-0f34-49cd-de0c-6683772d0f61"
      },
      "execution_count": null,
      "outputs": [
        {
          "output_type": "stream",
          "name": "stdout",
          "text": [
            "Hello\n",
            "done -1\n"
          ]
        }
      ]
    },
    {
      "cell_type": "code",
      "source": [
        "#Sample try/except\n",
        "\n",
        "rawstr = input('Enter a number:')\n",
        "try:\n",
        "  ival=int(rawstr)\n",
        "except:\n",
        "  ival=-1\n",
        "\n",
        "if ival>0:\n",
        "  print('Nice work')\n",
        "else:\n",
        "  print('Not a number')"
      ],
      "metadata": {
        "colab": {
          "base_uri": "https://localhost:8080/"
        },
        "id": "Njq4yB_jricB",
        "outputId": "dcca84ae-2246-4530-c8ae-197977f0bd0d"
      },
      "execution_count": null,
      "outputs": [
        {
          "output_type": "stream",
          "name": "stdout",
          "text": [
            "Enter a number:12\n",
            "Nice work\n"
          ]
        }
      ]
    },
    {
      "cell_type": "code",
      "source": [
        "inp = input('Enter Fahrenheit Temperature:')\n",
        "try:\n",
        "    fahr = float(inp)\n",
        "    cel = (fahr - 32.0) * 5.0 / 9.0\n",
        "    print(cel)\n",
        "except:\n",
        "    print('Please enter a number')"
      ],
      "metadata": {
        "colab": {
          "base_uri": "https://localhost:8080/"
        },
        "id": "A-f8r8TTsGOI",
        "outputId": "bdb65a0d-aa0f-4700-df9a-7bbebb9d3d09"
      },
      "execution_count": null,
      "outputs": [
        {
          "output_type": "stream",
          "name": "stdout",
          "text": [
            "Enter Fahrenheit Temperature:21\n",
            "-6.111111111111111\n"
          ]
        }
      ]
    },
    {
      "cell_type": "markdown",
      "source": [
        "Progarm to distinguish between a company"
      ],
      "metadata": {
        "id": "nbRsgpHY22Og"
      }
    },
    {
      "cell_type": "code",
      "source": [
        "'''\n",
        "Sales of a company large medium and small\n",
        "'''\n",
        "x=input('Sales of a company')\n",
        "x=int(x)\n",
        "if x>1000000:\n",
        "  print('Large Company')\n",
        "elif x<=1000000 and x>=500000:\n",
        "  print(\"Medium Company\")\n",
        "else:\n",
        "  print('Small Company')"
      ],
      "metadata": {
        "colab": {
          "base_uri": "https://localhost:8080/"
        },
        "id": "yGyXoZYL2x5u",
        "outputId": "2a263340-7df6-436e-8be9-f86e10496752"
      },
      "execution_count": null,
      "outputs": [
        {
          "output_type": "stream",
          "name": "stdout",
          "text": [
            "Sales of a company197678557\n",
            "Large Company\n"
          ]
        }
      ]
    },
    {
      "cell_type": "markdown",
      "source": [
        "## Short circuit evaluation of logical expressions"
      ],
      "metadata": {
        "id": "mScfoJC_3LUr"
      }
    },
    {
      "cell_type": "code",
      "source": [
        "x = 6\n",
        "y = 2\n",
        "print(x >= 2 and (x/y) > 2) #prints TRUE and both the condition got satisfied"
      ],
      "metadata": {
        "colab": {
          "base_uri": "https://localhost:8080/"
        },
        "id": "45IZvelw3WYB",
        "outputId": "8fd28d74-17c9-4b64-8ea8-61a2118490e6"
      },
      "execution_count": null,
      "outputs": [
        {
          "output_type": "stream",
          "name": "stdout",
          "text": [
            "True\n"
          ]
        }
      ]
    },
    {
      "cell_type": "code",
      "source": [
        "x = 1\n",
        "y = 0\n",
        "print(x >= 2 and (x/y) > 2) #here 1st condition is FALSE so the 2nd one never got executed. If 2nd one was executed we would have got division by zero error."
      ],
      "metadata": {
        "colab": {
          "base_uri": "https://localhost:8080/"
        },
        "id": "l64faEs-3b7l",
        "outputId": "b89bd053-2a58-4969-fa5b-a6a5fef580c8"
      },
      "execution_count": null,
      "outputs": [
        {
          "output_type": "stream",
          "name": "stdout",
          "text": [
            "False\n"
          ]
        }
      ]
    },
    {
      "cell_type": "code",
      "source": [
        "x = 6\n",
        "y = 0\n",
        "print(x >= 2 and (x/y) > 2) #here 1st condition is TRUE so 2nd one was executed and encountered division by zero error"
      ],
      "metadata": {
        "colab": {
          "base_uri": "https://localhost:8080/",
          "height": 176
        },
        "id": "8f7DQlO73m37",
        "outputId": "496d1cc6-f8d8-4cbd-a192-c7684bf5d633"
      },
      "execution_count": null,
      "outputs": [
        {
          "output_type": "error",
          "ename": "ZeroDivisionError",
          "evalue": "division by zero",
          "traceback": [
            "\u001b[0;31m---------------------------------------------------------------------------\u001b[0m",
            "\u001b[0;31mZeroDivisionError\u001b[0m                         Traceback (most recent call last)",
            "\u001b[0;32m<ipython-input-35-001a8ec5243d>\u001b[0m in \u001b[0;36m<cell line: 3>\u001b[0;34m()\u001b[0m\n\u001b[1;32m      1\u001b[0m \u001b[0mx\u001b[0m \u001b[0;34m=\u001b[0m \u001b[0;36m6\u001b[0m\u001b[0;34m\u001b[0m\u001b[0;34m\u001b[0m\u001b[0m\n\u001b[1;32m      2\u001b[0m \u001b[0my\u001b[0m \u001b[0;34m=\u001b[0m \u001b[0;36m0\u001b[0m\u001b[0;34m\u001b[0m\u001b[0;34m\u001b[0m\u001b[0m\n\u001b[0;32m----> 3\u001b[0;31m \u001b[0mprint\u001b[0m\u001b[0;34m(\u001b[0m\u001b[0mx\u001b[0m \u001b[0;34m>=\u001b[0m \u001b[0;36m2\u001b[0m \u001b[0;32mand\u001b[0m \u001b[0;34m(\u001b[0m\u001b[0mx\u001b[0m\u001b[0;34m/\u001b[0m\u001b[0my\u001b[0m\u001b[0;34m)\u001b[0m \u001b[0;34m>\u001b[0m \u001b[0;36m2\u001b[0m\u001b[0;34m)\u001b[0m \u001b[0;31m#here 1st condition is TRUE so 2nd one was executed and encountered division by zero error\u001b[0m\u001b[0;34m\u001b[0m\u001b[0;34m\u001b[0m\u001b[0m\n\u001b[0m",
            "\u001b[0;31mZeroDivisionError\u001b[0m: division by zero"
          ]
        }
      ]
    },
    {
      "cell_type": "markdown",
      "source": [
        "## Exercise 1\n",
        "\n",
        "* Rewrite your pay computation to give the employee 1.5 times the hourly rate for hours worked above 40 hours."
      ],
      "metadata": {
        "id": "SOLQrlyZwa1D"
      }
    },
    {
      "cell_type": "code",
      "source": [
        "hours=input('Enter hours: ')\n",
        "rate=input('Enter rate: ')\n",
        "hours=float(hours)\n",
        "rate=float(rate)\n",
        "if (hours<=40.0):\n",
        "  pay = hours*rate\n",
        "  print(\"Pay:\",pay)\n",
        "else:\n",
        "  pay=40*rate+(hours-40.0)*1.5*rate\n",
        "  print('Pay:',pay)"
      ],
      "metadata": {
        "colab": {
          "base_uri": "https://localhost:8080/"
        },
        "id": "lnRKLm9kynml",
        "outputId": "de7f4177-bce1-441d-e73f-5ab012378914"
      },
      "execution_count": null,
      "outputs": [
        {
          "output_type": "stream",
          "name": "stdout",
          "text": [
            "Enter hours: 45\n",
            "Enter rate: 10\n",
            "Pay: 475.0\n"
          ]
        }
      ]
    },
    {
      "cell_type": "markdown",
      "source": [
        "## Exercise 2\n",
        "\n",
        "* Rewrite your pay program using try and except so that your program handles non-numeric input gracefully by printing a message and exiting the program. The following shows two executions of the program"
      ],
      "metadata": {
        "id": "Yt-Quu8My2-Z"
      }
    },
    {
      "cell_type": "code",
      "source": [
        "hours=input('Enter hours: ')\n",
        "rate=input('Enter rate: ')\n",
        "try:\n",
        "  hours=float(hours)\n",
        "  rate=float(rate)\n",
        "  if (hours<=40.0):\n",
        "    pay = hours*rate\n",
        "    print(\"Pay:\",pay)\n",
        "  else:\n",
        "    pay=40*rate+(hours-40.0)*1.5*rate\n",
        "    print('Pay:',pay)\n",
        "except:\n",
        "  print('Error,please enter numeric input')"
      ],
      "metadata": {
        "colab": {
          "base_uri": "https://localhost:8080/"
        },
        "id": "gLsJcTvBvLte",
        "outputId": "50a43165-86cf-44d9-a0f6-a72c721a9f57"
      },
      "execution_count": null,
      "outputs": [
        {
          "output_type": "stream",
          "name": "stdout",
          "text": [
            "Enter hours: 45\n",
            "Enter rate: 10\n",
            "Pay: 475.0\n"
          ]
        }
      ]
    },
    {
      "cell_type": "markdown",
      "source": [
        "## Exercise 3\n",
        "\n",
        "* Write a program to prompt for a score between 0.0 and 1.0. If the score is out of range, print an error message. If the score is between 0.0 and 1.0, print a grade using the following table"
      ],
      "metadata": {
        "id": "JaHbdonk4VkI"
      }
    },
    {
      "cell_type": "code",
      "source": [
        "score = input('Enter Score: ')\n",
        "try:\n",
        "  score=float(score)\n",
        "  grade=''\n",
        "  if (score>=0.0 and score<=1.0):\n",
        "    if (score>=0.9):\n",
        "      print('A')\n",
        "    elif (score>=0.8):\n",
        "      print('B')\n",
        "    elif (score>=0.7):\n",
        "      print('C')\n",
        "    elif (score>=0.6):\n",
        "      print('D')\n",
        "    else:\n",
        "      print('F')\n",
        "    print(grade)\n",
        "  else:\n",
        "    print('Bad Score')\n",
        "except:\n",
        " print('The score is not in between 0.0 to 1.0')"
      ],
      "metadata": {
        "colab": {
          "base_uri": "https://localhost:8080/"
        },
        "id": "IwEwJidV4azq",
        "outputId": "94b76fe1-57c0-46c1-c03f-db6367dd1611"
      },
      "execution_count": 2,
      "outputs": [
        {
          "output_type": "stream",
          "name": "stdout",
          "text": [
            "Enter Score: f\n",
            "The score is not in between 0.0 to 1.0\n"
          ]
        }
      ]
    },
    {
      "cell_type": "markdown",
      "source": [
        "## Using while loop and an conditional statement."
      ],
      "metadata": {
        "id": "u1f1Az1P6IAC"
      }
    },
    {
      "cell_type": "code",
      "source": [
        "'''\n",
        "Conditional and loops statement\n",
        "while loop\n",
        "'''\n",
        "x=0\n",
        "while x<10:\n",
        "  x+=1\n",
        "  print(x)\n",
        "  if x==5:\n",
        "    break\n",
        "print('End of the loop')"
      ],
      "metadata": {
        "colab": {
          "base_uri": "https://localhost:8080/"
        },
        "id": "CHa8Ht2b6Jby",
        "outputId": "1437e70c-ff9d-46e2-a3e9-9a57380fae5e"
      },
      "execution_count": null,
      "outputs": [
        {
          "output_type": "stream",
          "name": "stdout",
          "text": [
            "1\n",
            "2\n",
            "3\n",
            "4\n",
            "5\n",
            "End of the loop\n"
          ]
        }
      ]
    },
    {
      "cell_type": "markdown",
      "source": [
        "## Conditional Loop For loop"
      ],
      "metadata": {
        "id": "-9Bf3T_U6Yrp"
      }
    },
    {
      "cell_type": "code",
      "source": [
        "enames = ['Krish', 'Charles']\n",
        "for x in enames:\n",
        "  print(x, len(x))"
      ],
      "metadata": {
        "colab": {
          "base_uri": "https://localhost:8080/"
        },
        "id": "c8O_TlWk6Plj",
        "outputId": "37ba231c-7a4d-4c33-c544-0eace414b216"
      },
      "execution_count": null,
      "outputs": [
        {
          "output_type": "stream",
          "name": "stdout",
          "text": [
            "Krish 5\n",
            "Charles 7\n"
          ]
        }
      ]
    },
    {
      "cell_type": "markdown",
      "source": [
        "# Importing a random Youtube vedio\n"
      ],
      "metadata": {
        "id": "u9kNTZZ10pNg"
      }
    },
    {
      "cell_type": "code",
      "source": [
        "from IPython.display import YouTubeVideo\n",
        "YouTubeVideo('https://www.youtube.com/watch?v=gH_RYRwVrVM&list=RDgH_RYRwVrVM&start_radio=1')"
      ],
      "metadata": {
        "colab": {
          "base_uri": "https://localhost:8080/",
          "height": 322
        },
        "id": "jTUqaGy0yEzi",
        "outputId": "b343ded1-8da5-4c19-a892-fd2b62a1cd33"
      },
      "execution_count": null,
      "outputs": [
        {
          "output_type": "execute_result",
          "data": {
            "text/plain": [
              "<IPython.lib.display.YouTubeVideo at 0x7a9da4a29120>"
            ],
            "text/html": [
              "\n",
              "        <iframe\n",
              "            width=\"400\"\n",
              "            height=\"300\"\n",
              "            src=\"https://www.youtube.com/embed/https://www.youtube.com/watch?v=gH_RYRwVrVM&list=RDgH_RYRwVrVM&start_radio=1\"\n",
              "            frameborder=\"0\"\n",
              "            allowfullscreen\n",
              "            \n",
              "        ></iframe>\n",
              "        "
            ]
          },
          "metadata": {},
          "execution_count": 26
        }
      ]
    },
    {
      "cell_type": "markdown",
      "source": [
        "# Importing the datetime and printing date and time in different cases."
      ],
      "metadata": {
        "id": "sjMib8Wf1xzo"
      }
    },
    {
      "cell_type": "code",
      "source": [
        "import datetime\n",
        "print(datetime.datetime.now())"
      ],
      "metadata": {
        "colab": {
          "base_uri": "https://localhost:8080/"
        },
        "id": "HJZtySr61Azg",
        "outputId": "7e70f4c9-1318-4532-fbdf-8b90412c390d"
      },
      "execution_count": 3,
      "outputs": [
        {
          "output_type": "stream",
          "name": "stdout",
          "text": [
            "2025-08-04 05:26:48.769289\n"
          ]
        }
      ]
    },
    {
      "cell_type": "code",
      "source": [
        "str(datetime.datetime.now().strftime(\"%Y-%m-%d %H:%M:%S\"))"
      ],
      "metadata": {
        "colab": {
          "base_uri": "https://localhost:8080/",
          "height": 36
        },
        "id": "7Iz2U5I0184u",
        "outputId": "5836adcd-4c3b-498e-8283-7b3410d042bd"
      },
      "execution_count": null,
      "outputs": [
        {
          "output_type": "execute_result",
          "data": {
            "text/plain": [
              "'2025-01-02 07:08:39'"
            ],
            "application/vnd.google.colaboratory.intrinsic+json": {
              "type": "string"
            }
          },
          "metadata": {},
          "execution_count": 28
        }
      ]
    },
    {
      "cell_type": "code",
      "source": [
        "str(datetime.datetime.now().date())"
      ],
      "metadata": {
        "colab": {
          "base_uri": "https://localhost:8080/",
          "height": 36
        },
        "id": "svhCqmjY2Efq",
        "outputId": "f897b8d5-76c7-4194-a607-7cebecae7005"
      },
      "execution_count": null,
      "outputs": [
        {
          "output_type": "execute_result",
          "data": {
            "text/plain": [
              "'2025-01-02'"
            ],
            "application/vnd.google.colaboratory.intrinsic+json": {
              "type": "string"
            }
          },
          "metadata": {},
          "execution_count": 29
        }
      ]
    },
    {
      "cell_type": "code",
      "source": [
        "str(datetime.datetime.now().time())"
      ],
      "metadata": {
        "colab": {
          "base_uri": "https://localhost:8080/",
          "height": 36
        },
        "id": "u17CwQJf7jVd",
        "outputId": "095311c8-c1ed-4a4d-d126-4ab35eb9c611"
      },
      "execution_count": null,
      "outputs": [
        {
          "output_type": "execute_result",
          "data": {
            "text/plain": [
              "'07:32:39.901469'"
            ],
            "application/vnd.google.colaboratory.intrinsic+json": {
              "type": "string"
            }
          },
          "metadata": {},
          "execution_count": 43
        }
      ]
    },
    {
      "cell_type": "code",
      "source": [
        "str(datetime.datetime.now().time().strftime(\"%H:%M:%S\"))"
      ],
      "metadata": {
        "colab": {
          "base_uri": "https://localhost:8080/",
          "height": 36
        },
        "id": "FVVXOQxQ2TUR",
        "outputId": "3fbb6669-02aa-43de-a0f6-4704084110ab"
      },
      "execution_count": null,
      "outputs": [
        {
          "output_type": "execute_result",
          "data": {
            "text/plain": [
              "'07:10:20'"
            ],
            "application/vnd.google.colaboratory.intrinsic+json": {
              "type": "string"
            }
          },
          "metadata": {},
          "execution_count": 31
        }
      ]
    },
    {
      "cell_type": "markdown",
      "source": [
        "# CHAPTER 4: Functions"
      ],
      "metadata": {
        "id": "3SNfGfeq6FlO"
      }
    },
    {
      "cell_type": "markdown",
      "source": [
        "## In-built function example"
      ],
      "metadata": {
        "id": "2PaSlEv7rBoE"
      }
    },
    {
      "cell_type": "code",
      "source": [
        "big = max('Hello world')\n",
        "print(big)"
      ],
      "metadata": {
        "id": "Yrh5wAag2Vx-",
        "colab": {
          "base_uri": "https://localhost:8080/"
        },
        "outputId": "6b3722ec-ecc1-4dc2-9c68-5736560a8421"
      },
      "execution_count": null,
      "outputs": [
        {
          "output_type": "stream",
          "name": "stdout",
          "text": [
            "w\n"
          ]
        }
      ]
    },
    {
      "cell_type": "code",
      "source": [
        "tiny= min('Hello world')\n",
        "print(tiny)"
      ],
      "metadata": {
        "colab": {
          "base_uri": "https://localhost:8080/"
        },
        "id": "XDxrldSjrMzA",
        "outputId": "9d49eade-48e9-4940-d116-7d310ca8b0a6"
      },
      "execution_count": null,
      "outputs": [
        {
          "output_type": "stream",
          "name": "stdout",
          "text": [
            " \n"
          ]
        }
      ]
    },
    {
      "cell_type": "markdown",
      "source": [
        "## Defining a function:"
      ],
      "metadata": {
        "id": "mBpOgzGes5bN"
      }
    },
    {
      "cell_type": "code",
      "source": [
        "def hello():\n",
        "  print(\"This is my first python function and I'm so excited\")\n",
        "  x=5-3\n",
        "  print(x)"
      ],
      "metadata": {
        "id": "Py3H1Ipzs5AD"
      },
      "execution_count": 4,
      "outputs": []
    },
    {
      "cell_type": "markdown",
      "source": [
        "## Invoking a function"
      ],
      "metadata": {
        "id": "RubRuvDwtZkP"
      }
    },
    {
      "cell_type": "code",
      "source": [
        "hello()"
      ],
      "metadata": {
        "colab": {
          "base_uri": "https://localhost:8080/"
        },
        "id": "YtHaYkklrR65",
        "outputId": "e79f62cb-bc61-45ac-b0e5-54f5b9de8144"
      },
      "execution_count": 5,
      "outputs": [
        {
          "output_type": "stream",
          "name": "stdout",
          "text": [
            "This is my first python function and I'm so excited\n",
            "2\n"
          ]
        }
      ]
    },
    {
      "cell_type": "markdown",
      "source": [
        "## Passing arguments and parameters"
      ],
      "metadata": {
        "id": "6biOP6KqujPr"
      }
    },
    {
      "cell_type": "code",
      "source": [
        "def greet(lang):\n",
        "  if lang=='es':\n",
        "    print('Hola')\n",
        "  elif lang=='fr':\n",
        "    print('Bonjour')\n",
        "  else:\n",
        "    print('Hello')"
      ],
      "metadata": {
        "id": "wRrByEqMtfUf"
      },
      "execution_count": 7,
      "outputs": []
    },
    {
      "cell_type": "code",
      "source": [
        "greet('fr')"
      ],
      "metadata": {
        "colab": {
          "base_uri": "https://localhost:8080/"
        },
        "id": "kGp2SlN8uwaC",
        "outputId": "facb5c11-d269-4d7f-f4c5-e90468e96f28"
      },
      "execution_count": 9,
      "outputs": [
        {
          "output_type": "stream",
          "name": "stdout",
          "text": [
            "Bonjour\n"
          ]
        }
      ]
    },
    {
      "cell_type": "markdown",
      "source": [
        "## Return values"
      ],
      "metadata": {
        "id": "KsR2E5aKvQXl"
      }
    },
    {
      "cell_type": "code",
      "source": [
        "def greet():\n",
        "  return \"Hello\""
      ],
      "metadata": {
        "id": "xdZYa5lZuyVk"
      },
      "execution_count": null,
      "outputs": []
    },
    {
      "cell_type": "code",
      "source": [
        "print(greet(),\"Abhishek Narayanaswamy\")"
      ],
      "metadata": {
        "colab": {
          "base_uri": "https://localhost:8080/"
        },
        "id": "Dv8jPTBMvVgB",
        "outputId": "fc6ed5b8-5585-4f0e-da10-3a5749681f95"
      },
      "execution_count": null,
      "outputs": [
        {
          "output_type": "stream",
          "name": "stdout",
          "text": [
            "Hello Abhishek Narayanaswamy\n"
          ]
        }
      ]
    },
    {
      "cell_type": "code",
      "source": [
        "def greet(lang):\n",
        "  if lang=='es':\n",
        "    return 'Hola'\n",
        "  elif lang=='fr':\n",
        "    return 'Bonjour'\n",
        "  else:\n",
        "    return 'Hello'"
      ],
      "metadata": {
        "id": "YdJiY8Vqvbed"
      },
      "execution_count": null,
      "outputs": []
    },
    {
      "cell_type": "code",
      "source": [
        "print(greet('es'), 'Abhishek Narayanaswamy')"
      ],
      "metadata": {
        "colab": {
          "base_uri": "https://localhost:8080/"
        },
        "id": "rpCDD1tmvtBY",
        "outputId": "7dd72cbf-11b4-4dd5-a11c-12aad6abedbf"
      },
      "execution_count": null,
      "outputs": [
        {
          "output_type": "stream",
          "name": "stdout",
          "text": [
            "Hola Abhishek Narayanaswamy\n"
          ]
        }
      ]
    },
    {
      "cell_type": "code",
      "source": [
        "print(greet('en'), 'Abhishek Narayanaswamy')"
      ],
      "metadata": {
        "colab": {
          "base_uri": "https://localhost:8080/"
        },
        "id": "cqP2OXFyvw9k",
        "outputId": "16f84adf-f5f9-4207-8e08-6941fec0fa93"
      },
      "execution_count": null,
      "outputs": [
        {
          "output_type": "stream",
          "name": "stdout",
          "text": [
            "Hello Abhishek Narayanaswamy\n"
          ]
        }
      ]
    },
    {
      "cell_type": "markdown",
      "source": [
        "## Defining a function for squaring a number."
      ],
      "metadata": {
        "id": "BhJWgTHkxWLq"
      }
    },
    {
      "cell_type": "code",
      "source": [
        "def sqr(x=2):\n",
        "  #default value of x\n",
        "  print(x**2)\n",
        "sqr()"
      ],
      "metadata": {
        "colab": {
          "base_uri": "https://localhost:8080/"
        },
        "id": "xsChnk8uwLyc",
        "outputId": "300a558e-78a8-4f80-a441-f51b28720d9c"
      },
      "execution_count": null,
      "outputs": [
        {
          "output_type": "stream",
          "name": "stdout",
          "text": [
            "4\n"
          ]
        }
      ]
    },
    {
      "cell_type": "code",
      "source": [
        "sqr(4)"
      ],
      "metadata": {
        "colab": {
          "base_uri": "https://localhost:8080/"
        },
        "id": "mpR8_GefxLcn",
        "outputId": "7066d55b-3530-4713-b658-560dddf8b1d9"
      },
      "execution_count": null,
      "outputs": [
        {
          "output_type": "stream",
          "name": "stdout",
          "text": [
            "16\n"
          ]
        }
      ]
    },
    {
      "cell_type": "markdown",
      "source": [
        "## Calling an anonymus funtion lambda"
      ],
      "metadata": {
        "id": "fihFfsKcxe3X"
      }
    },
    {
      "cell_type": "code",
      "source": [
        "print((lambda a:a**3)(4))"
      ],
      "metadata": {
        "colab": {
          "base_uri": "https://localhost:8080/"
        },
        "id": "GfyejW8SxQiM",
        "outputId": "6fc6257b-8c27-4da8-bcd4-d165247317b3"
      },
      "execution_count": 10,
      "outputs": [
        {
          "output_type": "stream",
          "name": "stdout",
          "text": [
            "64\n"
          ]
        }
      ]
    },
    {
      "cell_type": "code",
      "source": [
        "cube = lambda y:y**3\n",
        "cube(2)"
      ],
      "metadata": {
        "colab": {
          "base_uri": "https://localhost:8080/"
        },
        "id": "JP3UJwqMxwTh",
        "outputId": "19d41181-26d7-4059-90bd-e66d558c191d"
      },
      "execution_count": null,
      "outputs": [
        {
          "output_type": "execute_result",
          "data": {
            "text/plain": [
              "8"
            ]
          },
          "metadata": {},
          "execution_count": 22
        }
      ]
    },
    {
      "cell_type": "markdown",
      "source": [
        "## Length function"
      ],
      "metadata": {
        "id": "OMi3scC6Y-1i"
      }
    },
    {
      "cell_type": "code",
      "source": [
        "len('Hello world')"
      ],
      "metadata": {
        "colab": {
          "base_uri": "https://localhost:8080/"
        },
        "id": "R40Uw_-gx8HX",
        "outputId": "00ddb1a4-868c-4433-b767-21885afdbfd7"
      },
      "execution_count": null,
      "outputs": [
        {
          "output_type": "execute_result",
          "data": {
            "text/plain": [
              "11"
            ]
          },
          "metadata": {},
          "execution_count": 1
        }
      ]
    },
    {
      "cell_type": "markdown",
      "source": [
        "## Math function"
      ],
      "metadata": {
        "id": "FHxsldzNZDrO"
      }
    },
    {
      "cell_type": "code",
      "source": [
        "import math"
      ],
      "metadata": {
        "id": "kzjTuAeSZCJt"
      },
      "execution_count": null,
      "outputs": []
    },
    {
      "cell_type": "code",
      "source": [
        "degrees = 45\n",
        "radians = degrees/360.0*2*math.pi\n",
        "height = math.sin(radians)\n",
        "print(height)\n",
        "print(radians)\n",
        "print(math.pi)"
      ],
      "metadata": {
        "colab": {
          "base_uri": "https://localhost:8080/"
        },
        "id": "2MIpHK7lZMCf",
        "outputId": "19d4a326-8658-4dc1-b273-72d7f0d0bd32"
      },
      "execution_count": null,
      "outputs": [
        {
          "output_type": "stream",
          "name": "stdout",
          "text": [
            "0.7071067811865475\n",
            "0.7853981633974483\n",
            "3.141592653589793\n"
          ]
        }
      ]
    },
    {
      "cell_type": "markdown",
      "source": [
        "## Range function"
      ],
      "metadata": {
        "id": "BMGizPi-Z60H"
      }
    },
    {
      "cell_type": "code",
      "source": [
        "print(range(5))"
      ],
      "metadata": {
        "colab": {
          "base_uri": "https://localhost:8080/"
        },
        "id": "KF-cm0TeZ6kV",
        "outputId": "8e8b76bd-606f-4d34-d02b-46b504dc3a3c"
      },
      "execution_count": null,
      "outputs": [
        {
          "output_type": "stream",
          "name": "stdout",
          "text": [
            "range(0, 5)\n"
          ]
        }
      ]
    },
    {
      "cell_type": "code",
      "source": [
        "for i in range(5):\n",
        "  print(i)"
      ],
      "metadata": {
        "colab": {
          "base_uri": "https://localhost:8080/"
        },
        "id": "OxAIFeorZt5d",
        "outputId": "263e5c8a-a6a8-4bc3-8175-265df86ed7cf"
      },
      "execution_count": null,
      "outputs": [
        {
          "output_type": "stream",
          "name": "stdout",
          "text": [
            "0\n",
            "1\n",
            "2\n",
            "3\n",
            "4\n"
          ]
        }
      ]
    },
    {
      "cell_type": "markdown",
      "source": [
        "## Random function"
      ],
      "metadata": {
        "id": "HDfTHJymaJWW"
      }
    },
    {
      "cell_type": "code",
      "source": [
        "import random\n",
        "for i in range(10):\n",
        " x=random.random()\n",
        " print(x)"
      ],
      "metadata": {
        "colab": {
          "base_uri": "https://localhost:8080/"
        },
        "id": "XwrNGshFaGe3",
        "outputId": "31820730-a37f-46c3-8032-e1660a82f7bf"
      },
      "execution_count": null,
      "outputs": [
        {
          "output_type": "stream",
          "name": "stdout",
          "text": [
            "0.30982174850410016\n",
            "0.6969742051946092\n",
            "0.7064651979763463\n",
            "0.16751688492393668\n",
            "0.988444905837277\n",
            "0.7508832045463606\n",
            "0.896321206095753\n",
            "0.5497575475578785\n",
            "0.3757616447726151\n",
            "0.0019289136913088756\n"
          ]
        }
      ]
    },
    {
      "cell_type": "code",
      "source": [
        "import random\n",
        "for i in range(10):\n",
        " x=random.random()*10\n",
        " print(int(x))"
      ],
      "metadata": {
        "colab": {
          "base_uri": "https://localhost:8080/"
        },
        "id": "VDKH-RAhaNpI",
        "outputId": "2a8e4c92-08c8-4204-cde6-6f2870a5b7b3"
      },
      "execution_count": null,
      "outputs": [
        {
          "output_type": "stream",
          "name": "stdout",
          "text": [
            "0\n",
            "4\n",
            "5\n",
            "3\n",
            "6\n",
            "1\n",
            "0\n",
            "1\n",
            "4\n",
            "2\n"
          ]
        }
      ]
    },
    {
      "cell_type": "markdown",
      "source": [
        "##The function randint takes the parameters low and high, and returns an integer between low and high (including both)."
      ],
      "metadata": {
        "id": "RNC185M0ahTb"
      }
    },
    {
      "cell_type": "code",
      "source": [
        "random.randint(5,10)"
      ],
      "metadata": {
        "colab": {
          "base_uri": "https://localhost:8080/"
        },
        "id": "7-Sy21voaVkY",
        "outputId": "eb947c2f-4d0b-4207-909c-f37f5c5099f7"
      },
      "execution_count": null,
      "outputs": [
        {
          "output_type": "execute_result",
          "data": {
            "text/plain": [
              "10"
            ]
          },
          "metadata": {},
          "execution_count": 10
        }
      ]
    },
    {
      "cell_type": "markdown",
      "source": [
        "##To choose an element from a sequence at random, you can use choice:"
      ],
      "metadata": {
        "id": "98ufhbv9auAP"
      }
    },
    {
      "cell_type": "code",
      "source": [
        "t = [1,2,3]\n",
        "random.choice(t)"
      ],
      "metadata": {
        "colab": {
          "base_uri": "https://localhost:8080/"
        },
        "id": "nfD-k-kOanvr",
        "outputId": "37c61033-465e-48e0-a26b-0b0cd8d7c369"
      },
      "execution_count": null,
      "outputs": [
        {
          "output_type": "execute_result",
          "data": {
            "text/plain": [
              "1"
            ]
          },
          "metadata": {},
          "execution_count": 11
        }
      ]
    },
    {
      "cell_type": "markdown",
      "source": [
        "##This program has two function definitions: print_lyrics and repeat_lyrics. Where we are calling a function inside a function also repeating the function."
      ],
      "metadata": {
        "id": "AUi64Wo4a7Sm"
      }
    },
    {
      "cell_type": "code",
      "source": [
        "def print_lyrics():\n",
        "    print(\"I'm a lumberjack, and I'm okay.\")\n",
        "    print('I sleep all night and I work all day.')\n",
        "\n",
        "\n",
        "def repeat_lyrics():\n",
        "    print_lyrics()\n",
        "    print_lyrics()\n",
        "\n",
        "repeat_lyrics()"
      ],
      "metadata": {
        "colab": {
          "base_uri": "https://localhost:8080/"
        },
        "id": "uwaxCyCea00h",
        "outputId": "25fbd11d-d254-4a7a-ce97-8a001a36fc24"
      },
      "execution_count": null,
      "outputs": [
        {
          "output_type": "stream",
          "name": "stdout",
          "text": [
            "I'm a lumberjack, and I'm okay.\n",
            "I sleep all night and I work all day.\n",
            "I'm a lumberjack, and I'm okay.\n",
            "I sleep all night and I work all day.\n"
          ]
        }
      ]
    },
    {
      "cell_type": "markdown",
      "source": [
        "## Exercise 2\n",
        "\n",
        "* Move the last line of this program to the top, so the function call appears before the definitions. Run the program and see what error message you get."
      ],
      "metadata": {
        "id": "A9niwUMGb6r8"
      }
    },
    {
      "cell_type": "code",
      "source": [
        "#testing what happens when a function is invoked first and declared later\n",
        "\n",
        "#invoking function\n",
        "print_lyric()\n",
        "\n",
        "#defining function\n",
        "def print_lyric():\n",
        "    print(\"I'm a lumberjack, and I'm okay.\")\n",
        "    print('I sleep all night and I work all day.')"
      ],
      "metadata": {
        "colab": {
          "base_uri": "https://localhost:8080/",
          "height": 211
        },
        "id": "BNxhB7PPa-Ir",
        "outputId": "2f46bbd2-af87-4f8a-d961-dae08bae1a97"
      },
      "execution_count": null,
      "outputs": [
        {
          "output_type": "error",
          "ename": "NameError",
          "evalue": "name 'print_lyric' is not defined",
          "traceback": [
            "\u001b[0;31m---------------------------------------------------------------------------\u001b[0m",
            "\u001b[0;31mNameError\u001b[0m                                 Traceback (most recent call last)",
            "\u001b[0;32m<ipython-input-13-d57b5b97add7>\u001b[0m in \u001b[0;36m<cell line: 4>\u001b[0;34m()\u001b[0m\n\u001b[1;32m      2\u001b[0m \u001b[0;34m\u001b[0m\u001b[0m\n\u001b[1;32m      3\u001b[0m \u001b[0;31m#invoking function\u001b[0m\u001b[0;34m\u001b[0m\u001b[0;34m\u001b[0m\u001b[0m\n\u001b[0;32m----> 4\u001b[0;31m \u001b[0mprint_lyric\u001b[0m\u001b[0;34m(\u001b[0m\u001b[0;34m)\u001b[0m\u001b[0;34m\u001b[0m\u001b[0;34m\u001b[0m\u001b[0m\n\u001b[0m\u001b[1;32m      5\u001b[0m \u001b[0;34m\u001b[0m\u001b[0m\n\u001b[1;32m      6\u001b[0m \u001b[0;31m#defining function\u001b[0m\u001b[0;34m\u001b[0m\u001b[0;34m\u001b[0m\u001b[0m\n",
            "\u001b[0;31mNameError\u001b[0m: name 'print_lyric' is not defined"
          ]
        }
      ]
    },
    {
      "cell_type": "markdown",
      "source": [
        "## Exercise 3\n",
        "\n",
        "* Move the function call back to the bottom and move the definition of print_lyrics after the definition of repeat_lyrics. What happens when you run this program?"
      ],
      "metadata": {
        "id": "YZEo76zBcEDY"
      }
    },
    {
      "cell_type": "code",
      "source": [
        "#now fixing the above logic\n",
        "\n",
        "#defining function\n",
        "def print_lyrics():\n",
        "    print(\"I'm a lumberjack, and I'm okay.\")\n",
        "    print('I sleep all night and I work all day.')\n",
        "\n",
        "#invoking function\n",
        "print_lyrics()"
      ],
      "metadata": {
        "colab": {
          "base_uri": "https://localhost:8080/"
        },
        "id": "VhhdN0pZcAnw",
        "outputId": "cddf2af0-66ca-4b77-ac33-2b1e6c207269"
      },
      "execution_count": null,
      "outputs": [
        {
          "output_type": "stream",
          "name": "stdout",
          "text": [
            "I'm a lumberjack, and I'm okay.\n",
            "I sleep all night and I work all day.\n"
          ]
        }
      ]
    },
    {
      "cell_type": "markdown",
      "source": [
        "## Exercise 4\n",
        "*  What will the following Python program print out?"
      ],
      "metadata": {
        "id": "3Umtn_5EcQL6"
      }
    },
    {
      "cell_type": "code",
      "source": [
        "def fred():\n",
        "   print(\"Zap\")\n",
        "\n",
        "def jane():\n",
        "   print(\"ABC\")\n",
        "\n",
        "jane()\n",
        "fred()\n",
        "jane()"
      ],
      "metadata": {
        "colab": {
          "base_uri": "https://localhost:8080/"
        },
        "id": "t_P2igvHcMU9",
        "outputId": "43a8e41e-d718-4357-ba8d-1646b92a683c"
      },
      "execution_count": null,
      "outputs": [
        {
          "output_type": "stream",
          "name": "stdout",
          "text": [
            "ABC\n",
            "Zap\n",
            "ABC\n"
          ]
        }
      ]
    },
    {
      "cell_type": "markdown",
      "source": [
        "## Exercise 5\n",
        "\n",
        "* Rewrite your pay computation with time-and-a-half for overtime and create a function called computepay which takes two parameters (hours and rate)"
      ],
      "metadata": {
        "id": "ADn1BEHcnqJz"
      }
    },
    {
      "cell_type": "code",
      "source": [
        "def computepay():\n",
        "  h=input('Enter hours=')\n",
        "  r=input('Enter rate=')\n",
        "  try:\n",
        "   hr=float(h)\n",
        "   if hr>40:\n",
        "    hr-=40\n",
        "    p=40*float(r)+hr*float(r)*1.5\n",
        "    print(p)\n",
        "   else:\n",
        "    p=hr*float(r)\n",
        "    print(p)\n",
        "  except:\n",
        "   print('please enter numbers for hours and rate')\n",
        "computepay()"
      ],
      "metadata": {
        "colab": {
          "base_uri": "https://localhost:8080/"
        },
        "id": "q2Pc22fxnnda",
        "outputId": "667634d2-b743-461b-d338-4d6b192fa1ea"
      },
      "execution_count": null,
      "outputs": [
        {
          "output_type": "stream",
          "name": "stdout",
          "text": [
            "Enter hours=45\n",
            "Enter rate=10.5\n",
            "498.75\n"
          ]
        }
      ]
    },
    {
      "cell_type": "markdown",
      "source": [
        "## Exercise 6\n",
        "* Rewrite the grade program from the previous chapter using a function called computegrade that takes a score as its parameter and returns a grade as a string"
      ],
      "metadata": {
        "id": "0PviNxIxn9J2"
      }
    },
    {
      "cell_type": "code",
      "source": [
        "def computegrade(score):\n",
        "  try:\n",
        "    if score <= 1 and score >= 0:\n",
        "      if score >= 0.9:\n",
        "        grade = 'A'\n",
        "      elif score >= 0.8:\n",
        "        grade = 'B'\n",
        "      elif score >= 0.7:\n",
        "        grade = 'C'\n",
        "      elif score >= 0.6:\n",
        "        grade = 'D'\n",
        "      elif score < 0.6:\n",
        "        grade = 'F'\n",
        "      print(grade)\n",
        "    else:\n",
        "      print('Bad Score')\n",
        "  except:\n",
        "    print('Enter a number between 0.0 to 1.0')\n",
        "\n",
        "computegrade(0.95)\n",
        "computegrade('perfect')\n",
        "computegrade(10.0)\n",
        "computegrade(0.75)\n",
        "computegrade(0.5)"
      ],
      "metadata": {
        "id": "UBlrYP9WcVL_",
        "colab": {
          "base_uri": "https://localhost:8080/"
        },
        "outputId": "f5bcae02-52bf-497d-a8a1-dd49751becb5"
      },
      "execution_count": null,
      "outputs": [
        {
          "output_type": "stream",
          "name": "stdout",
          "text": [
            "A\n",
            "Enter a number between 0.0 to 1.0\n",
            "Bad Score\n",
            "C\n",
            "F\n"
          ]
        }
      ]
    },
    {
      "cell_type": "markdown",
      "source": [
        "# CHAPTER 5: Loops and Iteration"
      ],
      "metadata": {
        "id": "mJqTDeg7A2xu"
      }
    },
    {
      "cell_type": "markdown",
      "source": [
        "## While Loop"
      ],
      "metadata": {
        "id": "3JpU-BM_25FZ"
      }
    },
    {
      "cell_type": "code",
      "source": [
        "n=5\n",
        "while n>0:\n",
        "  print(n)\n",
        "  n=n-1\n",
        "print('Blast off')\n",
        "print(n)"
      ],
      "metadata": {
        "id": "U_maatnYoMSP",
        "colab": {
          "base_uri": "https://localhost:8080/"
        },
        "outputId": "13930a52-27a0-49ff-88ee-21f7ef16bb2b"
      },
      "execution_count": null,
      "outputs": [
        {
          "output_type": "stream",
          "name": "stdout",
          "text": [
            "5\n",
            "4\n",
            "3\n",
            "2\n",
            "1\n",
            "Blast off\n",
            "0\n"
          ]
        }
      ]
    },
    {
      "cell_type": "markdown",
      "source": [
        "## Breaking out of a loop -- break statement"
      ],
      "metadata": {
        "id": "2LZDJ_WS4Sua"
      }
    },
    {
      "cell_type": "code",
      "source": [
        "while True:\n",
        "  line=input('>')\n",
        "  if line=='done':\n",
        "    break\n",
        "  print(line)\n",
        "print('Done!')"
      ],
      "metadata": {
        "colab": {
          "base_uri": "https://localhost:8080/"
        },
        "id": "sFqK-3tw3Psx",
        "outputId": "0d98628d-e1ec-4de7-b151-d53fe02b5ba5"
      },
      "execution_count": 11,
      "outputs": [
        {
          "output_type": "stream",
          "name": "stdout",
          "text": [
            ">ANG\n",
            "ANG\n",
            ">odne\n",
            "odne\n",
            ">done\n",
            "Done!\n"
          ]
        }
      ]
    },
    {
      "cell_type": "markdown",
      "source": [
        "## Continue:- Finnishing an iterations with Continue"
      ],
      "metadata": {
        "id": "0eeJy-K7Enn1"
      }
    },
    {
      "cell_type": "code",
      "source": [
        "while True:\n",
        "  line=input('>')\n",
        "  if line[0]=='#':\n",
        "    continue\n",
        "  if line=='done':\n",
        "    break\n",
        "  print(line)\n",
        "print('Done!')"
      ],
      "metadata": {
        "colab": {
          "base_uri": "https://localhost:8080/"
        },
        "id": "mE6PxQhcEqz-",
        "outputId": "569edf2c-3638-4000-b53e-c54995297157"
      },
      "execution_count": 12,
      "outputs": [
        {
          "output_type": "stream",
          "name": "stdout",
          "text": [
            ">ANG\n",
            "ANG\n",
            "># print this\n",
            ">ABHI\n",
            "ABHI\n",
            ">done\n",
            "Done!\n"
          ]
        }
      ]
    },
    {
      "cell_type": "markdown",
      "source": [
        "## A simple definite loop -- For loop"
      ],
      "metadata": {
        "id": "sw5KQdrh5WNT"
      }
    },
    {
      "cell_type": "code",
      "source": [
        "for i in [5,4,3,2,1]:\n",
        " print(i)\n",
        "print('Blast off')"
      ],
      "metadata": {
        "colab": {
          "base_uri": "https://localhost:8080/"
        },
        "id": "UHQdAhnu4s87",
        "outputId": "f26e9c0e-f844-4cc9-984a-9b00404ae0f0"
      },
      "execution_count": null,
      "outputs": [
        {
          "output_type": "stream",
          "name": "stdout",
          "text": [
            "5\n",
            "4\n",
            "3\n",
            "2\n",
            "1\n",
            "Blast off\n"
          ]
        }
      ]
    },
    {
      "cell_type": "code",
      "source": [
        "friends = ['Akhil', 'Madhan', 'Sharath', 'Nithin']\n",
        "for friend in friends:\n",
        "  print('Happy New Year:', friend)\n",
        "print('Done!')"
      ],
      "metadata": {
        "colab": {
          "base_uri": "https://localhost:8080/"
        },
        "id": "HNhlE4j_5k7_",
        "outputId": "93626a59-e40e-4452-c173-a5120ef0d1c4"
      },
      "execution_count": null,
      "outputs": [
        {
          "output_type": "stream",
          "name": "stdout",
          "text": [
            "Happy New Year: Akhil\n",
            "Happy New Year: Madhan\n",
            "Happy New Year: Sharath\n",
            "Happy New Year: Nithin\n",
            "Done!\n"
          ]
        }
      ]
    },
    {
      "cell_type": "markdown",
      "source": [
        "### Loooping through a SET\n",
        "\n"
      ],
      "metadata": {
        "id": "S-KKhXsE7ObL"
      }
    },
    {
      "cell_type": "code",
      "source": [
        "print('Before')\n",
        "for thing in [9,41,37,33,12,98,101]:\n",
        "  print(thing)\n",
        "print('After')"
      ],
      "metadata": {
        "colab": {
          "base_uri": "https://localhost:8080/"
        },
        "id": "SwSTynIg5-k5",
        "outputId": "343be177-c343-4cea-a2a3-d7c3b72d435e"
      },
      "execution_count": null,
      "outputs": [
        {
          "output_type": "stream",
          "name": "stdout",
          "text": [
            "Before\n",
            "9\n",
            "41\n",
            "37\n",
            "33\n",
            "12\n",
            "98\n",
            "101\n",
            "After\n"
          ]
        }
      ]
    },
    {
      "cell_type": "markdown",
      "source": [
        "### What is the Largest number?\n"
      ],
      "metadata": {
        "id": "JFQjnBmd7mcY"
      }
    },
    {
      "cell_type": "code",
      "source": [
        "largest_so_far = -1\n",
        "print('Before',largest_so_far)"
      ],
      "metadata": {
        "colab": {
          "base_uri": "https://localhost:8080/"
        },
        "id": "ePRETc1w7kZN",
        "outputId": "b7339889-4119-4d1c-d305-5fc1083991f0"
      },
      "execution_count": null,
      "outputs": [
        {
          "output_type": "stream",
          "name": "stdout",
          "text": [
            "Before -1\n"
          ]
        }
      ]
    },
    {
      "cell_type": "code",
      "source": [
        "for the_num in [9,41,37,33,12,98,101]:\n",
        "  if the_num>largest_so_far:\n",
        "    largest_so_far=the_num\n",
        "  print(largest_so_far,the_num)\n",
        "print('After',largest_so_far)"
      ],
      "metadata": {
        "colab": {
          "base_uri": "https://localhost:8080/"
        },
        "id": "aFn0UHO48Kei",
        "outputId": "1298c638-dc92-4053-af4f-1aa0d7ef223c"
      },
      "execution_count": null,
      "outputs": [
        {
          "output_type": "stream",
          "name": "stdout",
          "text": [
            "9 9\n",
            "41 41\n",
            "41 37\n",
            "41 33\n",
            "41 12\n",
            "98 98\n",
            "101 101\n",
            "After 101\n"
          ]
        }
      ]
    },
    {
      "cell_type": "markdown",
      "source": [
        "### Counting in a loop"
      ],
      "metadata": {
        "id": "jh4_FoPM9HEM"
      }
    },
    {
      "cell_type": "code",
      "source": [
        "count=0\n",
        "print('Before',count)\n",
        "for thing in [9,41,37,33,12,98,101]:\n",
        "  count=count+1\n",
        "  print(count,thing)\n",
        "print('After',count)"
      ],
      "metadata": {
        "colab": {
          "base_uri": "https://localhost:8080/"
        },
        "id": "NKi43MiW8y0O",
        "outputId": "043df0f3-8d1c-44ac-d7a4-42016eccdc87"
      },
      "execution_count": null,
      "outputs": [
        {
          "output_type": "stream",
          "name": "stdout",
          "text": [
            "Before 0\n",
            "1 9\n",
            "2 41\n",
            "3 37\n",
            "4 33\n",
            "5 12\n",
            "6 98\n",
            "7 101\n",
            "After 7\n"
          ]
        }
      ]
    },
    {
      "cell_type": "markdown",
      "source": [
        "### Summing in a Loop"
      ],
      "metadata": {
        "id": "0Qwf9-VT9pXi"
      }
    },
    {
      "cell_type": "code",
      "source": [
        "sum=0\n",
        "print('Before', sum)"
      ],
      "metadata": {
        "colab": {
          "base_uri": "https://localhost:8080/"
        },
        "id": "IDatu7JU9gQB",
        "outputId": "8ecf4e91-d05e-49bb-bcf2-3f2f251e72b2"
      },
      "execution_count": null,
      "outputs": [
        {
          "output_type": "stream",
          "name": "stdout",
          "text": [
            "Before 0\n"
          ]
        }
      ]
    },
    {
      "cell_type": "code",
      "source": [
        "for thing in [9,41,37,33,12,98,101]:\n",
        "  sum=sum+thing\n",
        "  print(sum,thing)\n",
        "print('After', sum)"
      ],
      "metadata": {
        "colab": {
          "base_uri": "https://localhost:8080/"
        },
        "id": "ioEzn_OT-JBV",
        "outputId": "2e782e04-f556-4329-a6a8-79242b1efb2e"
      },
      "execution_count": null,
      "outputs": [
        {
          "output_type": "stream",
          "name": "stdout",
          "text": [
            "9 9\n",
            "50 41\n",
            "87 37\n",
            "120 33\n",
            "132 12\n",
            "230 98\n",
            "331 101\n",
            "After 331\n"
          ]
        }
      ]
    },
    {
      "cell_type": "markdown",
      "source": [
        "### Finding the average in a loop"
      ],
      "metadata": {
        "id": "yGuIlYrO-djf"
      }
    },
    {
      "cell_type": "code",
      "source": [
        "count=0\n",
        "sum=0\n",
        "print('Before',count,sum)\n",
        "for value in [9,41,37,33,12,98,101]:\n",
        "  count=count+1\n",
        "  sum=sum+value\n",
        "  print(count,sum,value)\n",
        "print('After',count,sum,' Average=',sum/count)"
      ],
      "metadata": {
        "colab": {
          "base_uri": "https://localhost:8080/"
        },
        "id": "Pr0vgV1w-ZCs",
        "outputId": "3ab56c34-3131-40a0-eae1-13017196f7ca"
      },
      "execution_count": null,
      "outputs": [
        {
          "output_type": "stream",
          "name": "stdout",
          "text": [
            "Before 0 0\n",
            "1 9 9\n",
            "2 50 41\n",
            "3 87 37\n",
            "4 120 33\n",
            "5 132 12\n",
            "6 230 98\n",
            "7 331 101\n",
            "After 7 331  Average= 47.285714285714285\n"
          ]
        }
      ]
    },
    {
      "cell_type": "markdown",
      "source": [
        "### Filtering in a Loop"
      ],
      "metadata": {
        "id": "Th8j20EW_fRj"
      }
    },
    {
      "cell_type": "code",
      "source": [
        "print('Before')\n",
        "for value in [9,41,37,33,12,98,101]:\n",
        "  if value>20:\n",
        "    print('Large number',value)\n",
        "print('After')"
      ],
      "metadata": {
        "colab": {
          "base_uri": "https://localhost:8080/"
        },
        "id": "nKEnj-3w_at3",
        "outputId": "37acd9f4-b7b0-462b-ea9f-d7d30cd6f6d6"
      },
      "execution_count": null,
      "outputs": [
        {
          "output_type": "stream",
          "name": "stdout",
          "text": [
            "Before\n",
            "Large number 41\n",
            "Large number 37\n",
            "Large number 33\n",
            "Large number 98\n",
            "Large number 101\n",
            "After\n"
          ]
        }
      ]
    },
    {
      "cell_type": "markdown",
      "source": [
        "### Search using a boolean Variable"
      ],
      "metadata": {
        "id": "9EsTw1Gd_2NW"
      }
    },
    {
      "cell_type": "code",
      "source": [
        "found=False\n",
        "print('Before',found)\n",
        "for value in [9,41,37,33,12,98,101]:\n",
        "  if value==33:\n",
        "    found=True\n",
        "  print(found,value)\n",
        "print('After',found)"
      ],
      "metadata": {
        "colab": {
          "base_uri": "https://localhost:8080/"
        },
        "id": "2mlUPmta_ttZ",
        "outputId": "0c1677f9-5a5f-4844-b563-87878a3977b4"
      },
      "execution_count": 15,
      "outputs": [
        {
          "output_type": "stream",
          "name": "stdout",
          "text": [
            "Before False\n",
            "False 9\n",
            "False 41\n",
            "False 37\n",
            "True 33\n",
            "True 12\n",
            "True 98\n",
            "True 101\n",
            "After True\n"
          ]
        }
      ]
    },
    {
      "cell_type": "markdown",
      "source": [
        "### Finding a smallest value"
      ],
      "metadata": {
        "id": "MnVoqn-KAbiz"
      }
    },
    {
      "cell_type": "code",
      "source": [
        "smallest_so_far =-1\n",
        "print('Before',smallest_so_far)\n",
        "for value in [9,41,37,33,12,98,101]:\n",
        "  if value<smallest_so_far:\n",
        "    smallest_so_far=value\n",
        "  print(smallest_so_far,value)\n",
        "print('After',smallest_so_far)"
      ],
      "metadata": {
        "colab": {
          "base_uri": "https://localhost:8080/"
        },
        "id": "HJhIqdi6CMSp",
        "outputId": "eb01a7d9-3e5b-4169-c107-d8768a27a40f"
      },
      "execution_count": null,
      "outputs": [
        {
          "output_type": "stream",
          "name": "stdout",
          "text": [
            "Before -1\n",
            "-1 9\n",
            "-1 41\n",
            "-1 37\n",
            "-1 33\n",
            "-1 12\n",
            "-1 98\n",
            "-1 101\n",
            "After -1\n"
          ]
        }
      ]
    },
    {
      "cell_type": "code",
      "source": [
        "smallest_so_far =None\n",
        "print('Before',smallest_so_far)\n",
        "for value in [9,41,37,33,12,98,101]:\n",
        "  if smallest_so_far==None:\n",
        "    smallest_so_far=value\n",
        "  elif value<smallest_so_far:\n",
        "    smallest_so_far=value\n",
        "  print(smallest_so_far,value)\n",
        "print('After',smallest_so_far)"
      ],
      "metadata": {
        "colab": {
          "base_uri": "https://localhost:8080/"
        },
        "id": "fWp-X85JCaGu",
        "outputId": "22cae075-047e-45cd-e082-6890889bfdd2"
      },
      "execution_count": null,
      "outputs": [
        {
          "output_type": "stream",
          "name": "stdout",
          "text": [
            "Before None\n",
            "9 9\n",
            "9 41\n",
            "9 37\n",
            "9 33\n",
            "9 12\n",
            "9 98\n",
            "9 101\n",
            "After 9\n"
          ]
        }
      ]
    },
    {
      "cell_type": "markdown",
      "source": [
        "## The \"is\" and \"is not\" operators."
      ],
      "metadata": {
        "id": "EGCf46vODPxN"
      }
    },
    {
      "cell_type": "code",
      "source": [
        "smallest_so_far =None\n",
        "print('Before',smallest_so_far)\n",
        "for value in [9,41,37,33,12,98,101]:\n",
        "  if smallest_so_far is None:\n",
        "    smallest_so_far=value\n",
        "  elif value<smallest_so_far:\n",
        "    smallest_so_far=value\n",
        "  print(smallest_so_far,value)\n",
        "print('After',smallest_so_far)"
      ],
      "metadata": {
        "colab": {
          "base_uri": "https://localhost:8080/"
        },
        "id": "S1uRs2fFC596",
        "outputId": "c1ace90a-98ba-4746-f1ec-b1119fcad92b"
      },
      "execution_count": null,
      "outputs": [
        {
          "output_type": "stream",
          "name": "stdout",
          "text": [
            "Before None\n",
            "9 9\n",
            "9 41\n",
            "9 37\n",
            "9 33\n",
            "9 12\n",
            "9 98\n",
            "9 101\n",
            "After 9\n"
          ]
        }
      ]
    },
    {
      "cell_type": "markdown",
      "source": [
        "##Exercise 1\n",
        "\n",
        "* Write a program which repeatedly reads integers until the user enters “done”. Once “done” is entered, print out the total, count, and average of the integers. If the user enters anything other than a integers, detect their mistake using try and except and print an error message and skip to the next integers."
      ],
      "metadata": {
        "id": "z_pWmGPMFngc"
      }
    },
    {
      "cell_type": "code",
      "source": [
        "sum=0\n",
        "count=0\n",
        "while True:\n",
        "  try:\n",
        "    num=input(\"Enter the number: \")\n",
        "    if num=='done':\n",
        "      break\n",
        "    sum=sum+int(num)\n",
        "    count=count+1\n",
        "    avg=sum/count\n",
        "  except:\n",
        "    print('Bad Data')\n",
        "    continue\n",
        "print(sum,count,avg)"
      ],
      "metadata": {
        "colab": {
          "base_uri": "https://localhost:8080/"
        },
        "id": "h7bNz-oyDgog",
        "outputId": "2a060b1c-df90-4347-8626-aa931ece974a"
      },
      "execution_count": null,
      "outputs": [
        {
          "output_type": "stream",
          "name": "stdout",
          "text": [
            "Enter the number: 12\n",
            "Enter the number: 3\n",
            "Enter the number: 12\n",
            "Enter the number: d\n",
            "Bad Data\n",
            "Enter the number: 2131\n",
            "Enter the number: done\n",
            "2158 4 539.5\n"
          ]
        }
      ]
    },
    {
      "cell_type": "markdown",
      "source": [
        "##Exercise 2\n",
        "\n",
        "* Write another program that prompts for a list of numbers as above and at the end prints out both the maximum and minimum of the numbers instead of the average."
      ],
      "metadata": {
        "id": "_fCCt3D4HkCA"
      }
    },
    {
      "cell_type": "code",
      "source": [
        "max = None\n",
        "min = None\n",
        "print('Before', max, min)\n",
        "while True:\n",
        "  try:\n",
        "    num=input('Enter a Number ')\n",
        "    if num=='done':\n",
        "      break\n",
        "    num=int(num)\n",
        "    if max==None or max <= num:\n",
        "      max=num\n",
        "    if min==None or min > num :\n",
        "      min = num\n",
        "  except:\n",
        "    print('Please enter a number ')\n",
        "print('minimum',min)\n",
        "print('maximum',max)"
      ],
      "metadata": {
        "colab": {
          "base_uri": "https://localhost:8080/"
        },
        "id": "JgFLWT1yHH98",
        "outputId": "ed254a91-cc6e-4405-a2b0-e4dabfebed41"
      },
      "execution_count": null,
      "outputs": [
        {
          "output_type": "stream",
          "name": "stdout",
          "text": [
            "Before None None\n",
            "Enter a Number 21\n",
            "Enter a Number 212\n",
            "Enter a Number 31221\n",
            "Enter a Number 1\n",
            "Enter a Number -1221312\n",
            "Enter a Number er\n",
            "Please enter a number \n",
            "Enter a Number 2\n",
            "Enter a Number done\n",
            "minimum -1221312\n",
            "maximum 31221\n"
          ]
        }
      ]
    },
    {
      "cell_type": "markdown",
      "source": [
        "##Quizzes"
      ],
      "metadata": {
        "id": "TXWOGNDxLZ2Y"
      }
    },
    {
      "cell_type": "code",
      "source": [
        "tot = 0\n",
        "for i in [5, 4, 3, 2, 1] :\n",
        "    tot = tot + 1\n",
        "print(tot)"
      ],
      "metadata": {
        "colab": {
          "base_uri": "https://localhost:8080/"
        },
        "id": "TX4MJuKQINPq",
        "outputId": "af0b7c7b-3368-405d-88bd-f05473fe9721"
      },
      "execution_count": null,
      "outputs": [
        {
          "output_type": "stream",
          "name": "stdout",
          "text": [
            "5\n"
          ]
        }
      ]
    },
    {
      "cell_type": "markdown",
      "source": [
        "# CHAPTER 6: Strings"
      ],
      "metadata": {
        "id": "ZVGjSWKoXZ4p"
      }
    },
    {
      "cell_type": "markdown",
      "source": [
        "## String data type"
      ],
      "metadata": {
        "id": "cQd03gGpXppr"
      }
    },
    {
      "cell_type": "code",
      "source": [
        "str1 = \"Hello\"\n",
        "str2 = 'there'\n",
        "bob = str1 + str2\n",
        "print(bob)"
      ],
      "metadata": {
        "colab": {
          "base_uri": "https://localhost:8080/"
        },
        "id": "HrKszOR0LfZP",
        "outputId": "7c174af7-7418-4f33-9ab1-23b3dbb0a740"
      },
      "execution_count": null,
      "outputs": [
        {
          "output_type": "stream",
          "name": "stdout",
          "text": [
            "Hellothere\n"
          ]
        }
      ]
    },
    {
      "cell_type": "code",
      "source": [
        "str3 = '123'\n",
        "str3 = str3 + 1"
      ],
      "metadata": {
        "colab": {
          "base_uri": "https://localhost:8080/",
          "height": 158
        },
        "id": "NZk8hc2yXzz0",
        "outputId": "c52bdc3f-b40e-4988-b1b2-30478c6d682c"
      },
      "execution_count": null,
      "outputs": [
        {
          "output_type": "error",
          "ename": "TypeError",
          "evalue": "can only concatenate str (not \"int\") to str",
          "traceback": [
            "\u001b[0;31m---------------------------------------------------------------------------\u001b[0m",
            "\u001b[0;31mTypeError\u001b[0m                                 Traceback (most recent call last)",
            "\u001b[0;32m<ipython-input-44-a3c2e55be021>\u001b[0m in \u001b[0;36m<cell line: 2>\u001b[0;34m()\u001b[0m\n\u001b[1;32m      1\u001b[0m \u001b[0mstr3\u001b[0m \u001b[0;34m=\u001b[0m \u001b[0;34m'123'\u001b[0m\u001b[0;34m\u001b[0m\u001b[0;34m\u001b[0m\u001b[0m\n\u001b[0;32m----> 2\u001b[0;31m \u001b[0mstr3\u001b[0m \u001b[0;34m=\u001b[0m \u001b[0mstr3\u001b[0m \u001b[0;34m+\u001b[0m \u001b[0;36m1\u001b[0m\u001b[0;34m\u001b[0m\u001b[0;34m\u001b[0m\u001b[0m\n\u001b[0m",
            "\u001b[0;31mTypeError\u001b[0m: can only concatenate str (not \"int\") to str"
          ]
        }
      ]
    },
    {
      "cell_type": "code",
      "source": [
        "# Adding numerical string by converting them\n",
        "\n",
        "x = int(str3)+1\n",
        "x"
      ],
      "metadata": {
        "colab": {
          "base_uri": "https://localhost:8080/"
        },
        "id": "2NlkXiG_X-F2",
        "outputId": "4dcfc7c6-41b8-4fce-d755-8eed237e3460"
      },
      "execution_count": null,
      "outputs": [
        {
          "output_type": "execute_result",
          "data": {
            "text/plain": [
              "124"
            ]
          },
          "metadata": {},
          "execution_count": 45
        }
      ]
    },
    {
      "cell_type": "markdown",
      "source": [
        "## Reading and converting"
      ],
      "metadata": {
        "id": "Ul9uIceQYOtu"
      }
    },
    {
      "cell_type": "code",
      "source": [
        "name = input('Enter:')\n",
        "print(name)"
      ],
      "metadata": {
        "colab": {
          "base_uri": "https://localhost:8080/"
        },
        "id": "mew3EfVjYMX6",
        "outputId": "0b782951-c3a4-4156-ceb4-3ba178925951"
      },
      "execution_count": null,
      "outputs": [
        {
          "output_type": "stream",
          "name": "stdout",
          "text": [
            "Enter:Abhishek Narayanaswamy\n",
            "Abhishek Narayanaswamy\n"
          ]
        }
      ]
    },
    {
      "cell_type": "code",
      "source": [
        "apple = input('Enter:')\n",
        "x = apple-10\n",
        "print(x)"
      ],
      "metadata": {
        "colab": {
          "base_uri": "https://localhost:8080/",
          "height": 193
        },
        "id": "yiXbyrrEYT0g",
        "outputId": "c0ae9107-1c46-472c-c5c3-c34c18928bce"
      },
      "execution_count": null,
      "outputs": [
        {
          "name": "stdout",
          "output_type": "stream",
          "text": [
            "Enter:10\n"
          ]
        },
        {
          "output_type": "error",
          "ename": "TypeError",
          "evalue": "unsupported operand type(s) for -: 'str' and 'int'",
          "traceback": [
            "\u001b[0;31m---------------------------------------------------------------------------\u001b[0m",
            "\u001b[0;31mTypeError\u001b[0m                                 Traceback (most recent call last)",
            "\u001b[0;32m<ipython-input-48-aae33691cced>\u001b[0m in \u001b[0;36m<cell line: 2>\u001b[0;34m()\u001b[0m\n\u001b[1;32m      1\u001b[0m \u001b[0mapple\u001b[0m \u001b[0;34m=\u001b[0m \u001b[0minput\u001b[0m\u001b[0;34m(\u001b[0m\u001b[0;34m'Enter:'\u001b[0m\u001b[0;34m)\u001b[0m\u001b[0;34m\u001b[0m\u001b[0;34m\u001b[0m\u001b[0m\n\u001b[0;32m----> 2\u001b[0;31m \u001b[0mx\u001b[0m \u001b[0;34m=\u001b[0m \u001b[0mapple\u001b[0m\u001b[0;34m-\u001b[0m\u001b[0;36m10\u001b[0m\u001b[0;34m\u001b[0m\u001b[0;34m\u001b[0m\u001b[0m\n\u001b[0m\u001b[1;32m      3\u001b[0m \u001b[0mprint\u001b[0m\u001b[0;34m(\u001b[0m\u001b[0mx\u001b[0m\u001b[0;34m)\u001b[0m\u001b[0;34m\u001b[0m\u001b[0;34m\u001b[0m\u001b[0m\n",
            "\u001b[0;31mTypeError\u001b[0m: unsupported operand type(s) for -: 'str' and 'int'"
          ]
        }
      ]
    },
    {
      "cell_type": "code",
      "source": [
        "x = int(apple)-10\n",
        "print(x)"
      ],
      "metadata": {
        "colab": {
          "base_uri": "https://localhost:8080/"
        },
        "id": "kEjA7aLsYc4j",
        "outputId": "f0ab5ad7-ad6e-4ee8-d074-e9014c479c53"
      },
      "execution_count": null,
      "outputs": [
        {
          "output_type": "stream",
          "name": "stdout",
          "text": [
            "0\n"
          ]
        }
      ]
    },
    {
      "cell_type": "markdown",
      "source": [
        "## Looking inside a string"
      ],
      "metadata": {
        "id": "iYfWkbrhYsA7"
      }
    },
    {
      "cell_type": "code",
      "source": [
        "fruit='banana'"
      ],
      "metadata": {
        "id": "DxwfSBPyYobZ"
      },
      "execution_count": null,
      "outputs": []
    },
    {
      "cell_type": "code",
      "source": [
        "letter = fruit[1]"
      ],
      "metadata": {
        "id": "BZ2pc-s4YxnU"
      },
      "execution_count": null,
      "outputs": []
    },
    {
      "cell_type": "code",
      "source": [
        "letter"
      ],
      "metadata": {
        "colab": {
          "base_uri": "https://localhost:8080/",
          "height": 36
        },
        "id": "mnwd2yZmY0bD",
        "outputId": "799c7a62-ba3a-4ca7-c2cc-591ad646b8a5"
      },
      "execution_count": null,
      "outputs": [
        {
          "output_type": "execute_result",
          "data": {
            "text/plain": [
              "'a'"
            ],
            "application/vnd.google.colaboratory.intrinsic+json": {
              "type": "string"
            }
          },
          "metadata": {},
          "execution_count": 52
        }
      ]
    },
    {
      "cell_type": "code",
      "source": [
        "x=3"
      ],
      "metadata": {
        "id": "7RMIHgAXY1QC"
      },
      "execution_count": null,
      "outputs": []
    },
    {
      "cell_type": "code",
      "source": [
        "w=fruit[x-1]"
      ],
      "metadata": {
        "id": "gPtU06AAY3Xw"
      },
      "execution_count": null,
      "outputs": []
    },
    {
      "cell_type": "code",
      "source": [
        "w"
      ],
      "metadata": {
        "colab": {
          "base_uri": "https://localhost:8080/",
          "height": 36
        },
        "id": "9fYZ8qo_Y6HX",
        "outputId": "6e0eb6cf-58e2-4650-a5b3-16018b1f09c3"
      },
      "execution_count": null,
      "outputs": [
        {
          "output_type": "execute_result",
          "data": {
            "text/plain": [
              "'n'"
            ],
            "application/vnd.google.colaboratory.intrinsic+json": {
              "type": "string"
            }
          },
          "metadata": {},
          "execution_count": 55
        }
      ]
    },
    {
      "cell_type": "markdown",
      "source": [
        "## A character too far"
      ],
      "metadata": {
        "id": "vwcR8KU5Y_M8"
      }
    },
    {
      "cell_type": "code",
      "source": [
        "zot = 'acb'"
      ],
      "metadata": {
        "id": "pQX8ruzWY6xj"
      },
      "execution_count": null,
      "outputs": []
    },
    {
      "cell_type": "code",
      "source": [
        "zot[4]"
      ],
      "metadata": {
        "colab": {
          "base_uri": "https://localhost:8080/",
          "height": 141
        },
        "id": "wBDlWafcZD0O",
        "outputId": "ae081d04-5293-4e7c-c116-f53397593dc6"
      },
      "execution_count": null,
      "outputs": [
        {
          "output_type": "error",
          "ename": "IndexError",
          "evalue": "string index out of range",
          "traceback": [
            "\u001b[0;31m---------------------------------------------------------------------------\u001b[0m",
            "\u001b[0;31mIndexError\u001b[0m                                Traceback (most recent call last)",
            "\u001b[0;32m<ipython-input-57-338ac1b13cfc>\u001b[0m in \u001b[0;36m<cell line: 1>\u001b[0;34m()\u001b[0m\n\u001b[0;32m----> 1\u001b[0;31m \u001b[0mzot\u001b[0m\u001b[0;34m[\u001b[0m\u001b[0;36m4\u001b[0m\u001b[0;34m]\u001b[0m\u001b[0;34m\u001b[0m\u001b[0;34m\u001b[0m\u001b[0m\n\u001b[0m",
            "\u001b[0;31mIndexError\u001b[0m: string index out of range"
          ]
        }
      ]
    },
    {
      "cell_type": "markdown",
      "source": [
        "## Strings have length"
      ],
      "metadata": {
        "id": "6Mu0MhGOZLxl"
      }
    },
    {
      "cell_type": "code",
      "source": [
        "fruit='Peach'\n",
        "print(len(fruit))"
      ],
      "metadata": {
        "colab": {
          "base_uri": "https://localhost:8080/"
        },
        "id": "pXQrE8BHZGPl",
        "outputId": "adc0c0a9-529a-40a6-9470-85f9e12b6e2d"
      },
      "execution_count": null,
      "outputs": [
        {
          "output_type": "stream",
          "name": "stdout",
          "text": [
            "5\n"
          ]
        }
      ]
    },
    {
      "cell_type": "markdown",
      "source": [
        "## Looping through strings"
      ],
      "metadata": {
        "id": "GmmSDBTMZcWf"
      }
    },
    {
      "cell_type": "markdown",
      "source": [
        "### USing while loop"
      ],
      "metadata": {
        "id": "gPCkGYuSZgZ2"
      }
    },
    {
      "cell_type": "code",
      "source": [
        "fruit = 'banana'\n",
        "index=0\n",
        "while index<len(fruit):\n",
        "  letter = fruit[index]\n",
        "  print(index,letter)\n",
        "  index=index+1"
      ],
      "metadata": {
        "colab": {
          "base_uri": "https://localhost:8080/"
        },
        "id": "5bJaL21mZUyz",
        "outputId": "54ab91d9-2d89-47ab-bef4-d677b17f1f81"
      },
      "execution_count": null,
      "outputs": [
        {
          "output_type": "stream",
          "name": "stdout",
          "text": [
            "0 b\n",
            "1 a\n",
            "2 n\n",
            "3 a\n",
            "4 n\n",
            "5 a\n"
          ]
        }
      ]
    },
    {
      "cell_type": "markdown",
      "source": [
        "### Using for loop"
      ],
      "metadata": {
        "id": "D_U0C4NWZ51S"
      }
    },
    {
      "cell_type": "code",
      "source": [
        "fruit = 'banana'\n",
        "for letter in fruit:\n",
        "  print(letter)"
      ],
      "metadata": {
        "colab": {
          "base_uri": "https://localhost:8080/"
        },
        "id": "9zpzQreVZ3qB",
        "outputId": "042f60c3-4169-446a-e2b1-05f3abf13657"
      },
      "execution_count": null,
      "outputs": [
        {
          "output_type": "stream",
          "name": "stdout",
          "text": [
            "b\n",
            "a\n",
            "n\n",
            "a\n",
            "n\n",
            "a\n"
          ]
        }
      ]
    },
    {
      "cell_type": "markdown",
      "source": [
        "### Looping and counting"
      ],
      "metadata": {
        "id": "HS9gAU1PaJGZ"
      }
    },
    {
      "cell_type": "code",
      "source": [
        "word = 'banana'\n",
        "count = 0\n",
        "for letter in word:\n",
        "  if letter == 'a':\n",
        "    count+=1\n",
        "print(count)"
      ],
      "metadata": {
        "colab": {
          "base_uri": "https://localhost:8080/"
        },
        "id": "yuJWnZESaDwU",
        "outputId": "7fb0a9c7-5412-4be6-c70f-aecbba779e23"
      },
      "execution_count": null,
      "outputs": [
        {
          "output_type": "stream",
          "name": "stdout",
          "text": [
            "3\n"
          ]
        }
      ]
    },
    {
      "cell_type": "markdown",
      "source": [
        "### Looking deeper into \"in\""
      ],
      "metadata": {
        "id": "NeoP_ZdKamgn"
      }
    },
    {
      "cell_type": "code",
      "source": [
        "for letter in 'banana':\n",
        "  print(letter)"
      ],
      "metadata": {
        "colab": {
          "base_uri": "https://localhost:8080/"
        },
        "id": "MJXL1wpUafxP",
        "outputId": "354879cd-9706-4c14-b998-a6aac24b67e4"
      },
      "execution_count": null,
      "outputs": [
        {
          "output_type": "stream",
          "name": "stdout",
          "text": [
            "b\n",
            "a\n",
            "n\n",
            "a\n",
            "n\n",
            "a\n"
          ]
        }
      ]
    },
    {
      "cell_type": "markdown",
      "source": [
        "## String operations"
      ],
      "metadata": {
        "id": "oF5Q65CzgByE"
      }
    },
    {
      "cell_type": "markdown",
      "source": [
        "### Slicing strings"
      ],
      "metadata": {
        "id": "zPwAJaaugFTl"
      }
    },
    {
      "cell_type": "code",
      "source": [
        "s = 'Monty Python'"
      ],
      "metadata": {
        "id": "a_4e1_t1avZ_"
      },
      "execution_count": null,
      "outputs": []
    },
    {
      "cell_type": "code",
      "source": [
        "print(s[0:4])"
      ],
      "metadata": {
        "colab": {
          "base_uri": "https://localhost:8080/"
        },
        "id": "WfikDS35gREg",
        "outputId": "dc0237b4-95f3-4a8f-9a3c-091dbe119d36"
      },
      "execution_count": null,
      "outputs": [
        {
          "output_type": "stream",
          "name": "stdout",
          "text": [
            "Mont\n"
          ]
        }
      ]
    },
    {
      "cell_type": "code",
      "source": [
        "print(s[6:7])"
      ],
      "metadata": {
        "colab": {
          "base_uri": "https://localhost:8080/"
        },
        "id": "rSQKhxg0gUCs",
        "outputId": "0c048fb8-ad3b-47eb-e1a3-0dd75478ebdf"
      },
      "execution_count": null,
      "outputs": [
        {
          "output_type": "stream",
          "name": "stdout",
          "text": [
            "P\n"
          ]
        }
      ]
    },
    {
      "cell_type": "code",
      "source": [
        "print(len(s))"
      ],
      "metadata": {
        "colab": {
          "base_uri": "https://localhost:8080/"
        },
        "id": "9X3-H3ZAggG4",
        "outputId": "1f4bd2e0-e2f8-4206-d58c-d8e214221645"
      },
      "execution_count": null,
      "outputs": [
        {
          "output_type": "stream",
          "name": "stdout",
          "text": [
            "12\n"
          ]
        }
      ]
    },
    {
      "cell_type": "code",
      "source": [
        "print(s[6:20])"
      ],
      "metadata": {
        "colab": {
          "base_uri": "https://localhost:8080/"
        },
        "id": "0l6w6kI0gZpk",
        "outputId": "63e1cd57-29af-4fc6-ab84-356907b75cb3"
      },
      "execution_count": null,
      "outputs": [
        {
          "output_type": "stream",
          "name": "stdout",
          "text": [
            "Python\n"
          ]
        }
      ]
    },
    {
      "cell_type": "code",
      "source": [
        "print(s[:2])"
      ],
      "metadata": {
        "colab": {
          "base_uri": "https://localhost:8080/"
        },
        "id": "Gwne7DJPgfVM",
        "outputId": "20328cb2-ee2c-4907-d221-2d65a4820bbb"
      },
      "execution_count": null,
      "outputs": [
        {
          "output_type": "stream",
          "name": "stdout",
          "text": [
            "Mo\n"
          ]
        }
      ]
    },
    {
      "cell_type": "code",
      "source": [
        "print(s[8:])"
      ],
      "metadata": {
        "colab": {
          "base_uri": "https://localhost:8080/"
        },
        "id": "BMSbmVv1hqbL",
        "outputId": "d640c2c8-44e0-4283-c406-f19e73f25257"
      },
      "execution_count": null,
      "outputs": [
        {
          "output_type": "stream",
          "name": "stdout",
          "text": [
            "thon\n"
          ]
        }
      ]
    },
    {
      "cell_type": "code",
      "source": [
        "print(s[:])"
      ],
      "metadata": {
        "colab": {
          "base_uri": "https://localhost:8080/"
        },
        "id": "vukpHFxshvnd",
        "outputId": "adc0a69d-0c1f-4da1-fa33-2d24f100c9bc"
      },
      "execution_count": null,
      "outputs": [
        {
          "output_type": "stream",
          "name": "stdout",
          "text": [
            "Monty Python\n"
          ]
        }
      ]
    },
    {
      "cell_type": "markdown",
      "source": [
        "### String Concatenation"
      ],
      "metadata": {
        "id": "DFKg4u3sh3RJ"
      }
    },
    {
      "cell_type": "code",
      "source": [
        "a = 'Hello'"
      ],
      "metadata": {
        "id": "yxEcsX91h1IE"
      },
      "execution_count": null,
      "outputs": []
    },
    {
      "cell_type": "code",
      "source": [
        "b=a+'There'"
      ],
      "metadata": {
        "id": "YJxEEcMuh843"
      },
      "execution_count": null,
      "outputs": []
    },
    {
      "cell_type": "code",
      "source": [
        "print(b)"
      ],
      "metadata": {
        "colab": {
          "base_uri": "https://localhost:8080/"
        },
        "id": "DY0RWqvYiAZg",
        "outputId": "e89bc24b-0fc2-4cf2-bdd7-a04d5a8bdf98"
      },
      "execution_count": null,
      "outputs": [
        {
          "output_type": "stream",
          "name": "stdout",
          "text": [
            "HelloThere\n"
          ]
        }
      ]
    },
    {
      "cell_type": "code",
      "source": [
        "c=a+' '+'There'\n",
        "print(c)"
      ],
      "metadata": {
        "colab": {
          "base_uri": "https://localhost:8080/"
        },
        "id": "zrCny7y6iBxM",
        "outputId": "1caf31b6-2980-4b3c-caab-7f8bc50ee64a"
      },
      "execution_count": null,
      "outputs": [
        {
          "output_type": "stream",
          "name": "stdout",
          "text": [
            "Hello There\n"
          ]
        }
      ]
    },
    {
      "cell_type": "markdown",
      "source": [
        "### Using in as logical operator"
      ],
      "metadata": {
        "id": "dNeeoJe8iJjY"
      }
    },
    {
      "cell_type": "code",
      "source": [
        "fruit = 'banana'"
      ],
      "metadata": {
        "id": "uXJwoG6ciGeA"
      },
      "execution_count": null,
      "outputs": []
    },
    {
      "cell_type": "code",
      "source": [
        "'n' in fruit"
      ],
      "metadata": {
        "colab": {
          "base_uri": "https://localhost:8080/"
        },
        "id": "PCVG4INEiPeZ",
        "outputId": "807afe56-f1da-4e6c-b218-7998658e1171"
      },
      "execution_count": null,
      "outputs": [
        {
          "output_type": "execute_result",
          "data": {
            "text/plain": [
              "True"
            ]
          },
          "metadata": {},
          "execution_count": 77
        }
      ]
    },
    {
      "cell_type": "code",
      "source": [
        "'m' in fruit"
      ],
      "metadata": {
        "colab": {
          "base_uri": "https://localhost:8080/"
        },
        "id": "p9ZdCJrhiR_d",
        "outputId": "52bc7a82-801b-4c9d-f0bf-967593c3ce7a"
      },
      "execution_count": null,
      "outputs": [
        {
          "output_type": "execute_result",
          "data": {
            "text/plain": [
              "False"
            ]
          },
          "metadata": {},
          "execution_count": 78
        }
      ]
    },
    {
      "cell_type": "code",
      "source": [
        "'nan' in fruit"
      ],
      "metadata": {
        "colab": {
          "base_uri": "https://localhost:8080/"
        },
        "id": "0kgwb1bAiT8c",
        "outputId": "e9870924-64a3-4852-f3fe-d2a3aa6084ee"
      },
      "execution_count": null,
      "outputs": [
        {
          "output_type": "execute_result",
          "data": {
            "text/plain": [
              "True"
            ]
          },
          "metadata": {},
          "execution_count": 79
        }
      ]
    },
    {
      "cell_type": "code",
      "source": [
        "if 'a'in fruit:\n",
        "  print('Found it')"
      ],
      "metadata": {
        "colab": {
          "base_uri": "https://localhost:8080/"
        },
        "id": "_zkDU5f1iaxa",
        "outputId": "bbd8253d-b4cb-4a5b-9d5f-50a7cc05e7f2"
      },
      "execution_count": null,
      "outputs": [
        {
          "output_type": "stream",
          "name": "stdout",
          "text": [
            "Found it\n"
          ]
        }
      ]
    },
    {
      "cell_type": "markdown",
      "source": [
        "### String library"
      ],
      "metadata": {
        "id": "VmO1fVV5iqRO"
      }
    },
    {
      "cell_type": "code",
      "source": [
        "greet = 'Hello Abhishek Narayanaswamy'"
      ],
      "metadata": {
        "id": "_vDeQfXeifMf"
      },
      "execution_count": null,
      "outputs": []
    },
    {
      "cell_type": "code",
      "source": [
        "zap = greet.lower()"
      ],
      "metadata": {
        "id": "tqT0_zB0jDuy"
      },
      "execution_count": null,
      "outputs": []
    },
    {
      "cell_type": "code",
      "source": [
        "print(zap)"
      ],
      "metadata": {
        "colab": {
          "base_uri": "https://localhost:8080/"
        },
        "id": "lvS11-DmjKml",
        "outputId": "a86d3015-abff-4f36-d73b-d888f54e50c4"
      },
      "execution_count": null,
      "outputs": [
        {
          "output_type": "stream",
          "name": "stdout",
          "text": [
            "hello abhishek narayanaswamy\n"
          ]
        }
      ]
    },
    {
      "cell_type": "code",
      "source": [
        "print(greet)"
      ],
      "metadata": {
        "colab": {
          "base_uri": "https://localhost:8080/"
        },
        "id": "KVvGUevajNN2",
        "outputId": "8b4a5eae-9526-4886-edf1-703905a59959"
      },
      "execution_count": null,
      "outputs": [
        {
          "output_type": "stream",
          "name": "stdout",
          "text": [
            "Hello Abhishek Narayanaswamy\n"
          ]
        }
      ]
    },
    {
      "cell_type": "code",
      "source": [
        "print('Hi There'.lower())"
      ],
      "metadata": {
        "colab": {
          "base_uri": "https://localhost:8080/"
        },
        "id": "1J_fCMejjRWI",
        "outputId": "a49ef3df-6f8b-45c6-b60f-04b5e5dc10ca"
      },
      "execution_count": null,
      "outputs": [
        {
          "output_type": "stream",
          "name": "stdout",
          "text": [
            "hi there\n"
          ]
        }
      ]
    },
    {
      "cell_type": "code",
      "source": [
        "stuff = 'Hello World'"
      ],
      "metadata": {
        "id": "ryNDRP3pjZle"
      },
      "execution_count": null,
      "outputs": []
    },
    {
      "cell_type": "code",
      "source": [
        "type(stuff)"
      ],
      "metadata": {
        "colab": {
          "base_uri": "https://localhost:8080/"
        },
        "id": "ZDDgc2CGjeVG",
        "outputId": "00e1b182-ff73-48f2-a445-c9ea2f8d903e"
      },
      "execution_count": null,
      "outputs": [
        {
          "output_type": "execute_result",
          "data": {
            "text/plain": [
              "str"
            ]
          },
          "metadata": {},
          "execution_count": 88
        }
      ]
    },
    {
      "cell_type": "code",
      "source": [
        "print(dir(stuff))"
      ],
      "metadata": {
        "colab": {
          "base_uri": "https://localhost:8080/"
        },
        "id": "OCXpabVDjiOR",
        "outputId": "b5ec279e-4de0-4d7e-f1a1-5a45b4544546"
      },
      "execution_count": null,
      "outputs": [
        {
          "output_type": "stream",
          "name": "stdout",
          "text": [
            "['__add__', '__class__', '__contains__', '__delattr__', '__dir__', '__doc__', '__eq__', '__format__', '__ge__', '__getattribute__', '__getitem__', '__getnewargs__', '__gt__', '__hash__', '__init__', '__init_subclass__', '__iter__', '__le__', '__len__', '__lt__', '__mod__', '__mul__', '__ne__', '__new__', '__reduce__', '__reduce_ex__', '__repr__', '__rmod__', '__rmul__', '__setattr__', '__sizeof__', '__str__', '__subclasshook__', 'capitalize', 'casefold', 'center', 'count', 'encode', 'endswith', 'expandtabs', 'find', 'format', 'format_map', 'index', 'isalnum', 'isalpha', 'isascii', 'isdecimal', 'isdigit', 'isidentifier', 'islower', 'isnumeric', 'isprintable', 'isspace', 'istitle', 'isupper', 'join', 'ljust', 'lower', 'lstrip', 'maketrans', 'partition', 'removeprefix', 'removesuffix', 'replace', 'rfind', 'rindex', 'rjust', 'rpartition', 'rsplit', 'rstrip', 'split', 'splitlines', 'startswith', 'strip', 'swapcase', 'title', 'translate', 'upper', 'zfill']\n"
          ]
        }
      ]
    },
    {
      "cell_type": "markdown",
      "source": [
        "### Searching in a string"
      ],
      "metadata": {
        "id": "PVFwbxPJj1w_"
      }
    },
    {
      "cell_type": "code",
      "source": [
        "fruit = 'Banana'"
      ],
      "metadata": {
        "id": "kZ4ZdaIzjkWj"
      },
      "execution_count": null,
      "outputs": []
    },
    {
      "cell_type": "code",
      "source": [
        "pos = fruit.find('na')\n",
        "print(pos)"
      ],
      "metadata": {
        "colab": {
          "base_uri": "https://localhost:8080/"
        },
        "id": "AmElYSNzj6On",
        "outputId": "658acb09-f9dc-4994-de89-750e674d9b39"
      },
      "execution_count": null,
      "outputs": [
        {
          "output_type": "stream",
          "name": "stdout",
          "text": [
            "2\n"
          ]
        }
      ]
    },
    {
      "cell_type": "code",
      "source": [
        "aa = fruit.find('aa')\n",
        "print(aa)"
      ],
      "metadata": {
        "colab": {
          "base_uri": "https://localhost:8080/"
        },
        "id": "HcNZO6INj_tM",
        "outputId": "0938b4a1-131b-4f49-de70-8f8c923a414b"
      },
      "execution_count": null,
      "outputs": [
        {
          "output_type": "stream",
          "name": "stdout",
          "text": [
            "-1\n"
          ]
        }
      ]
    },
    {
      "cell_type": "markdown",
      "source": [
        "### Making everything uppercase"
      ],
      "metadata": {
        "id": "BK8p6uXMkPkI"
      }
    },
    {
      "cell_type": "code",
      "source": [
        "greet = 'Hello Abhishek Narayanaswamy'"
      ],
      "metadata": {
        "id": "YasgsiKqkPDr"
      },
      "execution_count": null,
      "outputs": []
    },
    {
      "cell_type": "code",
      "source": [
        "nnn = greet.upper()\n",
        "print(nnn)"
      ],
      "metadata": {
        "colab": {
          "base_uri": "https://localhost:8080/"
        },
        "id": "8W_fmakYkIiy",
        "outputId": "405a1a2f-460f-42aa-e250-f5775e0b06ec"
      },
      "execution_count": null,
      "outputs": [
        {
          "output_type": "stream",
          "name": "stdout",
          "text": [
            "HELLO ABHISHEK NARAYANASWAMY\n"
          ]
        }
      ]
    },
    {
      "cell_type": "code",
      "source": [
        "www = greet.lower()\n",
        "print(www)"
      ],
      "metadata": {
        "colab": {
          "base_uri": "https://localhost:8080/"
        },
        "id": "RUryH-53keg7",
        "outputId": "13926d38-fa24-4494-bd5b-cb807f9a9729"
      },
      "execution_count": null,
      "outputs": [
        {
          "output_type": "stream",
          "name": "stdout",
          "text": [
            "hello abhishek narayanaswamy\n"
          ]
        }
      ]
    },
    {
      "cell_type": "markdown",
      "source": [
        "### Search and replace"
      ],
      "metadata": {
        "id": "IlL-40gEkk_J"
      }
    },
    {
      "cell_type": "code",
      "source": [
        "greet = 'Hello Abhishek Narayanaswamy'\n",
        "ngreet = greet.replace('Abhishek Narayanaswamy','Ananya Panday')\n",
        "print(ngreet)"
      ],
      "metadata": {
        "colab": {
          "base_uri": "https://localhost:8080/"
        },
        "id": "Wj8N3VR5khMe",
        "outputId": "7297baff-e1d7-4cf3-c498-2882976ed7c1"
      },
      "execution_count": null,
      "outputs": [
        {
          "output_type": "stream",
          "name": "stdout",
          "text": [
            "Hello Ananya Panday\n"
          ]
        }
      ]
    },
    {
      "cell_type": "markdown",
      "source": [
        "### Stripping whitespace"
      ],
      "metadata": {
        "id": "qKulmTu3lJgY"
      }
    },
    {
      "cell_type": "code",
      "source": [
        "greet = ' Hello Abhishek Narayanaswamy '"
      ],
      "metadata": {
        "id": "rvNwHF5YlF-e"
      },
      "execution_count": null,
      "outputs": []
    },
    {
      "cell_type": "code",
      "source": [
        "greet.lstrip()"
      ],
      "metadata": {
        "colab": {
          "base_uri": "https://localhost:8080/",
          "height": 36
        },
        "id": "dC_qNPPvlQqi",
        "outputId": "d00e8f8d-4f87-412b-bdc4-bfe6aa33f3e4"
      },
      "execution_count": null,
      "outputs": [
        {
          "output_type": "execute_result",
          "data": {
            "text/plain": [
              "'Hello Abhishek Narayanaswamy '"
            ],
            "application/vnd.google.colaboratory.intrinsic+json": {
              "type": "string"
            }
          },
          "metadata": {},
          "execution_count": 100
        }
      ]
    },
    {
      "cell_type": "code",
      "source": [
        "greet.rstrip()"
      ],
      "metadata": {
        "colab": {
          "base_uri": "https://localhost:8080/",
          "height": 36
        },
        "id": "rcGhrwinlTfc",
        "outputId": "f0dee047-01a3-4294-d012-94289887a6c3"
      },
      "execution_count": null,
      "outputs": [
        {
          "output_type": "execute_result",
          "data": {
            "text/plain": [
              "' Hello Abhishek Narayanaswamy'"
            ],
            "application/vnd.google.colaboratory.intrinsic+json": {
              "type": "string"
            }
          },
          "metadata": {},
          "execution_count": 101
        }
      ]
    },
    {
      "cell_type": "code",
      "source": [
        "greet.strip()"
      ],
      "metadata": {
        "colab": {
          "base_uri": "https://localhost:8080/",
          "height": 36
        },
        "id": "bvg1AczZlWXT",
        "outputId": "6dfacee8-2324-4cbf-b184-84d442584d37"
      },
      "execution_count": null,
      "outputs": [
        {
          "output_type": "execute_result",
          "data": {
            "text/plain": [
              "'Hello Abhishek Narayanaswamy'"
            ],
            "application/vnd.google.colaboratory.intrinsic+json": {
              "type": "string"
            }
          },
          "metadata": {},
          "execution_count": 102
        }
      ]
    },
    {
      "cell_type": "markdown",
      "source": [
        "###Prefixes"
      ],
      "metadata": {
        "id": "LKhH-Uxolbb_"
      }
    },
    {
      "cell_type": "code",
      "source": [
        "line = 'Please have a nice day'\n",
        "line.startswith('Please')"
      ],
      "metadata": {
        "colab": {
          "base_uri": "https://localhost:8080/"
        },
        "id": "yAHzjY9ylZAo",
        "outputId": "2dada348-e05d-4f6f-a7e9-0e13c8b4c6de"
      },
      "execution_count": null,
      "outputs": [
        {
          "output_type": "execute_result",
          "data": {
            "text/plain": [
              "True"
            ]
          },
          "metadata": {},
          "execution_count": 103
        }
      ]
    },
    {
      "cell_type": "code",
      "source": [
        "line.startswith('p')"
      ],
      "metadata": {
        "colab": {
          "base_uri": "https://localhost:8080/"
        },
        "id": "7KNdCcBElpbj",
        "outputId": "d7dece9f-765d-47ab-ec11-1b7cab86da01"
      },
      "execution_count": null,
      "outputs": [
        {
          "output_type": "execute_result",
          "data": {
            "text/plain": [
              "False"
            ]
          },
          "metadata": {},
          "execution_count": 104
        }
      ]
    },
    {
      "cell_type": "markdown",
      "source": [
        "### Parsing and extracting"
      ],
      "metadata": {
        "id": "OErH-Yg9lun5"
      }
    },
    {
      "cell_type": "code",
      "source": [
        "data = 'From stephen.marquard@uct.ac.za Sat Jan  5 09:14:16 2008'"
      ],
      "metadata": {
        "id": "nCpukuTylrzX"
      },
      "execution_count": null,
      "outputs": []
    },
    {
      "cell_type": "code",
      "source": [
        "atpos = data.find('@')\n",
        "print(atpos)"
      ],
      "metadata": {
        "colab": {
          "base_uri": "https://localhost:8080/"
        },
        "id": "7bA8LI6MmMaG",
        "outputId": "15d0dff1-4e63-4fbe-e9c4-4c9a38d291f6"
      },
      "execution_count": null,
      "outputs": [
        {
          "output_type": "stream",
          "name": "stdout",
          "text": [
            "21\n"
          ]
        }
      ]
    },
    {
      "cell_type": "code",
      "source": [
        "Sppos = data.find(' ',atpos)\n",
        "print(Sppos)"
      ],
      "metadata": {
        "colab": {
          "base_uri": "https://localhost:8080/"
        },
        "id": "2I4KVx-NmRtA",
        "outputId": "f3424bcd-06af-40c3-84a9-3c5380d90119"
      },
      "execution_count": null,
      "outputs": [
        {
          "output_type": "stream",
          "name": "stdout",
          "text": [
            "31\n"
          ]
        }
      ]
    },
    {
      "cell_type": "code",
      "source": [
        "host = data[atpos+1 : Sppos]\n",
        "print(host)"
      ],
      "metadata": {
        "colab": {
          "base_uri": "https://localhost:8080/"
        },
        "id": "grFxAeCEmgi0",
        "outputId": "266aecf6-db3c-4113-ecc9-1ee918831080"
      },
      "execution_count": null,
      "outputs": [
        {
          "output_type": "stream",
          "name": "stdout",
          "text": [
            "uct.ac.za\n"
          ]
        }
      ]
    },
    {
      "cell_type": "markdown",
      "source": [
        "##Exercise 1\n",
        "\n",
        "* Write a while loop that starts at the last character in the string and works its way backwards to the first character in the string, printing each letter on a separate line, except backwards."
      ],
      "metadata": {
        "id": "uOL5RKVTpLhR"
      }
    },
    {
      "cell_type": "code",
      "source": [
        "fruit = 'banana'\n",
        "index = len(fruit)-1\n",
        "while index >=0:\n",
        "    letter = fruit[index]\n",
        "    print(letter)\n",
        "    index=index-1"
      ],
      "metadata": {
        "colab": {
          "base_uri": "https://localhost:8080/"
        },
        "id": "Td2ePRddmn_3",
        "outputId": "96ef57d6-896e-453d-bda3-65cebaa7d4d6"
      },
      "execution_count": null,
      "outputs": [
        {
          "output_type": "stream",
          "name": "stdout",
          "text": [
            "a\n",
            "n\n",
            "a\n",
            "n\n",
            "a\n",
            "b\n"
          ]
        }
      ]
    },
    {
      "cell_type": "markdown",
      "source": [
        "##Exercise 2\n",
        "* Given that fruit is a string, what does fruit[:] mean?"
      ],
      "metadata": {
        "id": "BnObz262pq19"
      }
    },
    {
      "cell_type": "code",
      "source": [
        "fruit = 'banana'\n",
        "print(fruit[:])"
      ],
      "metadata": {
        "colab": {
          "base_uri": "https://localhost:8080/"
        },
        "id": "nX46MFVjpo8T",
        "outputId": "67ddfcc4-a6e4-483c-fac6-0c518475dc13"
      },
      "execution_count": null,
      "outputs": [
        {
          "output_type": "stream",
          "name": "stdout",
          "text": [
            "banana\n"
          ]
        }
      ]
    },
    {
      "cell_type": "markdown",
      "source": [
        "##Exercise 3\n",
        "\n",
        "* Encapsulate this code in a function named count, and generalize it so that it accepts the string and the letter as arguments."
      ],
      "metadata": {
        "id": "XjhGPyTsp1iV"
      }
    },
    {
      "cell_type": "code",
      "source": [
        "def Count(string, character):\n",
        "  word = string\n",
        "  count = 0\n",
        "  for letter in word:\n",
        "      if letter == character:\n",
        "          count = count + 1\n",
        "  print(count)"
      ],
      "metadata": {
        "id": "FtTxpoiApv6e"
      },
      "execution_count": null,
      "outputs": []
    },
    {
      "cell_type": "code",
      "source": [
        "Count('Abhihsek Narayanaswamy', 'a')"
      ],
      "metadata": {
        "colab": {
          "base_uri": "https://localhost:8080/"
        },
        "id": "Bb2deC2XqAYD",
        "outputId": "64a0176e-eb30-423f-f665-a95e63416a1f"
      },
      "execution_count": null,
      "outputs": [
        {
          "output_type": "stream",
          "name": "stdout",
          "text": [
            "5\n"
          ]
        }
      ]
    },
    {
      "cell_type": "markdown",
      "source": [
        "##Exercise 4\n",
        "\n",
        "* There is a string method called count that is similar to the function in the previous exercise. Read the documentation of this method at:\n",
        "https://docs.python.org/library/stdtypes.html#string-methods\n",
        "Write an invocation that counts the number of times the letter a occurs in “banana”."
      ],
      "metadata": {
        "id": "b6QSz3qCqOGI"
      }
    },
    {
      "cell_type": "code",
      "source": [
        "fruit = 'banana'\n",
        "c = fruit.count('a')\n",
        "print(c)"
      ],
      "metadata": {
        "colab": {
          "base_uri": "https://localhost:8080/"
        },
        "id": "QYiAx7QRqG3Q",
        "outputId": "9e0bde3e-6b6e-4dbd-e5b7-ac270f9741b1"
      },
      "execution_count": null,
      "outputs": [
        {
          "output_type": "stream",
          "name": "stdout",
          "text": [
            "3\n"
          ]
        }
      ]
    },
    {
      "cell_type": "markdown",
      "source": [
        "## Exercise 5\n",
        "* Write code using find() and string slicing (see section 6.10) to extract the number at the end of the line below. Convert the extracted value to a floating point number and print it out."
      ],
      "metadata": {
        "id": "TDkpAmKFqcTx"
      }
    },
    {
      "cell_type": "code",
      "source": [
        "str = 'X-DSPAM-Confidence: 0.8475'\n",
        "x = str.find(':')\n",
        "print(x)"
      ],
      "metadata": {
        "colab": {
          "base_uri": "https://localhost:8080/"
        },
        "id": "BLkIAhwqqaem",
        "outputId": "3ed2e108-c459-4f08-af5e-3dad374d90ea"
      },
      "execution_count": null,
      "outputs": [
        {
          "output_type": "stream",
          "name": "stdout",
          "text": [
            "18\n"
          ]
        }
      ]
    },
    {
      "cell_type": "code",
      "source": [
        "val = str[x+1:]\n",
        "print('Before')\n",
        "print(val)"
      ],
      "metadata": {
        "colab": {
          "base_uri": "https://localhost:8080/"
        },
        "id": "GrhX9Kr7rinl",
        "outputId": "0857495c-0b4a-45d1-c1cc-4d3e4e7255c8"
      },
      "execution_count": null,
      "outputs": [
        {
          "output_type": "stream",
          "name": "stdout",
          "text": [
            "Before\n",
            " 0.8475\n"
          ]
        }
      ]
    },
    {
      "cell_type": "code",
      "source": [
        "print(type(val))"
      ],
      "metadata": {
        "colab": {
          "base_uri": "https://localhost:8080/"
        },
        "id": "3Ii_sAZ4rmBp",
        "outputId": "02f76eaa-d84f-4952-ea1a-dbf63cb06611"
      },
      "execution_count": null,
      "outputs": [
        {
          "output_type": "stream",
          "name": "stdout",
          "text": [
            "<class 'str'>\n"
          ]
        }
      ]
    },
    {
      "cell_type": "code",
      "source": [
        "val = float(val)\n",
        "print('After')\n",
        "print(val)\n",
        "print(type(val))"
      ],
      "metadata": {
        "colab": {
          "base_uri": "https://localhost:8080/"
        },
        "id": "QPUVaBfKrpVq",
        "outputId": "b3622d86-9a46-47e3-ec9a-9798295a8495"
      },
      "execution_count": null,
      "outputs": [
        {
          "output_type": "stream",
          "name": "stdout",
          "text": [
            "After\n",
            "0.8475\n",
            "<class 'float'>\n"
          ]
        }
      ]
    },
    {
      "cell_type": "markdown",
      "source": [
        "## Exercise 6\n",
        "* Read the documentation of the string methods at https://docs.python.org/library/stdtypes.html#string-methods.\n",
        "You might want to experiment with some of them to make sure you understand how they work. strip and replace are particularly useful."
      ],
      "metadata": {
        "id": "OVtaNYCFr3tB"
      }
    },
    {
      "cell_type": "code",
      "source": [
        "string = 'hello world!!!'"
      ],
      "metadata": {
        "id": "FiLRik67ruFj"
      },
      "execution_count": null,
      "outputs": []
    },
    {
      "cell_type": "code",
      "source": [
        "#capitalize: Return a copy of the string with its first character capitalized and the rest lowercased.\n",
        "print(string.capitalize())"
      ],
      "metadata": {
        "colab": {
          "base_uri": "https://localhost:8080/"
        },
        "id": "vC75dm-6r9QM",
        "outputId": "da170399-74a5-467e-b0d5-b259a8dd4f9a"
      },
      "execution_count": null,
      "outputs": [
        {
          "output_type": "stream",
          "name": "stdout",
          "text": [
            "Hello world!!!\n"
          ]
        }
      ]
    },
    {
      "cell_type": "code",
      "source": [
        "#casefold: Return a casefolded copy of the string. Casefolded strings may be used for caseless matching.\n",
        "print(string.casefold())"
      ],
      "metadata": {
        "colab": {
          "base_uri": "https://localhost:8080/"
        },
        "id": "kNh1z7Kbr_dN",
        "outputId": "bf8f8fa1-dbad-4c8c-c326-98fad000bcef"
      },
      "execution_count": null,
      "outputs": [
        {
          "output_type": "stream",
          "name": "stdout",
          "text": [
            "hello world!!!\n"
          ]
        }
      ]
    },
    {
      "cell_type": "code",
      "source": [
        "print(string.center(25, \"$\"))"
      ],
      "metadata": {
        "colab": {
          "base_uri": "https://localhost:8080/"
        },
        "id": "uXEEHufdsCFt",
        "outputId": "870d087d-d496-4be8-ea45-cfeec5672bb0"
      },
      "execution_count": null,
      "outputs": [
        {
          "output_type": "stream",
          "name": "stdout",
          "text": [
            "$$$$$$hello world!!!$$$$$\n"
          ]
        }
      ]
    },
    {
      "cell_type": "code",
      "source": [
        "print(string.endswith('!!!'))"
      ],
      "metadata": {
        "colab": {
          "base_uri": "https://localhost:8080/"
        },
        "id": "eA9gPEeksF87",
        "outputId": "55a842c0-4dbb-49fc-8092-51bc7e5e4993"
      },
      "execution_count": null,
      "outputs": [
        {
          "output_type": "stream",
          "name": "stdout",
          "text": [
            "True\n"
          ]
        }
      ]
    },
    {
      "cell_type": "code",
      "source": [
        "print('01\\t012\\t0123\\t01234'.expandtabs(tabsize=8))"
      ],
      "metadata": {
        "colab": {
          "base_uri": "https://localhost:8080/"
        },
        "id": "FIzWJJndsOv-",
        "outputId": "b75acece-52b3-4a4f-8654-91ecf9d7588a"
      },
      "execution_count": null,
      "outputs": [
        {
          "output_type": "stream",
          "name": "stdout",
          "text": [
            "01      012     0123    01234\n"
          ]
        }
      ]
    },
    {
      "cell_type": "code",
      "source": [],
      "metadata": {
        "id": "imfWX14_sUz3"
      },
      "execution_count": null,
      "outputs": []
    }
  ]
}