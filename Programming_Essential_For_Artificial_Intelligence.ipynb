{
  "nbformat": 4,
  "nbformat_minor": 0,
  "metadata": {
    "colab": {
      "provenance": [],
      "authorship_tag": "ABX9TyOd8h6+CIZ0E8lhWie16O8O",
      "include_colab_link": true
    },
    "kernelspec": {
      "name": "python3",
      "display_name": "Python 3"
    },
    "language_info": {
      "name": "python"
    }
  },
  "cells": [
    {
      "cell_type": "markdown",
      "metadata": {
        "id": "view-in-github",
        "colab_type": "text"
      },
      "source": [
        "<a href=\"https://colab.research.google.com/github/abhishek-narayanaswamy-gowda/Google_Colab_-MSc_AI_Programming_Essential_for_AI/blob/main/Programming_Essential_For_Artificial_Intelligence.ipynb\" target=\"_parent\"><img src=\"https://colab.research.google.com/assets/colab-badge.svg\" alt=\"Open In Colab\"/></a>"
      ]
    },
    {
      "cell_type": "code",
      "source": [
        "# Magic command to print data without print\n",
        "from IPython.core.interactiveshell import InteractiveShell\n",
        "InteractiveShell.ast_node_interactivity = \"all\""
      ],
      "metadata": {
        "id": "ScgcKIY14pCa"
      },
      "execution_count": null,
      "outputs": []
    },
    {
      "cell_type": "markdown",
      "source": [
        "#INTRODUCTION\n"
      ],
      "metadata": {
        "id": "LzFYQAS2EeKV"
      }
    },
    {
      "cell_type": "markdown",
      "source": [
        "##Sequential Steps\n"
      ],
      "metadata": {
        "id": "1vWRRdP94ih8"
      }
    },
    {
      "cell_type": "code",
      "execution_count": null,
      "metadata": {
        "id": "On29WH6TWxuR"
      },
      "outputs": [],
      "source": [
        "x=2"
      ]
    },
    {
      "cell_type": "code",
      "source": [
        "print(x)"
      ],
      "metadata": {
        "colab": {
          "base_uri": "https://localhost:8080/"
        },
        "id": "Dktpg6uG588o",
        "outputId": "60da5d67-f800-4125-f934-f0e2ff9424a0"
      },
      "execution_count": null,
      "outputs": [
        {
          "output_type": "stream",
          "name": "stdout",
          "text": [
            "2\n"
          ]
        }
      ]
    },
    {
      "cell_type": "code",
      "source": [
        "x=x+2"
      ],
      "metadata": {
        "id": "jvSVgjID5-VE"
      },
      "execution_count": null,
      "outputs": []
    },
    {
      "cell_type": "code",
      "source": [
        "print(x)"
      ],
      "metadata": {
        "colab": {
          "base_uri": "https://localhost:8080/"
        },
        "id": "CEkajNF86BhW",
        "outputId": "952371ab-261f-451d-d286-402639fe5d37"
      },
      "execution_count": null,
      "outputs": [
        {
          "output_type": "stream",
          "name": "stdout",
          "text": [
            "4\n"
          ]
        }
      ]
    },
    {
      "cell_type": "markdown",
      "source": [
        "##Conditional Steps"
      ],
      "metadata": {
        "id": "ZS6TWZbL6ImQ"
      }
    },
    {
      "cell_type": "code",
      "source": [
        "x=5\n",
        "if x<10:\n",
        "  print('Smaller')\n",
        "if x>20:\n",
        "  print('Bigger')\n",
        "print('Finis')"
      ],
      "metadata": {
        "colab": {
          "base_uri": "https://localhost:8080/"
        },
        "id": "dGGwbbA86DcD",
        "outputId": "41c53158-82eb-4ef9-e2bb-50a59cc9cd35"
      },
      "execution_count": null,
      "outputs": [
        {
          "output_type": "stream",
          "name": "stdout",
          "text": [
            "Smaller\n",
            "Finis\n"
          ]
        }
      ]
    },
    {
      "cell_type": "markdown",
      "source": [
        "##Repeated Steps"
      ],
      "metadata": {
        "id": "I0kpv1YN6gOu"
      }
    },
    {
      "cell_type": "code",
      "source": [
        "n=5\n",
        "while n>0:\n",
        "  print(n)\n",
        "  n=n-1\n",
        "print('Blast off!')"
      ],
      "metadata": {
        "colab": {
          "base_uri": "https://localhost:8080/"
        },
        "id": "AX6YeqvB6c5O",
        "outputId": "3b8c502f-78a8-4dc2-e47c-2ba76edcf847"
      },
      "execution_count": null,
      "outputs": [
        {
          "output_type": "stream",
          "name": "stdout",
          "text": [
            "5\n",
            "4\n",
            "3\n",
            "2\n",
            "1\n",
            "Blast off!\n"
          ]
        }
      ]
    },
    {
      "cell_type": "markdown",
      "source": [
        "#"
      ],
      "metadata": {
        "id": "xYGrm4Gd735b"
      }
    },
    {
      "cell_type": "markdown",
      "source": [
        "Write a program that uses a print function to say 'hello world' as shown in 'Desired Output'."
      ],
      "metadata": {
        "id": "AF3qKM2LEJOt"
      }
    },
    {
      "cell_type": "code",
      "source": [
        "# First program\n",
        "\n",
        "print('hello world')"
      ],
      "metadata": {
        "colab": {
          "base_uri": "https://localhost:8080/"
        },
        "id": "dEMaa3Rq67Bf",
        "outputId": "d14488fd-1a5d-4a34-99a8-7355c730e505"
      },
      "execution_count": null,
      "outputs": [
        {
          "output_type": "stream",
          "name": "stdout",
          "text": [
            "hello world\n"
          ]
        }
      ]
    },
    {
      "cell_type": "markdown",
      "source": [
        "# CHAPTER 2: VARIABLES, EXPRESSIONS AND STATEMENTS"
      ],
      "metadata": {
        "id": "1SW3J2Q-E-TE"
      }
    },
    {
      "cell_type": "markdown",
      "source": [
        "##Constants"
      ],
      "metadata": {
        "id": "OI1Ds531G0jT"
      }
    },
    {
      "cell_type": "code",
      "source": [
        "print(123)"
      ],
      "metadata": {
        "id": "p_t13skhFKB1",
        "colab": {
          "base_uri": "https://localhost:8080/"
        },
        "outputId": "4c39a5ae-89d0-4521-b5bd-a69c1a4564d4"
      },
      "execution_count": null,
      "outputs": [
        {
          "output_type": "stream",
          "name": "stdout",
          "text": [
            "123\n"
          ]
        }
      ]
    },
    {
      "cell_type": "code",
      "source": [
        "print(98.6)"
      ],
      "metadata": {
        "colab": {
          "base_uri": "https://localhost:8080/"
        },
        "id": "eFsOM815HIy4",
        "outputId": "ce118543-d3ff-415f-f248-2448a97ea828"
      },
      "execution_count": null,
      "outputs": [
        {
          "output_type": "stream",
          "name": "stdout",
          "text": [
            "98.6\n"
          ]
        }
      ]
    },
    {
      "cell_type": "code",
      "source": [
        "print('Hello World!')"
      ],
      "metadata": {
        "colab": {
          "base_uri": "https://localhost:8080/"
        },
        "id": "Pz_EFcEDHOS7",
        "outputId": "a1a42aac-ca9b-4a8c-ceb1-decbe62ade82"
      },
      "execution_count": null,
      "outputs": [
        {
          "output_type": "stream",
          "name": "stdout",
          "text": [
            "Hello World!\n"
          ]
        }
      ]
    },
    {
      "cell_type": "markdown",
      "source": [
        "##Variable"
      ],
      "metadata": {
        "id": "oAClS8UXJETx"
      }
    },
    {
      "cell_type": "code",
      "source": [
        "x=12.2"
      ],
      "metadata": {
        "id": "PKvS7AAmHWXB"
      },
      "execution_count": null,
      "outputs": []
    },
    {
      "cell_type": "code",
      "source": [
        "y=14"
      ],
      "metadata": {
        "id": "Py8GmkzeJJsh"
      },
      "execution_count": null,
      "outputs": []
    },
    {
      "cell_type": "code",
      "source": [
        "x=100"
      ],
      "metadata": {
        "id": "DQ2nhNC7JOpX"
      },
      "execution_count": null,
      "outputs": []
    },
    {
      "cell_type": "code",
      "source": [
        "print(x)"
      ],
      "metadata": {
        "colab": {
          "base_uri": "https://localhost:8080/"
        },
        "id": "TLDm54HDJP_f",
        "outputId": "5510b9f5-2c00-4908-d55c-d88c0ec29a3f"
      },
      "execution_count": null,
      "outputs": [
        {
          "output_type": "stream",
          "name": "stdout",
          "text": [
            "100\n"
          ]
        }
      ]
    },
    {
      "cell_type": "markdown",
      "source": [
        "##Sentences or Lines"
      ],
      "metadata": {
        "id": "o6tVi72GMl89"
      }
    },
    {
      "cell_type": "code",
      "source": [
        "#Assignment statement- we assign a value to a variable using assignment statement(=)\n",
        "x=2"
      ],
      "metadata": {
        "id": "30P3I1SjJRpx"
      },
      "execution_count": null,
      "outputs": []
    },
    {
      "cell_type": "code",
      "source": [
        "#Assignment statement with expression\n",
        "x=x+2"
      ],
      "metadata": {
        "id": "G5-Z2Hx4MyY5"
      },
      "execution_count": null,
      "outputs": []
    },
    {
      "cell_type": "code",
      "source": [
        "#print statement is function call with parenthsis\n",
        "print(x)"
      ],
      "metadata": {
        "colab": {
          "base_uri": "https://localhost:8080/"
        },
        "id": "SS-t3nyUM6PQ",
        "outputId": "10f4d3d4-9871-42d9-9113-0d8b57030ee7"
      },
      "execution_count": null,
      "outputs": [
        {
          "output_type": "stream",
          "name": "stdout",
          "text": [
            "4\n"
          ]
        }
      ]
    },
    {
      "cell_type": "markdown",
      "source": [
        "##Expressions"
      ],
      "metadata": {
        "id": "pgUoj3dvNnIj"
      }
    },
    {
      "cell_type": "code",
      "source": [
        "#Addition\n",
        "a=2\n",
        "a=a+2\n",
        "print(a)"
      ],
      "metadata": {
        "colab": {
          "base_uri": "https://localhost:8080/"
        },
        "id": "9gl-BU60M9Q8",
        "outputId": "2191f4ac-327e-4b04-9605-d94e7231a9fd"
      },
      "execution_count": null,
      "outputs": [
        {
          "output_type": "stream",
          "name": "stdout",
          "text": [
            "4\n"
          ]
        }
      ]
    },
    {
      "cell_type": "code",
      "source": [
        "#Subtraction\n",
        "s=2\n",
        "s=s-1\n",
        "print(s)"
      ],
      "metadata": {
        "colab": {
          "base_uri": "https://localhost:8080/"
        },
        "id": "wJI3Jt2APMvR",
        "outputId": "331e11a8-8b79-4753-f0ee-9fe163f556e7"
      },
      "execution_count": null,
      "outputs": [
        {
          "output_type": "stream",
          "name": "stdout",
          "text": [
            "1\n"
          ]
        }
      ]
    },
    {
      "cell_type": "code",
      "source": [
        "#multiplication\n",
        "m=440*12\n",
        "print(m)"
      ],
      "metadata": {
        "colab": {
          "base_uri": "https://localhost:8080/"
        },
        "id": "0pWg2VUTPZj_",
        "outputId": "963b2de6-1d12-4ba6-ff1e-54c20cd74805"
      },
      "execution_count": null,
      "outputs": [
        {
          "output_type": "stream",
          "name": "stdout",
          "text": [
            "5280\n"
          ]
        }
      ]
    },
    {
      "cell_type": "code",
      "source": [
        "#division\n",
        "d=m/10\n",
        "print(d)"
      ],
      "metadata": {
        "colab": {
          "base_uri": "https://localhost:8080/"
        },
        "id": "09r3P8UZPji4",
        "outputId": "12c30f1a-9021-402a-c579-d39677975a2c"
      },
      "execution_count": null,
      "outputs": [
        {
          "output_type": "stream",
          "name": "stdout",
          "text": [
            "528.0\n"
          ]
        }
      ]
    },
    {
      "cell_type": "code",
      "source": [
        "#modulus\n",
        "mo=23\n",
        "mod=mo%5\n",
        "print(mod)"
      ],
      "metadata": {
        "colab": {
          "base_uri": "https://localhost:8080/"
        },
        "id": "eYrPtbQ6Pwg3",
        "outputId": "157aa43f-3137-45ea-fabc-65943cea61d5"
      },
      "execution_count": null,
      "outputs": [
        {
          "output_type": "stream",
          "name": "stdout",
          "text": [
            "3\n"
          ]
        }
      ]
    },
    {
      "cell_type": "markdown",
      "source": [
        "##Type -- Different types of Data Type"
      ],
      "metadata": {
        "id": "IGwCXWcTR0jV"
      }
    },
    {
      "cell_type": "code",
      "source": [
        "#Integer\n",
        "i=42\n",
        "type(i)"
      ],
      "metadata": {
        "colab": {
          "base_uri": "https://localhost:8080/"
        },
        "id": "BqN_W5FsP9To",
        "outputId": "fbb2237b-acd9-468d-acd4-b4950c75ffdc"
      },
      "execution_count": null,
      "outputs": [
        {
          "output_type": "execute_result",
          "data": {
            "text/plain": [
              "int"
            ]
          },
          "metadata": {},
          "execution_count": 127
        }
      ]
    },
    {
      "cell_type": "code",
      "source": [
        "#String\n",
        "ss='Hello '\n",
        "SS='World!'\n",
        "s=ss+SS # here + concatenates the string\n",
        "print(s)\n",
        "type(s)"
      ],
      "metadata": {
        "colab": {
          "base_uri": "https://localhost:8080/"
        },
        "id": "GiPV_8VwSMyB",
        "outputId": "b6a07543-7f36-4e0a-a199-87ba8fa55bf1"
      },
      "execution_count": null,
      "outputs": [
        {
          "output_type": "stream",
          "name": "stdout",
          "text": [
            "Hello World!\n"
          ]
        },
        {
          "output_type": "execute_result",
          "data": {
            "text/plain": [
              "str"
            ]
          },
          "metadata": {},
          "execution_count": 128
        }
      ]
    },
    {
      "cell_type": "code",
      "source": [
        "#Float\n",
        "f=1.23\n",
        "type(f)"
      ],
      "metadata": {
        "colab": {
          "base_uri": "https://localhost:8080/"
        },
        "id": "p9OQekh3Svtc",
        "outputId": "a383680e-18c3-47a7-9b8a-4492ea1ebe0e"
      },
      "execution_count": null,
      "outputs": [
        {
          "output_type": "execute_result",
          "data": {
            "text/plain": [
              "float"
            ]
          },
          "metadata": {},
          "execution_count": 129
        }
      ]
    },
    {
      "cell_type": "markdown",
      "source": [
        "##Type Converstion"
      ],
      "metadata": {
        "id": "dm3t9zgAdEZE"
      }
    },
    {
      "cell_type": "code",
      "source": [
        "#implicit conversion\n",
        "print(float(99)+100)"
      ],
      "metadata": {
        "colab": {
          "base_uri": "https://localhost:8080/"
        },
        "id": "7jfAOxFXTLWU",
        "outputId": "8df98efd-35ff-4950-e2ee-df38c7803383"
      },
      "execution_count": null,
      "outputs": [
        {
          "output_type": "stream",
          "name": "stdout",
          "text": [
            "199.0\n"
          ]
        }
      ]
    },
    {
      "cell_type": "code",
      "source": [
        "i=10"
      ],
      "metadata": {
        "id": "3Wa3-bncda81"
      },
      "execution_count": null,
      "outputs": []
    },
    {
      "cell_type": "code",
      "source": [
        "type(i)"
      ],
      "metadata": {
        "colab": {
          "base_uri": "https://localhost:8080/"
        },
        "id": "pc2UdFvPdfL0",
        "outputId": "4c28a8b6-a8e6-48d0-c304-873bbf5c0174"
      },
      "execution_count": null,
      "outputs": [
        {
          "output_type": "execute_result",
          "data": {
            "text/plain": [
              "int"
            ]
          },
          "metadata": {},
          "execution_count": 132
        }
      ]
    },
    {
      "cell_type": "code",
      "source": [
        "f=float(i)"
      ],
      "metadata": {
        "id": "cWZIQXU9dhHA"
      },
      "execution_count": null,
      "outputs": []
    },
    {
      "cell_type": "code",
      "source": [
        "print(f)"
      ],
      "metadata": {
        "colab": {
          "base_uri": "https://localhost:8080/"
        },
        "id": "5J5pvuNxdlU1",
        "outputId": "dcebd348-3659-4479-d989-b2d026d2f11b"
      },
      "execution_count": null,
      "outputs": [
        {
          "output_type": "stream",
          "name": "stdout",
          "text": [
            "10.0\n"
          ]
        }
      ]
    },
    {
      "cell_type": "code",
      "source": [
        "type(f)"
      ],
      "metadata": {
        "colab": {
          "base_uri": "https://localhost:8080/"
        },
        "id": "PG6ryOArdnx8",
        "outputId": "68082dbb-69c9-4070-9e5b-a03062bbdd29"
      },
      "execution_count": null,
      "outputs": [
        {
          "output_type": "execute_result",
          "data": {
            "text/plain": [
              "float"
            ]
          },
          "metadata": {},
          "execution_count": 135
        }
      ]
    },
    {
      "cell_type": "code",
      "source": [
        "print(type(f))"
      ],
      "metadata": {
        "colab": {
          "base_uri": "https://localhost:8080/"
        },
        "id": "MB66xjowduxm",
        "outputId": "3a20ce8c-8eb0-4041-def8-4f3810593d9a"
      },
      "execution_count": null,
      "outputs": [
        {
          "output_type": "stream",
          "name": "stdout",
          "text": [
            "<class 'float'>\n"
          ]
        }
      ]
    },
    {
      "cell_type": "markdown",
      "source": [
        "### Integer Division"
      ],
      "metadata": {
        "id": "6S6EVFudd7Aq"
      }
    },
    {
      "cell_type": "code",
      "source": [
        "print(10/2)"
      ],
      "metadata": {
        "colab": {
          "base_uri": "https://localhost:8080/"
        },
        "id": "WLa1A1sJdz4Z",
        "outputId": "2e68360b-88f7-47da-8112-01cde6bc1c8e"
      },
      "execution_count": null,
      "outputs": [
        {
          "output_type": "stream",
          "name": "stdout",
          "text": [
            "5.0\n"
          ]
        }
      ]
    },
    {
      "cell_type": "code",
      "source": [
        "print(9/2)"
      ],
      "metadata": {
        "colab": {
          "base_uri": "https://localhost:8080/"
        },
        "id": "H_fqh1WfeEaX",
        "outputId": "41f53e42-3b90-4756-b85e-b9cb72e1f4ff"
      },
      "execution_count": null,
      "outputs": [
        {
          "output_type": "stream",
          "name": "stdout",
          "text": [
            "4.5\n"
          ]
        }
      ]
    },
    {
      "cell_type": "code",
      "source": [
        "print(99/100)"
      ],
      "metadata": {
        "colab": {
          "base_uri": "https://localhost:8080/"
        },
        "id": "6_T8Cg9neGpM",
        "outputId": "6e585e08-0238-47e3-eae2-6e0accd0c503"
      },
      "execution_count": null,
      "outputs": [
        {
          "output_type": "stream",
          "name": "stdout",
          "text": [
            "0.99\n"
          ]
        }
      ]
    },
    {
      "cell_type": "code",
      "source": [
        "print(10.0/2.0)"
      ],
      "metadata": {
        "colab": {
          "base_uri": "https://localhost:8080/"
        },
        "id": "7jg4E2qxeJLg",
        "outputId": "c20d8fd1-f0e5-40f2-a493-a28b32c7d670"
      },
      "execution_count": null,
      "outputs": [
        {
          "output_type": "stream",
          "name": "stdout",
          "text": [
            "5.0\n"
          ]
        }
      ]
    },
    {
      "cell_type": "code",
      "source": [
        "print(99.0/100.0)"
      ],
      "metadata": {
        "colab": {
          "base_uri": "https://localhost:8080/"
        },
        "id": "7hrKwV1DeOOL",
        "outputId": "2559d893-e8dc-43fd-c258-c36066e751f4"
      },
      "execution_count": null,
      "outputs": [
        {
          "output_type": "stream",
          "name": "stdout",
          "text": [
            "0.99\n"
          ]
        }
      ]
    },
    {
      "cell_type": "markdown",
      "source": [
        "###String Convertions"
      ],
      "metadata": {
        "id": "-4voLwtfebw1"
      }
    },
    {
      "cell_type": "code",
      "source": [
        "sval='123'\n",
        "type(sval)"
      ],
      "metadata": {
        "colab": {
          "base_uri": "https://localhost:8080/"
        },
        "id": "O2XHMVNLeUtE",
        "outputId": "8f7aabc5-566d-4703-8708-e2f205579a9c"
      },
      "execution_count": null,
      "outputs": [
        {
          "output_type": "execute_result",
          "data": {
            "text/plain": [
              "str"
            ]
          },
          "metadata": {},
          "execution_count": 142
        }
      ]
    },
    {
      "cell_type": "code",
      "source": [
        "print(sval+1)"
      ],
      "metadata": {
        "colab": {
          "base_uri": "https://localhost:8080/",
          "height": 141
        },
        "id": "Jla9MBO6eiWf",
        "outputId": "8ecf60c0-2e87-4bb6-a529-c7743f42ef1b"
      },
      "execution_count": null,
      "outputs": [
        {
          "output_type": "error",
          "ename": "TypeError",
          "evalue": "can only concatenate str (not \"int\") to str",
          "traceback": [
            "\u001b[0;31m---------------------------------------------------------------------------\u001b[0m",
            "\u001b[0;31mTypeError\u001b[0m                                 Traceback (most recent call last)",
            "\u001b[0;32m<ipython-input-143-d31b14f87b22>\u001b[0m in \u001b[0;36m<cell line: 1>\u001b[0;34m()\u001b[0m\n\u001b[0;32m----> 1\u001b[0;31m \u001b[0mprint\u001b[0m\u001b[0;34m(\u001b[0m\u001b[0msval\u001b[0m\u001b[0;34m+\u001b[0m\u001b[0;36m1\u001b[0m\u001b[0;34m)\u001b[0m\u001b[0;34m\u001b[0m\u001b[0;34m\u001b[0m\u001b[0m\n\u001b[0m",
            "\u001b[0;31mTypeError\u001b[0m: can only concatenate str (not \"int\") to str"
          ]
        }
      ]
    },
    {
      "cell_type": "code",
      "source": [
        "ival=int(sval)"
      ],
      "metadata": {
        "id": "avmKFwHEelIt"
      },
      "execution_count": null,
      "outputs": []
    },
    {
      "cell_type": "code",
      "source": [
        "print(ival)"
      ],
      "metadata": {
        "colab": {
          "base_uri": "https://localhost:8080/"
        },
        "id": "cEDgd5T1euWR",
        "outputId": "d88edea7-6cf1-41d9-acec-516ab3058fef"
      },
      "execution_count": null,
      "outputs": [
        {
          "output_type": "stream",
          "name": "stdout",
          "text": [
            "123\n"
          ]
        }
      ]
    },
    {
      "cell_type": "code",
      "source": [
        "type(ival)"
      ],
      "metadata": {
        "colab": {
          "base_uri": "https://localhost:8080/"
        },
        "id": "EFaRdPkFexFk",
        "outputId": "88039b63-e4ef-4404-d77f-51aafa977f0e"
      },
      "execution_count": null,
      "outputs": [
        {
          "output_type": "execute_result",
          "data": {
            "text/plain": [
              "int"
            ]
          },
          "metadata": {},
          "execution_count": 146
        }
      ]
    },
    {
      "cell_type": "code",
      "source": [
        "print(ival+1)"
      ],
      "metadata": {
        "colab": {
          "base_uri": "https://localhost:8080/"
        },
        "id": "mwhz6btaezZn",
        "outputId": "97bc058b-5f40-4b95-df45-a2d44955dfe5"
      },
      "execution_count": null,
      "outputs": [
        {
          "output_type": "stream",
          "name": "stdout",
          "text": [
            "124\n"
          ]
        }
      ]
    },
    {
      "cell_type": "code",
      "source": [
        "nsv='hello bob'\n",
        "niv=int(nsv)"
      ],
      "metadata": {
        "colab": {
          "base_uri": "https://localhost:8080/",
          "height": 158
        },
        "id": "nA-KMBTCfCbD",
        "outputId": "a300e652-e7dd-4066-dff7-3ef9bd3c7686"
      },
      "execution_count": null,
      "outputs": [
        {
          "output_type": "error",
          "ename": "ValueError",
          "evalue": "invalid literal for int() with base 10: 'hello bob'",
          "traceback": [
            "\u001b[0;31m---------------------------------------------------------------------------\u001b[0m",
            "\u001b[0;31mValueError\u001b[0m                                Traceback (most recent call last)",
            "\u001b[0;32m<ipython-input-148-b5861b7660c3>\u001b[0m in \u001b[0;36m<cell line: 2>\u001b[0;34m()\u001b[0m\n\u001b[1;32m      1\u001b[0m \u001b[0mnsv\u001b[0m\u001b[0;34m=\u001b[0m\u001b[0;34m'hello bob'\u001b[0m\u001b[0;34m\u001b[0m\u001b[0;34m\u001b[0m\u001b[0m\n\u001b[0;32m----> 2\u001b[0;31m \u001b[0mniv\u001b[0m\u001b[0;34m=\u001b[0m\u001b[0mint\u001b[0m\u001b[0;34m(\u001b[0m\u001b[0mnsv\u001b[0m\u001b[0;34m)\u001b[0m\u001b[0;34m\u001b[0m\u001b[0;34m\u001b[0m\u001b[0m\n\u001b[0m",
            "\u001b[0;31mValueError\u001b[0m: invalid literal for int() with base 10: 'hello bob'"
          ]
        }
      ]
    },
    {
      "cell_type": "markdown",
      "source": [
        "##User input"
      ],
      "metadata": {
        "id": "-j-KXk8BfN88"
      }
    },
    {
      "cell_type": "code",
      "source": [
        "#We can instruct PYTHON to pause and read the DATA from the USER using the \"input()\" function\n",
        "#The input() returns a string\n",
        "\n",
        "name=input('Who are you? ')\n",
        "print('Welcome',name)"
      ],
      "metadata": {
        "colab": {
          "base_uri": "https://localhost:8080/"
        },
        "id": "-6XwkLpxfMCq",
        "outputId": "291516bf-6c42-4169-9e35-157a9d9e9d97"
      },
      "execution_count": null,
      "outputs": [
        {
          "output_type": "stream",
          "name": "stdout",
          "text": [
            "Who are you? Abhishek Narayanaswamy\n",
            "Welcome Abhishek Narayanaswamy\n"
          ]
        }
      ]
    },
    {
      "cell_type": "markdown",
      "source": [
        "###Converting USER input"
      ],
      "metadata": {
        "id": "rxFsFbxif-9O"
      }
    },
    {
      "cell_type": "code",
      "source": [
        "inp=input('Europe floor? ')\n",
        "usf=int(inp)+1\n",
        "print('United States floor', usf)"
      ],
      "metadata": {
        "colab": {
          "base_uri": "https://localhost:8080/"
        },
        "id": "oZpTlKTrf2IC",
        "outputId": "3fdbe733-d384-4d9d-e02d-a54d9377f1cd"
      },
      "execution_count": null,
      "outputs": [
        {
          "output_type": "stream",
          "name": "stdout",
          "text": [
            "Europe floor? 3\n",
            "United States floor 4\n"
          ]
        }
      ]
    },
    {
      "cell_type": "markdown",
      "source": [
        "##Comments"
      ],
      "metadata": {
        "id": "tc-pC9XsgjPY"
      }
    },
    {
      "cell_type": "code",
      "source": [
        "# Anything after a pound sign # is a comment\n",
        "'''\n",
        "This is a multi line comment\n",
        "'''\n"
      ],
      "metadata": {
        "colab": {
          "base_uri": "https://localhost:8080/",
          "height": 36
        },
        "id": "rwV54H0vgaxd",
        "outputId": "224be69d-f3a0-405d-ed44-e5addc7f1e01"
      },
      "execution_count": null,
      "outputs": [
        {
          "output_type": "execute_result",
          "data": {
            "text/plain": [
              "'\\nThis is a multi line comment\\n'"
            ],
            "application/vnd.google.colaboratory.intrinsic+json": {
              "type": "string"
            }
          },
          "metadata": {},
          "execution_count": 151
        }
      ]
    },
    {
      "cell_type": "markdown",
      "source": [
        "##Exercise 1\n",
        "\n",
        "*   Write a program to prompt the user for hours and rate per hour to compute gross pay.\n",
        "\n",
        "\n"
      ],
      "metadata": {
        "id": "BbzpaAJXhVAp"
      }
    },
    {
      "cell_type": "code",
      "source": [
        "hours=input('Enter hours: ')\n",
        "rate=input('Enter rate: ')\n",
        "pay = float(hours)*float(rate)\n",
        "print(\"Pay:\",pay)"
      ],
      "metadata": {
        "colab": {
          "base_uri": "https://localhost:8080/"
        },
        "id": "BYZyF27-hzZC",
        "outputId": "b0194223-5ee2-478d-cc78-82dad667f82b"
      },
      "execution_count": null,
      "outputs": [
        {
          "output_type": "stream",
          "name": "stdout",
          "text": [
            "Enter hours: 34\n",
            "Enter rate: 12.5\n",
            "Pay: 425.0\n"
          ]
        }
      ]
    },
    {
      "cell_type": "markdown",
      "source": [
        "##Exercise 2\n",
        "\n",
        "\n",
        "*   Write a program that uses input to prompt a user for their name and then welcomes them.\n",
        "\n"
      ],
      "metadata": {
        "id": "ItyND5c5mDp9"
      }
    },
    {
      "cell_type": "code",
      "source": [
        "nam=input('Enter your name: ')\n",
        "print('Hello', nam)"
      ],
      "metadata": {
        "colab": {
          "base_uri": "https://localhost:8080/"
        },
        "id": "98tPq5doiQIN",
        "outputId": "935237b7-55ee-4d8a-dfd8-91906e1e9a61"
      },
      "execution_count": null,
      "outputs": [
        {
          "output_type": "stream",
          "name": "stdout",
          "text": [
            "Enter your name: Abhishek Narayanaswamy\n",
            "Hello Abhishek Narayanaswamy\n"
          ]
        }
      ]
    },
    {
      "cell_type": "markdown",
      "source": [
        "##Exercise 3\n",
        "\n",
        "* Write a program to evaluate the following expressions."
      ],
      "metadata": {
        "id": "98aW8L82nAnU"
      }
    },
    {
      "cell_type": "code",
      "source": [
        "width=17\n",
        "height=12.0"
      ],
      "metadata": {
        "id": "VoPPqtIlmko9"
      },
      "execution_count": null,
      "outputs": []
    },
    {
      "cell_type": "code",
      "source": [
        "width//2"
      ],
      "metadata": {
        "colab": {
          "base_uri": "https://localhost:8080/"
        },
        "id": "OQsiiWZ-nY6X",
        "outputId": "7866dbf5-17f8-4098-e65b-d91e867f52aa"
      },
      "execution_count": null,
      "outputs": [
        {
          "output_type": "execute_result",
          "data": {
            "text/plain": [
              "8"
            ]
          },
          "metadata": {},
          "execution_count": 155
        }
      ]
    },
    {
      "cell_type": "code",
      "source": [
        "width/2.0"
      ],
      "metadata": {
        "colab": {
          "base_uri": "https://localhost:8080/"
        },
        "id": "YqjSTwXGndPs",
        "outputId": "9197d3ec-c6df-45d4-91fd-de0bdcfd8388"
      },
      "execution_count": null,
      "outputs": [
        {
          "output_type": "execute_result",
          "data": {
            "text/plain": [
              "8.5"
            ]
          },
          "metadata": {},
          "execution_count": 156
        }
      ]
    },
    {
      "cell_type": "code",
      "source": [
        "height/3"
      ],
      "metadata": {
        "colab": {
          "base_uri": "https://localhost:8080/"
        },
        "id": "LE2FTT-HniLM",
        "outputId": "a746c19e-9ad3-4973-840a-f3d45d53d776"
      },
      "execution_count": null,
      "outputs": [
        {
          "output_type": "execute_result",
          "data": {
            "text/plain": [
              "4.0"
            ]
          },
          "metadata": {},
          "execution_count": 157
        }
      ]
    },
    {
      "cell_type": "code",
      "source": [
        "1+2*5"
      ],
      "metadata": {
        "colab": {
          "base_uri": "https://localhost:8080/"
        },
        "id": "wJ13inc5nkXa",
        "outputId": "ca5e86c0-b7bb-4a16-94a7-da3b9b597770"
      },
      "execution_count": null,
      "outputs": [
        {
          "output_type": "execute_result",
          "data": {
            "text/plain": [
              "11"
            ]
          },
          "metadata": {},
          "execution_count": 158
        }
      ]
    },
    {
      "cell_type": "markdown",
      "source": [
        "##Exercise 5\n",
        "\n",
        "* Write a program which prompts the user for a celcius temperature, convert the temperature to fahrenhiet and print out the converted temperature."
      ],
      "metadata": {
        "id": "H2bP-zFGnphy"
      }
    },
    {
      "cell_type": "code",
      "source": [
        "cel=input('Enter the celcius temperature: ')\n",
        "fah=(float(cel)*9/5)+32\n",
        "print('The faherenheit temperature is:',fah)"
      ],
      "metadata": {
        "colab": {
          "base_uri": "https://localhost:8080/"
        },
        "id": "qUSJGtfYnnBG",
        "outputId": "f93b9088-99f3-434a-9278-399757aae9a3"
      },
      "execution_count": null,
      "outputs": [
        {
          "output_type": "stream",
          "name": "stdout",
          "text": [
            "Enter the celcius temperature: 20\n",
            "The faherenheit temperature is: 68.0\n"
          ]
        }
      ]
    },
    {
      "cell_type": "code",
      "source": [
        "x=int(98.6)\n",
        "print(x)"
      ],
      "metadata": {
        "colab": {
          "base_uri": "https://localhost:8080/"
        },
        "id": "Hvqryadct4Cn",
        "outputId": "07489851-7d3a-433f-db88-6b04770b5436"
      },
      "execution_count": null,
      "outputs": [
        {
          "output_type": "stream",
          "name": "stdout",
          "text": [
            "98\n"
          ]
        }
      ]
    },
    {
      "cell_type": "markdown",
      "source": [
        "# CHAPTER 3: Conditional Execution"
      ],
      "metadata": {
        "id": "ReWurpAVcnbl"
      }
    },
    {
      "cell_type": "markdown",
      "source": [
        "##Basic 'if' conditional"
      ],
      "metadata": {
        "id": "9e6kEV6Ectsv"
      }
    },
    {
      "cell_type": "code",
      "source": [
        "# Program to check if a number is greater or not.\n",
        "\n",
        "x=5\n",
        "if  x<10:\n",
        "  print('smaller')\n",
        "if  x>20:\n",
        "  print('bigger')\n",
        "print('Finish')"
      ],
      "metadata": {
        "id": "s49PaWgot_Bx",
        "colab": {
          "base_uri": "https://localhost:8080/"
        },
        "outputId": "c961eb7d-db90-45ed-e2bd-8bcbd8a1fd35"
      },
      "execution_count": null,
      "outputs": [
        {
          "output_type": "stream",
          "name": "stdout",
          "text": [
            "smaller\n",
            "Finish\n"
          ]
        }
      ]
    },
    {
      "cell_type": "markdown",
      "source": [
        "## Comparison operators\n",
        "\n",
        "\n",
        "\n",
        "*    '<' less than\n",
        "*    '<=' less than equal to\n",
        "*    '==' equal to\n",
        "*  '>' greater than\n",
        "*  '>=' greater than equal to\n",
        "\n",
        "Note: '=' is just an assignment operator.\n",
        "\n"
      ],
      "metadata": {
        "id": "ZAhOznoYdYKP"
      }
    },
    {
      "cell_type": "code",
      "source": [
        "x=5\n",
        "if x==5:\n",
        "  print('Equals 5')\n",
        "if x>4:\n",
        "  print('Greater than 4')\n",
        "if x>=5:\n",
        "  print('greater than or equal to 5')\n",
        "if x<6:print('less than 6')\n",
        "if x<=5:\n",
        "  print('less than or equal to 5')\n",
        "if x!=6:\n",
        "  print('not equal to 6')"
      ],
      "metadata": {
        "colab": {
          "base_uri": "https://localhost:8080/"
        },
        "id": "uHuZKdUGdV7p",
        "outputId": "40a462ad-4520-4813-fc7f-d3ac4f9731a9"
      },
      "execution_count": null,
      "outputs": [
        {
          "output_type": "stream",
          "name": "stdout",
          "text": [
            "Equals 5\n",
            "Greater than 4\n",
            "greater than or equal to 5\n",
            "less than 6\n",
            "less than or equal to 5\n",
            "not equal to 6\n"
          ]
        }
      ]
    },
    {
      "cell_type": "markdown",
      "source": [
        "## Indentation"
      ],
      "metadata": {
        "id": "w-myQmZMftnP"
      }
    },
    {
      "cell_type": "code",
      "source": [
        "x=5\n",
        "if x>2:\n",
        "  print('Bigger than 2')\n",
        "  print('still bigger')\n",
        "print('done with 2')\n",
        "\n",
        "for i in range(5):\n",
        "  print(i)\n",
        "  if i>2:\n",
        "    print('bigger than 2')\n",
        "  print('done with i',i)\n",
        "print('All done')"
      ],
      "metadata": {
        "colab": {
          "base_uri": "https://localhost:8080/"
        },
        "id": "Ja1MBoxoe6uC",
        "outputId": "8d69ebb6-4368-42a5-8929-ca080bf3a18a"
      },
      "execution_count": null,
      "outputs": [
        {
          "output_type": "stream",
          "name": "stdout",
          "text": [
            "Bigger than 2\n",
            "still bigger\n",
            "done with 2\n",
            "0\n",
            "done with i 0\n",
            "1\n",
            "done with i 1\n",
            "2\n",
            "done with i 2\n",
            "3\n",
            "bigger than 2\n",
            "done with i 3\n",
            "4\n",
            "bigger than 2\n",
            "done with i 4\n",
            "All done\n"
          ]
        }
      ]
    },
    {
      "cell_type": "markdown",
      "source": [
        "## Nested Decisions"
      ],
      "metadata": {
        "id": "ojiwkKlxhA7E"
      }
    },
    {
      "cell_type": "code",
      "source": [
        "x=42\n",
        "if x>1:\n",
        "  print('more than one')\n",
        "  if x<100:\n",
        "    print('less than 100')\n",
        "print('all done')"
      ],
      "metadata": {
        "colab": {
          "base_uri": "https://localhost:8080/"
        },
        "id": "9qN1oiQ9gTMm",
        "outputId": "e4910842-9d02-4025-f02a-63c1c4443a44"
      },
      "execution_count": null,
      "outputs": [
        {
          "output_type": "stream",
          "name": "stdout",
          "text": [
            "more than one\n",
            "less than 100\n",
            "all done\n"
          ]
        }
      ]
    },
    {
      "cell_type": "markdown",
      "source": [
        "## Two way decisions with else"
      ],
      "metadata": {
        "id": "XiaDRdtYh6Wr"
      }
    },
    {
      "cell_type": "code",
      "source": [
        "x=4\n",
        "if x>2:\n",
        "  print('bigger')\n",
        "else:\n",
        "  print('smaller')\n",
        "print('All done')"
      ],
      "metadata": {
        "colab": {
          "base_uri": "https://localhost:8080/"
        },
        "id": "FPf_3n8ohU6v",
        "outputId": "2b813a3f-6d38-4e15-9358-94731adf7096"
      },
      "execution_count": null,
      "outputs": [
        {
          "output_type": "stream",
          "name": "stdout",
          "text": [
            "bigger\n",
            "All done\n"
          ]
        }
      ]
    },
    {
      "cell_type": "markdown",
      "source": [
        "## Multi way"
      ],
      "metadata": {
        "id": "tnubeHlejCcV"
      }
    },
    {
      "cell_type": "code",
      "source": [
        "x=20\n",
        "if x<2:\n",
        "  print('small')\n",
        "elif x<10:\n",
        "  print('medium')\n",
        "else:\n",
        "  print('LARGE')\n",
        "print('All done')"
      ],
      "metadata": {
        "colab": {
          "base_uri": "https://localhost:8080/"
        },
        "id": "qO4FfKY5iNEr",
        "outputId": "76542933-d8a6-45fd-e592-00c3f150a8b5"
      },
      "execution_count": null,
      "outputs": [
        {
          "output_type": "stream",
          "name": "stdout",
          "text": [
            "LARGE\n",
            "All done\n"
          ]
        }
      ]
    },
    {
      "cell_type": "code",
      "source": [
        "if x<2:\n",
        "  print('small')\n",
        "elif x<10:\n",
        "  print('medium')\n",
        "elif x<20:\n",
        "  print('big')\n",
        "elif x<40:\n",
        "  print('large')\n",
        "elif x<100:\n",
        "  print('huge')\n",
        "else:\n",
        "  print('Ginormous')"
      ],
      "metadata": {
        "colab": {
          "base_uri": "https://localhost:8080/"
        },
        "id": "fMjnhQa5jXla",
        "outputId": "618c0b56-b1d6-463b-9e57-fffdd762d30c"
      },
      "execution_count": null,
      "outputs": [
        {
          "output_type": "stream",
          "name": "stdout",
          "text": [
            "large\n"
          ]
        }
      ]
    },
    {
      "cell_type": "markdown",
      "source": [
        "## The try and except structure"
      ],
      "metadata": {
        "id": "Rl7QzKCAqdSJ"
      }
    },
    {
      "cell_type": "code",
      "source": [
        "astr='Hello bob'\n",
        "try:\n",
        "  istr=int(astr)\n",
        "except:\n",
        "  istr=-1\n",
        "print('first',istr)\n",
        "\n",
        "astr='123'\n",
        "try:\n",
        "  istr=int(astr)\n",
        "except:\n",
        "  istr=-1\n",
        "print('second', istr)"
      ],
      "metadata": {
        "colab": {
          "base_uri": "https://localhost:8080/"
        },
        "id": "nA9eNJb-o8Lu",
        "outputId": "1c844ebd-5986-479e-ac0b-c160653edc47"
      },
      "execution_count": null,
      "outputs": [
        {
          "output_type": "stream",
          "name": "stdout",
          "text": [
            "first -1\n",
            "second 123\n"
          ]
        }
      ]
    },
    {
      "cell_type": "code",
      "source": [
        "astr = 'BOB'\n",
        "try:\n",
        "  print('Hello')\n",
        "  istr=int(astr)\n",
        "  print('There')\n",
        "except:\n",
        "  istr=-1\n",
        "\n",
        "print('done', istr)"
      ],
      "metadata": {
        "colab": {
          "base_uri": "https://localhost:8080/"
        },
        "id": "IA0gQX4ZrJ8P",
        "outputId": "61b955c3-0f34-49cd-de0c-6683772d0f61"
      },
      "execution_count": null,
      "outputs": [
        {
          "output_type": "stream",
          "name": "stdout",
          "text": [
            "Hello\n",
            "done -1\n"
          ]
        }
      ]
    },
    {
      "cell_type": "code",
      "source": [
        "#Sample try/except\n",
        "\n",
        "rawstr = input('Enter a number:')\n",
        "try:\n",
        "  ival=int(rawstr)\n",
        "except:\n",
        "  ival=-1\n",
        "\n",
        "if ival>0:\n",
        "  print('Nice work')\n",
        "else:\n",
        "  print('Not a number')"
      ],
      "metadata": {
        "colab": {
          "base_uri": "https://localhost:8080/"
        },
        "id": "Njq4yB_jricB",
        "outputId": "dcca84ae-2246-4530-c8ae-197977f0bd0d"
      },
      "execution_count": null,
      "outputs": [
        {
          "output_type": "stream",
          "name": "stdout",
          "text": [
            "Enter a number:12\n",
            "Nice work\n"
          ]
        }
      ]
    },
    {
      "cell_type": "code",
      "source": [
        "inp = input('Enter Fahrenheit Temperature:')\n",
        "try:\n",
        "    fahr = float(inp)\n",
        "    cel = (fahr - 32.0) * 5.0 / 9.0\n",
        "    print(cel)\n",
        "except:\n",
        "    print('Please enter a number')"
      ],
      "metadata": {
        "colab": {
          "base_uri": "https://localhost:8080/"
        },
        "id": "A-f8r8TTsGOI",
        "outputId": "bdb65a0d-aa0f-4700-df9a-7bbebb9d3d09"
      },
      "execution_count": null,
      "outputs": [
        {
          "output_type": "stream",
          "name": "stdout",
          "text": [
            "Enter Fahrenheit Temperature:21\n",
            "-6.111111111111111\n"
          ]
        }
      ]
    },
    {
      "cell_type": "markdown",
      "source": [
        "Progarm to distinguish between a company"
      ],
      "metadata": {
        "id": "nbRsgpHY22Og"
      }
    },
    {
      "cell_type": "code",
      "source": [
        "'''\n",
        "Sales of a company large medium and small\n",
        "'''\n",
        "x=input('Sales of a company')\n",
        "x=int(x)\n",
        "if x>1000000:\n",
        "  print('Large Company')\n",
        "elif x<=1000000 and x>=500000:\n",
        "  print(\"Medium Company\")\n",
        "else:\n",
        "  print('Small Company')"
      ],
      "metadata": {
        "colab": {
          "base_uri": "https://localhost:8080/"
        },
        "id": "yGyXoZYL2x5u",
        "outputId": "2a263340-7df6-436e-8be9-f86e10496752"
      },
      "execution_count": null,
      "outputs": [
        {
          "output_type": "stream",
          "name": "stdout",
          "text": [
            "Sales of a company197678557\n",
            "Large Company\n"
          ]
        }
      ]
    },
    {
      "cell_type": "markdown",
      "source": [
        "## Short circuit evaluation of logical expressions"
      ],
      "metadata": {
        "id": "mScfoJC_3LUr"
      }
    },
    {
      "cell_type": "code",
      "source": [
        "x = 6\n",
        "y = 2\n",
        "print(x >= 2 and (x/y) > 2) #prints TRUE and both the condition got satisfied"
      ],
      "metadata": {
        "colab": {
          "base_uri": "https://localhost:8080/"
        },
        "id": "45IZvelw3WYB",
        "outputId": "8fd28d74-17c9-4b64-8ea8-61a2118490e6"
      },
      "execution_count": null,
      "outputs": [
        {
          "output_type": "stream",
          "name": "stdout",
          "text": [
            "True\n"
          ]
        }
      ]
    },
    {
      "cell_type": "code",
      "source": [
        "x = 1\n",
        "y = 0\n",
        "print(x >= 2 and (x/y) > 2) #here 1st condition is FALSE so the 2nd one never got executed. If 2nd one was executed we would have got division by zero error."
      ],
      "metadata": {
        "colab": {
          "base_uri": "https://localhost:8080/"
        },
        "id": "l64faEs-3b7l",
        "outputId": "b89bd053-2a58-4969-fa5b-a6a5fef580c8"
      },
      "execution_count": null,
      "outputs": [
        {
          "output_type": "stream",
          "name": "stdout",
          "text": [
            "False\n"
          ]
        }
      ]
    },
    {
      "cell_type": "code",
      "source": [
        "x = 6\n",
        "y = 0\n",
        "print(x >= 2 and (x/y) > 2) #here 1st condition is TRUE so 2nd one was executed and encountered division by zero error"
      ],
      "metadata": {
        "colab": {
          "base_uri": "https://localhost:8080/",
          "height": 176
        },
        "id": "8f7DQlO73m37",
        "outputId": "496d1cc6-f8d8-4cbd-a192-c7684bf5d633"
      },
      "execution_count": null,
      "outputs": [
        {
          "output_type": "error",
          "ename": "ZeroDivisionError",
          "evalue": "division by zero",
          "traceback": [
            "\u001b[0;31m---------------------------------------------------------------------------\u001b[0m",
            "\u001b[0;31mZeroDivisionError\u001b[0m                         Traceback (most recent call last)",
            "\u001b[0;32m<ipython-input-35-001a8ec5243d>\u001b[0m in \u001b[0;36m<cell line: 3>\u001b[0;34m()\u001b[0m\n\u001b[1;32m      1\u001b[0m \u001b[0mx\u001b[0m \u001b[0;34m=\u001b[0m \u001b[0;36m6\u001b[0m\u001b[0;34m\u001b[0m\u001b[0;34m\u001b[0m\u001b[0m\n\u001b[1;32m      2\u001b[0m \u001b[0my\u001b[0m \u001b[0;34m=\u001b[0m \u001b[0;36m0\u001b[0m\u001b[0;34m\u001b[0m\u001b[0;34m\u001b[0m\u001b[0m\n\u001b[0;32m----> 3\u001b[0;31m \u001b[0mprint\u001b[0m\u001b[0;34m(\u001b[0m\u001b[0mx\u001b[0m \u001b[0;34m>=\u001b[0m \u001b[0;36m2\u001b[0m \u001b[0;32mand\u001b[0m \u001b[0;34m(\u001b[0m\u001b[0mx\u001b[0m\u001b[0;34m/\u001b[0m\u001b[0my\u001b[0m\u001b[0;34m)\u001b[0m \u001b[0;34m>\u001b[0m \u001b[0;36m2\u001b[0m\u001b[0;34m)\u001b[0m \u001b[0;31m#here 1st condition is TRUE so 2nd one was executed and encountered division by zero error\u001b[0m\u001b[0;34m\u001b[0m\u001b[0;34m\u001b[0m\u001b[0m\n\u001b[0m",
            "\u001b[0;31mZeroDivisionError\u001b[0m: division by zero"
          ]
        }
      ]
    },
    {
      "cell_type": "markdown",
      "source": [
        "## Exercise 1\n",
        "\n",
        "* Rewrite your pay computation to give the employee 1.5 times the hourly rate for hours worked above 40 hours."
      ],
      "metadata": {
        "id": "SOLQrlyZwa1D"
      }
    },
    {
      "cell_type": "code",
      "source": [
        "hours=input('Enter hours: ')\n",
        "rate=input('Enter rate: ')\n",
        "hours=float(hours)\n",
        "rate=float(rate)\n",
        "if (hours<=40.0):\n",
        "  pay = hours*rate\n",
        "  print(\"Pay:\",pay)\n",
        "else:\n",
        "  pay=40*rate+(hours-40.0)*1.5*rate\n",
        "  print('Pay:',pay)"
      ],
      "metadata": {
        "colab": {
          "base_uri": "https://localhost:8080/"
        },
        "id": "lnRKLm9kynml",
        "outputId": "de7f4177-bce1-441d-e73f-5ab012378914"
      },
      "execution_count": null,
      "outputs": [
        {
          "output_type": "stream",
          "name": "stdout",
          "text": [
            "Enter hours: 45\n",
            "Enter rate: 10\n",
            "Pay: 475.0\n"
          ]
        }
      ]
    },
    {
      "cell_type": "markdown",
      "source": [
        "## Exercise 2\n",
        "\n",
        "* Rewrite your pay program using try and except so that your program handles non-numeric input gracefully by printing a message and exiting the program. The following shows two executions of the program"
      ],
      "metadata": {
        "id": "Yt-Quu8My2-Z"
      }
    },
    {
      "cell_type": "code",
      "source": [
        "hours=input('Enter hours: ')\n",
        "rate=input('Enter rate: ')\n",
        "try:\n",
        "  hours=float(hours)\n",
        "  rate=float(rate)\n",
        "  if (hours<=40.0):\n",
        "    pay = hours*rate\n",
        "    print(\"Pay:\",pay)\n",
        "  else:\n",
        "    pay=40*rate+(hours-40.0)*1.5*rate\n",
        "    print('Pay:',pay)\n",
        "except:\n",
        "  print('Error,please enter numeric input')"
      ],
      "metadata": {
        "colab": {
          "base_uri": "https://localhost:8080/"
        },
        "id": "gLsJcTvBvLte",
        "outputId": "50a43165-86cf-44d9-a0f6-a72c721a9f57"
      },
      "execution_count": null,
      "outputs": [
        {
          "output_type": "stream",
          "name": "stdout",
          "text": [
            "Enter hours: 45\n",
            "Enter rate: 10\n",
            "Pay: 475.0\n"
          ]
        }
      ]
    },
    {
      "cell_type": "markdown",
      "source": [
        "## Exercise 3\n",
        "\n",
        "* Write a program to prompt for a score between 0.0 and 1.0. If the score is out of range, print an error message. If the score is between 0.0 and 1.0, print a grade using the following table"
      ],
      "metadata": {
        "id": "JaHbdonk4VkI"
      }
    },
    {
      "cell_type": "code",
      "source": [
        "score = input('Enter Score: ')\n",
        "try:\n",
        "  score=float(score)\n",
        "  grade=''\n",
        "  if (score>=0.0 and score<=1.0):\n",
        "    if (score>=0.9):\n",
        "      print('A')\n",
        "    elif (score>=0.8):\n",
        "      print('B')\n",
        "    elif (score>=0.7):\n",
        "      print('C')\n",
        "    elif (score>=0.6):\n",
        "      print('D')\n",
        "    else:\n",
        "      print('F')\n",
        "    print(grade)\n",
        "  else:\n",
        "    print('Bad Score')\n",
        "except:\n",
        " print('The score is not in between 0.0 to 1.0')"
      ],
      "metadata": {
        "colab": {
          "base_uri": "https://localhost:8080/"
        },
        "id": "IwEwJidV4azq",
        "outputId": "94b76fe1-57c0-46c1-c03f-db6367dd1611"
      },
      "execution_count": null,
      "outputs": [
        {
          "output_type": "stream",
          "name": "stdout",
          "text": [
            "Enter Score: f\n",
            "The score is not in between 0.0 to 1.0\n"
          ]
        }
      ]
    },
    {
      "cell_type": "markdown",
      "source": [
        "## Using while loop and an conditional statement."
      ],
      "metadata": {
        "id": "u1f1Az1P6IAC"
      }
    },
    {
      "cell_type": "code",
      "source": [
        "'''\n",
        "Conditional and loops statement\n",
        "while loop\n",
        "'''\n",
        "x=0\n",
        "while x<10:\n",
        "  x+=1\n",
        "  print(x)\n",
        "  if x==5:\n",
        "    break\n",
        "print('End of the loop')"
      ],
      "metadata": {
        "colab": {
          "base_uri": "https://localhost:8080/"
        },
        "id": "CHa8Ht2b6Jby",
        "outputId": "1437e70c-ff9d-46e2-a3e9-9a57380fae5e"
      },
      "execution_count": null,
      "outputs": [
        {
          "output_type": "stream",
          "name": "stdout",
          "text": [
            "1\n",
            "2\n",
            "3\n",
            "4\n",
            "5\n",
            "End of the loop\n"
          ]
        }
      ]
    },
    {
      "cell_type": "markdown",
      "source": [
        "## Conditional Loop For loop"
      ],
      "metadata": {
        "id": "-9Bf3T_U6Yrp"
      }
    },
    {
      "cell_type": "code",
      "source": [
        "enames = ['Krish', 'Charles']\n",
        "for x in enames:\n",
        "  print(x, len(x))"
      ],
      "metadata": {
        "colab": {
          "base_uri": "https://localhost:8080/"
        },
        "id": "c8O_TlWk6Plj",
        "outputId": "37ba231c-7a4d-4c33-c544-0eace414b216"
      },
      "execution_count": null,
      "outputs": [
        {
          "output_type": "stream",
          "name": "stdout",
          "text": [
            "Krish 5\n",
            "Charles 7\n"
          ]
        }
      ]
    },
    {
      "cell_type": "markdown",
      "source": [
        "# Importing a random Youtube vedio\n"
      ],
      "metadata": {
        "id": "u9kNTZZ10pNg"
      }
    },
    {
      "cell_type": "code",
      "source": [
        "from IPython.display import YouTubeVideo\n",
        "YouTubeVideo('https://www.youtube.com/watch?v=gH_RYRwVrVM&list=RDgH_RYRwVrVM&start_radio=1')"
      ],
      "metadata": {
        "colab": {
          "base_uri": "https://localhost:8080/",
          "height": 322
        },
        "id": "jTUqaGy0yEzi",
        "outputId": "b343ded1-8da5-4c19-a892-fd2b62a1cd33"
      },
      "execution_count": null,
      "outputs": [
        {
          "output_type": "execute_result",
          "data": {
            "text/plain": [
              "<IPython.lib.display.YouTubeVideo at 0x7a9da4a29120>"
            ],
            "text/html": [
              "\n",
              "        <iframe\n",
              "            width=\"400\"\n",
              "            height=\"300\"\n",
              "            src=\"https://www.youtube.com/embed/https://www.youtube.com/watch?v=gH_RYRwVrVM&list=RDgH_RYRwVrVM&start_radio=1\"\n",
              "            frameborder=\"0\"\n",
              "            allowfullscreen\n",
              "            \n",
              "        ></iframe>\n",
              "        "
            ]
          },
          "metadata": {},
          "execution_count": 26
        }
      ]
    },
    {
      "cell_type": "markdown",
      "source": [
        "# Importing the datetime and printing date and time in different cases."
      ],
      "metadata": {
        "id": "sjMib8Wf1xzo"
      }
    },
    {
      "cell_type": "code",
      "source": [
        "import datetime\n",
        "print(datetime.datetime.now())"
      ],
      "metadata": {
        "colab": {
          "base_uri": "https://localhost:8080/"
        },
        "id": "HJZtySr61Azg",
        "outputId": "7e70f4c9-1318-4532-fbdf-8b90412c390d"
      },
      "execution_count": null,
      "outputs": [
        {
          "output_type": "stream",
          "name": "stdout",
          "text": [
            "2025-08-04 05:26:48.769289\n"
          ]
        }
      ]
    },
    {
      "cell_type": "code",
      "source": [
        "str(datetime.datetime.now().strftime(\"%Y-%m-%d %H:%M:%S\"))"
      ],
      "metadata": {
        "colab": {
          "base_uri": "https://localhost:8080/",
          "height": 36
        },
        "id": "7Iz2U5I0184u",
        "outputId": "5836adcd-4c3b-498e-8283-7b3410d042bd"
      },
      "execution_count": null,
      "outputs": [
        {
          "output_type": "execute_result",
          "data": {
            "text/plain": [
              "'2025-01-02 07:08:39'"
            ],
            "application/vnd.google.colaboratory.intrinsic+json": {
              "type": "string"
            }
          },
          "metadata": {},
          "execution_count": 28
        }
      ]
    },
    {
      "cell_type": "code",
      "source": [
        "str(datetime.datetime.now().date())"
      ],
      "metadata": {
        "colab": {
          "base_uri": "https://localhost:8080/",
          "height": 36
        },
        "id": "svhCqmjY2Efq",
        "outputId": "f897b8d5-76c7-4194-a607-7cebecae7005"
      },
      "execution_count": null,
      "outputs": [
        {
          "output_type": "execute_result",
          "data": {
            "text/plain": [
              "'2025-01-02'"
            ],
            "application/vnd.google.colaboratory.intrinsic+json": {
              "type": "string"
            }
          },
          "metadata": {},
          "execution_count": 29
        }
      ]
    },
    {
      "cell_type": "code",
      "source": [
        "str(datetime.datetime.now().time())"
      ],
      "metadata": {
        "colab": {
          "base_uri": "https://localhost:8080/",
          "height": 36
        },
        "id": "u17CwQJf7jVd",
        "outputId": "095311c8-c1ed-4a4d-d126-4ab35eb9c611"
      },
      "execution_count": null,
      "outputs": [
        {
          "output_type": "execute_result",
          "data": {
            "text/plain": [
              "'07:32:39.901469'"
            ],
            "application/vnd.google.colaboratory.intrinsic+json": {
              "type": "string"
            }
          },
          "metadata": {},
          "execution_count": 43
        }
      ]
    },
    {
      "cell_type": "code",
      "source": [
        "str(datetime.datetime.now().time().strftime(\"%H:%M:%S\"))"
      ],
      "metadata": {
        "colab": {
          "base_uri": "https://localhost:8080/",
          "height": 36
        },
        "id": "FVVXOQxQ2TUR",
        "outputId": "3fbb6669-02aa-43de-a0f6-4704084110ab"
      },
      "execution_count": null,
      "outputs": [
        {
          "output_type": "execute_result",
          "data": {
            "text/plain": [
              "'07:10:20'"
            ],
            "application/vnd.google.colaboratory.intrinsic+json": {
              "type": "string"
            }
          },
          "metadata": {},
          "execution_count": 31
        }
      ]
    },
    {
      "cell_type": "markdown",
      "source": [
        "# CHAPTER 4: Functions"
      ],
      "metadata": {
        "id": "3SNfGfeq6FlO"
      }
    },
    {
      "cell_type": "markdown",
      "source": [
        "## In-built function example"
      ],
      "metadata": {
        "id": "2PaSlEv7rBoE"
      }
    },
    {
      "cell_type": "code",
      "source": [
        "big = max('Hello world')\n",
        "print(big)"
      ],
      "metadata": {
        "id": "Yrh5wAag2Vx-",
        "colab": {
          "base_uri": "https://localhost:8080/"
        },
        "outputId": "6b3722ec-ecc1-4dc2-9c68-5736560a8421"
      },
      "execution_count": null,
      "outputs": [
        {
          "output_type": "stream",
          "name": "stdout",
          "text": [
            "w\n"
          ]
        }
      ]
    },
    {
      "cell_type": "code",
      "source": [
        "tiny= min('Hello world')\n",
        "print(tiny)"
      ],
      "metadata": {
        "colab": {
          "base_uri": "https://localhost:8080/"
        },
        "id": "XDxrldSjrMzA",
        "outputId": "9d49eade-48e9-4940-d116-7d310ca8b0a6"
      },
      "execution_count": null,
      "outputs": [
        {
          "output_type": "stream",
          "name": "stdout",
          "text": [
            " \n"
          ]
        }
      ]
    },
    {
      "cell_type": "markdown",
      "source": [
        "## Defining a function:"
      ],
      "metadata": {
        "id": "mBpOgzGes5bN"
      }
    },
    {
      "cell_type": "code",
      "source": [
        "def hello():\n",
        "  print(\"This is my first python function and I'm so excited\")\n",
        "  x=5-3\n",
        "  print(x)"
      ],
      "metadata": {
        "id": "Py3H1Ipzs5AD"
      },
      "execution_count": null,
      "outputs": []
    },
    {
      "cell_type": "markdown",
      "source": [
        "## Invoking a function"
      ],
      "metadata": {
        "id": "RubRuvDwtZkP"
      }
    },
    {
      "cell_type": "code",
      "source": [
        "hello()"
      ],
      "metadata": {
        "colab": {
          "base_uri": "https://localhost:8080/"
        },
        "id": "YtHaYkklrR65",
        "outputId": "e79f62cb-bc61-45ac-b0e5-54f5b9de8144"
      },
      "execution_count": null,
      "outputs": [
        {
          "output_type": "stream",
          "name": "stdout",
          "text": [
            "This is my first python function and I'm so excited\n",
            "2\n"
          ]
        }
      ]
    },
    {
      "cell_type": "markdown",
      "source": [
        "## Passing arguments and parameters"
      ],
      "metadata": {
        "id": "6biOP6KqujPr"
      }
    },
    {
      "cell_type": "code",
      "source": [
        "def greet(lang):\n",
        "  if lang=='es':\n",
        "    print('Hola')\n",
        "  elif lang=='fr':\n",
        "    print('Bonjour')\n",
        "  else:\n",
        "    print('Hello')"
      ],
      "metadata": {
        "id": "wRrByEqMtfUf"
      },
      "execution_count": null,
      "outputs": []
    },
    {
      "cell_type": "code",
      "source": [
        "greet('fr')"
      ],
      "metadata": {
        "colab": {
          "base_uri": "https://localhost:8080/"
        },
        "id": "kGp2SlN8uwaC",
        "outputId": "facb5c11-d269-4d7f-f4c5-e90468e96f28"
      },
      "execution_count": null,
      "outputs": [
        {
          "output_type": "stream",
          "name": "stdout",
          "text": [
            "Bonjour\n"
          ]
        }
      ]
    },
    {
      "cell_type": "markdown",
      "source": [
        "## Return values"
      ],
      "metadata": {
        "id": "KsR2E5aKvQXl"
      }
    },
    {
      "cell_type": "code",
      "source": [
        "def greet():\n",
        "  return \"Hello\""
      ],
      "metadata": {
        "id": "xdZYa5lZuyVk"
      },
      "execution_count": null,
      "outputs": []
    },
    {
      "cell_type": "code",
      "source": [
        "print(greet(),\"Abhishek Narayanaswamy\")"
      ],
      "metadata": {
        "colab": {
          "base_uri": "https://localhost:8080/"
        },
        "id": "Dv8jPTBMvVgB",
        "outputId": "fc6ed5b8-5585-4f0e-da10-3a5749681f95"
      },
      "execution_count": null,
      "outputs": [
        {
          "output_type": "stream",
          "name": "stdout",
          "text": [
            "Hello Abhishek Narayanaswamy\n"
          ]
        }
      ]
    },
    {
      "cell_type": "code",
      "source": [
        "def greet(lang):\n",
        "  if lang=='es':\n",
        "    return 'Hola'\n",
        "  elif lang=='fr':\n",
        "    return 'Bonjour'\n",
        "  else:\n",
        "    return 'Hello'"
      ],
      "metadata": {
        "id": "YdJiY8Vqvbed"
      },
      "execution_count": null,
      "outputs": []
    },
    {
      "cell_type": "code",
      "source": [
        "print(greet('es'), 'Abhishek Narayanaswamy')"
      ],
      "metadata": {
        "colab": {
          "base_uri": "https://localhost:8080/"
        },
        "id": "rpCDD1tmvtBY",
        "outputId": "7dd72cbf-11b4-4dd5-a11c-12aad6abedbf"
      },
      "execution_count": null,
      "outputs": [
        {
          "output_type": "stream",
          "name": "stdout",
          "text": [
            "Hola Abhishek Narayanaswamy\n"
          ]
        }
      ]
    },
    {
      "cell_type": "code",
      "source": [
        "print(greet('en'), 'Abhishek Narayanaswamy')"
      ],
      "metadata": {
        "colab": {
          "base_uri": "https://localhost:8080/"
        },
        "id": "cqP2OXFyvw9k",
        "outputId": "16f84adf-f5f9-4207-8e08-6941fec0fa93"
      },
      "execution_count": null,
      "outputs": [
        {
          "output_type": "stream",
          "name": "stdout",
          "text": [
            "Hello Abhishek Narayanaswamy\n"
          ]
        }
      ]
    },
    {
      "cell_type": "markdown",
      "source": [
        "## Defining a function for squaring a number."
      ],
      "metadata": {
        "id": "BhJWgTHkxWLq"
      }
    },
    {
      "cell_type": "code",
      "source": [
        "def sqr(x=2):\n",
        "  #default value of x\n",
        "  print(x**2)\n",
        "sqr()"
      ],
      "metadata": {
        "colab": {
          "base_uri": "https://localhost:8080/"
        },
        "id": "xsChnk8uwLyc",
        "outputId": "300a558e-78a8-4f80-a441-f51b28720d9c"
      },
      "execution_count": null,
      "outputs": [
        {
          "output_type": "stream",
          "name": "stdout",
          "text": [
            "4\n"
          ]
        }
      ]
    },
    {
      "cell_type": "code",
      "source": [
        "sqr(4)"
      ],
      "metadata": {
        "colab": {
          "base_uri": "https://localhost:8080/"
        },
        "id": "mpR8_GefxLcn",
        "outputId": "7066d55b-3530-4713-b658-560dddf8b1d9"
      },
      "execution_count": null,
      "outputs": [
        {
          "output_type": "stream",
          "name": "stdout",
          "text": [
            "16\n"
          ]
        }
      ]
    },
    {
      "cell_type": "markdown",
      "source": [
        "## Calling an anonymus funtion lambda"
      ],
      "metadata": {
        "id": "fihFfsKcxe3X"
      }
    },
    {
      "cell_type": "code",
      "source": [
        "print((lambda a:a**3)(4))"
      ],
      "metadata": {
        "colab": {
          "base_uri": "https://localhost:8080/"
        },
        "id": "GfyejW8SxQiM",
        "outputId": "6fc6257b-8c27-4da8-bcd4-d165247317b3"
      },
      "execution_count": null,
      "outputs": [
        {
          "output_type": "stream",
          "name": "stdout",
          "text": [
            "64\n"
          ]
        }
      ]
    },
    {
      "cell_type": "code",
      "source": [
        "cube = lambda y:y**3\n",
        "cube(2)"
      ],
      "metadata": {
        "colab": {
          "base_uri": "https://localhost:8080/"
        },
        "id": "JP3UJwqMxwTh",
        "outputId": "19d41181-26d7-4059-90bd-e66d558c191d"
      },
      "execution_count": null,
      "outputs": [
        {
          "output_type": "execute_result",
          "data": {
            "text/plain": [
              "8"
            ]
          },
          "metadata": {},
          "execution_count": 22
        }
      ]
    },
    {
      "cell_type": "markdown",
      "source": [
        "## Length function"
      ],
      "metadata": {
        "id": "OMi3scC6Y-1i"
      }
    },
    {
      "cell_type": "code",
      "source": [
        "len('Hello world')"
      ],
      "metadata": {
        "colab": {
          "base_uri": "https://localhost:8080/"
        },
        "id": "R40Uw_-gx8HX",
        "outputId": "00ddb1a4-868c-4433-b767-21885afdbfd7"
      },
      "execution_count": null,
      "outputs": [
        {
          "output_type": "execute_result",
          "data": {
            "text/plain": [
              "11"
            ]
          },
          "metadata": {},
          "execution_count": 1
        }
      ]
    },
    {
      "cell_type": "markdown",
      "source": [
        "## Math function"
      ],
      "metadata": {
        "id": "FHxsldzNZDrO"
      }
    },
    {
      "cell_type": "code",
      "source": [
        "import math"
      ],
      "metadata": {
        "id": "kzjTuAeSZCJt"
      },
      "execution_count": null,
      "outputs": []
    },
    {
      "cell_type": "code",
      "source": [
        "degrees = 45\n",
        "radians = degrees/360.0*2*math.pi\n",
        "height = math.sin(radians)\n",
        "print(height)\n",
        "print(radians)\n",
        "print(math.pi)"
      ],
      "metadata": {
        "colab": {
          "base_uri": "https://localhost:8080/"
        },
        "id": "2MIpHK7lZMCf",
        "outputId": "19d4a326-8658-4dc1-b273-72d7f0d0bd32"
      },
      "execution_count": null,
      "outputs": [
        {
          "output_type": "stream",
          "name": "stdout",
          "text": [
            "0.7071067811865475\n",
            "0.7853981633974483\n",
            "3.141592653589793\n"
          ]
        }
      ]
    },
    {
      "cell_type": "markdown",
      "source": [
        "## Range function"
      ],
      "metadata": {
        "id": "BMGizPi-Z60H"
      }
    },
    {
      "cell_type": "code",
      "source": [
        "print(range(5))"
      ],
      "metadata": {
        "colab": {
          "base_uri": "https://localhost:8080/"
        },
        "id": "KF-cm0TeZ6kV",
        "outputId": "8e8b76bd-606f-4d34-d02b-46b504dc3a3c"
      },
      "execution_count": null,
      "outputs": [
        {
          "output_type": "stream",
          "name": "stdout",
          "text": [
            "range(0, 5)\n"
          ]
        }
      ]
    },
    {
      "cell_type": "code",
      "source": [
        "for i in range(5):\n",
        "  print(i)"
      ],
      "metadata": {
        "colab": {
          "base_uri": "https://localhost:8080/"
        },
        "id": "OxAIFeorZt5d",
        "outputId": "263e5c8a-a6a8-4bc3-8175-265df86ed7cf"
      },
      "execution_count": null,
      "outputs": [
        {
          "output_type": "stream",
          "name": "stdout",
          "text": [
            "0\n",
            "1\n",
            "2\n",
            "3\n",
            "4\n"
          ]
        }
      ]
    },
    {
      "cell_type": "markdown",
      "source": [
        "## Random function"
      ],
      "metadata": {
        "id": "HDfTHJymaJWW"
      }
    },
    {
      "cell_type": "code",
      "source": [
        "import random\n",
        "for i in range(10):\n",
        " x=random.random()\n",
        " print(x)"
      ],
      "metadata": {
        "colab": {
          "base_uri": "https://localhost:8080/"
        },
        "id": "XwrNGshFaGe3",
        "outputId": "31820730-a37f-46c3-8032-e1660a82f7bf"
      },
      "execution_count": null,
      "outputs": [
        {
          "output_type": "stream",
          "name": "stdout",
          "text": [
            "0.30982174850410016\n",
            "0.6969742051946092\n",
            "0.7064651979763463\n",
            "0.16751688492393668\n",
            "0.988444905837277\n",
            "0.7508832045463606\n",
            "0.896321206095753\n",
            "0.5497575475578785\n",
            "0.3757616447726151\n",
            "0.0019289136913088756\n"
          ]
        }
      ]
    },
    {
      "cell_type": "code",
      "source": [
        "import random\n",
        "for i in range(10):\n",
        " x=random.random()*10\n",
        " print(int(x))"
      ],
      "metadata": {
        "colab": {
          "base_uri": "https://localhost:8080/"
        },
        "id": "VDKH-RAhaNpI",
        "outputId": "2a8e4c92-08c8-4204-cde6-6f2870a5b7b3"
      },
      "execution_count": null,
      "outputs": [
        {
          "output_type": "stream",
          "name": "stdout",
          "text": [
            "0\n",
            "4\n",
            "5\n",
            "3\n",
            "6\n",
            "1\n",
            "0\n",
            "1\n",
            "4\n",
            "2\n"
          ]
        }
      ]
    },
    {
      "cell_type": "markdown",
      "source": [
        "##The function randint takes the parameters low and high, and returns an integer between low and high (including both)."
      ],
      "metadata": {
        "id": "RNC185M0ahTb"
      }
    },
    {
      "cell_type": "code",
      "source": [
        "random.randint(5,10)"
      ],
      "metadata": {
        "colab": {
          "base_uri": "https://localhost:8080/"
        },
        "id": "7-Sy21voaVkY",
        "outputId": "eb947c2f-4d0b-4207-909c-f37f5c5099f7"
      },
      "execution_count": null,
      "outputs": [
        {
          "output_type": "execute_result",
          "data": {
            "text/plain": [
              "10"
            ]
          },
          "metadata": {},
          "execution_count": 10
        }
      ]
    },
    {
      "cell_type": "markdown",
      "source": [
        "##To choose an element from a sequence at random, you can use choice:"
      ],
      "metadata": {
        "id": "98ufhbv9auAP"
      }
    },
    {
      "cell_type": "code",
      "source": [
        "t = [1,2,3]\n",
        "random.choice(t)"
      ],
      "metadata": {
        "colab": {
          "base_uri": "https://localhost:8080/"
        },
        "id": "nfD-k-kOanvr",
        "outputId": "37c61033-465e-48e0-a26b-0b0cd8d7c369"
      },
      "execution_count": null,
      "outputs": [
        {
          "output_type": "execute_result",
          "data": {
            "text/plain": [
              "1"
            ]
          },
          "metadata": {},
          "execution_count": 11
        }
      ]
    },
    {
      "cell_type": "markdown",
      "source": [
        "##This program has two function definitions: print_lyrics and repeat_lyrics. Where we are calling a function inside a function also repeating the function."
      ],
      "metadata": {
        "id": "AUi64Wo4a7Sm"
      }
    },
    {
      "cell_type": "code",
      "source": [
        "def print_lyrics():\n",
        "    print(\"I'm a lumberjack, and I'm okay.\")\n",
        "    print('I sleep all night and I work all day.')\n",
        "\n",
        "\n",
        "def repeat_lyrics():\n",
        "    print_lyrics()\n",
        "    print_lyrics()\n",
        "\n",
        "repeat_lyrics()"
      ],
      "metadata": {
        "colab": {
          "base_uri": "https://localhost:8080/"
        },
        "id": "uwaxCyCea00h",
        "outputId": "25fbd11d-d254-4a7a-ce97-8a001a36fc24"
      },
      "execution_count": null,
      "outputs": [
        {
          "output_type": "stream",
          "name": "stdout",
          "text": [
            "I'm a lumberjack, and I'm okay.\n",
            "I sleep all night and I work all day.\n",
            "I'm a lumberjack, and I'm okay.\n",
            "I sleep all night and I work all day.\n"
          ]
        }
      ]
    },
    {
      "cell_type": "markdown",
      "source": [
        "## Exercise 2\n",
        "\n",
        "* Move the last line of this program to the top, so the function call appears before the definitions. Run the program and see what error message you get."
      ],
      "metadata": {
        "id": "A9niwUMGb6r8"
      }
    },
    {
      "cell_type": "code",
      "source": [
        "#testing what happens when a function is invoked first and declared later\n",
        "\n",
        "#invoking function\n",
        "print_lyric()\n",
        "\n",
        "#defining function\n",
        "def print_lyric():\n",
        "    print(\"I'm a lumberjack, and I'm okay.\")\n",
        "    print('I sleep all night and I work all day.')"
      ],
      "metadata": {
        "colab": {
          "base_uri": "https://localhost:8080/",
          "height": 211
        },
        "id": "BNxhB7PPa-Ir",
        "outputId": "2f46bbd2-af87-4f8a-d961-dae08bae1a97"
      },
      "execution_count": null,
      "outputs": [
        {
          "output_type": "error",
          "ename": "NameError",
          "evalue": "name 'print_lyric' is not defined",
          "traceback": [
            "\u001b[0;31m---------------------------------------------------------------------------\u001b[0m",
            "\u001b[0;31mNameError\u001b[0m                                 Traceback (most recent call last)",
            "\u001b[0;32m<ipython-input-13-d57b5b97add7>\u001b[0m in \u001b[0;36m<cell line: 4>\u001b[0;34m()\u001b[0m\n\u001b[1;32m      2\u001b[0m \u001b[0;34m\u001b[0m\u001b[0m\n\u001b[1;32m      3\u001b[0m \u001b[0;31m#invoking function\u001b[0m\u001b[0;34m\u001b[0m\u001b[0;34m\u001b[0m\u001b[0m\n\u001b[0;32m----> 4\u001b[0;31m \u001b[0mprint_lyric\u001b[0m\u001b[0;34m(\u001b[0m\u001b[0;34m)\u001b[0m\u001b[0;34m\u001b[0m\u001b[0;34m\u001b[0m\u001b[0m\n\u001b[0m\u001b[1;32m      5\u001b[0m \u001b[0;34m\u001b[0m\u001b[0m\n\u001b[1;32m      6\u001b[0m \u001b[0;31m#defining function\u001b[0m\u001b[0;34m\u001b[0m\u001b[0;34m\u001b[0m\u001b[0m\n",
            "\u001b[0;31mNameError\u001b[0m: name 'print_lyric' is not defined"
          ]
        }
      ]
    },
    {
      "cell_type": "markdown",
      "source": [
        "## Exercise 3\n",
        "\n",
        "* Move the function call back to the bottom and move the definition of print_lyrics after the definition of repeat_lyrics. What happens when you run this program?"
      ],
      "metadata": {
        "id": "YZEo76zBcEDY"
      }
    },
    {
      "cell_type": "code",
      "source": [
        "#now fixing the above logic\n",
        "\n",
        "#defining function\n",
        "def print_lyrics():\n",
        "    print(\"I'm a lumberjack, and I'm okay.\")\n",
        "    print('I sleep all night and I work all day.')\n",
        "\n",
        "#invoking function\n",
        "print_lyrics()"
      ],
      "metadata": {
        "colab": {
          "base_uri": "https://localhost:8080/"
        },
        "id": "VhhdN0pZcAnw",
        "outputId": "cddf2af0-66ca-4b77-ac33-2b1e6c207269"
      },
      "execution_count": null,
      "outputs": [
        {
          "output_type": "stream",
          "name": "stdout",
          "text": [
            "I'm a lumberjack, and I'm okay.\n",
            "I sleep all night and I work all day.\n"
          ]
        }
      ]
    },
    {
      "cell_type": "markdown",
      "source": [
        "## Exercise 4\n",
        "*  What will the following Python program print out?"
      ],
      "metadata": {
        "id": "3Umtn_5EcQL6"
      }
    },
    {
      "cell_type": "code",
      "source": [
        "def fred():\n",
        "   print(\"Zap\")\n",
        "\n",
        "def jane():\n",
        "   print(\"ABC\")\n",
        "\n",
        "jane()\n",
        "fred()\n",
        "jane()"
      ],
      "metadata": {
        "colab": {
          "base_uri": "https://localhost:8080/"
        },
        "id": "t_P2igvHcMU9",
        "outputId": "43a8e41e-d718-4357-ba8d-1646b92a683c"
      },
      "execution_count": null,
      "outputs": [
        {
          "output_type": "stream",
          "name": "stdout",
          "text": [
            "ABC\n",
            "Zap\n",
            "ABC\n"
          ]
        }
      ]
    },
    {
      "cell_type": "markdown",
      "source": [
        "## Exercise 5\n",
        "\n",
        "* Rewrite your pay computation with time-and-a-half for overtime and create a function called computepay which takes two parameters (hours and rate)"
      ],
      "metadata": {
        "id": "ADn1BEHcnqJz"
      }
    },
    {
      "cell_type": "code",
      "source": [
        "def computepay():\n",
        "  h=input('Enter hours=')\n",
        "  r=input('Enter rate=')\n",
        "  try:\n",
        "   hr=float(h)\n",
        "   if hr>40:\n",
        "    hr-=40\n",
        "    p=40*float(r)+hr*float(r)*1.5\n",
        "    print(p)\n",
        "   else:\n",
        "    p=hr*float(r)\n",
        "    print(p)\n",
        "  except:\n",
        "   print('please enter numbers for hours and rate')\n",
        "computepay()"
      ],
      "metadata": {
        "colab": {
          "base_uri": "https://localhost:8080/"
        },
        "id": "q2Pc22fxnnda",
        "outputId": "667634d2-b743-461b-d338-4d6b192fa1ea"
      },
      "execution_count": null,
      "outputs": [
        {
          "output_type": "stream",
          "name": "stdout",
          "text": [
            "Enter hours=45\n",
            "Enter rate=10.5\n",
            "498.75\n"
          ]
        }
      ]
    },
    {
      "cell_type": "markdown",
      "source": [
        "## Exercise 6\n",
        "* Rewrite the grade program from the previous chapter using a function called computegrade that takes a score as its parameter and returns a grade as a string"
      ],
      "metadata": {
        "id": "0PviNxIxn9J2"
      }
    },
    {
      "cell_type": "code",
      "source": [
        "def computegrade(score):\n",
        "  try:\n",
        "    if score <= 1 and score >= 0:\n",
        "      if score >= 0.9:\n",
        "        grade = 'A'\n",
        "      elif score >= 0.8:\n",
        "        grade = 'B'\n",
        "      elif score >= 0.7:\n",
        "        grade = 'C'\n",
        "      elif score >= 0.6:\n",
        "        grade = 'D'\n",
        "      elif score < 0.6:\n",
        "        grade = 'F'\n",
        "      print(grade)\n",
        "    else:\n",
        "      print('Bad Score')\n",
        "  except:\n",
        "    print('Enter a number between 0.0 to 1.0')\n",
        "\n",
        "computegrade(0.95)\n",
        "computegrade('perfect')\n",
        "computegrade(10.0)\n",
        "computegrade(0.75)\n",
        "computegrade(0.5)"
      ],
      "metadata": {
        "id": "UBlrYP9WcVL_",
        "colab": {
          "base_uri": "https://localhost:8080/"
        },
        "outputId": "f5bcae02-52bf-497d-a8a1-dd49751becb5"
      },
      "execution_count": null,
      "outputs": [
        {
          "output_type": "stream",
          "name": "stdout",
          "text": [
            "A\n",
            "Enter a number between 0.0 to 1.0\n",
            "Bad Score\n",
            "C\n",
            "F\n"
          ]
        }
      ]
    },
    {
      "cell_type": "markdown",
      "source": [
        "# CHAPTER 5: Loops and Iteration"
      ],
      "metadata": {
        "id": "mJqTDeg7A2xu"
      }
    },
    {
      "cell_type": "markdown",
      "source": [
        "## While Loop"
      ],
      "metadata": {
        "id": "3JpU-BM_25FZ"
      }
    },
    {
      "cell_type": "code",
      "source": [
        "n=5\n",
        "while n>0:\n",
        "  print(n)\n",
        "  n=n-1\n",
        "print('Blast off')\n",
        "print(n)"
      ],
      "metadata": {
        "id": "U_maatnYoMSP",
        "colab": {
          "base_uri": "https://localhost:8080/"
        },
        "outputId": "13930a52-27a0-49ff-88ee-21f7ef16bb2b"
      },
      "execution_count": null,
      "outputs": [
        {
          "output_type": "stream",
          "name": "stdout",
          "text": [
            "5\n",
            "4\n",
            "3\n",
            "2\n",
            "1\n",
            "Blast off\n",
            "0\n"
          ]
        }
      ]
    },
    {
      "cell_type": "markdown",
      "source": [
        "## Breaking out of a loop -- break statement"
      ],
      "metadata": {
        "id": "2LZDJ_WS4Sua"
      }
    },
    {
      "cell_type": "code",
      "source": [
        "while True:\n",
        "  line=input('>')\n",
        "  if line=='done':\n",
        "    break\n",
        "  print(line)\n",
        "print('Done!')"
      ],
      "metadata": {
        "colab": {
          "base_uri": "https://localhost:8080/"
        },
        "id": "sFqK-3tw3Psx",
        "outputId": "0d98628d-e1ec-4de7-b151-d53fe02b5ba5"
      },
      "execution_count": null,
      "outputs": [
        {
          "output_type": "stream",
          "name": "stdout",
          "text": [
            ">ANG\n",
            "ANG\n",
            ">odne\n",
            "odne\n",
            ">done\n",
            "Done!\n"
          ]
        }
      ]
    },
    {
      "cell_type": "markdown",
      "source": [
        "## Continue:- Finnishing an iterations with Continue"
      ],
      "metadata": {
        "id": "0eeJy-K7Enn1"
      }
    },
    {
      "cell_type": "code",
      "source": [
        "while True:\n",
        "  line=input('>')\n",
        "  if line[0]=='#':\n",
        "    continue\n",
        "  if line=='done':\n",
        "    break\n",
        "  print(line)\n",
        "print('Done!')"
      ],
      "metadata": {
        "colab": {
          "base_uri": "https://localhost:8080/"
        },
        "id": "mE6PxQhcEqz-",
        "outputId": "569edf2c-3638-4000-b53e-c54995297157"
      },
      "execution_count": null,
      "outputs": [
        {
          "output_type": "stream",
          "name": "stdout",
          "text": [
            ">ANG\n",
            "ANG\n",
            "># print this\n",
            ">ABHI\n",
            "ABHI\n",
            ">done\n",
            "Done!\n"
          ]
        }
      ]
    },
    {
      "cell_type": "markdown",
      "source": [
        "## A simple definite loop -- For loop"
      ],
      "metadata": {
        "id": "sw5KQdrh5WNT"
      }
    },
    {
      "cell_type": "code",
      "source": [
        "for i in [5,4,3,2,1]:\n",
        " print(i)\n",
        "print('Blast off')"
      ],
      "metadata": {
        "colab": {
          "base_uri": "https://localhost:8080/"
        },
        "id": "UHQdAhnu4s87",
        "outputId": "f26e9c0e-f844-4cc9-984a-9b00404ae0f0"
      },
      "execution_count": null,
      "outputs": [
        {
          "output_type": "stream",
          "name": "stdout",
          "text": [
            "5\n",
            "4\n",
            "3\n",
            "2\n",
            "1\n",
            "Blast off\n"
          ]
        }
      ]
    },
    {
      "cell_type": "code",
      "source": [
        "friends = ['Akhil', 'Madhan', 'Sharath', 'Nithin']\n",
        "for friend in friends:\n",
        "  print('Happy New Year:', friend)\n",
        "print('Done!')"
      ],
      "metadata": {
        "colab": {
          "base_uri": "https://localhost:8080/"
        },
        "id": "HNhlE4j_5k7_",
        "outputId": "93626a59-e40e-4452-c173-a5120ef0d1c4"
      },
      "execution_count": null,
      "outputs": [
        {
          "output_type": "stream",
          "name": "stdout",
          "text": [
            "Happy New Year: Akhil\n",
            "Happy New Year: Madhan\n",
            "Happy New Year: Sharath\n",
            "Happy New Year: Nithin\n",
            "Done!\n"
          ]
        }
      ]
    },
    {
      "cell_type": "markdown",
      "source": [
        "### Loooping through a SET\n",
        "\n"
      ],
      "metadata": {
        "id": "S-KKhXsE7ObL"
      }
    },
    {
      "cell_type": "code",
      "source": [
        "print('Before')\n",
        "for thing in [9,41,37,33,12,98,101]:\n",
        "  print(thing)\n",
        "print('After')"
      ],
      "metadata": {
        "colab": {
          "base_uri": "https://localhost:8080/"
        },
        "id": "SwSTynIg5-k5",
        "outputId": "343be177-c343-4cea-a2a3-d7c3b72d435e"
      },
      "execution_count": null,
      "outputs": [
        {
          "output_type": "stream",
          "name": "stdout",
          "text": [
            "Before\n",
            "9\n",
            "41\n",
            "37\n",
            "33\n",
            "12\n",
            "98\n",
            "101\n",
            "After\n"
          ]
        }
      ]
    },
    {
      "cell_type": "markdown",
      "source": [
        "### What is the Largest number?\n"
      ],
      "metadata": {
        "id": "JFQjnBmd7mcY"
      }
    },
    {
      "cell_type": "code",
      "source": [
        "largest_so_far = -1\n",
        "print('Before',largest_so_far)"
      ],
      "metadata": {
        "colab": {
          "base_uri": "https://localhost:8080/"
        },
        "id": "ePRETc1w7kZN",
        "outputId": "b7339889-4119-4d1c-d305-5fc1083991f0"
      },
      "execution_count": null,
      "outputs": [
        {
          "output_type": "stream",
          "name": "stdout",
          "text": [
            "Before -1\n"
          ]
        }
      ]
    },
    {
      "cell_type": "code",
      "source": [
        "for the_num in [9,41,37,33,12,98,101]:\n",
        "  if the_num>largest_so_far:\n",
        "    largest_so_far=the_num\n",
        "  print(largest_so_far,the_num)\n",
        "print('After',largest_so_far)"
      ],
      "metadata": {
        "colab": {
          "base_uri": "https://localhost:8080/"
        },
        "id": "aFn0UHO48Kei",
        "outputId": "1298c638-dc92-4053-af4f-1aa0d7ef223c"
      },
      "execution_count": null,
      "outputs": [
        {
          "output_type": "stream",
          "name": "stdout",
          "text": [
            "9 9\n",
            "41 41\n",
            "41 37\n",
            "41 33\n",
            "41 12\n",
            "98 98\n",
            "101 101\n",
            "After 101\n"
          ]
        }
      ]
    },
    {
      "cell_type": "markdown",
      "source": [
        "### Counting in a loop"
      ],
      "metadata": {
        "id": "jh4_FoPM9HEM"
      }
    },
    {
      "cell_type": "code",
      "source": [
        "count=0\n",
        "print('Before',count)\n",
        "for thing in [9,41,37,33,12,98,101]:\n",
        "  count=count+1\n",
        "  print(count,thing)\n",
        "print('After',count)"
      ],
      "metadata": {
        "colab": {
          "base_uri": "https://localhost:8080/"
        },
        "id": "NKi43MiW8y0O",
        "outputId": "043df0f3-8d1c-44ac-d7a4-42016eccdc87"
      },
      "execution_count": null,
      "outputs": [
        {
          "output_type": "stream",
          "name": "stdout",
          "text": [
            "Before 0\n",
            "1 9\n",
            "2 41\n",
            "3 37\n",
            "4 33\n",
            "5 12\n",
            "6 98\n",
            "7 101\n",
            "After 7\n"
          ]
        }
      ]
    },
    {
      "cell_type": "markdown",
      "source": [
        "### Summing in a Loop"
      ],
      "metadata": {
        "id": "0Qwf9-VT9pXi"
      }
    },
    {
      "cell_type": "code",
      "source": [
        "sum=0\n",
        "print('Before', sum)"
      ],
      "metadata": {
        "colab": {
          "base_uri": "https://localhost:8080/"
        },
        "id": "IDatu7JU9gQB",
        "outputId": "8ecf4e91-d05e-49bb-bcf2-3f2f251e72b2"
      },
      "execution_count": null,
      "outputs": [
        {
          "output_type": "stream",
          "name": "stdout",
          "text": [
            "Before 0\n"
          ]
        }
      ]
    },
    {
      "cell_type": "code",
      "source": [
        "for thing in [9,41,37,33,12,98,101]:\n",
        "  sum=sum+thing\n",
        "  print(sum,thing)\n",
        "print('After', sum)"
      ],
      "metadata": {
        "colab": {
          "base_uri": "https://localhost:8080/"
        },
        "id": "ioEzn_OT-JBV",
        "outputId": "2e782e04-f556-4329-a6a8-79242b1efb2e"
      },
      "execution_count": null,
      "outputs": [
        {
          "output_type": "stream",
          "name": "stdout",
          "text": [
            "9 9\n",
            "50 41\n",
            "87 37\n",
            "120 33\n",
            "132 12\n",
            "230 98\n",
            "331 101\n",
            "After 331\n"
          ]
        }
      ]
    },
    {
      "cell_type": "markdown",
      "source": [
        "### Finding the average in a loop"
      ],
      "metadata": {
        "id": "yGuIlYrO-djf"
      }
    },
    {
      "cell_type": "code",
      "source": [
        "count=0\n",
        "sum=0\n",
        "print('Before',count,sum)\n",
        "for value in [9,41,37,33,12,98,101]:\n",
        "  count=count+1\n",
        "  sum=sum+value\n",
        "  print(count,sum,value)\n",
        "print('After',count,sum,' Average=',sum/count)"
      ],
      "metadata": {
        "colab": {
          "base_uri": "https://localhost:8080/"
        },
        "id": "Pr0vgV1w-ZCs",
        "outputId": "3ab56c34-3131-40a0-eae1-13017196f7ca"
      },
      "execution_count": null,
      "outputs": [
        {
          "output_type": "stream",
          "name": "stdout",
          "text": [
            "Before 0 0\n",
            "1 9 9\n",
            "2 50 41\n",
            "3 87 37\n",
            "4 120 33\n",
            "5 132 12\n",
            "6 230 98\n",
            "7 331 101\n",
            "After 7 331  Average= 47.285714285714285\n"
          ]
        }
      ]
    },
    {
      "cell_type": "markdown",
      "source": [
        "### Filtering in a Loop"
      ],
      "metadata": {
        "id": "Th8j20EW_fRj"
      }
    },
    {
      "cell_type": "code",
      "source": [
        "print('Before')\n",
        "for value in [9,41,37,33,12,98,101]:\n",
        "  if value>20:\n",
        "    print('Large number',value)\n",
        "print('After')"
      ],
      "metadata": {
        "colab": {
          "base_uri": "https://localhost:8080/"
        },
        "id": "nKEnj-3w_at3",
        "outputId": "37acd9f4-b7b0-462b-ea9f-d7d30cd6f6d6"
      },
      "execution_count": null,
      "outputs": [
        {
          "output_type": "stream",
          "name": "stdout",
          "text": [
            "Before\n",
            "Large number 41\n",
            "Large number 37\n",
            "Large number 33\n",
            "Large number 98\n",
            "Large number 101\n",
            "After\n"
          ]
        }
      ]
    },
    {
      "cell_type": "markdown",
      "source": [
        "### Search using a boolean Variable"
      ],
      "metadata": {
        "id": "9EsTw1Gd_2NW"
      }
    },
    {
      "cell_type": "code",
      "source": [
        "found=False\n",
        "print('Before',found)\n",
        "for value in [9,41,37,33,12,98,101]:\n",
        "  if value==33:\n",
        "    found=True\n",
        "  print(found,value)\n",
        "print('After',found)"
      ],
      "metadata": {
        "colab": {
          "base_uri": "https://localhost:8080/"
        },
        "id": "2mlUPmta_ttZ",
        "outputId": "0c1677f9-5a5f-4844-b563-87878a3977b4"
      },
      "execution_count": null,
      "outputs": [
        {
          "output_type": "stream",
          "name": "stdout",
          "text": [
            "Before False\n",
            "False 9\n",
            "False 41\n",
            "False 37\n",
            "True 33\n",
            "True 12\n",
            "True 98\n",
            "True 101\n",
            "After True\n"
          ]
        }
      ]
    },
    {
      "cell_type": "markdown",
      "source": [
        "### Finding a smallest value"
      ],
      "metadata": {
        "id": "MnVoqn-KAbiz"
      }
    },
    {
      "cell_type": "code",
      "source": [
        "smallest_so_far =-1\n",
        "print('Before',smallest_so_far)\n",
        "for value in [9,41,37,33,12,98,101]:\n",
        "  if value<smallest_so_far:\n",
        "    smallest_so_far=value\n",
        "  print(smallest_so_far,value)\n",
        "print('After',smallest_so_far)"
      ],
      "metadata": {
        "colab": {
          "base_uri": "https://localhost:8080/"
        },
        "id": "HJhIqdi6CMSp",
        "outputId": "eb01a7d9-3e5b-4169-c107-d8768a27a40f"
      },
      "execution_count": null,
      "outputs": [
        {
          "output_type": "stream",
          "name": "stdout",
          "text": [
            "Before -1\n",
            "-1 9\n",
            "-1 41\n",
            "-1 37\n",
            "-1 33\n",
            "-1 12\n",
            "-1 98\n",
            "-1 101\n",
            "After -1\n"
          ]
        }
      ]
    },
    {
      "cell_type": "code",
      "source": [
        "smallest_so_far =None\n",
        "print('Before',smallest_so_far)\n",
        "for value in [9,41,37,33,12,98,101]:\n",
        "  if smallest_so_far==None:\n",
        "    smallest_so_far=value\n",
        "  elif value<smallest_so_far:\n",
        "    smallest_so_far=value\n",
        "  print(smallest_so_far,value)\n",
        "print('After',smallest_so_far)"
      ],
      "metadata": {
        "colab": {
          "base_uri": "https://localhost:8080/"
        },
        "id": "fWp-X85JCaGu",
        "outputId": "22cae075-047e-45cd-e082-6890889bfdd2"
      },
      "execution_count": null,
      "outputs": [
        {
          "output_type": "stream",
          "name": "stdout",
          "text": [
            "Before None\n",
            "9 9\n",
            "9 41\n",
            "9 37\n",
            "9 33\n",
            "9 12\n",
            "9 98\n",
            "9 101\n",
            "After 9\n"
          ]
        }
      ]
    },
    {
      "cell_type": "markdown",
      "source": [
        "## The \"is\" and \"is not\" operators."
      ],
      "metadata": {
        "id": "EGCf46vODPxN"
      }
    },
    {
      "cell_type": "code",
      "source": [
        "smallest_so_far =None\n",
        "print('Before',smallest_so_far)\n",
        "for value in [9,41,37,33,12,98,101]:\n",
        "  if smallest_so_far is None:\n",
        "    smallest_so_far=value\n",
        "  elif value<smallest_so_far:\n",
        "    smallest_so_far=value\n",
        "  print(smallest_so_far,value)\n",
        "print('After',smallest_so_far)"
      ],
      "metadata": {
        "colab": {
          "base_uri": "https://localhost:8080/"
        },
        "id": "S1uRs2fFC596",
        "outputId": "c1ace90a-98ba-4746-f1ec-b1119fcad92b"
      },
      "execution_count": null,
      "outputs": [
        {
          "output_type": "stream",
          "name": "stdout",
          "text": [
            "Before None\n",
            "9 9\n",
            "9 41\n",
            "9 37\n",
            "9 33\n",
            "9 12\n",
            "9 98\n",
            "9 101\n",
            "After 9\n"
          ]
        }
      ]
    },
    {
      "cell_type": "markdown",
      "source": [
        "##Exercise 1\n",
        "\n",
        "* Write a program which repeatedly reads integers until the user enters “done”. Once “done” is entered, print out the total, count, and average of the integers. If the user enters anything other than a integers, detect their mistake using try and except and print an error message and skip to the next integers."
      ],
      "metadata": {
        "id": "z_pWmGPMFngc"
      }
    },
    {
      "cell_type": "code",
      "source": [
        "sum=0\n",
        "count=0\n",
        "while True:\n",
        "  try:\n",
        "    num=input(\"Enter the number: \")\n",
        "    if num=='done':\n",
        "      break\n",
        "    sum=sum+int(num)\n",
        "    count=count+1\n",
        "    avg=sum/count\n",
        "  except:\n",
        "    print('Bad Data')\n",
        "    continue\n",
        "print(sum,count,avg)"
      ],
      "metadata": {
        "colab": {
          "base_uri": "https://localhost:8080/"
        },
        "id": "h7bNz-oyDgog",
        "outputId": "2a060b1c-df90-4347-8626-aa931ece974a"
      },
      "execution_count": null,
      "outputs": [
        {
          "output_type": "stream",
          "name": "stdout",
          "text": [
            "Enter the number: 12\n",
            "Enter the number: 3\n",
            "Enter the number: 12\n",
            "Enter the number: d\n",
            "Bad Data\n",
            "Enter the number: 2131\n",
            "Enter the number: done\n",
            "2158 4 539.5\n"
          ]
        }
      ]
    },
    {
      "cell_type": "markdown",
      "source": [
        "##Exercise 2\n",
        "\n",
        "* Write another program that prompts for a list of numbers as above and at the end prints out both the maximum and minimum of the numbers instead of the average."
      ],
      "metadata": {
        "id": "_fCCt3D4HkCA"
      }
    },
    {
      "cell_type": "code",
      "source": [
        "max = None\n",
        "min = None\n",
        "print('Before', max, min)\n",
        "while True:\n",
        "  try:\n",
        "    num=input('Enter a Number ')\n",
        "    if num=='done':\n",
        "      break\n",
        "    num=int(num)\n",
        "    if max==None or max <= num:\n",
        "      max=num\n",
        "    if min==None or min > num :\n",
        "      min = num\n",
        "  except:\n",
        "    print('Please enter a number ')\n",
        "print('minimum',min)\n",
        "print('maximum',max)"
      ],
      "metadata": {
        "colab": {
          "base_uri": "https://localhost:8080/"
        },
        "id": "JgFLWT1yHH98",
        "outputId": "ed254a91-cc6e-4405-a2b0-e4dabfebed41"
      },
      "execution_count": null,
      "outputs": [
        {
          "output_type": "stream",
          "name": "stdout",
          "text": [
            "Before None None\n",
            "Enter a Number 21\n",
            "Enter a Number 212\n",
            "Enter a Number 31221\n",
            "Enter a Number 1\n",
            "Enter a Number -1221312\n",
            "Enter a Number er\n",
            "Please enter a number \n",
            "Enter a Number 2\n",
            "Enter a Number done\n",
            "minimum -1221312\n",
            "maximum 31221\n"
          ]
        }
      ]
    },
    {
      "cell_type": "markdown",
      "source": [
        "##Quizzes"
      ],
      "metadata": {
        "id": "TXWOGNDxLZ2Y"
      }
    },
    {
      "cell_type": "code",
      "source": [
        "tot = 0\n",
        "for i in [5, 4, 3, 2, 1] :\n",
        "    tot = tot + 1\n",
        "print(tot)"
      ],
      "metadata": {
        "colab": {
          "base_uri": "https://localhost:8080/"
        },
        "id": "TX4MJuKQINPq",
        "outputId": "af0b7c7b-3368-405d-88bd-f05473fe9721"
      },
      "execution_count": null,
      "outputs": [
        {
          "output_type": "stream",
          "name": "stdout",
          "text": [
            "5\n"
          ]
        }
      ]
    },
    {
      "cell_type": "markdown",
      "source": [
        "# CHAPTER 6: Strings"
      ],
      "metadata": {
        "id": "ZVGjSWKoXZ4p"
      }
    },
    {
      "cell_type": "markdown",
      "source": [
        "## String data type"
      ],
      "metadata": {
        "id": "cQd03gGpXppr"
      }
    },
    {
      "cell_type": "code",
      "source": [
        "str1 = \"Hello\"\n",
        "str2 = 'there'\n",
        "bob = str1 + str2\n",
        "print(bob)"
      ],
      "metadata": {
        "colab": {
          "base_uri": "https://localhost:8080/"
        },
        "id": "HrKszOR0LfZP",
        "outputId": "7c174af7-7418-4f33-9ab1-23b3dbb0a740"
      },
      "execution_count": null,
      "outputs": [
        {
          "output_type": "stream",
          "name": "stdout",
          "text": [
            "Hellothere\n"
          ]
        }
      ]
    },
    {
      "cell_type": "code",
      "source": [
        "str3 = '123'\n",
        "str3 = str3 + 1"
      ],
      "metadata": {
        "colab": {
          "base_uri": "https://localhost:8080/",
          "height": 158
        },
        "id": "NZk8hc2yXzz0",
        "outputId": "c52bdc3f-b40e-4988-b1b2-30478c6d682c"
      },
      "execution_count": null,
      "outputs": [
        {
          "output_type": "error",
          "ename": "TypeError",
          "evalue": "can only concatenate str (not \"int\") to str",
          "traceback": [
            "\u001b[0;31m---------------------------------------------------------------------------\u001b[0m",
            "\u001b[0;31mTypeError\u001b[0m                                 Traceback (most recent call last)",
            "\u001b[0;32m<ipython-input-44-a3c2e55be021>\u001b[0m in \u001b[0;36m<cell line: 2>\u001b[0;34m()\u001b[0m\n\u001b[1;32m      1\u001b[0m \u001b[0mstr3\u001b[0m \u001b[0;34m=\u001b[0m \u001b[0;34m'123'\u001b[0m\u001b[0;34m\u001b[0m\u001b[0;34m\u001b[0m\u001b[0m\n\u001b[0;32m----> 2\u001b[0;31m \u001b[0mstr3\u001b[0m \u001b[0;34m=\u001b[0m \u001b[0mstr3\u001b[0m \u001b[0;34m+\u001b[0m \u001b[0;36m1\u001b[0m\u001b[0;34m\u001b[0m\u001b[0;34m\u001b[0m\u001b[0m\n\u001b[0m",
            "\u001b[0;31mTypeError\u001b[0m: can only concatenate str (not \"int\") to str"
          ]
        }
      ]
    },
    {
      "cell_type": "code",
      "source": [
        "# Adding numerical string by converting them\n",
        "\n",
        "x = int(str3)+1\n",
        "x"
      ],
      "metadata": {
        "colab": {
          "base_uri": "https://localhost:8080/"
        },
        "id": "2NlkXiG_X-F2",
        "outputId": "4dcfc7c6-41b8-4fce-d755-8eed237e3460"
      },
      "execution_count": null,
      "outputs": [
        {
          "output_type": "execute_result",
          "data": {
            "text/plain": [
              "124"
            ]
          },
          "metadata": {},
          "execution_count": 45
        }
      ]
    },
    {
      "cell_type": "markdown",
      "source": [
        "## Reading and converting"
      ],
      "metadata": {
        "id": "Ul9uIceQYOtu"
      }
    },
    {
      "cell_type": "code",
      "source": [
        "name = input('Enter:')\n",
        "print(name)"
      ],
      "metadata": {
        "colab": {
          "base_uri": "https://localhost:8080/"
        },
        "id": "mew3EfVjYMX6",
        "outputId": "0b782951-c3a4-4156-ceb4-3ba178925951"
      },
      "execution_count": null,
      "outputs": [
        {
          "output_type": "stream",
          "name": "stdout",
          "text": [
            "Enter:Abhishek Narayanaswamy\n",
            "Abhishek Narayanaswamy\n"
          ]
        }
      ]
    },
    {
      "cell_type": "code",
      "source": [
        "apple = input('Enter:')\n",
        "x = apple-10\n",
        "print(x)"
      ],
      "metadata": {
        "colab": {
          "base_uri": "https://localhost:8080/",
          "height": 193
        },
        "id": "yiXbyrrEYT0g",
        "outputId": "c0ae9107-1c46-472c-c5c3-c34c18928bce"
      },
      "execution_count": null,
      "outputs": [
        {
          "name": "stdout",
          "output_type": "stream",
          "text": [
            "Enter:10\n"
          ]
        },
        {
          "output_type": "error",
          "ename": "TypeError",
          "evalue": "unsupported operand type(s) for -: 'str' and 'int'",
          "traceback": [
            "\u001b[0;31m---------------------------------------------------------------------------\u001b[0m",
            "\u001b[0;31mTypeError\u001b[0m                                 Traceback (most recent call last)",
            "\u001b[0;32m<ipython-input-48-aae33691cced>\u001b[0m in \u001b[0;36m<cell line: 2>\u001b[0;34m()\u001b[0m\n\u001b[1;32m      1\u001b[0m \u001b[0mapple\u001b[0m \u001b[0;34m=\u001b[0m \u001b[0minput\u001b[0m\u001b[0;34m(\u001b[0m\u001b[0;34m'Enter:'\u001b[0m\u001b[0;34m)\u001b[0m\u001b[0;34m\u001b[0m\u001b[0;34m\u001b[0m\u001b[0m\n\u001b[0;32m----> 2\u001b[0;31m \u001b[0mx\u001b[0m \u001b[0;34m=\u001b[0m \u001b[0mapple\u001b[0m\u001b[0;34m-\u001b[0m\u001b[0;36m10\u001b[0m\u001b[0;34m\u001b[0m\u001b[0;34m\u001b[0m\u001b[0m\n\u001b[0m\u001b[1;32m      3\u001b[0m \u001b[0mprint\u001b[0m\u001b[0;34m(\u001b[0m\u001b[0mx\u001b[0m\u001b[0;34m)\u001b[0m\u001b[0;34m\u001b[0m\u001b[0;34m\u001b[0m\u001b[0m\n",
            "\u001b[0;31mTypeError\u001b[0m: unsupported operand type(s) for -: 'str' and 'int'"
          ]
        }
      ]
    },
    {
      "cell_type": "code",
      "source": [
        "x = int(apple)-10\n",
        "print(x)"
      ],
      "metadata": {
        "colab": {
          "base_uri": "https://localhost:8080/"
        },
        "id": "kEjA7aLsYc4j",
        "outputId": "f0ab5ad7-ad6e-4ee8-d074-e9014c479c53"
      },
      "execution_count": null,
      "outputs": [
        {
          "output_type": "stream",
          "name": "stdout",
          "text": [
            "0\n"
          ]
        }
      ]
    },
    {
      "cell_type": "markdown",
      "source": [
        "## Looking inside a string"
      ],
      "metadata": {
        "id": "iYfWkbrhYsA7"
      }
    },
    {
      "cell_type": "code",
      "source": [
        "fruit='banana'"
      ],
      "metadata": {
        "id": "DxwfSBPyYobZ"
      },
      "execution_count": null,
      "outputs": []
    },
    {
      "cell_type": "code",
      "source": [
        "letter = fruit[1]"
      ],
      "metadata": {
        "id": "BZ2pc-s4YxnU"
      },
      "execution_count": null,
      "outputs": []
    },
    {
      "cell_type": "code",
      "source": [
        "letter"
      ],
      "metadata": {
        "colab": {
          "base_uri": "https://localhost:8080/",
          "height": 36
        },
        "id": "mnwd2yZmY0bD",
        "outputId": "799c7a62-ba3a-4ca7-c2cc-591ad646b8a5"
      },
      "execution_count": null,
      "outputs": [
        {
          "output_type": "execute_result",
          "data": {
            "text/plain": [
              "'a'"
            ],
            "application/vnd.google.colaboratory.intrinsic+json": {
              "type": "string"
            }
          },
          "metadata": {},
          "execution_count": 52
        }
      ]
    },
    {
      "cell_type": "code",
      "source": [
        "x=3"
      ],
      "metadata": {
        "id": "7RMIHgAXY1QC"
      },
      "execution_count": null,
      "outputs": []
    },
    {
      "cell_type": "code",
      "source": [
        "w=fruit[x-1]"
      ],
      "metadata": {
        "id": "gPtU06AAY3Xw"
      },
      "execution_count": null,
      "outputs": []
    },
    {
      "cell_type": "code",
      "source": [
        "w"
      ],
      "metadata": {
        "colab": {
          "base_uri": "https://localhost:8080/",
          "height": 36
        },
        "id": "9fYZ8qo_Y6HX",
        "outputId": "6e0eb6cf-58e2-4650-a5b3-16018b1f09c3"
      },
      "execution_count": null,
      "outputs": [
        {
          "output_type": "execute_result",
          "data": {
            "text/plain": [
              "'n'"
            ],
            "application/vnd.google.colaboratory.intrinsic+json": {
              "type": "string"
            }
          },
          "metadata": {},
          "execution_count": 55
        }
      ]
    },
    {
      "cell_type": "markdown",
      "source": [
        "## A character too far"
      ],
      "metadata": {
        "id": "vwcR8KU5Y_M8"
      }
    },
    {
      "cell_type": "code",
      "source": [
        "zot = 'acb'"
      ],
      "metadata": {
        "id": "pQX8ruzWY6xj"
      },
      "execution_count": null,
      "outputs": []
    },
    {
      "cell_type": "code",
      "source": [
        "zot[4]"
      ],
      "metadata": {
        "colab": {
          "base_uri": "https://localhost:8080/",
          "height": 141
        },
        "id": "wBDlWafcZD0O",
        "outputId": "ae081d04-5293-4e7c-c116-f53397593dc6"
      },
      "execution_count": null,
      "outputs": [
        {
          "output_type": "error",
          "ename": "IndexError",
          "evalue": "string index out of range",
          "traceback": [
            "\u001b[0;31m---------------------------------------------------------------------------\u001b[0m",
            "\u001b[0;31mIndexError\u001b[0m                                Traceback (most recent call last)",
            "\u001b[0;32m<ipython-input-57-338ac1b13cfc>\u001b[0m in \u001b[0;36m<cell line: 1>\u001b[0;34m()\u001b[0m\n\u001b[0;32m----> 1\u001b[0;31m \u001b[0mzot\u001b[0m\u001b[0;34m[\u001b[0m\u001b[0;36m4\u001b[0m\u001b[0;34m]\u001b[0m\u001b[0;34m\u001b[0m\u001b[0;34m\u001b[0m\u001b[0m\n\u001b[0m",
            "\u001b[0;31mIndexError\u001b[0m: string index out of range"
          ]
        }
      ]
    },
    {
      "cell_type": "markdown",
      "source": [
        "## Strings have length"
      ],
      "metadata": {
        "id": "6Mu0MhGOZLxl"
      }
    },
    {
      "cell_type": "code",
      "source": [
        "fruit='Peach'\n",
        "print(len(fruit))"
      ],
      "metadata": {
        "colab": {
          "base_uri": "https://localhost:8080/"
        },
        "id": "pXQrE8BHZGPl",
        "outputId": "adc0c0a9-529a-40a6-9470-85f9e12b6e2d"
      },
      "execution_count": null,
      "outputs": [
        {
          "output_type": "stream",
          "name": "stdout",
          "text": [
            "5\n"
          ]
        }
      ]
    },
    {
      "cell_type": "markdown",
      "source": [
        "## Looping through strings"
      ],
      "metadata": {
        "id": "GmmSDBTMZcWf"
      }
    },
    {
      "cell_type": "markdown",
      "source": [
        "### USing while loop"
      ],
      "metadata": {
        "id": "gPCkGYuSZgZ2"
      }
    },
    {
      "cell_type": "code",
      "source": [
        "fruit = 'banana'\n",
        "index=0\n",
        "while index<len(fruit):\n",
        "  letter = fruit[index]\n",
        "  print(index,letter)\n",
        "  index=index+1"
      ],
      "metadata": {
        "colab": {
          "base_uri": "https://localhost:8080/"
        },
        "id": "5bJaL21mZUyz",
        "outputId": "54ab91d9-2d89-47ab-bef4-d677b17f1f81"
      },
      "execution_count": null,
      "outputs": [
        {
          "output_type": "stream",
          "name": "stdout",
          "text": [
            "0 b\n",
            "1 a\n",
            "2 n\n",
            "3 a\n",
            "4 n\n",
            "5 a\n"
          ]
        }
      ]
    },
    {
      "cell_type": "markdown",
      "source": [
        "### Using for loop"
      ],
      "metadata": {
        "id": "D_U0C4NWZ51S"
      }
    },
    {
      "cell_type": "code",
      "source": [
        "fruit = 'banana'\n",
        "for letter in fruit:\n",
        "  print(letter)"
      ],
      "metadata": {
        "colab": {
          "base_uri": "https://localhost:8080/"
        },
        "id": "9zpzQreVZ3qB",
        "outputId": "042f60c3-4169-446a-e2b1-05f3abf13657"
      },
      "execution_count": null,
      "outputs": [
        {
          "output_type": "stream",
          "name": "stdout",
          "text": [
            "b\n",
            "a\n",
            "n\n",
            "a\n",
            "n\n",
            "a\n"
          ]
        }
      ]
    },
    {
      "cell_type": "markdown",
      "source": [
        "### Looping and counting"
      ],
      "metadata": {
        "id": "HS9gAU1PaJGZ"
      }
    },
    {
      "cell_type": "code",
      "source": [
        "word = 'banana'\n",
        "count = 0\n",
        "for letter in word:\n",
        "  if letter == 'a':\n",
        "    count+=1\n",
        "print(count)"
      ],
      "metadata": {
        "colab": {
          "base_uri": "https://localhost:8080/"
        },
        "id": "yuJWnZESaDwU",
        "outputId": "7fb0a9c7-5412-4be6-c70f-aecbba779e23"
      },
      "execution_count": null,
      "outputs": [
        {
          "output_type": "stream",
          "name": "stdout",
          "text": [
            "3\n"
          ]
        }
      ]
    },
    {
      "cell_type": "markdown",
      "source": [
        "### Looking deeper into \"in\""
      ],
      "metadata": {
        "id": "NeoP_ZdKamgn"
      }
    },
    {
      "cell_type": "code",
      "source": [
        "for letter in 'banana':\n",
        "  print(letter)"
      ],
      "metadata": {
        "colab": {
          "base_uri": "https://localhost:8080/"
        },
        "id": "MJXL1wpUafxP",
        "outputId": "354879cd-9706-4c14-b998-a6aac24b67e4"
      },
      "execution_count": null,
      "outputs": [
        {
          "output_type": "stream",
          "name": "stdout",
          "text": [
            "b\n",
            "a\n",
            "n\n",
            "a\n",
            "n\n",
            "a\n"
          ]
        }
      ]
    },
    {
      "cell_type": "markdown",
      "source": [
        "## String operations"
      ],
      "metadata": {
        "id": "oF5Q65CzgByE"
      }
    },
    {
      "cell_type": "markdown",
      "source": [
        "### Slicing strings"
      ],
      "metadata": {
        "id": "zPwAJaaugFTl"
      }
    },
    {
      "cell_type": "code",
      "source": [
        "s = 'Monty Python'"
      ],
      "metadata": {
        "id": "a_4e1_t1avZ_"
      },
      "execution_count": null,
      "outputs": []
    },
    {
      "cell_type": "code",
      "source": [
        "print(s[0:4])"
      ],
      "metadata": {
        "colab": {
          "base_uri": "https://localhost:8080/"
        },
        "id": "WfikDS35gREg",
        "outputId": "dc0237b4-95f3-4a8f-9a3c-091dbe119d36"
      },
      "execution_count": null,
      "outputs": [
        {
          "output_type": "stream",
          "name": "stdout",
          "text": [
            "Mont\n"
          ]
        }
      ]
    },
    {
      "cell_type": "code",
      "source": [
        "print(s[6:7])"
      ],
      "metadata": {
        "colab": {
          "base_uri": "https://localhost:8080/"
        },
        "id": "rSQKhxg0gUCs",
        "outputId": "0c048fb8-ad3b-47eb-e1a3-0dd75478ebdf"
      },
      "execution_count": null,
      "outputs": [
        {
          "output_type": "stream",
          "name": "stdout",
          "text": [
            "P\n"
          ]
        }
      ]
    },
    {
      "cell_type": "code",
      "source": [
        "print(len(s))"
      ],
      "metadata": {
        "colab": {
          "base_uri": "https://localhost:8080/"
        },
        "id": "9X3-H3ZAggG4",
        "outputId": "1f4bd2e0-e2f8-4206-d58c-d8e214221645"
      },
      "execution_count": null,
      "outputs": [
        {
          "output_type": "stream",
          "name": "stdout",
          "text": [
            "12\n"
          ]
        }
      ]
    },
    {
      "cell_type": "code",
      "source": [
        "print(s[6:20])"
      ],
      "metadata": {
        "colab": {
          "base_uri": "https://localhost:8080/"
        },
        "id": "0l6w6kI0gZpk",
        "outputId": "63e1cd57-29af-4fc6-ab84-356907b75cb3"
      },
      "execution_count": null,
      "outputs": [
        {
          "output_type": "stream",
          "name": "stdout",
          "text": [
            "Python\n"
          ]
        }
      ]
    },
    {
      "cell_type": "code",
      "source": [
        "print(s[:2])"
      ],
      "metadata": {
        "colab": {
          "base_uri": "https://localhost:8080/"
        },
        "id": "Gwne7DJPgfVM",
        "outputId": "20328cb2-ee2c-4907-d221-2d65a4820bbb"
      },
      "execution_count": null,
      "outputs": [
        {
          "output_type": "stream",
          "name": "stdout",
          "text": [
            "Mo\n"
          ]
        }
      ]
    },
    {
      "cell_type": "code",
      "source": [
        "print(s[8:])"
      ],
      "metadata": {
        "colab": {
          "base_uri": "https://localhost:8080/"
        },
        "id": "BMSbmVv1hqbL",
        "outputId": "d640c2c8-44e0-4283-c406-f19e73f25257"
      },
      "execution_count": null,
      "outputs": [
        {
          "output_type": "stream",
          "name": "stdout",
          "text": [
            "thon\n"
          ]
        }
      ]
    },
    {
      "cell_type": "code",
      "source": [
        "print(s[:])"
      ],
      "metadata": {
        "colab": {
          "base_uri": "https://localhost:8080/"
        },
        "id": "vukpHFxshvnd",
        "outputId": "adc0a69d-0c1f-4da1-fa33-2d24f100c9bc"
      },
      "execution_count": null,
      "outputs": [
        {
          "output_type": "stream",
          "name": "stdout",
          "text": [
            "Monty Python\n"
          ]
        }
      ]
    },
    {
      "cell_type": "markdown",
      "source": [
        "### String Concatenation"
      ],
      "metadata": {
        "id": "DFKg4u3sh3RJ"
      }
    },
    {
      "cell_type": "code",
      "source": [
        "a = 'Hello'"
      ],
      "metadata": {
        "id": "yxEcsX91h1IE"
      },
      "execution_count": null,
      "outputs": []
    },
    {
      "cell_type": "code",
      "source": [
        "b=a+'There'"
      ],
      "metadata": {
        "id": "YJxEEcMuh843"
      },
      "execution_count": null,
      "outputs": []
    },
    {
      "cell_type": "code",
      "source": [
        "print(b)"
      ],
      "metadata": {
        "colab": {
          "base_uri": "https://localhost:8080/"
        },
        "id": "DY0RWqvYiAZg",
        "outputId": "e89bc24b-0fc2-4cf2-bdd7-a04d5a8bdf98"
      },
      "execution_count": null,
      "outputs": [
        {
          "output_type": "stream",
          "name": "stdout",
          "text": [
            "HelloThere\n"
          ]
        }
      ]
    },
    {
      "cell_type": "code",
      "source": [
        "c=a+' '+'There'\n",
        "print(c)"
      ],
      "metadata": {
        "colab": {
          "base_uri": "https://localhost:8080/"
        },
        "id": "zrCny7y6iBxM",
        "outputId": "1caf31b6-2980-4b3c-caab-7f8bc50ee64a"
      },
      "execution_count": null,
      "outputs": [
        {
          "output_type": "stream",
          "name": "stdout",
          "text": [
            "Hello There\n"
          ]
        }
      ]
    },
    {
      "cell_type": "markdown",
      "source": [
        "### Using in as logical operator"
      ],
      "metadata": {
        "id": "dNeeoJe8iJjY"
      }
    },
    {
      "cell_type": "code",
      "source": [
        "fruit = 'banana'"
      ],
      "metadata": {
        "id": "uXJwoG6ciGeA"
      },
      "execution_count": null,
      "outputs": []
    },
    {
      "cell_type": "code",
      "source": [
        "'n' in fruit"
      ],
      "metadata": {
        "colab": {
          "base_uri": "https://localhost:8080/"
        },
        "id": "PCVG4INEiPeZ",
        "outputId": "807afe56-f1da-4e6c-b218-7998658e1171"
      },
      "execution_count": null,
      "outputs": [
        {
          "output_type": "execute_result",
          "data": {
            "text/plain": [
              "True"
            ]
          },
          "metadata": {},
          "execution_count": 77
        }
      ]
    },
    {
      "cell_type": "code",
      "source": [
        "'m' in fruit"
      ],
      "metadata": {
        "colab": {
          "base_uri": "https://localhost:8080/"
        },
        "id": "p9ZdCJrhiR_d",
        "outputId": "52bc7a82-801b-4c9d-f0bf-967593c3ce7a"
      },
      "execution_count": null,
      "outputs": [
        {
          "output_type": "execute_result",
          "data": {
            "text/plain": [
              "False"
            ]
          },
          "metadata": {},
          "execution_count": 78
        }
      ]
    },
    {
      "cell_type": "code",
      "source": [
        "'nan' in fruit"
      ],
      "metadata": {
        "colab": {
          "base_uri": "https://localhost:8080/"
        },
        "id": "0kgwb1bAiT8c",
        "outputId": "e9870924-64a3-4852-f3fe-d2a3aa6084ee"
      },
      "execution_count": null,
      "outputs": [
        {
          "output_type": "execute_result",
          "data": {
            "text/plain": [
              "True"
            ]
          },
          "metadata": {},
          "execution_count": 79
        }
      ]
    },
    {
      "cell_type": "code",
      "source": [
        "if 'a'in fruit:\n",
        "  print('Found it')"
      ],
      "metadata": {
        "colab": {
          "base_uri": "https://localhost:8080/"
        },
        "id": "_zkDU5f1iaxa",
        "outputId": "bbd8253d-b4cb-4a5b-9d5f-50a7cc05e7f2"
      },
      "execution_count": null,
      "outputs": [
        {
          "output_type": "stream",
          "name": "stdout",
          "text": [
            "Found it\n"
          ]
        }
      ]
    },
    {
      "cell_type": "markdown",
      "source": [
        "### String library"
      ],
      "metadata": {
        "id": "VmO1fVV5iqRO"
      }
    },
    {
      "cell_type": "code",
      "source": [
        "greet = 'Hello Abhishek Narayanaswamy'"
      ],
      "metadata": {
        "id": "_vDeQfXeifMf"
      },
      "execution_count": null,
      "outputs": []
    },
    {
      "cell_type": "code",
      "source": [
        "zap = greet.lower()"
      ],
      "metadata": {
        "id": "tqT0_zB0jDuy"
      },
      "execution_count": null,
      "outputs": []
    },
    {
      "cell_type": "code",
      "source": [
        "print(zap)"
      ],
      "metadata": {
        "colab": {
          "base_uri": "https://localhost:8080/"
        },
        "id": "lvS11-DmjKml",
        "outputId": "a86d3015-abff-4f36-d73b-d888f54e50c4"
      },
      "execution_count": null,
      "outputs": [
        {
          "output_type": "stream",
          "name": "stdout",
          "text": [
            "hello abhishek narayanaswamy\n"
          ]
        }
      ]
    },
    {
      "cell_type": "code",
      "source": [
        "print(greet)"
      ],
      "metadata": {
        "colab": {
          "base_uri": "https://localhost:8080/"
        },
        "id": "KVvGUevajNN2",
        "outputId": "8b4a5eae-9526-4886-edf1-703905a59959"
      },
      "execution_count": null,
      "outputs": [
        {
          "output_type": "stream",
          "name": "stdout",
          "text": [
            "Hello Abhishek Narayanaswamy\n"
          ]
        }
      ]
    },
    {
      "cell_type": "code",
      "source": [
        "print('Hi There'.lower())"
      ],
      "metadata": {
        "colab": {
          "base_uri": "https://localhost:8080/"
        },
        "id": "1J_fCMejjRWI",
        "outputId": "a49ef3df-6f8b-45c6-b60f-04b5e5dc10ca"
      },
      "execution_count": null,
      "outputs": [
        {
          "output_type": "stream",
          "name": "stdout",
          "text": [
            "hi there\n"
          ]
        }
      ]
    },
    {
      "cell_type": "code",
      "source": [
        "stuff = 'Hello World'"
      ],
      "metadata": {
        "id": "ryNDRP3pjZle"
      },
      "execution_count": null,
      "outputs": []
    },
    {
      "cell_type": "code",
      "source": [
        "type(stuff)"
      ],
      "metadata": {
        "colab": {
          "base_uri": "https://localhost:8080/"
        },
        "id": "ZDDgc2CGjeVG",
        "outputId": "00e1b182-ff73-48f2-a445-c9ea2f8d903e"
      },
      "execution_count": null,
      "outputs": [
        {
          "output_type": "execute_result",
          "data": {
            "text/plain": [
              "str"
            ]
          },
          "metadata": {},
          "execution_count": 88
        }
      ]
    },
    {
      "cell_type": "code",
      "source": [
        "print(dir(stuff))"
      ],
      "metadata": {
        "colab": {
          "base_uri": "https://localhost:8080/"
        },
        "id": "OCXpabVDjiOR",
        "outputId": "b5ec279e-4de0-4d7e-f1a1-5a45b4544546"
      },
      "execution_count": null,
      "outputs": [
        {
          "output_type": "stream",
          "name": "stdout",
          "text": [
            "['__add__', '__class__', '__contains__', '__delattr__', '__dir__', '__doc__', '__eq__', '__format__', '__ge__', '__getattribute__', '__getitem__', '__getnewargs__', '__gt__', '__hash__', '__init__', '__init_subclass__', '__iter__', '__le__', '__len__', '__lt__', '__mod__', '__mul__', '__ne__', '__new__', '__reduce__', '__reduce_ex__', '__repr__', '__rmod__', '__rmul__', '__setattr__', '__sizeof__', '__str__', '__subclasshook__', 'capitalize', 'casefold', 'center', 'count', 'encode', 'endswith', 'expandtabs', 'find', 'format', 'format_map', 'index', 'isalnum', 'isalpha', 'isascii', 'isdecimal', 'isdigit', 'isidentifier', 'islower', 'isnumeric', 'isprintable', 'isspace', 'istitle', 'isupper', 'join', 'ljust', 'lower', 'lstrip', 'maketrans', 'partition', 'removeprefix', 'removesuffix', 'replace', 'rfind', 'rindex', 'rjust', 'rpartition', 'rsplit', 'rstrip', 'split', 'splitlines', 'startswith', 'strip', 'swapcase', 'title', 'translate', 'upper', 'zfill']\n"
          ]
        }
      ]
    },
    {
      "cell_type": "markdown",
      "source": [
        "### Searching in a string"
      ],
      "metadata": {
        "id": "PVFwbxPJj1w_"
      }
    },
    {
      "cell_type": "code",
      "source": [
        "fruit = 'Banana'"
      ],
      "metadata": {
        "id": "kZ4ZdaIzjkWj"
      },
      "execution_count": null,
      "outputs": []
    },
    {
      "cell_type": "code",
      "source": [
        "pos = fruit.find('na')\n",
        "print(pos)"
      ],
      "metadata": {
        "colab": {
          "base_uri": "https://localhost:8080/"
        },
        "id": "AmElYSNzj6On",
        "outputId": "658acb09-f9dc-4994-de89-750e674d9b39"
      },
      "execution_count": null,
      "outputs": [
        {
          "output_type": "stream",
          "name": "stdout",
          "text": [
            "2\n"
          ]
        }
      ]
    },
    {
      "cell_type": "code",
      "source": [
        "aa = fruit.find('aa')\n",
        "print(aa)"
      ],
      "metadata": {
        "colab": {
          "base_uri": "https://localhost:8080/"
        },
        "id": "HcNZO6INj_tM",
        "outputId": "0938b4a1-131b-4f49-de70-8f8c923a414b"
      },
      "execution_count": null,
      "outputs": [
        {
          "output_type": "stream",
          "name": "stdout",
          "text": [
            "-1\n"
          ]
        }
      ]
    },
    {
      "cell_type": "markdown",
      "source": [
        "### Making everything uppercase"
      ],
      "metadata": {
        "id": "BK8p6uXMkPkI"
      }
    },
    {
      "cell_type": "code",
      "source": [
        "greet = 'Hello Abhishek Narayanaswamy'"
      ],
      "metadata": {
        "id": "YasgsiKqkPDr"
      },
      "execution_count": null,
      "outputs": []
    },
    {
      "cell_type": "code",
      "source": [
        "nnn = greet.upper()\n",
        "print(nnn)"
      ],
      "metadata": {
        "colab": {
          "base_uri": "https://localhost:8080/"
        },
        "id": "8W_fmakYkIiy",
        "outputId": "405a1a2f-460f-42aa-e250-f5775e0b06ec"
      },
      "execution_count": null,
      "outputs": [
        {
          "output_type": "stream",
          "name": "stdout",
          "text": [
            "HELLO ABHISHEK NARAYANASWAMY\n"
          ]
        }
      ]
    },
    {
      "cell_type": "code",
      "source": [
        "www = greet.lower()\n",
        "print(www)"
      ],
      "metadata": {
        "colab": {
          "base_uri": "https://localhost:8080/"
        },
        "id": "RUryH-53keg7",
        "outputId": "13926d38-fa24-4494-bd5b-cb807f9a9729"
      },
      "execution_count": null,
      "outputs": [
        {
          "output_type": "stream",
          "name": "stdout",
          "text": [
            "hello abhishek narayanaswamy\n"
          ]
        }
      ]
    },
    {
      "cell_type": "markdown",
      "source": [
        "### Search and replace"
      ],
      "metadata": {
        "id": "IlL-40gEkk_J"
      }
    },
    {
      "cell_type": "code",
      "source": [
        "greet = 'Hello Abhishek Narayanaswamy'\n",
        "ngreet = greet.replace('Abhishek Narayanaswamy','Ananya Panday')\n",
        "print(ngreet)"
      ],
      "metadata": {
        "colab": {
          "base_uri": "https://localhost:8080/"
        },
        "id": "Wj8N3VR5khMe",
        "outputId": "7297baff-e1d7-4cf3-c498-2882976ed7c1"
      },
      "execution_count": null,
      "outputs": [
        {
          "output_type": "stream",
          "name": "stdout",
          "text": [
            "Hello Ananya Panday\n"
          ]
        }
      ]
    },
    {
      "cell_type": "markdown",
      "source": [
        "### Stripping whitespace"
      ],
      "metadata": {
        "id": "qKulmTu3lJgY"
      }
    },
    {
      "cell_type": "code",
      "source": [
        "greet = ' Hello Abhishek Narayanaswamy '"
      ],
      "metadata": {
        "id": "rvNwHF5YlF-e"
      },
      "execution_count": null,
      "outputs": []
    },
    {
      "cell_type": "code",
      "source": [
        "greet.lstrip()"
      ],
      "metadata": {
        "colab": {
          "base_uri": "https://localhost:8080/",
          "height": 36
        },
        "id": "dC_qNPPvlQqi",
        "outputId": "d00e8f8d-4f87-412b-bdc4-bfe6aa33f3e4"
      },
      "execution_count": null,
      "outputs": [
        {
          "output_type": "execute_result",
          "data": {
            "text/plain": [
              "'Hello Abhishek Narayanaswamy '"
            ],
            "application/vnd.google.colaboratory.intrinsic+json": {
              "type": "string"
            }
          },
          "metadata": {},
          "execution_count": 100
        }
      ]
    },
    {
      "cell_type": "code",
      "source": [
        "greet.rstrip()"
      ],
      "metadata": {
        "colab": {
          "base_uri": "https://localhost:8080/",
          "height": 36
        },
        "id": "rcGhrwinlTfc",
        "outputId": "f0dee047-01a3-4294-d012-94289887a6c3"
      },
      "execution_count": null,
      "outputs": [
        {
          "output_type": "execute_result",
          "data": {
            "text/plain": [
              "' Hello Abhishek Narayanaswamy'"
            ],
            "application/vnd.google.colaboratory.intrinsic+json": {
              "type": "string"
            }
          },
          "metadata": {},
          "execution_count": 101
        }
      ]
    },
    {
      "cell_type": "code",
      "source": [
        "greet.strip()"
      ],
      "metadata": {
        "colab": {
          "base_uri": "https://localhost:8080/",
          "height": 36
        },
        "id": "bvg1AczZlWXT",
        "outputId": "6dfacee8-2324-4cbf-b184-84d442584d37"
      },
      "execution_count": null,
      "outputs": [
        {
          "output_type": "execute_result",
          "data": {
            "text/plain": [
              "'Hello Abhishek Narayanaswamy'"
            ],
            "application/vnd.google.colaboratory.intrinsic+json": {
              "type": "string"
            }
          },
          "metadata": {},
          "execution_count": 102
        }
      ]
    },
    {
      "cell_type": "markdown",
      "source": [
        "###Prefixes"
      ],
      "metadata": {
        "id": "LKhH-Uxolbb_"
      }
    },
    {
      "cell_type": "code",
      "source": [
        "line = 'Please have a nice day'\n",
        "line.startswith('Please')"
      ],
      "metadata": {
        "colab": {
          "base_uri": "https://localhost:8080/"
        },
        "id": "yAHzjY9ylZAo",
        "outputId": "2dada348-e05d-4f6f-a7e9-0e13c8b4c6de"
      },
      "execution_count": null,
      "outputs": [
        {
          "output_type": "execute_result",
          "data": {
            "text/plain": [
              "True"
            ]
          },
          "metadata": {},
          "execution_count": 103
        }
      ]
    },
    {
      "cell_type": "code",
      "source": [
        "line.startswith('p')"
      ],
      "metadata": {
        "colab": {
          "base_uri": "https://localhost:8080/"
        },
        "id": "7KNdCcBElpbj",
        "outputId": "d7dece9f-765d-47ab-ec11-1b7cab86da01"
      },
      "execution_count": null,
      "outputs": [
        {
          "output_type": "execute_result",
          "data": {
            "text/plain": [
              "False"
            ]
          },
          "metadata": {},
          "execution_count": 104
        }
      ]
    },
    {
      "cell_type": "markdown",
      "source": [
        "### Parsing and extracting"
      ],
      "metadata": {
        "id": "OErH-Yg9lun5"
      }
    },
    {
      "cell_type": "code",
      "source": [
        "data = 'From stephen.marquard@uct.ac.za Sat Jan  5 09:14:16 2008'"
      ],
      "metadata": {
        "id": "nCpukuTylrzX"
      },
      "execution_count": null,
      "outputs": []
    },
    {
      "cell_type": "code",
      "source": [
        "atpos = data.find('@')\n",
        "print(atpos)"
      ],
      "metadata": {
        "colab": {
          "base_uri": "https://localhost:8080/"
        },
        "id": "7bA8LI6MmMaG",
        "outputId": "15d0dff1-4e63-4fbe-e9c4-4c9a38d291f6"
      },
      "execution_count": null,
      "outputs": [
        {
          "output_type": "stream",
          "name": "stdout",
          "text": [
            "21\n"
          ]
        }
      ]
    },
    {
      "cell_type": "code",
      "source": [
        "Sppos = data.find(' ',atpos)\n",
        "print(Sppos)"
      ],
      "metadata": {
        "colab": {
          "base_uri": "https://localhost:8080/"
        },
        "id": "2I4KVx-NmRtA",
        "outputId": "f3424bcd-06af-40c3-84a9-3c5380d90119"
      },
      "execution_count": null,
      "outputs": [
        {
          "output_type": "stream",
          "name": "stdout",
          "text": [
            "31\n"
          ]
        }
      ]
    },
    {
      "cell_type": "code",
      "source": [
        "host = data[atpos+1 : Sppos]\n",
        "print(host)"
      ],
      "metadata": {
        "colab": {
          "base_uri": "https://localhost:8080/"
        },
        "id": "grFxAeCEmgi0",
        "outputId": "266aecf6-db3c-4113-ecc9-1ee918831080"
      },
      "execution_count": null,
      "outputs": [
        {
          "output_type": "stream",
          "name": "stdout",
          "text": [
            "uct.ac.za\n"
          ]
        }
      ]
    },
    {
      "cell_type": "markdown",
      "source": [
        "##Exercise 1\n",
        "\n",
        "* Write a while loop that starts at the last character in the string and works its way backwards to the first character in the string, printing each letter on a separate line, except backwards."
      ],
      "metadata": {
        "id": "uOL5RKVTpLhR"
      }
    },
    {
      "cell_type": "code",
      "source": [
        "fruit = 'banana'\n",
        "index = len(fruit)-1\n",
        "while index >=0:\n",
        "    letter = fruit[index]\n",
        "    print(letter)\n",
        "    index=index-1"
      ],
      "metadata": {
        "colab": {
          "base_uri": "https://localhost:8080/"
        },
        "id": "Td2ePRddmn_3",
        "outputId": "96ef57d6-896e-453d-bda3-65cebaa7d4d6"
      },
      "execution_count": null,
      "outputs": [
        {
          "output_type": "stream",
          "name": "stdout",
          "text": [
            "a\n",
            "n\n",
            "a\n",
            "n\n",
            "a\n",
            "b\n"
          ]
        }
      ]
    },
    {
      "cell_type": "markdown",
      "source": [
        "##Exercise 2\n",
        "* Given that fruit is a string, what does fruit[:] mean?"
      ],
      "metadata": {
        "id": "BnObz262pq19"
      }
    },
    {
      "cell_type": "code",
      "source": [
        "fruit = 'banana'\n",
        "print(fruit[:])"
      ],
      "metadata": {
        "colab": {
          "base_uri": "https://localhost:8080/"
        },
        "id": "nX46MFVjpo8T",
        "outputId": "67ddfcc4-a6e4-483c-fac6-0c518475dc13"
      },
      "execution_count": null,
      "outputs": [
        {
          "output_type": "stream",
          "name": "stdout",
          "text": [
            "banana\n"
          ]
        }
      ]
    },
    {
      "cell_type": "markdown",
      "source": [
        "##Exercise 3\n",
        "\n",
        "* Encapsulate this code in a function named count, and generalize it so that it accepts the string and the letter as arguments."
      ],
      "metadata": {
        "id": "XjhGPyTsp1iV"
      }
    },
    {
      "cell_type": "code",
      "source": [
        "def Count(string, character):\n",
        "  word = string\n",
        "  count = 0\n",
        "  for letter in word:\n",
        "      if letter == character:\n",
        "          count = count + 1\n",
        "  print(count)"
      ],
      "metadata": {
        "id": "FtTxpoiApv6e"
      },
      "execution_count": null,
      "outputs": []
    },
    {
      "cell_type": "code",
      "source": [
        "Count('Abhihsek Narayanaswamy', 'a')"
      ],
      "metadata": {
        "colab": {
          "base_uri": "https://localhost:8080/"
        },
        "id": "Bb2deC2XqAYD",
        "outputId": "64a0176e-eb30-423f-f665-a95e63416a1f"
      },
      "execution_count": null,
      "outputs": [
        {
          "output_type": "stream",
          "name": "stdout",
          "text": [
            "5\n"
          ]
        }
      ]
    },
    {
      "cell_type": "markdown",
      "source": [
        "##Exercise 4\n",
        "\n",
        "* There is a string method called count that is similar to the function in the previous exercise. Read the documentation of this method at:\n",
        "https://docs.python.org/library/stdtypes.html#string-methods\n",
        "Write an invocation that counts the number of times the letter a occurs in “banana”."
      ],
      "metadata": {
        "id": "b6QSz3qCqOGI"
      }
    },
    {
      "cell_type": "code",
      "source": [
        "fruit = 'banana'\n",
        "c = fruit.count('a')\n",
        "print(c)"
      ],
      "metadata": {
        "colab": {
          "base_uri": "https://localhost:8080/"
        },
        "id": "QYiAx7QRqG3Q",
        "outputId": "9e0bde3e-6b6e-4dbd-e5b7-ac270f9741b1"
      },
      "execution_count": null,
      "outputs": [
        {
          "output_type": "stream",
          "name": "stdout",
          "text": [
            "3\n"
          ]
        }
      ]
    },
    {
      "cell_type": "markdown",
      "source": [
        "## Exercise 5\n",
        "* Write code using find() and string slicing (see section 6.10) to extract the number at the end of the line below. Convert the extracted value to a floating point number and print it out."
      ],
      "metadata": {
        "id": "TDkpAmKFqcTx"
      }
    },
    {
      "cell_type": "code",
      "source": [
        "str = 'X-DSPAM-Confidence: 0.8475'\n",
        "x = str.find(':')\n",
        "print(x)"
      ],
      "metadata": {
        "colab": {
          "base_uri": "https://localhost:8080/"
        },
        "id": "BLkIAhwqqaem",
        "outputId": "3ed2e108-c459-4f08-af5e-3dad374d90ea"
      },
      "execution_count": null,
      "outputs": [
        {
          "output_type": "stream",
          "name": "stdout",
          "text": [
            "18\n"
          ]
        }
      ]
    },
    {
      "cell_type": "code",
      "source": [
        "val = str[x+1:]\n",
        "print('Before')\n",
        "print(val)"
      ],
      "metadata": {
        "colab": {
          "base_uri": "https://localhost:8080/"
        },
        "id": "GrhX9Kr7rinl",
        "outputId": "0857495c-0b4a-45d1-c1cc-4d3e4e7255c8"
      },
      "execution_count": null,
      "outputs": [
        {
          "output_type": "stream",
          "name": "stdout",
          "text": [
            "Before\n",
            " 0.8475\n"
          ]
        }
      ]
    },
    {
      "cell_type": "code",
      "source": [
        "print(type(val))"
      ],
      "metadata": {
        "colab": {
          "base_uri": "https://localhost:8080/"
        },
        "id": "3Ii_sAZ4rmBp",
        "outputId": "02f76eaa-d84f-4952-ea1a-dbf63cb06611"
      },
      "execution_count": null,
      "outputs": [
        {
          "output_type": "stream",
          "name": "stdout",
          "text": [
            "<class 'str'>\n"
          ]
        }
      ]
    },
    {
      "cell_type": "code",
      "source": [
        "val = float(val)\n",
        "print('After')\n",
        "print(val)\n",
        "print(type(val))"
      ],
      "metadata": {
        "colab": {
          "base_uri": "https://localhost:8080/"
        },
        "id": "QPUVaBfKrpVq",
        "outputId": "b3622d86-9a46-47e3-ec9a-9798295a8495"
      },
      "execution_count": null,
      "outputs": [
        {
          "output_type": "stream",
          "name": "stdout",
          "text": [
            "After\n",
            "0.8475\n",
            "<class 'float'>\n"
          ]
        }
      ]
    },
    {
      "cell_type": "markdown",
      "source": [
        "## Exercise 6\n",
        "* Read the documentation of the string methods at https://docs.python.org/library/stdtypes.html#string-methods.\n",
        "You might want to experiment with some of them to make sure you understand how they work. strip and replace are particularly useful."
      ],
      "metadata": {
        "id": "OVtaNYCFr3tB"
      }
    },
    {
      "cell_type": "code",
      "source": [
        "string = 'hello world!!!'"
      ],
      "metadata": {
        "id": "FiLRik67ruFj"
      },
      "execution_count": null,
      "outputs": []
    },
    {
      "cell_type": "code",
      "source": [
        "#capitalize: Return a copy of the string with its first character capitalized and the rest lowercased.\n",
        "print(string.capitalize())"
      ],
      "metadata": {
        "colab": {
          "base_uri": "https://localhost:8080/"
        },
        "id": "vC75dm-6r9QM",
        "outputId": "da170399-74a5-467e-b0d5-b259a8dd4f9a"
      },
      "execution_count": null,
      "outputs": [
        {
          "output_type": "stream",
          "name": "stdout",
          "text": [
            "Hello world!!!\n"
          ]
        }
      ]
    },
    {
      "cell_type": "code",
      "source": [
        "#casefold: Return a casefolded copy of the string. Casefolded strings may be used for caseless matching.\n",
        "print(string.casefold())"
      ],
      "metadata": {
        "colab": {
          "base_uri": "https://localhost:8080/"
        },
        "id": "kNh1z7Kbr_dN",
        "outputId": "bf8f8fa1-dbad-4c8c-c326-98fad000bcef"
      },
      "execution_count": null,
      "outputs": [
        {
          "output_type": "stream",
          "name": "stdout",
          "text": [
            "hello world!!!\n"
          ]
        }
      ]
    },
    {
      "cell_type": "code",
      "source": [
        "print(string.center(25, \"$\"))"
      ],
      "metadata": {
        "colab": {
          "base_uri": "https://localhost:8080/"
        },
        "id": "uXEEHufdsCFt",
        "outputId": "870d087d-d496-4be8-ea45-cfeec5672bb0"
      },
      "execution_count": null,
      "outputs": [
        {
          "output_type": "stream",
          "name": "stdout",
          "text": [
            "$$$$$$hello world!!!$$$$$\n"
          ]
        }
      ]
    },
    {
      "cell_type": "code",
      "source": [
        "print(string.endswith('!!!'))"
      ],
      "metadata": {
        "colab": {
          "base_uri": "https://localhost:8080/"
        },
        "id": "eA9gPEeksF87",
        "outputId": "55a842c0-4dbb-49fc-8092-51bc7e5e4993"
      },
      "execution_count": null,
      "outputs": [
        {
          "output_type": "stream",
          "name": "stdout",
          "text": [
            "True\n"
          ]
        }
      ]
    },
    {
      "cell_type": "code",
      "source": [
        "print('01\\t012\\t0123\\t01234'.expandtabs(tabsize=8))"
      ],
      "metadata": {
        "colab": {
          "base_uri": "https://localhost:8080/"
        },
        "id": "FIzWJJndsOv-",
        "outputId": "b75acece-52b3-4a4f-8654-91ecf9d7588a"
      },
      "execution_count": null,
      "outputs": [
        {
          "output_type": "stream",
          "name": "stdout",
          "text": [
            "01      012     0123    01234\n"
          ]
        }
      ]
    },
    {
      "cell_type": "markdown",
      "source": [
        "#05 AUG 2025"
      ],
      "metadata": {
        "id": "vzxJ77ps4m5A"
      }
    },
    {
      "cell_type": "markdown",
      "source": [
        "#Chapter 7: Files"
      ],
      "metadata": {
        "id": "WcLLl4IV4q2F"
      }
    },
    {
      "cell_type": "markdown",
      "source": [
        "##Opening a file"
      ],
      "metadata": {
        "id": "pfa25OPt4wwy"
      }
    },
    {
      "cell_type": "code",
      "source": [
        "fhand = open('mbox.txt')\n",
        "print(fhand)"
      ],
      "metadata": {
        "id": "imfWX14_sUz3",
        "colab": {
          "base_uri": "https://localhost:8080/"
        },
        "outputId": "6eb0017e-74fc-4428-f267-fca700df12df"
      },
      "execution_count": 15,
      "outputs": [
        {
          "output_type": "stream",
          "name": "stdout",
          "text": [
            "<_io.TextIOWrapper name='mbox.txt' mode='r' encoding='utf-8'>\n"
          ]
        }
      ]
    },
    {
      "cell_type": "code",
      "source": [
        "# When files are missing\n",
        "fhand = open('stuff.txt')"
      ],
      "metadata": {
        "colab": {
          "base_uri": "https://localhost:8080/",
          "height": 158
        },
        "id": "VItzmH7k5HdQ",
        "outputId": "a950cb1d-f98f-4aef-d339-471243c33ab8"
      },
      "execution_count": 16,
      "outputs": [
        {
          "output_type": "error",
          "ename": "FileNotFoundError",
          "evalue": "[Errno 2] No such file or directory: 'stuff.txt'",
          "traceback": [
            "\u001b[0;31m---------------------------------------------------------------------------\u001b[0m",
            "\u001b[0;31mFileNotFoundError\u001b[0m                         Traceback (most recent call last)",
            "\u001b[0;32m/tmp/ipython-input-3793307665.py\u001b[0m in \u001b[0;36m<cell line: 0>\u001b[0;34m()\u001b[0m\n\u001b[1;32m      1\u001b[0m \u001b[0;31m# When files are missing\u001b[0m\u001b[0;34m\u001b[0m\u001b[0;34m\u001b[0m\u001b[0m\n\u001b[0;32m----> 2\u001b[0;31m \u001b[0mfhand\u001b[0m \u001b[0;34m=\u001b[0m \u001b[0mopen\u001b[0m\u001b[0;34m(\u001b[0m\u001b[0;34m'stuff.txt'\u001b[0m\u001b[0;34m)\u001b[0m\u001b[0;34m\u001b[0m\u001b[0;34m\u001b[0m\u001b[0m\n\u001b[0m",
            "\u001b[0;31mFileNotFoundError\u001b[0m: [Errno 2] No such file or directory: 'stuff.txt'"
          ]
        }
      ]
    },
    {
      "cell_type": "markdown",
      "source": [
        "##THE new line character"
      ],
      "metadata": {
        "id": "yOUHa9pv5dvr"
      }
    },
    {
      "cell_type": "code",
      "source": [
        "stuff = 'Hello\\nWorld'\n",
        "stuff"
      ],
      "metadata": {
        "colab": {
          "base_uri": "https://localhost:8080/",
          "height": 36
        },
        "id": "QDbMyGuv5TPV",
        "outputId": "3a34df78-8a1b-4d3e-e31c-a25f45480c4f"
      },
      "execution_count": 17,
      "outputs": [
        {
          "output_type": "execute_result",
          "data": {
            "text/plain": [
              "'Hello\\nWorld'"
            ],
            "application/vnd.google.colaboratory.intrinsic+json": {
              "type": "string"
            }
          },
          "metadata": {},
          "execution_count": 17
        }
      ]
    },
    {
      "cell_type": "code",
      "source": [
        "# Should have to use print statement in order to work for it\n",
        "\n",
        "print(stuff)"
      ],
      "metadata": {
        "colab": {
          "base_uri": "https://localhost:8080/"
        },
        "id": "EiFb427r5qqV",
        "outputId": "8d01616f-c28d-4692-97b0-77c472dc8695"
      },
      "execution_count": 18,
      "outputs": [
        {
          "output_type": "stream",
          "name": "stdout",
          "text": [
            "Hello\n",
            "World\n"
          ]
        }
      ]
    },
    {
      "cell_type": "code",
      "source": [
        "stuff = 'X\\nY'"
      ],
      "metadata": {
        "id": "WSmQJTwk516d"
      },
      "execution_count": 19,
      "outputs": []
    },
    {
      "cell_type": "code",
      "source": [
        "print(stuff)"
      ],
      "metadata": {
        "colab": {
          "base_uri": "https://localhost:8080/"
        },
        "id": "Ma2cQx3R57QT",
        "outputId": "95d76e31-4905-4e83-e15c-b5523635d4d4"
      },
      "execution_count": 20,
      "outputs": [
        {
          "output_type": "stream",
          "name": "stdout",
          "text": [
            "X\n",
            "Y\n"
          ]
        }
      ]
    },
    {
      "cell_type": "code",
      "source": [
        "len(stuff)"
      ],
      "metadata": {
        "colab": {
          "base_uri": "https://localhost:8080/"
        },
        "id": "M941lMfm59B_",
        "outputId": "2b1eb7c4-0711-4bd9-c346-0cffd0fb982d"
      },
      "execution_count": 21,
      "outputs": [
        {
          "output_type": "execute_result",
          "data": {
            "text/plain": [
              "3"
            ]
          },
          "metadata": {},
          "execution_count": 21
        }
      ]
    },
    {
      "cell_type": "markdown",
      "source": [
        "##Reading a file"
      ],
      "metadata": {
        "id": "0yqdzao36Fqj"
      }
    },
    {
      "cell_type": "markdown",
      "source": [
        "###File handle as a sequence"
      ],
      "metadata": {
        "id": "T06FQN4g6JVR"
      }
    },
    {
      "cell_type": "code",
      "source": [
        "''' A file handle open for read can be considered as sequence of string where each line in the file is\n",
        "    a string in the sequence'''\n",
        "xfile = open('mbox.txt')\n",
        "for cheese in xfile:\n",
        "  print(cheese)"
      ],
      "metadata": {
        "colab": {
          "base_uri": "https://localhost:8080/",
          "height": 1000
        },
        "id": "TnPPwbee5-2x",
        "outputId": "76985ed1-9500-4b45-f8ca-98368ad6a35a"
      },
      "execution_count": 22,
      "outputs": [
        {
          "output_type": "execute_result",
          "data": {
            "text/plain": [
              "' A file handle open for read can be considered as sequence of string where each line in the file is \\n    a string in the sequence'"
            ],
            "application/vnd.google.colaboratory.intrinsic+json": {
              "type": "string"
            }
          },
          "metadata": {},
          "execution_count": 22
        },
        {
          "output_type": "stream",
          "name": "stdout",
          "text": [
            "\u001b[1;30;43mStreaming output truncated to the last 5000 lines.\u001b[0m\n",
            "\n",
            "\n",
            "\n",
            "\n",
            "From gsilver@umich.edu Fri Oct 19 13:36:28 2007\n",
            "\n",
            "Return-Path: <postmaster@collab.sakaiproject.org>\n",
            "\n",
            "Received: from murder (mail.umich.edu [141.211.14.91])\n",
            "\n",
            "\t by thisboyslife.mail.umich.edu (Cyrus v2.3.8) with LMTPA;\n",
            "\n",
            "\t Fri, 19 Oct 2007 13:36:28 -0400\n",
            "\n",
            "X-Sieve: CMU Sieve 2.3\n",
            "\n",
            "Received: from murder ([unix socket])\n",
            "\n",
            "\t by mail.umich.edu (Cyrus v2.2.12) with LMTPA;\n",
            "\n",
            "\t Fri, 19 Oct 2007 13:36:28 -0400\n",
            "\n",
            "Received: from salemslot.mr.itd.umich.edu (salemslot.mr.itd.umich.edu [141.211.14.58])\n",
            "\n",
            "\tby jacknife.mail.umich.edu () with ESMTP id l9JHaRqc011373;\n",
            "\n",
            "\tFri, 19 Oct 2007 13:36:27 -0400\n",
            "\n",
            "Received: FROM paploo.uhi.ac.uk (app1.prod.collab.uhi.ac.uk [194.35.219.184])\n",
            "\n",
            "\tBY salemslot.mr.itd.umich.edu ID 4718EB15.30A86.11990 ; \n",
            "\n",
            "\t19 Oct 2007 13:36:24 -0400\n",
            "\n",
            "Received: from paploo.uhi.ac.uk (localhost [127.0.0.1])\n",
            "\n",
            "\tby paploo.uhi.ac.uk (Postfix) with ESMTP id C8F0568B43;\n",
            "\n",
            "\tFri, 19 Oct 2007 04:33:56 +0100 (BST)\n",
            "\n",
            "Message-ID: <200710191733.l9JHXsrd022907@nakamura.uits.iupui.edu>\n",
            "\n",
            "Mime-Version: 1.0\n",
            "\n",
            "Content-Transfer-Encoding: 7bit\n",
            "\n",
            "Received: from prod.collab.uhi.ac.uk ([194.35.219.182])\n",
            "\n",
            "          by paploo.uhi.ac.uk (JAMES SMTP Server 2.1.3) with SMTP ID 7\n",
            "\n",
            "          for <source@collab.sakaiproject.org>;\n",
            "\n",
            "          Fri, 19 Oct 2007 04:33:41 +0100 (BST)\n",
            "\n",
            "Received: from nakamura.uits.iupui.edu (nakamura.uits.iupui.edu [134.68.220.122])\n",
            "\n",
            "\tby shmi.uhi.ac.uk (Postfix) with ESMTP id CADFFDD3C\n",
            "\n",
            "\tfor <source@collab.sakaiproject.org>; Fri, 19 Oct 2007 18:35:54 +0100 (BST)\n",
            "\n",
            "Received: from nakamura.uits.iupui.edu (localhost [127.0.0.1])\n",
            "\n",
            "\tby nakamura.uits.iupui.edu (8.12.11.20060308/8.12.11) with ESMTP id l9JHXtn7022909\n",
            "\n",
            "\tfor <source@collab.sakaiproject.org>; Fri, 19 Oct 2007 13:33:55 -0400\n",
            "\n",
            "Received: (from apache@localhost)\n",
            "\n",
            "\tby nakamura.uits.iupui.edu (8.12.11.20060308/8.12.11/Submit) id l9JHXsrd022907\n",
            "\n",
            "\tfor source@collab.sakaiproject.org; Fri, 19 Oct 2007 13:33:54 -0400\n",
            "\n",
            "Date: Fri, 19 Oct 2007 13:33:54 -0400\n",
            "\n",
            "X-Authentication-Warning: nakamura.uits.iupui.edu: apache set sender to gsilver@umich.edu using -f\n",
            "\n",
            "To: source@collab.sakaiproject.org\n",
            "\n",
            "From: gsilver@umich.edu\n",
            "\n",
            "Subject: [sakai] svn commit: r37145 - site-manage/branches/sakai_2-4-x/site-manage-tool/tool/src/webapp\n",
            "\n",
            "X-Content-Type-Outer-Envelope: text/plain; charset=UTF-8\n",
            "\n",
            "X-Content-Type-Message-Body: text/plain; charset=UTF-8\n",
            "\n",
            "Content-Type: text/plain; charset=UTF-8\n",
            "\n",
            "X-DSPAM-Result: Innocent\n",
            "\n",
            "X-DSPAM-Processed: Fri Oct 19 13:36:28 2007\n",
            "\n",
            "X-DSPAM-Confidence: 0.9872\n",
            "\n",
            "X-DSPAM-Probability: 0.0000\n",
            "\n",
            "\n",
            "\n",
            "Details: http://source.sakaiproject.org/viewsvn/?view=rev&rev=37145\n",
            "\n",
            "\n",
            "\n",
            "Author: gsilver@umich.edu\n",
            "\n",
            "Date: 2007-10-19 13:33:53 -0400 (Fri, 19 Oct 2007)\n",
            "\n",
            "New Revision: 37145\n",
            "\n",
            "\n",
            "\n",
            "Modified:\n",
            "\n",
            "site-manage/branches/sakai_2-4-x/site-manage-tool/tool/src/webapp/velocity.properties\n",
            "\n",
            "Log:\n",
            "\n",
            "SAK-12003\n",
            "\n",
            "- set the file.resource.loader.modificationCheckInterval = 0 for 2.4.x\n",
            "\n",
            "\n",
            "\n",
            "----------------------\n",
            "\n",
            "This automatic notification message was sent by Sakai Collab (https://collab.sakaiproject.org/portal) from the Source site.\n",
            "\n",
            "You can modify how you receive notifications at My Workspace > Preferences.\n",
            "\n",
            "\n",
            "\n",
            "\n",
            "\n",
            "\n",
            "\n",
            "From gsilver@umich.edu Fri Oct 19 12:37:05 2007\n",
            "\n",
            "Return-Path: <postmaster@collab.sakaiproject.org>\n",
            "\n",
            "Received: from murder (mail.umich.edu [141.211.14.97])\n",
            "\n",
            "\t by thisboyslife.mail.umich.edu (Cyrus v2.3.8) with LMTPA;\n",
            "\n",
            "\t Fri, 19 Oct 2007 12:37:05 -0400\n",
            "\n",
            "X-Sieve: CMU Sieve 2.3\n",
            "\n",
            "Received: from murder ([unix socket])\n",
            "\n",
            "\t by mail.umich.edu (Cyrus v2.2.12) with LMTPA;\n",
            "\n",
            "\t Fri, 19 Oct 2007 12:37:05 -0400\n",
            "\n",
            "Received: from ghostbusters.mr.itd.umich.edu (ghostbusters.mr.itd.umich.edu [141.211.93.144])\n",
            "\n",
            "\tby sleepers.mail.umich.edu () with ESMTP id l9JGb4rc029331;\n",
            "\n",
            "\tFri, 19 Oct 2007 12:37:04 -0400\n",
            "\n",
            "Received: FROM paploo.uhi.ac.uk (app1.prod.collab.uhi.ac.uk [194.35.219.184])\n",
            "\n",
            "\tBY ghostbusters.mr.itd.umich.edu ID 4718DD0B.66196.13189 ; \n",
            "\n",
            "\t19 Oct 2007 12:36:31 -0400\n",
            "\n",
            "Received: from paploo.uhi.ac.uk (localhost [127.0.0.1])\n",
            "\n",
            "\tby paploo.uhi.ac.uk (Postfix) with ESMTP id 0FFCF69009;\n",
            "\n",
            "\tFri, 19 Oct 2007 03:34:07 +0100 (BST)\n",
            "\n",
            "Message-ID: <200710191618.l9JGIE73022835@nakamura.uits.iupui.edu>\n",
            "\n",
            "Mime-Version: 1.0\n",
            "\n",
            "Content-Transfer-Encoding: 7bit\n",
            "\n",
            "Received: from prod.collab.uhi.ac.uk ([194.35.219.182])\n",
            "\n",
            "          by paploo.uhi.ac.uk (JAMES SMTP Server 2.1.3) with SMTP ID 86\n",
            "\n",
            "          for <source@collab.sakaiproject.org>;\n",
            "\n",
            "          Fri, 19 Oct 2007 03:17:58 +0100 (BST)\n",
            "\n",
            "Received: from nakamura.uits.iupui.edu (nakamura.uits.iupui.edu [134.68.220.122])\n",
            "\n",
            "\tby shmi.uhi.ac.uk (Postfix) with ESMTP id BBF1B1B9F4\n",
            "\n",
            "\tfor <source@collab.sakaiproject.org>; Fri, 19 Oct 2007 17:20:14 +0100 (BST)\n",
            "\n",
            "Received: from nakamura.uits.iupui.edu (localhost [127.0.0.1])\n",
            "\n",
            "\tby nakamura.uits.iupui.edu (8.12.11.20060308/8.12.11) with ESMTP id l9JGIE5M022837\n",
            "\n",
            "\tfor <source@collab.sakaiproject.org>; Fri, 19 Oct 2007 12:18:15 -0400\n",
            "\n",
            "Received: (from apache@localhost)\n",
            "\n",
            "\tby nakamura.uits.iupui.edu (8.12.11.20060308/8.12.11/Submit) id l9JGIE73022835\n",
            "\n",
            "\tfor source@collab.sakaiproject.org; Fri, 19 Oct 2007 12:18:14 -0400\n",
            "\n",
            "Date: Fri, 19 Oct 2007 12:18:14 -0400\n",
            "\n",
            "X-Authentication-Warning: nakamura.uits.iupui.edu: apache set sender to gsilver@umich.edu using -f\n",
            "\n",
            "To: source@collab.sakaiproject.org\n",
            "\n",
            "From: gsilver@umich.edu\n",
            "\n",
            "Subject: [sakai] svn commit: r37144 - site-manage/trunk/site-manage-tool/tool/src/webapp\n",
            "\n",
            "X-Content-Type-Outer-Envelope: text/plain; charset=UTF-8\n",
            "\n",
            "X-Content-Type-Message-Body: text/plain; charset=UTF-8\n",
            "\n",
            "Content-Type: text/plain; charset=UTF-8\n",
            "\n",
            "X-DSPAM-Result: Innocent\n",
            "\n",
            "X-DSPAM-Processed: Fri Oct 19 12:37:05 2007\n",
            "\n",
            "X-DSPAM-Confidence: 0.9812\n",
            "\n",
            "X-DSPAM-Probability: 0.0000\n",
            "\n",
            "\n",
            "\n",
            "Details: http://source.sakaiproject.org/viewsvn/?view=rev&rev=37144\n",
            "\n",
            "\n",
            "\n",
            "Author: gsilver@umich.edu\n",
            "\n",
            "Date: 2007-10-19 12:18:10 -0400 (Fri, 19 Oct 2007)\n",
            "\n",
            "New Revision: 37144\n",
            "\n",
            "\n",
            "\n",
            "Modified:\n",
            "\n",
            "site-manage/trunk/site-manage-tool/tool/src/webapp/velocity.properties\n",
            "\n",
            "Log:\n",
            "\n",
            "http://jira.sakaiproject.org/jira/browse/SAK-12003\n",
            "\n",
            "- resetting file.resource.loader.modificationCheckInterval in velocity.properties to '0'\n",
            "\n",
            "\n",
            "\n",
            "\n",
            "\n",
            "----------------------\n",
            "\n",
            "This automatic notification message was sent by Sakai Collab (https://collab.sakaiproject.org/portal) from the Source site.\n",
            "\n",
            "You can modify how you receive notifications at My Workspace > Preferences.\n",
            "\n",
            "\n",
            "\n",
            "\n",
            "\n",
            "\n",
            "\n",
            "From zqian@umich.edu Fri Oct 19 11:34:47 2007\n",
            "\n",
            "Return-Path: <postmaster@collab.sakaiproject.org>\n",
            "\n",
            "Received: from murder (mail.umich.edu [141.211.14.97])\n",
            "\n",
            "\t by thisboyslife.mail.umich.edu (Cyrus v2.3.8) with LMTPA;\n",
            "\n",
            "\t Fri, 19 Oct 2007 11:34:47 -0400\n",
            "\n",
            "X-Sieve: CMU Sieve 2.3\n",
            "\n",
            "Received: from murder ([unix socket])\n",
            "\n",
            "\t by mail.umich.edu (Cyrus v2.2.12) with LMTPA;\n",
            "\n",
            "\t Fri, 19 Oct 2007 11:34:47 -0400\n",
            "\n",
            "Received: from workinggirl.mr.itd.umich.edu (workinggirl.mr.itd.umich.edu [141.211.93.143])\n",
            "\n",
            "\tby sleepers.mail.umich.edu () with ESMTP id l9JFYkGV026192;\n",
            "\n",
            "\tFri, 19 Oct 2007 11:34:46 -0400\n",
            "\n",
            "Received: FROM paploo.uhi.ac.uk (app1.prod.collab.uhi.ac.uk [194.35.219.184])\n",
            "\n",
            "\tBY workinggirl.mr.itd.umich.edu ID 4718CE89.BC06D.1471 ; \n",
            "\n",
            "\t19 Oct 2007 11:34:42 -0400\n",
            "\n",
            "Received: from paploo.uhi.ac.uk (localhost [127.0.0.1])\n",
            "\n",
            "\tby paploo.uhi.ac.uk (Postfix) with ESMTP id A69605EC9E;\n",
            "\n",
            "\tFri, 19 Oct 2007 02:32:10 +0100 (BST)\n",
            "\n",
            "Message-ID: <200710191532.l9JFWI76022727@nakamura.uits.iupui.edu>\n",
            "\n",
            "Mime-Version: 1.0\n",
            "\n",
            "Content-Transfer-Encoding: 7bit\n",
            "\n",
            "Received: from prod.collab.uhi.ac.uk ([194.35.219.182])\n",
            "\n",
            "          by paploo.uhi.ac.uk (JAMES SMTP Server 2.1.3) with SMTP ID 689\n",
            "\n",
            "          for <source@collab.sakaiproject.org>;\n",
            "\n",
            "          Fri, 19 Oct 2007 02:31:57 +0100 (BST)\n",
            "\n",
            "Received: from nakamura.uits.iupui.edu (nakamura.uits.iupui.edu [134.68.220.122])\n",
            "\n",
            "\tby shmi.uhi.ac.uk (Postfix) with ESMTP id EAA201BA07\n",
            "\n",
            "\tfor <source@collab.sakaiproject.org>; Fri, 19 Oct 2007 16:34:16 +0100 (BST)\n",
            "\n",
            "Received: from nakamura.uits.iupui.edu (localhost [127.0.0.1])\n",
            "\n",
            "\tby nakamura.uits.iupui.edu (8.12.11.20060308/8.12.11) with ESMTP id l9JFWIVP022729\n",
            "\n",
            "\tfor <source@collab.sakaiproject.org>; Fri, 19 Oct 2007 11:32:18 -0400\n",
            "\n",
            "Received: (from apache@localhost)\n",
            "\n",
            "\tby nakamura.uits.iupui.edu (8.12.11.20060308/8.12.11/Submit) id l9JFWI76022727\n",
            "\n",
            "\tfor source@collab.sakaiproject.org; Fri, 19 Oct 2007 11:32:18 -0400\n",
            "\n",
            "Date: Fri, 19 Oct 2007 11:32:18 -0400\n",
            "\n",
            "X-Authentication-Warning: nakamura.uits.iupui.edu: apache set sender to zqian@umich.edu using -f\n",
            "\n",
            "To: source@collab.sakaiproject.org\n",
            "\n",
            "From: zqian@umich.edu\n",
            "\n",
            "Subject: [sakai] svn commit: r37143 - assignment/trunk/assignment-impl/impl/src/sql/hsqldb\n",
            "\n",
            "X-Content-Type-Outer-Envelope: text/plain; charset=UTF-8\n",
            "\n",
            "X-Content-Type-Message-Body: text/plain; charset=UTF-8\n",
            "\n",
            "Content-Type: text/plain; charset=UTF-8\n",
            "\n",
            "X-DSPAM-Result: Innocent\n",
            "\n",
            "X-DSPAM-Processed: Fri Oct 19 11:34:47 2007\n",
            "\n",
            "X-DSPAM-Confidence: 0.8490\n",
            "\n",
            "X-DSPAM-Probability: 0.0000\n",
            "\n",
            "\n",
            "\n",
            "Details: http://source.sakaiproject.org/viewsvn/?view=rev&rev=37143\n",
            "\n",
            "\n",
            "\n",
            "Author: zqian@umich.edu\n",
            "\n",
            "Date: 2007-10-19 11:32:15 -0400 (Fri, 19 Oct 2007)\n",
            "\n",
            "New Revision: 37143\n",
            "\n",
            "\n",
            "\n",
            "Modified:\n",
            "\n",
            "assignment/trunk/assignment-impl/impl/src/sql/hsqldb/sakai_assignment.sql\n",
            "\n",
            "Log:\n",
            "\n",
            "SAK-11821:AssignmentService allows creation of duplicate submission objects\n",
            "\n",
            "\n",
            "\n",
            "Fix the hsql sql code for creating ASSIGNMENT_SUBMISSION table, missing a comma in the create statement.\n",
            "\n",
            "\n",
            "\n",
            "----------------------\n",
            "\n",
            "This automatic notification message was sent by Sakai Collab (https://collab.sakaiproject.org/portal) from the Source site.\n",
            "\n",
            "You can modify how you receive notifications at My Workspace > Preferences.\n",
            "\n",
            "\n",
            "\n",
            "\n",
            "\n",
            "\n",
            "\n",
            "From jzaremba@unicon.net Fri Oct 19 11:15:27 2007\n",
            "\n",
            "Return-Path: <postmaster@collab.sakaiproject.org>\n",
            "\n",
            "Received: from murder (mail.umich.edu [141.211.14.90])\n",
            "\n",
            "\t by thisboyslife.mail.umich.edu (Cyrus v2.3.8) with LMTPA;\n",
            "\n",
            "\t Fri, 19 Oct 2007 11:15:27 -0400\n",
            "\n",
            "X-Sieve: CMU Sieve 2.3\n",
            "\n",
            "Received: from murder ([unix socket])\n",
            "\n",
            "\t by mail.umich.edu (Cyrus v2.2.12) with LMTPA;\n",
            "\n",
            "\t Fri, 19 Oct 2007 11:15:27 -0400\n",
            "\n",
            "Received: from serenity.mr.itd.umich.edu (serenity.mr.itd.umich.edu [141.211.14.43])\n",
            "\n",
            "\tby flawless.mail.umich.edu () with ESMTP id l9JFFQbq029492;\n",
            "\n",
            "\tFri, 19 Oct 2007 11:15:26 -0400\n",
            "\n",
            "Received: FROM paploo.uhi.ac.uk (app1.prod.collab.uhi.ac.uk [194.35.219.184])\n",
            "\n",
            "\tBY serenity.mr.itd.umich.edu ID 4718CA08.B7C8E.22265 ; \n",
            "\n",
            "\t19 Oct 2007 11:15:23 -0400\n",
            "\n",
            "Received: from paploo.uhi.ac.uk (localhost [127.0.0.1])\n",
            "\n",
            "\tby paploo.uhi.ac.uk (Postfix) with ESMTP id 44B6F68FEF;\n",
            "\n",
            "\tFri, 19 Oct 2007 02:12:59 +0100 (BST)\n",
            "\n",
            "Message-ID: <200710191513.l9JFD655022681@nakamura.uits.iupui.edu>\n",
            "\n",
            "Mime-Version: 1.0\n",
            "\n",
            "Content-Transfer-Encoding: 7bit\n",
            "\n",
            "Received: from prod.collab.uhi.ac.uk ([194.35.219.182])\n",
            "\n",
            "          by paploo.uhi.ac.uk (JAMES SMTP Server 2.1.3) with SMTP ID 392\n",
            "\n",
            "          for <source@collab.sakaiproject.org>;\n",
            "\n",
            "          Fri, 19 Oct 2007 02:12:44 +0100 (BST)\n",
            "\n",
            "Received: from nakamura.uits.iupui.edu (nakamura.uits.iupui.edu [134.68.220.122])\n",
            "\n",
            "\tby shmi.uhi.ac.uk (Postfix) with ESMTP id BCCBD1B98E\n",
            "\n",
            "\tfor <source@collab.sakaiproject.org>; Fri, 19 Oct 2007 16:15:07 +0100 (BST)\n",
            "\n",
            "Received: from nakamura.uits.iupui.edu (localhost [127.0.0.1])\n",
            "\n",
            "\tby nakamura.uits.iupui.edu (8.12.11.20060308/8.12.11) with ESMTP id l9JFD7Th022683\n",
            "\n",
            "\tfor <source@collab.sakaiproject.org>; Fri, 19 Oct 2007 11:13:07 -0400\n",
            "\n",
            "Received: (from apache@localhost)\n",
            "\n",
            "\tby nakamura.uits.iupui.edu (8.12.11.20060308/8.12.11/Submit) id l9JFD655022681\n",
            "\n",
            "\tfor source@collab.sakaiproject.org; Fri, 19 Oct 2007 11:13:06 -0400\n",
            "\n",
            "Date: Fri, 19 Oct 2007 11:13:06 -0400\n",
            "\n",
            "X-Authentication-Warning: nakamura.uits.iupui.edu: apache set sender to jzaremba@unicon.net using -f\n",
            "\n",
            "To: source@collab.sakaiproject.org\n",
            "\n",
            "From: jzaremba@unicon.net\n",
            "\n",
            "Subject: [sakai] svn commit: r37142 - in content/branches/SAK-11543: content-bundles content-tool/tool/src/java/org/sakaiproject/content/tool\n",
            "\n",
            "X-Content-Type-Outer-Envelope: text/plain; charset=UTF-8\n",
            "\n",
            "X-Content-Type-Message-Body: text/plain; charset=UTF-8\n",
            "\n",
            "Content-Type: text/plain; charset=UTF-8\n",
            "\n",
            "X-DSPAM-Result: Innocent\n",
            "\n",
            "X-DSPAM-Processed: Fri Oct 19 11:15:27 2007\n",
            "\n",
            "X-DSPAM-Confidence: 0.9795\n",
            "\n",
            "X-DSPAM-Probability: 0.0000\n",
            "\n",
            "\n",
            "\n",
            "Details: http://source.sakaiproject.org/viewsvn/?view=rev&rev=37142\n",
            "\n",
            "\n",
            "\n",
            "Author: jzaremba@unicon.net\n",
            "\n",
            "Date: 2007-10-19 11:13:01 -0400 (Fri, 19 Oct 2007)\n",
            "\n",
            "New Revision: 37142\n",
            "\n",
            "\n",
            "\n",
            "Modified:\n",
            "\n",
            "content/branches/SAK-11543/content-bundles/content.properties\n",
            "\n",
            "content/branches/SAK-11543/content-tool/tool/src/java/org/sakaiproject/content/tool/ResourcesAction.java\n",
            "\n",
            "Log:\n",
            "\n",
            "TSQ-747 Initial code to remove condition if condition check box unchecked.\n",
            "\n",
            "\n",
            "\n",
            "----------------------\n",
            "\n",
            "This automatic notification message was sent by Sakai Collab (https://collab.sakaiproject.org/portal) from the Source site.\n",
            "\n",
            "You can modify how you receive notifications at My Workspace > Preferences.\n",
            "\n",
            "\n",
            "\n",
            "\n",
            "\n",
            "\n",
            "\n",
            "From aaronz@vt.edu Fri Oct 19 10:23:52 2007\n",
            "\n",
            "Return-Path: <postmaster@collab.sakaiproject.org>\n",
            "\n",
            "Received: from murder (mail.umich.edu [141.211.14.90])\n",
            "\n",
            "\t by thisboyslife.mail.umich.edu (Cyrus v2.3.8) with LMTPA;\n",
            "\n",
            "\t Fri, 19 Oct 2007 10:23:52 -0400\n",
            "\n",
            "X-Sieve: CMU Sieve 2.3\n",
            "\n",
            "Received: from murder ([unix socket])\n",
            "\n",
            "\t by mail.umich.edu (Cyrus v2.2.12) with LMTPA;\n",
            "\n",
            "\t Fri, 19 Oct 2007 10:23:52 -0400\n",
            "\n",
            "Received: from eyewitness.mr.itd.umich.edu (eyewitness.mr.itd.umich.edu [141.211.93.142])\n",
            "\n",
            "\tby flawless.mail.umich.edu () with ESMTP id l9JENp2H027847;\n",
            "\n",
            "\tFri, 19 Oct 2007 10:23:51 -0400\n",
            "\n",
            "Received: FROM paploo.uhi.ac.uk (app1.prod.collab.uhi.ac.uk [194.35.219.184])\n",
            "\n",
            "\tBY eyewitness.mr.itd.umich.edu ID 4718BDF1.297E7.7049 ; \n",
            "\n",
            "\t19 Oct 2007 10:23:48 -0400\n",
            "\n",
            "Received: from paploo.uhi.ac.uk (localhost [127.0.0.1])\n",
            "\n",
            "\tby paploo.uhi.ac.uk (Postfix) with ESMTP id E5AD268F33;\n",
            "\n",
            "\tFri, 19 Oct 2007 01:21:16 +0100 (BST)\n",
            "\n",
            "Message-ID: <200710191421.l9JELMTE022646@nakamura.uits.iupui.edu>\n",
            "\n",
            "Mime-Version: 1.0\n",
            "\n",
            "Content-Transfer-Encoding: 7bit\n",
            "\n",
            "Received: from prod.collab.uhi.ac.uk ([194.35.219.182])\n",
            "\n",
            "          by paploo.uhi.ac.uk (JAMES SMTP Server 2.1.3) with SMTP ID 957\n",
            "\n",
            "          for <source@collab.sakaiproject.org>;\n",
            "\n",
            "          Fri, 19 Oct 2007 01:20:57 +0100 (BST)\n",
            "\n",
            "Received: from nakamura.uits.iupui.edu (nakamura.uits.iupui.edu [134.68.220.122])\n",
            "\n",
            "\tby shmi.uhi.ac.uk (Postfix) with ESMTP id B8F871B96C\n",
            "\n",
            "\tfor <source@collab.sakaiproject.org>; Fri, 19 Oct 2007 15:23:18 +0100 (BST)\n",
            "\n",
            "Received: from nakamura.uits.iupui.edu (localhost [127.0.0.1])\n",
            "\n",
            "\tby nakamura.uits.iupui.edu (8.12.11.20060308/8.12.11) with ESMTP id l9JELMlc022648\n",
            "\n",
            "\tfor <source@collab.sakaiproject.org>; Fri, 19 Oct 2007 10:21:22 -0400\n",
            "\n",
            "Received: (from apache@localhost)\n",
            "\n",
            "\tby nakamura.uits.iupui.edu (8.12.11.20060308/8.12.11/Submit) id l9JELMTE022646\n",
            "\n",
            "\tfor source@collab.sakaiproject.org; Fri, 19 Oct 2007 10:21:22 -0400\n",
            "\n",
            "Date: Fri, 19 Oct 2007 10:21:22 -0400\n",
            "\n",
            "X-Authentication-Warning: nakamura.uits.iupui.edu: apache set sender to aaronz@vt.edu using -f\n",
            "\n",
            "To: source@collab.sakaiproject.org\n",
            "\n",
            "From: aaronz@vt.edu\n",
            "\n",
            "Subject: [sakai] svn commit: r37141 - in memory/branches/SAK-11913/memory-impl: . impl impl/src/java/org/sakaiproject/memory/impl impl/src/java/org/sakaiproject/memory/impl/util impl/src/test/org/sakaiproject/memory/impl/test\n",
            "\n",
            "X-Content-Type-Outer-Envelope: text/plain; charset=UTF-8\n",
            "\n",
            "X-Content-Type-Message-Body: text/plain; charset=UTF-8\n",
            "\n",
            "Content-Type: text/plain; charset=UTF-8\n",
            "\n",
            "X-DSPAM-Result: Innocent\n",
            "\n",
            "X-DSPAM-Processed: Fri Oct 19 10:23:52 2007\n",
            "\n",
            "X-DSPAM-Confidence: 0.9850\n",
            "\n",
            "X-DSPAM-Probability: 0.0000\n",
            "\n",
            "\n",
            "\n",
            "Details: http://source.sakaiproject.org/viewsvn/?view=rev&rev=37141\n",
            "\n",
            "\n",
            "\n",
            "Author: aaronz@vt.edu\n",
            "\n",
            "Date: 2007-10-19 10:21:05 -0400 (Fri, 19 Oct 2007)\n",
            "\n",
            "New Revision: 37141\n",
            "\n",
            "\n",
            "\n",
            "Modified:\n",
            "\n",
            "memory/branches/SAK-11913/memory-impl/.classpath\n",
            "\n",
            "memory/branches/SAK-11913/memory-impl/impl/pom.xml\n",
            "\n",
            "memory/branches/SAK-11913/memory-impl/impl/src/java/org/sakaiproject/memory/impl/BasicMemoryService.java\n",
            "\n",
            "memory/branches/SAK-11913/memory-impl/impl/src/java/org/sakaiproject/memory/impl/MemCache.java\n",
            "\n",
            "memory/branches/SAK-11913/memory-impl/impl/src/java/org/sakaiproject/memory/impl/ObjectDependsOnOthersCache.java\n",
            "\n",
            "memory/branches/SAK-11913/memory-impl/impl/src/java/org/sakaiproject/memory/impl/ObjectIsDependedOnByOthersCache.java\n",
            "\n",
            "memory/branches/SAK-11913/memory-impl/impl/src/java/org/sakaiproject/memory/impl/util/DependentPayload.java\n",
            "\n",
            "memory/branches/SAK-11913/memory-impl/impl/src/test/org/sakaiproject/memory/impl/test/BasicMemoryServiceTest.java\n",
            "\n",
            "Log:\n",
            "\n",
            "SAK-11913: Updated all keys to be strings\n",
            "\n",
            "Added in some tests\n",
            "\n",
            "Fixed up Ian's code to also adhere to the string keys\n",
            "\n",
            "\n",
            "\n",
            "----------------------\n",
            "\n",
            "This automatic notification message was sent by Sakai Collab (https://collab.sakaiproject.org/portal) from the Source site.\n",
            "\n",
            "You can modify how you receive notifications at My Workspace > Preferences.\n",
            "\n",
            "\n",
            "\n",
            "\n",
            "\n",
            "\n",
            "\n",
            "From aaronz@vt.edu Fri Oct 19 10:23:30 2007\n",
            "\n",
            "Return-Path: <postmaster@collab.sakaiproject.org>\n",
            "\n",
            "Received: from murder (mail.umich.edu [141.211.14.91])\n",
            "\n",
            "\t by thisboyslife.mail.umich.edu (Cyrus v2.3.8) with LMTPA;\n",
            "\n",
            "\t Fri, 19 Oct 2007 10:23:30 -0400\n",
            "\n",
            "X-Sieve: CMU Sieve 2.3\n",
            "\n",
            "Received: from murder ([unix socket])\n",
            "\n",
            "\t by mail.umich.edu (Cyrus v2.2.12) with LMTPA;\n",
            "\n",
            "\t Fri, 19 Oct 2007 10:23:30 -0400\n",
            "\n",
            "Received: from ghostbusters.mr.itd.umich.edu (ghostbusters.mr.itd.umich.edu [141.211.93.144])\n",
            "\n",
            "\tby jacknife.mail.umich.edu () with ESMTP id l9JENTIN030833;\n",
            "\n",
            "\tFri, 19 Oct 2007 10:23:29 -0400\n",
            "\n",
            "Received: FROM paploo.uhi.ac.uk (app1.prod.collab.uhi.ac.uk [194.35.219.184])\n",
            "\n",
            "\tBY ghostbusters.mr.itd.umich.edu ID 4718BDD9.90178.8323 ; \n",
            "\n",
            "\t19 Oct 2007 10:23:24 -0400\n",
            "\n",
            "Received: from paploo.uhi.ac.uk (localhost [127.0.0.1])\n",
            "\n",
            "\tby paploo.uhi.ac.uk (Postfix) with ESMTP id 6FE8968E55;\n",
            "\n",
            "\tFri, 19 Oct 2007 01:20:55 +0100 (BST)\n",
            "\n",
            "Message-ID: <200710191421.l9JEL2OE022634@nakamura.uits.iupui.edu>\n",
            "\n",
            "Mime-Version: 1.0\n",
            "\n",
            "Content-Transfer-Encoding: 7bit\n",
            "\n",
            "Received: from prod.collab.uhi.ac.uk ([194.35.219.182])\n",
            "\n",
            "          by paploo.uhi.ac.uk (JAMES SMTP Server 2.1.3) with SMTP ID 211\n",
            "\n",
            "          for <source@collab.sakaiproject.org>;\n",
            "\n",
            "          Fri, 19 Oct 2007 01:20:38 +0100 (BST)\n",
            "\n",
            "Received: from nakamura.uits.iupui.edu (nakamura.uits.iupui.edu [134.68.220.122])\n",
            "\n",
            "\tby shmi.uhi.ac.uk (Postfix) with ESMTP id 697A1DCCA\n",
            "\n",
            "\tfor <source@collab.sakaiproject.org>; Fri, 19 Oct 2007 15:22:59 +0100 (BST)\n",
            "\n",
            "Received: from nakamura.uits.iupui.edu (localhost [127.0.0.1])\n",
            "\n",
            "\tby nakamura.uits.iupui.edu (8.12.11.20060308/8.12.11) with ESMTP id l9JEL2wn022636\n",
            "\n",
            "\tfor <source@collab.sakaiproject.org>; Fri, 19 Oct 2007 10:21:02 -0400\n",
            "\n",
            "Received: (from apache@localhost)\n",
            "\n",
            "\tby nakamura.uits.iupui.edu (8.12.11.20060308/8.12.11/Submit) id l9JEL2OE022634\n",
            "\n",
            "\tfor source@collab.sakaiproject.org; Fri, 19 Oct 2007 10:21:02 -0400\n",
            "\n",
            "Date: Fri, 19 Oct 2007 10:21:02 -0400\n",
            "\n",
            "X-Authentication-Warning: nakamura.uits.iupui.edu: apache set sender to aaronz@vt.edu using -f\n",
            "\n",
            "To: source@collab.sakaiproject.org\n",
            "\n",
            "From: aaronz@vt.edu\n",
            "\n",
            "Subject: [sakai] svn commit: r37140 - memory/branches/SAK-11913/memory-api/api/src/java/org/sakaiproject/memory/api\n",
            "\n",
            "X-Content-Type-Outer-Envelope: text/plain; charset=UTF-8\n",
            "\n",
            "X-Content-Type-Message-Body: text/plain; charset=UTF-8\n",
            "\n",
            "Content-Type: text/plain; charset=UTF-8\n",
            "\n",
            "X-DSPAM-Result: Innocent\n",
            "\n",
            "X-DSPAM-Processed: Fri Oct 19 10:23:30 2007\n",
            "\n",
            "X-DSPAM-Confidence: 0.8476\n",
            "\n",
            "X-DSPAM-Probability: 0.0000\n",
            "\n",
            "\n",
            "\n",
            "Details: http://source.sakaiproject.org/viewsvn/?view=rev&rev=37140\n",
            "\n",
            "\n",
            "\n",
            "Author: aaronz@vt.edu\n",
            "\n",
            "Date: 2007-10-19 10:20:58 -0400 (Fri, 19 Oct 2007)\n",
            "\n",
            "New Revision: 37140\n",
            "\n",
            "\n",
            "\n",
            "Modified:\n",
            "\n",
            "memory/branches/SAK-11913/memory-api/api/src/java/org/sakaiproject/memory/api/MultipleReferenceCache.java\n",
            "\n",
            "Log:\n",
            "\n",
            "SAK-11913: Updated all keys to be strings\n",
            "\n",
            "Added in some tests\n",
            "\n",
            "Fixed up Ian's code to also adhere to the string keys\n",
            "\n",
            "\n",
            "\n",
            "----------------------\n",
            "\n",
            "This automatic notification message was sent by Sakai Collab (https://collab.sakaiproject.org/portal) from the Source site.\n",
            "\n",
            "You can modify how you receive notifications at My Workspace > Preferences.\n",
            "\n",
            "\n",
            "\n",
            "\n",
            "\n",
            "\n",
            "\n",
            "From dlhaines@umich.edu Fri Oct 19 10:16:11 2007\n",
            "\n",
            "Return-Path: <postmaster@collab.sakaiproject.org>\n",
            "\n",
            "Received: from murder (mail.umich.edu [141.211.14.46])\n",
            "\n",
            "\t by thisboyslife.mail.umich.edu (Cyrus v2.3.8) with LMTPA;\n",
            "\n",
            "\t Fri, 19 Oct 2007 10:16:11 -0400\n",
            "\n",
            "X-Sieve: CMU Sieve 2.3\n",
            "\n",
            "Received: from murder ([unix socket])\n",
            "\n",
            "\t by mail.umich.edu (Cyrus v2.2.12) with LMTPA;\n",
            "\n",
            "\t Fri, 19 Oct 2007 10:16:11 -0400\n",
            "\n",
            "Received: from workinggirl.mr.itd.umich.edu (workinggirl.mr.itd.umich.edu [141.211.93.143])\n",
            "\n",
            "\tby fan.mail.umich.edu () with ESMTP id l9JEGAdw022955;\n",
            "\n",
            "\tFri, 19 Oct 2007 10:16:10 -0400\n",
            "\n",
            "Received: FROM paploo.uhi.ac.uk (app1.prod.collab.uhi.ac.uk [194.35.219.184])\n",
            "\n",
            "\tBY workinggirl.mr.itd.umich.edu ID 4718BC24.B18FE.20224 ; \n",
            "\n",
            "\t19 Oct 2007 10:16:07 -0400\n",
            "\n",
            "Received: from paploo.uhi.ac.uk (localhost [127.0.0.1])\n",
            "\n",
            "\tby paploo.uhi.ac.uk (Postfix) with ESMTP id 753EB68E55;\n",
            "\n",
            "\tFri, 19 Oct 2007 01:13:40 +0100 (BST)\n",
            "\n",
            "Message-ID: <200710191413.l9JEDtV0022622@nakamura.uits.iupui.edu>\n",
            "\n",
            "Mime-Version: 1.0\n",
            "\n",
            "Content-Transfer-Encoding: 7bit\n",
            "\n",
            "Received: from prod.collab.uhi.ac.uk ([194.35.219.182])\n",
            "\n",
            "          by paploo.uhi.ac.uk (JAMES SMTP Server 2.1.3) with SMTP ID 888\n",
            "\n",
            "          for <source@collab.sakaiproject.org>;\n",
            "\n",
            "          Fri, 19 Oct 2007 01:13:30 +0100 (BST)\n",
            "\n",
            "Received: from nakamura.uits.iupui.edu (nakamura.uits.iupui.edu [134.68.220.122])\n",
            "\n",
            "\tby shmi.uhi.ac.uk (Postfix) with ESMTP id A9DC9DCCA\n",
            "\n",
            "\tfor <source@collab.sakaiproject.org>; Fri, 19 Oct 2007 15:15:51 +0100 (BST)\n",
            "\n",
            "Received: from nakamura.uits.iupui.edu (localhost [127.0.0.1])\n",
            "\n",
            "\tby nakamura.uits.iupui.edu (8.12.11.20060308/8.12.11) with ESMTP id l9JEDt3f022624\n",
            "\n",
            "\tfor <source@collab.sakaiproject.org>; Fri, 19 Oct 2007 10:13:55 -0400\n",
            "\n",
            "Received: (from apache@localhost)\n",
            "\n",
            "\tby nakamura.uits.iupui.edu (8.12.11.20060308/8.12.11/Submit) id l9JEDtV0022622\n",
            "\n",
            "\tfor source@collab.sakaiproject.org; Fri, 19 Oct 2007 10:13:55 -0400\n",
            "\n",
            "Date: Fri, 19 Oct 2007 10:13:55 -0400\n",
            "\n",
            "X-Authentication-Warning: nakamura.uits.iupui.edu: apache set sender to dlhaines@umich.edu using -f\n",
            "\n",
            "To: source@collab.sakaiproject.org\n",
            "\n",
            "From: dlhaines@umich.edu\n",
            "\n",
            "Subject: [sakai] svn commit: r37139 - ctools/trunk/builds/ctools_2-4/configs/ctools_2-4-x_CANDIDATE\n",
            "\n",
            "X-Content-Type-Outer-Envelope: text/plain; charset=UTF-8\n",
            "\n",
            "X-Content-Type-Message-Body: text/plain; charset=UTF-8\n",
            "\n",
            "Content-Type: text/plain; charset=UTF-8\n",
            "\n",
            "X-DSPAM-Result: Innocent\n",
            "\n",
            "X-DSPAM-Processed: Fri Oct 19 10:16:11 2007\n",
            "\n",
            "X-DSPAM-Confidence: 0.9859\n",
            "\n",
            "X-DSPAM-Probability: 0.0000\n",
            "\n",
            "\n",
            "\n",
            "Details: http://source.sakaiproject.org/viewsvn/?view=rev&rev=37139\n",
            "\n",
            "\n",
            "\n",
            "Author: dlhaines@umich.edu\n",
            "\n",
            "Date: 2007-10-19 10:13:53 -0400 (Fri, 19 Oct 2007)\n",
            "\n",
            "New Revision: 37139\n",
            "\n",
            "\n",
            "\n",
            "Modified:\n",
            "\n",
            "ctools/trunk/builds/ctools_2-4/configs/ctools_2-4-x_CANDIDATE/ctools_2-4-xL.externals\n",
            "\n",
            "ctools/trunk/builds/ctools_2-4/configs/ctools_2-4-x_CANDIDATE/ctools_2-4-xL.properties\n",
            "\n",
            "Log:\n",
            "\n",
            "CTools: update build revision for 2.4.xL\n",
            "\n",
            "\n",
            "\n",
            "----------------------\n",
            "\n",
            "This automatic notification message was sent by Sakai Collab (https://collab.sakaiproject.org/portal) from the Source site.\n",
            "\n",
            "You can modify how you receive notifications at My Workspace > Preferences.\n",
            "\n",
            "\n",
            "\n",
            "\n",
            "\n",
            "\n",
            "\n",
            "From dlhaines@umich.edu Fri Oct 19 10:14:17 2007\n",
            "\n",
            "Return-Path: <postmaster@collab.sakaiproject.org>\n",
            "\n",
            "Received: from murder (mail.umich.edu [141.211.14.92])\n",
            "\n",
            "\t by thisboyslife.mail.umich.edu (Cyrus v2.3.8) with LMTPA;\n",
            "\n",
            "\t Fri, 19 Oct 2007 10:14:17 -0400\n",
            "\n",
            "X-Sieve: CMU Sieve 2.3\n",
            "\n",
            "Received: from murder ([unix socket])\n",
            "\n",
            "\t by mail.umich.edu (Cyrus v2.2.12) with LMTPA;\n",
            "\n",
            "\t Fri, 19 Oct 2007 10:14:17 -0400\n",
            "\n",
            "Received: from salemslot.mr.itd.umich.edu (salemslot.mr.itd.umich.edu [141.211.14.58])\n",
            "\n",
            "\tby score.mail.umich.edu () with ESMTP id l9JEEGhm007809;\n",
            "\n",
            "\tFri, 19 Oct 2007 10:14:16 -0400\n",
            "\n",
            "Received: FROM paploo.uhi.ac.uk (app1.prod.collab.uhi.ac.uk [194.35.219.184])\n",
            "\n",
            "\tBY salemslot.mr.itd.umich.edu ID 4718BBB3.345CA.24187 ; \n",
            "\n",
            "\t19 Oct 2007 10:14:14 -0400\n",
            "\n",
            "Received: from paploo.uhi.ac.uk (localhost [127.0.0.1])\n",
            "\n",
            "\tby paploo.uhi.ac.uk (Postfix) with ESMTP id 16A2265604;\n",
            "\n",
            "\tFri, 19 Oct 2007 01:11:35 +0100 (BST)\n",
            "\n",
            "Message-ID: <200710191411.l9JEBkHc022610@nakamura.uits.iupui.edu>\n",
            "\n",
            "Mime-Version: 1.0\n",
            "\n",
            "Content-Transfer-Encoding: 7bit\n",
            "\n",
            "Received: from prod.collab.uhi.ac.uk ([194.35.219.182])\n",
            "\n",
            "          by paploo.uhi.ac.uk (JAMES SMTP Server 2.1.3) with SMTP ID 697\n",
            "\n",
            "          for <source@collab.sakaiproject.org>;\n",
            "\n",
            "          Fri, 19 Oct 2007 01:11:14 +0100 (BST)\n",
            "\n",
            "Received: from nakamura.uits.iupui.edu (nakamura.uits.iupui.edu [134.68.220.122])\n",
            "\n",
            "\tby shmi.uhi.ac.uk (Postfix) with ESMTP id 42555DCCA\n",
            "\n",
            "\tfor <source@collab.sakaiproject.org>; Fri, 19 Oct 2007 15:13:43 +0100 (BST)\n",
            "\n",
            "Received: from nakamura.uits.iupui.edu (localhost [127.0.0.1])\n",
            "\n",
            "\tby nakamura.uits.iupui.edu (8.12.11.20060308/8.12.11) with ESMTP id l9JEBlpL022612\n",
            "\n",
            "\tfor <source@collab.sakaiproject.org>; Fri, 19 Oct 2007 10:11:47 -0400\n",
            "\n",
            "Received: (from apache@localhost)\n",
            "\n",
            "\tby nakamura.uits.iupui.edu (8.12.11.20060308/8.12.11/Submit) id l9JEBkHc022610\n",
            "\n",
            "\tfor source@collab.sakaiproject.org; Fri, 19 Oct 2007 10:11:46 -0400\n",
            "\n",
            "Date: Fri, 19 Oct 2007 10:11:46 -0400\n",
            "\n",
            "X-Authentication-Warning: nakamura.uits.iupui.edu: apache set sender to dlhaines@umich.edu using -f\n",
            "\n",
            "To: source@collab.sakaiproject.org\n",
            "\n",
            "From: dlhaines@umich.edu\n",
            "\n",
            "Subject: [sakai] svn commit: r37138 - in ctools/branches/ctools_2-4/ctools-reference/config: ctools testctools\n",
            "\n",
            "X-Content-Type-Outer-Envelope: text/plain; charset=UTF-8\n",
            "\n",
            "X-Content-Type-Message-Body: text/plain; charset=UTF-8\n",
            "\n",
            "Content-Type: text/plain; charset=UTF-8\n",
            "\n",
            "X-DSPAM-Result: Innocent\n",
            "\n",
            "X-DSPAM-Processed: Fri Oct 19 10:14:17 2007\n",
            "\n",
            "X-DSPAM-Confidence: 0.9846\n",
            "\n",
            "X-DSPAM-Probability: 0.0000\n",
            "\n",
            "\n",
            "\n",
            "Details: http://source.sakaiproject.org/viewsvn/?view=rev&rev=37138\n",
            "\n",
            "\n",
            "\n",
            "Author: dlhaines@umich.edu\n",
            "\n",
            "Date: 2007-10-19 10:11:45 -0400 (Fri, 19 Oct 2007)\n",
            "\n",
            "New Revision: 37138\n",
            "\n",
            "\n",
            "\n",
            "Modified:\n",
            "\n",
            "ctools/branches/ctools_2-4/ctools-reference/config/ctools/instance.properties\n",
            "\n",
            "ctools/branches/ctools_2-4/ctools-reference/config/testctools/instance.properties\n",
            "\n",
            "Log:\n",
            "\n",
            "CTools: stealth linktool on 2.4 branch.\n",
            "\n",
            "\n",
            "\n",
            "----------------------\n",
            "\n",
            "This automatic notification message was sent by Sakai Collab (https://collab.sakaiproject.org/portal) from the Source site.\n",
            "\n",
            "You can modify how you receive notifications at My Workspace > Preferences.\n",
            "\n",
            "\n",
            "\n",
            "\n",
            "\n",
            "\n",
            "\n",
            "From dlhaines@umich.edu Fri Oct 19 10:08:50 2007\n",
            "\n",
            "Return-Path: <postmaster@collab.sakaiproject.org>\n",
            "\n",
            "Received: from murder (mail.umich.edu [141.211.14.91])\n",
            "\n",
            "\t by thisboyslife.mail.umich.edu (Cyrus v2.3.8) with LMTPA;\n",
            "\n",
            "\t Fri, 19 Oct 2007 10:08:50 -0400\n",
            "\n",
            "X-Sieve: CMU Sieve 2.3\n",
            "\n",
            "Received: from murder ([unix socket])\n",
            "\n",
            "\t by mail.umich.edu (Cyrus v2.2.12) with LMTPA;\n",
            "\n",
            "\t Fri, 19 Oct 2007 10:08:50 -0400\n",
            "\n",
            "Received: from tadpole.mr.itd.umich.edu (tadpole.mr.itd.umich.edu [141.211.14.72])\n",
            "\n",
            "\tby jacknife.mail.umich.edu () with ESMTP id l9JE8m8L021039;\n",
            "\n",
            "\tFri, 19 Oct 2007 10:08:48 -0400\n",
            "\n",
            "Received: FROM paploo.uhi.ac.uk (app1.prod.collab.uhi.ac.uk [194.35.219.184])\n",
            "\n",
            "\tBY tadpole.mr.itd.umich.edu ID 4718BA6A.F345F.26235 ; \n",
            "\n",
            "\t19 Oct 2007 10:08:45 -0400\n",
            "\n",
            "Received: from paploo.uhi.ac.uk (localhost [127.0.0.1])\n",
            "\n",
            "\tby paploo.uhi.ac.uk (Postfix) with ESMTP id 1EE9265604;\n",
            "\n",
            "\tFri, 19 Oct 2007 01:06:18 +0100 (BST)\n",
            "\n",
            "Message-ID: <200710191406.l9JE6UTT022587@nakamura.uits.iupui.edu>\n",
            "\n",
            "Mime-Version: 1.0\n",
            "\n",
            "Content-Transfer-Encoding: 7bit\n",
            "\n",
            "Received: from prod.collab.uhi.ac.uk ([194.35.219.182])\n",
            "\n",
            "          by paploo.uhi.ac.uk (JAMES SMTP Server 2.1.3) with SMTP ID 64\n",
            "\n",
            "          for <source@collab.sakaiproject.org>;\n",
            "\n",
            "          Fri, 19 Oct 2007 01:05:58 +0100 (BST)\n",
            "\n",
            "Received: from nakamura.uits.iupui.edu (nakamura.uits.iupui.edu [134.68.220.122])\n",
            "\n",
            "\tby shmi.uhi.ac.uk (Postfix) with ESMTP id DBEF4DCCA\n",
            "\n",
            "\tfor <source@collab.sakaiproject.org>; Fri, 19 Oct 2007 15:08:26 +0100 (BST)\n",
            "\n",
            "Received: from nakamura.uits.iupui.edu (localhost [127.0.0.1])\n",
            "\n",
            "\tby nakamura.uits.iupui.edu (8.12.11.20060308/8.12.11) with ESMTP id l9JE6Uv2022589\n",
            "\n",
            "\tfor <source@collab.sakaiproject.org>; Fri, 19 Oct 2007 10:06:30 -0400\n",
            "\n",
            "Received: (from apache@localhost)\n",
            "\n",
            "\tby nakamura.uits.iupui.edu (8.12.11.20060308/8.12.11/Submit) id l9JE6UTT022587\n",
            "\n",
            "\tfor source@collab.sakaiproject.org; Fri, 19 Oct 2007 10:06:30 -0400\n",
            "\n",
            "Date: Fri, 19 Oct 2007 10:06:30 -0400\n",
            "\n",
            "X-Authentication-Warning: nakamura.uits.iupui.edu: apache set sender to dlhaines@umich.edu using -f\n",
            "\n",
            "To: source@collab.sakaiproject.org\n",
            "\n",
            "From: dlhaines@umich.edu\n",
            "\n",
            "Subject: [sakai] svn commit: r37137 - in ctools/trunk/ctools-reference/config: ctools testctools\n",
            "\n",
            "X-Content-Type-Outer-Envelope: text/plain; charset=UTF-8\n",
            "\n",
            "X-Content-Type-Message-Body: text/plain; charset=UTF-8\n",
            "\n",
            "Content-Type: text/plain; charset=UTF-8\n",
            "\n",
            "X-DSPAM-Result: Innocent\n",
            "\n",
            "X-DSPAM-Processed: Fri Oct 19 10:08:49 2007\n",
            "\n",
            "X-DSPAM-Confidence: 0.9863\n",
            "\n",
            "X-DSPAM-Probability: 0.0000\n",
            "\n",
            "\n",
            "\n",
            "Details: http://source.sakaiproject.org/viewsvn/?view=rev&rev=37137\n",
            "\n",
            "\n",
            "\n",
            "Author: dlhaines@umich.edu\n",
            "\n",
            "Date: 2007-10-19 10:06:28 -0400 (Fri, 19 Oct 2007)\n",
            "\n",
            "New Revision: 37137\n",
            "\n",
            "\n",
            "\n",
            "Modified:\n",
            "\n",
            "ctools/trunk/ctools-reference/config/ctools/instance.properties\n",
            "\n",
            "ctools/trunk/ctools-reference/config/testctools/instance.properties\n",
            "\n",
            "Log:\n",
            "\n",
            "CTools: stealth link tool.\n",
            "\n",
            "\n",
            "\n",
            "----------------------\n",
            "\n",
            "This automatic notification message was sent by Sakai Collab (https://collab.sakaiproject.org/portal) from the Source site.\n",
            "\n",
            "You can modify how you receive notifications at My Workspace > Preferences.\n",
            "\n",
            "\n",
            "\n",
            "\n",
            "\n",
            "\n",
            "\n",
            "From ajpoland@iupui.edu Fri Oct 19 09:24:52 2007\n",
            "\n",
            "Return-Path: <postmaster@collab.sakaiproject.org>\n",
            "\n",
            "Received: from murder (mail.umich.edu [141.211.14.96])\n",
            "\n",
            "\t by thisboyslife.mail.umich.edu (Cyrus v2.3.8) with LMTPA;\n",
            "\n",
            "\t Fri, 19 Oct 2007 09:24:52 -0400\n",
            "\n",
            "X-Sieve: CMU Sieve 2.3\n",
            "\n",
            "Received: from murder ([unix socket])\n",
            "\n",
            "\t by mail.umich.edu (Cyrus v2.2.12) with LMTPA;\n",
            "\n",
            "\t Fri, 19 Oct 2007 09:24:52 -0400\n",
            "\n",
            "Received: from guys.mr.itd.umich.edu (guys.mr.itd.umich.edu [141.211.14.76])\n",
            "\n",
            "\tby awakenings.mail.umich.edu () with ESMTP id l9JDOqZA020305;\n",
            "\n",
            "\tFri, 19 Oct 2007 09:24:52 -0400\n",
            "\n",
            "Received: FROM paploo.uhi.ac.uk (app1.prod.collab.uhi.ac.uk [194.35.219.184])\n",
            "\n",
            "\tBY guys.mr.itd.umich.edu ID 4718B01C.3994B.20355 ; \n",
            "\n",
            "\t19 Oct 2007 09:24:47 -0400\n",
            "\n",
            "Received: from paploo.uhi.ac.uk (localhost [127.0.0.1])\n",
            "\n",
            "\tby paploo.uhi.ac.uk (Postfix) with ESMTP id 2B47168EB8;\n",
            "\n",
            "\tFri, 19 Oct 2007 00:22:17 +0100 (BST)\n",
            "\n",
            "Message-ID: <200710191322.l9JDMafD022523@nakamura.uits.iupui.edu>\n",
            "\n",
            "Mime-Version: 1.0\n",
            "\n",
            "Content-Transfer-Encoding: 7bit\n",
            "\n",
            "Received: from prod.collab.uhi.ac.uk ([194.35.219.182])\n",
            "\n",
            "          by paploo.uhi.ac.uk (JAMES SMTP Server 2.1.3) with SMTP ID 793\n",
            "\n",
            "          for <source@collab.sakaiproject.org>;\n",
            "\n",
            "          Fri, 19 Oct 2007 00:22:00 +0100 (BST)\n",
            "\n",
            "Received: from nakamura.uits.iupui.edu (nakamura.uits.iupui.edu [134.68.220.122])\n",
            "\n",
            "\tby shmi.uhi.ac.uk (Postfix) with ESMTP id 4A1811038B\n",
            "\n",
            "\tfor <source@collab.sakaiproject.org>; Fri, 19 Oct 2007 14:24:32 +0100 (BST)\n",
            "\n",
            "Received: from nakamura.uits.iupui.edu (localhost [127.0.0.1])\n",
            "\n",
            "\tby nakamura.uits.iupui.edu (8.12.11.20060308/8.12.11) with ESMTP id l9JDMadJ022525\n",
            "\n",
            "\tfor <source@collab.sakaiproject.org>; Fri, 19 Oct 2007 09:22:36 -0400\n",
            "\n",
            "Received: (from apache@localhost)\n",
            "\n",
            "\tby nakamura.uits.iupui.edu (8.12.11.20060308/8.12.11/Submit) id l9JDMafD022523\n",
            "\n",
            "\tfor source@collab.sakaiproject.org; Fri, 19 Oct 2007 09:22:36 -0400\n",
            "\n",
            "Date: Fri, 19 Oct 2007 09:22:36 -0400\n",
            "\n",
            "X-Authentication-Warning: nakamura.uits.iupui.edu: apache set sender to ajpoland@iupui.edu using -f\n",
            "\n",
            "To: source@collab.sakaiproject.org\n",
            "\n",
            "From: ajpoland@iupui.edu\n",
            "\n",
            "Subject: [sakai] svn commit: r37136 - oncourse/branches/sakai_2-4-x\n",
            "\n",
            "X-Content-Type-Outer-Envelope: text/plain; charset=UTF-8\n",
            "\n",
            "X-Content-Type-Message-Body: text/plain; charset=UTF-8\n",
            "\n",
            "Content-Type: text/plain; charset=UTF-8\n",
            "\n",
            "X-DSPAM-Result: Innocent\n",
            "\n",
            "X-DSPAM-Processed: Fri Oct 19 09:24:52 2007\n",
            "\n",
            "X-DSPAM-Confidence: 0.9803\n",
            "\n",
            "X-DSPAM-Probability: 0.0000\n",
            "\n",
            "\n",
            "\n",
            "Details: http://source.sakaiproject.org/viewsvn/?view=rev&rev=37136\n",
            "\n",
            "\n",
            "\n",
            "Author: ajpoland@iupui.edu\n",
            "\n",
            "Date: 2007-10-19 09:22:35 -0400 (Fri, 19 Oct 2007)\n",
            "\n",
            "New Revision: 37136\n",
            "\n",
            "\n",
            "\n",
            "Modified:\n",
            "\n",
            "oncourse/branches/sakai_2-4-x/\n",
            "\n",
            "oncourse/branches/sakai_2-4-x/.externals\n",
            "\n",
            "Log:\n",
            "\n",
            "Updated externals\n",
            "\n",
            "\n",
            "\n",
            "----------------------\n",
            "\n",
            "This automatic notification message was sent by Sakai Collab (https://collab.sakaiproject.org/portal) from the Source site.\n",
            "\n",
            "You can modify how you receive notifications at My Workspace > Preferences.\n",
            "\n",
            "\n",
            "\n",
            "\n",
            "\n",
            "\n",
            "\n",
            "From rjlowe@iupui.edu Fri Oct 19 09:23:36 2007\n",
            "\n",
            "Return-Path: <postmaster@collab.sakaiproject.org>\n",
            "\n",
            "Received: from murder (mail.umich.edu [141.211.14.98])\n",
            "\n",
            "\t by thisboyslife.mail.umich.edu (Cyrus v2.3.8) with LMTPA;\n",
            "\n",
            "\t Fri, 19 Oct 2007 09:23:36 -0400\n",
            "\n",
            "X-Sieve: CMU Sieve 2.3\n",
            "\n",
            "Received: from murder ([unix socket])\n",
            "\n",
            "\t by mail.umich.edu (Cyrus v2.2.12) with LMTPA;\n",
            "\n",
            "\t Fri, 19 Oct 2007 09:23:36 -0400\n",
            "\n",
            "Received: from holes.mr.itd.umich.edu (holes.mr.itd.umich.edu [141.211.14.79])\n",
            "\n",
            "\tby casino.mail.umich.edu () with ESMTP id l9JDNZ39010078;\n",
            "\n",
            "\tFri, 19 Oct 2007 09:23:35 -0400\n",
            "\n",
            "Received: FROM paploo.uhi.ac.uk (app1.prod.collab.uhi.ac.uk [194.35.219.184])\n",
            "\n",
            "\tBY holes.mr.itd.umich.edu ID 4718AFD1.2424E.15461 ; \n",
            "\n",
            "\t19 Oct 2007 09:23:32 -0400\n",
            "\n",
            "Received: from paploo.uhi.ac.uk (localhost [127.0.0.1])\n",
            "\n",
            "\tby paploo.uhi.ac.uk (Postfix) with ESMTP id 0DF8A68EBB;\n",
            "\n",
            "\tFri, 19 Oct 2007 00:21:04 +0100 (BST)\n",
            "\n",
            "Message-ID: <200710191321.l9JDLKOx022492@nakamura.uits.iupui.edu>\n",
            "\n",
            "Mime-Version: 1.0\n",
            "\n",
            "Content-Transfer-Encoding: 7bit\n",
            "\n",
            "Received: from prod.collab.uhi.ac.uk ([194.35.219.182])\n",
            "\n",
            "          by paploo.uhi.ac.uk (JAMES SMTP Server 2.1.3) with SMTP ID 460\n",
            "\n",
            "          for <source@collab.sakaiproject.org>;\n",
            "\n",
            "          Fri, 19 Oct 2007 00:20:52 +0100 (BST)\n",
            "\n",
            "Received: from nakamura.uits.iupui.edu (nakamura.uits.iupui.edu [134.68.220.122])\n",
            "\n",
            "\tby shmi.uhi.ac.uk (Postfix) with ESMTP id B7AE71038B\n",
            "\n",
            "\tfor <source@collab.sakaiproject.org>; Fri, 19 Oct 2007 14:23:16 +0100 (BST)\n",
            "\n",
            "Received: from nakamura.uits.iupui.edu (localhost [127.0.0.1])\n",
            "\n",
            "\tby nakamura.uits.iupui.edu (8.12.11.20060308/8.12.11) with ESMTP id l9JDLK05022494\n",
            "\n",
            "\tfor <source@collab.sakaiproject.org>; Fri, 19 Oct 2007 09:21:20 -0400\n",
            "\n",
            "Received: (from apache@localhost)\n",
            "\n",
            "\tby nakamura.uits.iupui.edu (8.12.11.20060308/8.12.11/Submit) id l9JDLKOx022492\n",
            "\n",
            "\tfor source@collab.sakaiproject.org; Fri, 19 Oct 2007 09:21:20 -0400\n",
            "\n",
            "Date: Fri, 19 Oct 2007 09:21:20 -0400\n",
            "\n",
            "X-Authentication-Warning: nakamura.uits.iupui.edu: apache set sender to rjlowe@iupui.edu using -f\n",
            "\n",
            "To: source@collab.sakaiproject.org\n",
            "\n",
            "From: rjlowe@iupui.edu\n",
            "\n",
            "Subject: [sakai] svn commit: r37135 - msgcntr/branches/oncourse_2-4-x/messageforums-app/src/webapp/jsp\n",
            "\n",
            "X-Content-Type-Outer-Envelope: text/plain; charset=UTF-8\n",
            "\n",
            "X-Content-Type-Message-Body: text/plain; charset=UTF-8\n",
            "\n",
            "Content-Type: text/plain; charset=UTF-8\n",
            "\n",
            "X-DSPAM-Result: Innocent\n",
            "\n",
            "X-DSPAM-Processed: Fri Oct 19 09:23:36 2007\n",
            "\n",
            "X-DSPAM-Confidence: 0.9912\n",
            "\n",
            "X-DSPAM-Probability: 0.0000\n",
            "\n",
            "\n",
            "\n",
            "Details: http://source.sakaiproject.org/viewsvn/?view=rev&rev=37135\n",
            "\n",
            "\n",
            "\n",
            "Author: rjlowe@iupui.edu\n",
            "\n",
            "Date: 2007-10-19 09:21:19 -0400 (Fri, 19 Oct 2007)\n",
            "\n",
            "New Revision: 37135\n",
            "\n",
            "\n",
            "\n",
            "Modified:\n",
            "\n",
            "msgcntr/branches/oncourse_2-4-x/messageforums-app/src/webapp/jsp/pvtMsgReply.jsp\n",
            "\n",
            "Log:\n",
            "\n",
            "svn merge -r 37113:37114 https://source.sakaiproject.org/svn/msgcntr/trunk/\n",
            "\n",
            "U    messageforums-app/src/webapp/jsp/pvtMsgReply.jsp\n",
            "\n",
            "in-143-146:~/java/temp/msgcntr admin$ svn log -r 37114:37114 https://source.sakaiproject.org/svn/msgcntr/trunk/\n",
            "\n",
            "------------------------------------------------------------------------\n",
            "\n",
            "r37114 | wang58@iupui.edu | 2007-10-18 15:15:58 -0400 (Thu, 18 Oct 2007) | 2 lines\n",
            "\n",
            "\n",
            "\n",
            "SAK-11914 including body in replying message\n",
            "\n",
            "--removed replying to section.\n",
            "\n",
            "------------------------------------------------------------------------\n",
            "\n",
            "\n",
            "\n",
            "\n",
            "\n",
            "----------------------\n",
            "\n",
            "This automatic notification message was sent by Sakai Collab (https://collab.sakaiproject.org/portal) from the Source site.\n",
            "\n",
            "You can modify how you receive notifications at My Workspace > Preferences.\n",
            "\n",
            "\n",
            "\n",
            "\n",
            "\n",
            "\n",
            "\n",
            "From rjlowe@iupui.edu Fri Oct 19 09:22:52 2007\n",
            "\n",
            "Return-Path: <postmaster@collab.sakaiproject.org>\n",
            "\n",
            "Received: from murder (mail.umich.edu [141.211.14.90])\n",
            "\n",
            "\t by thisboyslife.mail.umich.edu (Cyrus v2.3.8) with LMTPA;\n",
            "\n",
            "\t Fri, 19 Oct 2007 09:22:52 -0400\n",
            "\n",
            "X-Sieve: CMU Sieve 2.3\n",
            "\n",
            "Received: from murder ([unix socket])\n",
            "\n",
            "\t by mail.umich.edu (Cyrus v2.2.12) with LMTPA;\n",
            "\n",
            "\t Fri, 19 Oct 2007 09:22:52 -0400\n",
            "\n",
            "Received: from dave.mr.itd.umich.edu (dave.mr.itd.umich.edu [141.211.14.70])\n",
            "\n",
            "\tby flawless.mail.umich.edu () with ESMTP id l9JDMpYN023610;\n",
            "\n",
            "\tFri, 19 Oct 2007 09:22:51 -0400\n",
            "\n",
            "Received: FROM paploo.uhi.ac.uk (app1.prod.collab.uhi.ac.uk [194.35.219.184])\n",
            "\n",
            "\tBY dave.mr.itd.umich.edu ID 4718AF9D.B8C8F.21998 ; \n",
            "\n",
            "\t19 Oct 2007 09:22:40 -0400\n",
            "\n",
            "Received: from paploo.uhi.ac.uk (localhost [127.0.0.1])\n",
            "\n",
            "\tby paploo.uhi.ac.uk (Postfix) with ESMTP id B8E0E68E7E;\n",
            "\n",
            "\tFri, 19 Oct 2007 00:20:11 +0100 (BST)\n",
            "\n",
            "Message-ID: <200710191320.l9JDKPds022480@nakamura.uits.iupui.edu>\n",
            "\n",
            "Mime-Version: 1.0\n",
            "\n",
            "Content-Transfer-Encoding: 7bit\n",
            "\n",
            "Received: from prod.collab.uhi.ac.uk ([194.35.219.182])\n",
            "\n",
            "          by paploo.uhi.ac.uk (JAMES SMTP Server 2.1.3) with SMTP ID 515\n",
            "\n",
            "          for <source@collab.sakaiproject.org>;\n",
            "\n",
            "          Fri, 19 Oct 2007 00:19:50 +0100 (BST)\n",
            "\n",
            "Received: from nakamura.uits.iupui.edu (nakamura.uits.iupui.edu [134.68.220.122])\n",
            "\n",
            "\tby shmi.uhi.ac.uk (Postfix) with ESMTP id 370811B96C\n",
            "\n",
            "\tfor <source@collab.sakaiproject.org>; Fri, 19 Oct 2007 14:22:21 +0100 (BST)\n",
            "\n",
            "Received: from nakamura.uits.iupui.edu (localhost [127.0.0.1])\n",
            "\n",
            "\tby nakamura.uits.iupui.edu (8.12.11.20060308/8.12.11) with ESMTP id l9JDKPq2022482\n",
            "\n",
            "\tfor <source@collab.sakaiproject.org>; Fri, 19 Oct 2007 09:20:25 -0400\n",
            "\n",
            "Received: (from apache@localhost)\n",
            "\n",
            "\tby nakamura.uits.iupui.edu (8.12.11.20060308/8.12.11/Submit) id l9JDKPds022480\n",
            "\n",
            "\tfor source@collab.sakaiproject.org; Fri, 19 Oct 2007 09:20:25 -0400\n",
            "\n",
            "Date: Fri, 19 Oct 2007 09:20:25 -0400\n",
            "\n",
            "X-Authentication-Warning: nakamura.uits.iupui.edu: apache set sender to rjlowe@iupui.edu using -f\n",
            "\n",
            "To: source@collab.sakaiproject.org\n",
            "\n",
            "From: rjlowe@iupui.edu\n",
            "\n",
            "Subject: [sakai] svn commit: r37134 - msgcntr/branches/oncourse_2-4-x/messageforums-app/src/webapp/jsp\n",
            "\n",
            "X-Content-Type-Outer-Envelope: text/plain; charset=UTF-8\n",
            "\n",
            "X-Content-Type-Message-Body: text/plain; charset=UTF-8\n",
            "\n",
            "Content-Type: text/plain; charset=UTF-8\n",
            "\n",
            "X-DSPAM-Result: Innocent\n",
            "\n",
            "X-DSPAM-Processed: Fri Oct 19 09:22:52 2007\n",
            "\n",
            "X-DSPAM-Confidence: 0.9896\n",
            "\n",
            "X-DSPAM-Probability: 0.0000\n",
            "\n",
            "\n",
            "\n",
            "Details: http://source.sakaiproject.org/viewsvn/?view=rev&rev=37134\n",
            "\n",
            "\n",
            "\n",
            "Author: rjlowe@iupui.edu\n",
            "\n",
            "Date: 2007-10-19 09:20:24 -0400 (Fri, 19 Oct 2007)\n",
            "\n",
            "New Revision: 37134\n",
            "\n",
            "\n",
            "\n",
            "Modified:\n",
            "\n",
            "msgcntr/branches/oncourse_2-4-x/messageforums-app/src/webapp/jsp/pvtMsgReply.jsp\n",
            "\n",
            "Log:\n",
            "\n",
            "svn merge -r 36791:36792 https://source.sakaiproject.org/svn/msgcntr/trunk\n",
            "\n",
            "svn log -r 36792:36792 https://source.sakaiproject.org/svn/msgcntr/trunk\n",
            "\n",
            "------------------------------------------------------------------------\n",
            "\n",
            "r36792 | wang58@iupui.edu | 2007-10-12 10:28:06 -0400 (Fri, 12 Oct 2007) | 2 lines\n",
            "\n",
            "\n",
            "\n",
            "SAK-11914 Including body in replying message\n",
            "\n",
            "--change the breadCrumb.\n",
            "\n",
            "------------------------------------------------------------------------\n",
            "\n",
            "\n",
            "\n",
            "\n",
            "\n",
            "\n",
            "\n",
            "----------------------\n",
            "\n",
            "This automatic notification message was sent by Sakai Collab (https://collab.sakaiproject.org/portal) from the Source site.\n",
            "\n",
            "You can modify how you receive notifications at My Workspace > Preferences.\n",
            "\n",
            "\n",
            "\n",
            "\n",
            "\n",
            "\n",
            "\n",
            "From rjlowe@iupui.edu Fri Oct 19 09:19:00 2007\n",
            "\n",
            "Return-Path: <postmaster@collab.sakaiproject.org>\n",
            "\n",
            "Received: from murder (mail.umich.edu [141.211.14.46])\n",
            "\n",
            "\t by thisboyslife.mail.umich.edu (Cyrus v2.3.8) with LMTPA;\n",
            "\n",
            "\t Fri, 19 Oct 2007 09:19:00 -0400\n",
            "\n",
            "X-Sieve: CMU Sieve 2.3\n",
            "\n",
            "Received: from murder ([unix socket])\n",
            "\n",
            "\t by mail.umich.edu (Cyrus v2.2.12) with LMTPA;\n",
            "\n",
            "\t Fri, 19 Oct 2007 09:19:00 -0400\n",
            "\n",
            "Received: from icestorm.mr.itd.umich.edu (icestorm.mr.itd.umich.edu [141.211.93.149])\n",
            "\n",
            "\tby fan.mail.umich.edu () with ESMTP id l9JDIxHm025271;\n",
            "\n",
            "\tFri, 19 Oct 2007 09:18:59 -0400\n",
            "\n",
            "Received: FROM paploo.uhi.ac.uk (app1.prod.collab.uhi.ac.uk [194.35.219.184])\n",
            "\n",
            "\tBY icestorm.mr.itd.umich.edu ID 4718AEB6.4403D.28688 ; \n",
            "\n",
            "\t19 Oct 2007 09:18:49 -0400\n",
            "\n",
            "Received: from paploo.uhi.ac.uk (localhost [127.0.0.1])\n",
            "\n",
            "\tby paploo.uhi.ac.uk (Postfix) with ESMTP id 2BADD68EA8;\n",
            "\n",
            "\tFri, 19 Oct 2007 00:16:22 +0100 (BST)\n",
            "\n",
            "Message-ID: <200710191316.l9JDGcVi022463@nakamura.uits.iupui.edu>\n",
            "\n",
            "Mime-Version: 1.0\n",
            "\n",
            "Content-Transfer-Encoding: 7bit\n",
            "\n",
            "Received: from prod.collab.uhi.ac.uk ([194.35.219.182])\n",
            "\n",
            "          by paploo.uhi.ac.uk (JAMES SMTP Server 2.1.3) with SMTP ID 131\n",
            "\n",
            "          for <source@collab.sakaiproject.org>;\n",
            "\n",
            "          Fri, 19 Oct 2007 00:16:11 +0100 (BST)\n",
            "\n",
            "Received: from nakamura.uits.iupui.edu (nakamura.uits.iupui.edu [134.68.220.122])\n",
            "\n",
            "\tby shmi.uhi.ac.uk (Postfix) with ESMTP id 76E131B963\n",
            "\n",
            "\tfor <source@collab.sakaiproject.org>; Fri, 19 Oct 2007 14:18:34 +0100 (BST)\n",
            "\n",
            "Received: from nakamura.uits.iupui.edu (localhost [127.0.0.1])\n",
            "\n",
            "\tby nakamura.uits.iupui.edu (8.12.11.20060308/8.12.11) with ESMTP id l9JDGcsS022465\n",
            "\n",
            "\tfor <source@collab.sakaiproject.org>; Fri, 19 Oct 2007 09:16:38 -0400\n",
            "\n",
            "Received: (from apache@localhost)\n",
            "\n",
            "\tby nakamura.uits.iupui.edu (8.12.11.20060308/8.12.11/Submit) id l9JDGcVi022463\n",
            "\n",
            "\tfor source@collab.sakaiproject.org; Fri, 19 Oct 2007 09:16:38 -0400\n",
            "\n",
            "Date: Fri, 19 Oct 2007 09:16:38 -0400\n",
            "\n",
            "X-Authentication-Warning: nakamura.uits.iupui.edu: apache set sender to rjlowe@iupui.edu using -f\n",
            "\n",
            "To: source@collab.sakaiproject.org\n",
            "\n",
            "From: rjlowe@iupui.edu\n",
            "\n",
            "Subject: [sakai] svn commit: r37133 - in msgcntr/branches/oncourse_2-4-x: messageforums-api/src/bundle/org/sakaiproject/api/app/messagecenter/bundle messageforums-app/src/java/org/sakaiproject/tool/messageforums\n",
            "\n",
            "X-Content-Type-Outer-Envelope: text/plain; charset=UTF-8\n",
            "\n",
            "X-Content-Type-Message-Body: text/plain; charset=UTF-8\n",
            "\n",
            "Content-Type: text/plain; charset=UTF-8\n",
            "\n",
            "X-DSPAM-Result: Innocent\n",
            "\n",
            "X-DSPAM-Processed: Fri Oct 19 09:19:00 2007\n",
            "\n",
            "X-DSPAM-Confidence: 0.9907\n",
            "\n",
            "X-DSPAM-Probability: 0.0000\n",
            "\n",
            "\n",
            "\n",
            "Details: http://source.sakaiproject.org/viewsvn/?view=rev&rev=37133\n",
            "\n",
            "\n",
            "\n",
            "Author: rjlowe@iupui.edu\n",
            "\n",
            "Date: 2007-10-19 09:16:37 -0400 (Fri, 19 Oct 2007)\n",
            "\n",
            "New Revision: 37133\n",
            "\n",
            "\n",
            "\n",
            "Modified:\n",
            "\n",
            "msgcntr/branches/oncourse_2-4-x/messageforums-api/src/bundle/org/sakaiproject/api/app/messagecenter/bundle/Messages.properties\n",
            "\n",
            "msgcntr/branches/oncourse_2-4-x/messageforums-app/src/java/org/sakaiproject/tool/messageforums/PrivateMessagesTool.java\n",
            "\n",
            "Log:\n",
            "\n",
            "svn merge -r 36637:36638 https://source.sakaiproject.org/svn/msgcntr/trunk \n",
            "\n",
            "U    messageforums-api/src/bundle/org/sakaiproject/api/app/messagecenter/bundle/Messages.properties\n",
            "\n",
            "U    messageforums-app/src/java/org/sakaiproject/tool/messageforums/PrivateMessagesTool.java\n",
            "\n",
            "in-143-146:~/java/temp/msgcntr admin$ svn log -r 36638:36638 https://source.sakaiproject.org/svn/msgcntr/trunk\n",
            "\n",
            "------------------------------------------------------------------------\n",
            "\n",
            "r36638 | wang58@iupui.edu | 2007-10-10 11:32:30 -0400 (Wed, 10 Oct 2007) | 1 line\n",
            "\n",
            "\n",
            "\n",
            "Messages--including body in replying message.\n",
            "\n",
            "------------------------------------------------------------------------\n",
            "\n",
            "\n",
            "\n",
            "\n",
            "\n",
            "----------------------\n",
            "\n",
            "This automatic notification message was sent by Sakai Collab (https://collab.sakaiproject.org/portal) from the Source site.\n",
            "\n",
            "You can modify how you receive notifications at My Workspace > Preferences.\n",
            "\n",
            "\n",
            "\n",
            "\n",
            "\n",
            "\n",
            "\n",
            "From dlhaines@umich.edu Fri Oct 19 09:17:36 2007\n",
            "\n",
            "Return-Path: <postmaster@collab.sakaiproject.org>\n",
            "\n",
            "Received: from murder (mail.umich.edu [141.211.14.36])\n",
            "\n",
            "\t by thisboyslife.mail.umich.edu (Cyrus v2.3.8) with LMTPA;\n",
            "\n",
            "\t Fri, 19 Oct 2007 09:17:36 -0400\n",
            "\n",
            "X-Sieve: CMU Sieve 2.3\n",
            "\n",
            "Received: from murder ([unix socket])\n",
            "\n",
            "\t by mail.umich.edu (Cyrus v2.2.12) with LMTPA;\n",
            "\n",
            "\t Fri, 19 Oct 2007 09:17:36 -0400\n",
            "\n",
            "Received: from salemslot.mr.itd.umich.edu (salemslot.mr.itd.umich.edu [141.211.14.58])\n",
            "\n",
            "\tby godsend.mail.umich.edu () with ESMTP id l9JDHZvF002030;\n",
            "\n",
            "\tFri, 19 Oct 2007 09:17:35 -0400\n",
            "\n",
            "Received: FROM paploo.uhi.ac.uk (app1.prod.collab.uhi.ac.uk [194.35.219.184])\n",
            "\n",
            "\tBY salemslot.mr.itd.umich.edu ID 4718AE6A.789FA.18119 ; \n",
            "\n",
            "\t19 Oct 2007 09:17:33 -0400\n",
            "\n",
            "Received: from paploo.uhi.ac.uk (localhost [127.0.0.1])\n",
            "\n",
            "\tby paploo.uhi.ac.uk (Postfix) with ESMTP id A032B68E94;\n",
            "\n",
            "\tFri, 19 Oct 2007 00:15:04 +0100 (BST)\n",
            "\n",
            "Message-ID: <200710191258.l9JCwEDY022414@nakamura.uits.iupui.edu>\n",
            "\n",
            "Mime-Version: 1.0\n",
            "\n",
            "Content-Transfer-Encoding: 7bit\n",
            "\n",
            "Received: from prod.collab.uhi.ac.uk ([194.35.219.182])\n",
            "\n",
            "          by paploo.uhi.ac.uk (JAMES SMTP Server 2.1.3) with SMTP ID 508\n",
            "\n",
            "          for <source@collab.sakaiproject.org>;\n",
            "\n",
            "          Fri, 19 Oct 2007 00:14:53 +0100 (BST)\n",
            "\n",
            "Received: from nakamura.uits.iupui.edu (nakamura.uits.iupui.edu [134.68.220.122])\n",
            "\n",
            "\tby shmi.uhi.ac.uk (Postfix) with ESMTP id 994C11BAEF\n",
            "\n",
            "\tfor <source@collab.sakaiproject.org>; Fri, 19 Oct 2007 14:00:10 +0100 (BST)\n",
            "\n",
            "Received: from nakamura.uits.iupui.edu (localhost [127.0.0.1])\n",
            "\n",
            "\tby nakamura.uits.iupui.edu (8.12.11.20060308/8.12.11) with ESMTP id l9JCwEQ8022416\n",
            "\n",
            "\tfor <source@collab.sakaiproject.org>; Fri, 19 Oct 2007 08:58:14 -0400\n",
            "\n",
            "Received: (from apache@localhost)\n",
            "\n",
            "\tby nakamura.uits.iupui.edu (8.12.11.20060308/8.12.11/Submit) id l9JCwEDY022414\n",
            "\n",
            "\tfor source@collab.sakaiproject.org; Fri, 19 Oct 2007 08:58:14 -0400\n",
            "\n",
            "Date: Fri, 19 Oct 2007 08:58:14 -0400\n",
            "\n",
            "X-Authentication-Warning: nakamura.uits.iupui.edu: apache set sender to dlhaines@umich.edu using -f\n",
            "\n",
            "To: source@collab.sakaiproject.org\n",
            "\n",
            "From: dlhaines@umich.edu\n",
            "\n",
            "Subject: [sakai] svn commit: r37132 - ctools/trunk/builds/ctools_2-4/configs/ctools_2-4-x_CANDIDATE\n",
            "\n",
            "X-Content-Type-Outer-Envelope: text/plain; charset=UTF-8\n",
            "\n",
            "X-Content-Type-Message-Body: text/plain; charset=UTF-8\n",
            "\n",
            "Content-Type: text/plain; charset=UTF-8\n",
            "\n",
            "X-DSPAM-Result: Innocent\n",
            "\n",
            "X-DSPAM-Processed: Fri Oct 19 09:17:36 2007\n",
            "\n",
            "X-DSPAM-Confidence: 0.9860\n",
            "\n",
            "X-DSPAM-Probability: 0.0000\n",
            "\n",
            "\n",
            "\n",
            "Details: http://source.sakaiproject.org/viewsvn/?view=rev&rev=37132\n",
            "\n",
            "\n",
            "\n",
            "Author: dlhaines@umich.edu\n",
            "\n",
            "Date: 2007-10-19 08:58:13 -0400 (Fri, 19 Oct 2007)\n",
            "\n",
            "New Revision: 37132\n",
            "\n",
            "\n",
            "\n",
            "Modified:\n",
            "\n",
            "ctools/trunk/builds/ctools_2-4/configs/ctools_2-4-x_CANDIDATE/ctools_2-4-xL.externals\n",
            "\n",
            "ctools/trunk/builds/ctools_2-4/configs/ctools_2-4-x_CANDIDATE/ctools_2-4-xL.properties\n",
            "\n",
            "Log:\n",
            "\n",
            "CTools: update to latest msgcntr.\n",
            "\n",
            "\n",
            "\n",
            "----------------------\n",
            "\n",
            "This automatic notification message was sent by Sakai Collab (https://collab.sakaiproject.org/portal) from the Source site.\n",
            "\n",
            "You can modify how you receive notifications at My Workspace > Preferences.\n",
            "\n",
            "\n",
            "\n",
            "\n",
            "\n",
            "\n",
            "\n",
            "From aaronz@vt.edu Fri Oct 19 06:54:53 2007\n",
            "\n",
            "Return-Path: <postmaster@collab.sakaiproject.org>\n",
            "\n",
            "Received: from murder (mail.umich.edu [141.211.14.46])\n",
            "\n",
            "\t by thisboyslife.mail.umich.edu (Cyrus v2.3.8) with LMTPA;\n",
            "\n",
            "\t Fri, 19 Oct 2007 06:54:53 -0400\n",
            "\n",
            "X-Sieve: CMU Sieve 2.3\n",
            "\n",
            "Received: from murder ([unix socket])\n",
            "\n",
            "\t by mail.umich.edu (Cyrus v2.2.12) with LMTPA;\n",
            "\n",
            "\t Fri, 19 Oct 2007 06:54:53 -0400\n",
            "\n",
            "Received: from tadpole.mr.itd.umich.edu (tadpole.mr.itd.umich.edu [141.211.14.72])\n",
            "\n",
            "\tby fan.mail.umich.edu () with ESMTP id l9JAs0co011479;\n",
            "\n",
            "\tFri, 19 Oct 2007 06:54:00 -0400\n",
            "\n",
            "Received: FROM paploo.uhi.ac.uk (app1.prod.collab.uhi.ac.uk [194.35.219.184])\n",
            "\n",
            "\tBY tadpole.mr.itd.umich.edu ID 47188CC1.D1C00.23111 ; \n",
            "\n",
            "\t19 Oct 2007 06:53:56 -0400\n",
            "\n",
            "Received: from paploo.uhi.ac.uk (localhost [127.0.0.1])\n",
            "\n",
            "\tby paploo.uhi.ac.uk (Postfix) with ESMTP id 1C0D4580F3;\n",
            "\n",
            "\tThu, 18 Oct 2007 22:04:27 +0100 (BST)\n",
            "\n",
            "Message-ID: <200710191051.l9JApjgp022273@nakamura.uits.iupui.edu>\n",
            "\n",
            "Mime-Version: 1.0\n",
            "\n",
            "Content-Transfer-Encoding: 7bit\n",
            "\n",
            "Received: from prod.collab.uhi.ac.uk ([194.35.219.182])\n",
            "\n",
            "          by paploo.uhi.ac.uk (JAMES SMTP Server 2.1.3) with SMTP ID 307\n",
            "\n",
            "          for <source@collab.sakaiproject.org>;\n",
            "\n",
            "          Thu, 18 Oct 2007 22:04:15 +0100 (BST)\n",
            "\n",
            "Received: from nakamura.uits.iupui.edu (nakamura.uits.iupui.edu [134.68.220.122])\n",
            "\n",
            "\tby shmi.uhi.ac.uk (Postfix) with ESMTP id B299E1BA85\n",
            "\n",
            "\tfor <source@collab.sakaiproject.org>; Fri, 19 Oct 2007 11:53:40 +0100 (BST)\n",
            "\n",
            "Received: from nakamura.uits.iupui.edu (localhost [127.0.0.1])\n",
            "\n",
            "\tby nakamura.uits.iupui.edu (8.12.11.20060308/8.12.11) with ESMTP id l9JApjDY022275\n",
            "\n",
            "\tfor <source@collab.sakaiproject.org>; Fri, 19 Oct 2007 06:51:45 -0400\n",
            "\n",
            "Received: (from apache@localhost)\n",
            "\n",
            "\tby nakamura.uits.iupui.edu (8.12.11.20060308/8.12.11/Submit) id l9JApjgp022273\n",
            "\n",
            "\tfor source@collab.sakaiproject.org; Fri, 19 Oct 2007 06:51:45 -0400\n",
            "\n",
            "Date: Fri, 19 Oct 2007 06:51:45 -0400\n",
            "\n",
            "X-Authentication-Warning: nakamura.uits.iupui.edu: apache set sender to aaronz@vt.edu using -f\n",
            "\n",
            "To: source@collab.sakaiproject.org\n",
            "\n",
            "From: aaronz@vt.edu\n",
            "\n",
            "Subject: [sakai] svn commit: r37131 - in memory/branches/SAK-11913/memory-impl: . impl\n",
            "\n",
            "X-Content-Type-Outer-Envelope: text/plain; charset=UTF-8\n",
            "\n",
            "X-Content-Type-Message-Body: text/plain; charset=UTF-8\n",
            "\n",
            "Content-Type: text/plain; charset=UTF-8\n",
            "\n",
            "X-DSPAM-Result: Innocent\n",
            "\n",
            "X-DSPAM-Processed: Fri Oct 19 06:54:53 2007\n",
            "\n",
            "X-DSPAM-Confidence: 0.8476\n",
            "\n",
            "X-DSPAM-Probability: 0.0000\n",
            "\n",
            "\n",
            "\n",
            "Details: http://source.sakaiproject.org/viewsvn/?view=rev&rev=37131\n",
            "\n",
            "\n",
            "\n",
            "Author: aaronz@vt.edu\n",
            "\n",
            "Date: 2007-10-19 06:51:39 -0400 (Fri, 19 Oct 2007)\n",
            "\n",
            "New Revision: 37131\n",
            "\n",
            "\n",
            "\n",
            "Modified:\n",
            "\n",
            "memory/branches/SAK-11913/memory-impl/.classpath\n",
            "\n",
            "memory/branches/SAK-11913/memory-impl/impl/pom.xml\n",
            "\n",
            "Log:\n",
            "\n",
            "SAK-11913: fixed up classpath and pom to support running tests in eclipse\n",
            "\n",
            "\n",
            "\n",
            "----------------------\n",
            "\n",
            "This automatic notification message was sent by Sakai Collab (https://collab.sakaiproject.org/portal) from the Source site.\n",
            "\n",
            "You can modify how you receive notifications at My Workspace > Preferences.\n",
            "\n",
            "\n",
            "\n",
            "\n",
            "\n",
            "\n",
            "\n",
            "From aaronz@vt.edu Fri Oct 19 06:52:08 2007\n",
            "\n",
            "Return-Path: <postmaster@collab.sakaiproject.org>\n",
            "\n",
            "Received: from murder (mail.umich.edu [141.211.14.25])\n",
            "\n",
            "\t by thisboyslife.mail.umich.edu (Cyrus v2.3.8) with LMTPA;\n",
            "\n",
            "\t Fri, 19 Oct 2007 06:52:08 -0400\n",
            "\n",
            "X-Sieve: CMU Sieve 2.3\n",
            "\n",
            "Received: from murder ([unix socket])\n",
            "\n",
            "\t by mail.umich.edu (Cyrus v2.2.12) with LMTPA;\n",
            "\n",
            "\t Fri, 19 Oct 2007 06:52:08 -0400\n",
            "\n",
            "Received: from jeffrey.mr.itd.umich.edu (jeffrey.mr.itd.umich.edu [141.211.14.71])\n",
            "\n",
            "\tby panther.mail.umich.edu () with ESMTP id l9JAq7DI010066;\n",
            "\n",
            "\tFri, 19 Oct 2007 06:52:08 -0400\n",
            "\n",
            "Received: FROM paploo.uhi.ac.uk (app1.prod.collab.uhi.ac.uk [194.35.219.184])\n",
            "\n",
            "\tBY jeffrey.mr.itd.umich.edu ID 47188C4E.B7572.11301 ; \n",
            "\n",
            "\t19 Oct 2007 06:52:01 -0400\n",
            "\n",
            "Received: from paploo.uhi.ac.uk (localhost [127.0.0.1])\n",
            "\n",
            "\tby paploo.uhi.ac.uk (Postfix) with ESMTP id 3C7D268D9A;\n",
            "\n",
            "\tThu, 18 Oct 2007 22:02:33 +0100 (BST)\n",
            "\n",
            "Message-ID: <200710191049.l9JAng2f022261@nakamura.uits.iupui.edu>\n",
            "\n",
            "Mime-Version: 1.0\n",
            "\n",
            "Content-Transfer-Encoding: 7bit\n",
            "\n",
            "Received: from prod.collab.uhi.ac.uk ([194.35.219.182])\n",
            "\n",
            "          by paploo.uhi.ac.uk (JAMES SMTP Server 2.1.3) with SMTP ID 502\n",
            "\n",
            "          for <source@collab.sakaiproject.org>;\n",
            "\n",
            "          Thu, 18 Oct 2007 22:02:14 +0100 (BST)\n",
            "\n",
            "Received: from nakamura.uits.iupui.edu (nakamura.uits.iupui.edu [134.68.220.122])\n",
            "\n",
            "\tby shmi.uhi.ac.uk (Postfix) with ESMTP id 022C51BA85\n",
            "\n",
            "\tfor <source@collab.sakaiproject.org>; Fri, 19 Oct 2007 11:51:37 +0100 (BST)\n",
            "\n",
            "Received: from nakamura.uits.iupui.edu (localhost [127.0.0.1])\n",
            "\n",
            "\tby nakamura.uits.iupui.edu (8.12.11.20060308/8.12.11) with ESMTP id l9JAngQ7022263\n",
            "\n",
            "\tfor <source@collab.sakaiproject.org>; Fri, 19 Oct 2007 06:49:42 -0400\n",
            "\n",
            "Received: (from apache@localhost)\n",
            "\n",
            "\tby nakamura.uits.iupui.edu (8.12.11.20060308/8.12.11/Submit) id l9JAng2f022261\n",
            "\n",
            "\tfor source@collab.sakaiproject.org; Fri, 19 Oct 2007 06:49:42 -0400\n",
            "\n",
            "Date: Fri, 19 Oct 2007 06:49:42 -0400\n",
            "\n",
            "X-Authentication-Warning: nakamura.uits.iupui.edu: apache set sender to aaronz@vt.edu using -f\n",
            "\n",
            "To: source@collab.sakaiproject.org\n",
            "\n",
            "From: aaronz@vt.edu\n",
            "\n",
            "Subject: [sakai] svn commit: r37130 - in memory/branches/SAK-11913/memory-impl: . impl impl/src/test/org/sakaiproject/memory/impl/test pack/src/webapp/WEB-INF\n",
            "\n",
            "X-Content-Type-Outer-Envelope: text/plain; charset=UTF-8\n",
            "\n",
            "X-Content-Type-Message-Body: text/plain; charset=UTF-8\n",
            "\n",
            "Content-Type: text/plain; charset=UTF-8\n",
            "\n",
            "X-DSPAM-Result: Innocent\n",
            "\n",
            "X-DSPAM-Processed: Fri Oct 19 06:52:08 2007\n",
            "\n",
            "X-DSPAM-Confidence: 0.8473\n",
            "\n",
            "X-DSPAM-Probability: 0.0000\n",
            "\n",
            "\n",
            "\n",
            "Details: http://source.sakaiproject.org/viewsvn/?view=rev&rev=37130\n",
            "\n",
            "\n",
            "\n",
            "Author: aaronz@vt.edu\n",
            "\n",
            "Date: 2007-10-19 06:49:28 -0400 (Fri, 19 Oct 2007)\n",
            "\n",
            "New Revision: 37130\n",
            "\n",
            "\n",
            "\n",
            "Added:\n",
            "\n",
            "memory/branches/SAK-11913/memory-impl/pack/src/webapp/WEB-INF/ehcache-beans.xml\n",
            "\n",
            "Modified:\n",
            "\n",
            "memory/branches/SAK-11913/memory-impl/.classpath\n",
            "\n",
            "memory/branches/SAK-11913/memory-impl/impl/pom.xml\n",
            "\n",
            "memory/branches/SAK-11913/memory-impl/impl/src/test/org/sakaiproject/memory/impl/test/BasicMemoryServiceTest.java\n",
            "\n",
            "memory/branches/SAK-11913/memory-impl/pack/src/webapp/WEB-INF/components.xml\n",
            "\n",
            "Log:\n",
            "\n",
            "SAK-11913: added in spring testing framework\n",
            "\n",
            "\n",
            "\n",
            "----------------------\n",
            "\n",
            "This automatic notification message was sent by Sakai Collab (https://collab.sakaiproject.org/portal) from the Source site.\n",
            "\n",
            "You can modify how you receive notifications at My Workspace > Preferences.\n",
            "\n",
            "\n",
            "\n",
            "\n",
            "\n",
            "\n",
            "\n",
            "From aaronz@vt.edu Fri Oct 19 06:51:45 2007\n",
            "\n",
            "Return-Path: <postmaster@collab.sakaiproject.org>\n",
            "\n",
            "Received: from murder (mail.umich.edu [141.211.14.96])\n",
            "\n",
            "\t by thisboyslife.mail.umich.edu (Cyrus v2.3.8) with LMTPA;\n",
            "\n",
            "\t Fri, 19 Oct 2007 06:51:45 -0400\n",
            "\n",
            "X-Sieve: CMU Sieve 2.3\n",
            "\n",
            "Received: from murder ([unix socket])\n",
            "\n",
            "\t by mail.umich.edu (Cyrus v2.2.12) with LMTPA;\n",
            "\n",
            "\t Fri, 19 Oct 2007 06:51:45 -0400\n",
            "\n",
            "Received: from guys.mr.itd.umich.edu (guys.mr.itd.umich.edu [141.211.14.76])\n",
            "\n",
            "\tby awakenings.mail.umich.edu () with ESMTP id l9JApjPr000411;\n",
            "\n",
            "\tFri, 19 Oct 2007 06:51:45 -0400\n",
            "\n",
            "Received: FROM paploo.uhi.ac.uk (app1.prod.collab.uhi.ac.uk [194.35.219.184])\n",
            "\n",
            "\tBY guys.mr.itd.umich.edu ID 47188C3A.71D2.28266 ; \n",
            "\n",
            "\t19 Oct 2007 06:51:40 -0400\n",
            "\n",
            "Received: from paploo.uhi.ac.uk (localhost [127.0.0.1])\n",
            "\n",
            "\tby paploo.uhi.ac.uk (Postfix) with ESMTP id C9877572C8;\n",
            "\n",
            "\tThu, 18 Oct 2007 22:02:09 +0100 (BST)\n",
            "\n",
            "Message-ID: <200710191049.l9JAnQT9022249@nakamura.uits.iupui.edu>\n",
            "\n",
            "Mime-Version: 1.0\n",
            "\n",
            "Content-Transfer-Encoding: 7bit\n",
            "\n",
            "Received: from prod.collab.uhi.ac.uk ([194.35.219.182])\n",
            "\n",
            "          by paploo.uhi.ac.uk (JAMES SMTP Server 2.1.3) with SMTP ID 749\n",
            "\n",
            "          for <source@collab.sakaiproject.org>;\n",
            "\n",
            "          Thu, 18 Oct 2007 22:01:55 +0100 (BST)\n",
            "\n",
            "Received: from nakamura.uits.iupui.edu (nakamura.uits.iupui.edu [134.68.220.122])\n",
            "\n",
            "\tby shmi.uhi.ac.uk (Postfix) with ESMTP id A16221BA85\n",
            "\n",
            "\tfor <source@collab.sakaiproject.org>; Fri, 19 Oct 2007 11:51:21 +0100 (BST)\n",
            "\n",
            "Received: from nakamura.uits.iupui.edu (localhost [127.0.0.1])\n",
            "\n",
            "\tby nakamura.uits.iupui.edu (8.12.11.20060308/8.12.11) with ESMTP id l9JAnQ4A022251\n",
            "\n",
            "\tfor <source@collab.sakaiproject.org>; Fri, 19 Oct 2007 06:49:26 -0400\n",
            "\n",
            "Received: (from apache@localhost)\n",
            "\n",
            "\tby nakamura.uits.iupui.edu (8.12.11.20060308/8.12.11/Submit) id l9JAnQT9022249\n",
            "\n",
            "\tfor source@collab.sakaiproject.org; Fri, 19 Oct 2007 06:49:26 -0400\n",
            "\n",
            "Date: Fri, 19 Oct 2007 06:49:26 -0400\n",
            "\n",
            "X-Authentication-Warning: nakamura.uits.iupui.edu: apache set sender to aaronz@vt.edu using -f\n",
            "\n",
            "To: source@collab.sakaiproject.org\n",
            "\n",
            "From: aaronz@vt.edu\n",
            "\n",
            "Subject: [sakai] svn commit: r37129 - in memory/branches/SAK-11913/memory-api/api/src/java: . org/sakaiproject/memory\n",
            "\n",
            "X-Content-Type-Outer-Envelope: text/plain; charset=UTF-8\n",
            "\n",
            "X-Content-Type-Message-Body: text/plain; charset=UTF-8\n",
            "\n",
            "Content-Type: text/plain; charset=UTF-8\n",
            "\n",
            "X-DSPAM-Result: Innocent\n",
            "\n",
            "X-DSPAM-Processed: Fri Oct 19 06:51:45 2007\n",
            "\n",
            "X-DSPAM-Confidence: 0.8474\n",
            "\n",
            "X-DSPAM-Probability: 0.0000\n",
            "\n",
            "\n",
            "\n",
            "Details: http://source.sakaiproject.org/viewsvn/?view=rev&rev=37129\n",
            "\n",
            "\n",
            "\n",
            "Author: aaronz@vt.edu\n",
            "\n",
            "Date: 2007-10-19 06:49:19 -0400 (Fri, 19 Oct 2007)\n",
            "\n",
            "New Revision: 37129\n",
            "\n",
            "\n",
            "\n",
            "Added:\n",
            "\n",
            "memory/branches/SAK-11913/memory-api/api/src/java/ehcache.xml\n",
            "\n",
            "Removed:\n",
            "\n",
            "memory/branches/SAK-11913/memory-api/api/src/java/org/sakaiproject/memory/config/\n",
            "\n",
            "Log:\n",
            "\n",
            "SAK-11913: added in spring testing framework\n",
            "\n",
            "\n",
            "\n",
            "----------------------\n",
            "\n",
            "This automatic notification message was sent by Sakai Collab (https://collab.sakaiproject.org/portal) from the Source site.\n",
            "\n",
            "You can modify how you receive notifications at My Workspace > Preferences.\n",
            "\n",
            "\n",
            "\n",
            "\n",
            "\n",
            "\n",
            "\n",
            "From aaronz@vt.edu Fri Oct 19 06:18:11 2007\n",
            "\n",
            "Return-Path: <postmaster@collab.sakaiproject.org>\n",
            "\n",
            "Received: from murder (mail.umich.edu [141.211.14.34])\n",
            "\n",
            "\t by thisboyslife.mail.umich.edu (Cyrus v2.3.8) with LMTPA;\n",
            "\n",
            "\t Fri, 19 Oct 2007 06:18:11 -0400\n",
            "\n",
            "X-Sieve: CMU Sieve 2.3\n",
            "\n",
            "Received: from murder ([unix socket])\n",
            "\n",
            "\t by mail.umich.edu (Cyrus v2.2.12) with LMTPA;\n",
            "\n",
            "\t Fri, 19 Oct 2007 06:18:11 -0400\n",
            "\n",
            "Received: from shining.mr.itd.umich.edu (shining.mr.itd.umich.edu [141.211.93.153])\n",
            "\n",
            "\tby chaos.mail.umich.edu () with ESMTP id l9JAIAZp028511;\n",
            "\n",
            "\tFri, 19 Oct 2007 06:18:10 -0400\n",
            "\n",
            "Received: FROM paploo.uhi.ac.uk (app1.prod.collab.uhi.ac.uk [194.35.219.184])\n",
            "\n",
            "\tBY shining.mr.itd.umich.edu ID 4718845D.FF10.11370 ; \n",
            "\n",
            "\t19 Oct 2007 06:18:07 -0400\n",
            "\n",
            "Received: from paploo.uhi.ac.uk (localhost [127.0.0.1])\n",
            "\n",
            "\tby paploo.uhi.ac.uk (Postfix) with ESMTP id 417CB52099;\n",
            "\n",
            "\tThu, 18 Oct 2007 21:28:39 +0100 (BST)\n",
            "\n",
            "Message-ID: <200710191015.l9JAFqBv022142@nakamura.uits.iupui.edu>\n",
            "\n",
            "Mime-Version: 1.0\n",
            "\n",
            "Content-Transfer-Encoding: 7bit\n",
            "\n",
            "Received: from prod.collab.uhi.ac.uk ([194.35.219.182])\n",
            "\n",
            "          by paploo.uhi.ac.uk (JAMES SMTP Server 2.1.3) with SMTP ID 909\n",
            "\n",
            "          for <source@collab.sakaiproject.org>;\n",
            "\n",
            "          Thu, 18 Oct 2007 21:28:24 +0100 (BST)\n",
            "\n",
            "Received: from nakamura.uits.iupui.edu (nakamura.uits.iupui.edu [134.68.220.122])\n",
            "\n",
            "\tby shmi.uhi.ac.uk (Postfix) with ESMTP id D25D511B7D\n",
            "\n",
            "\tfor <source@collab.sakaiproject.org>; Fri, 19 Oct 2007 11:17:48 +0100 (BST)\n",
            "\n",
            "Received: from nakamura.uits.iupui.edu (localhost [127.0.0.1])\n",
            "\n",
            "\tby nakamura.uits.iupui.edu (8.12.11.20060308/8.12.11) with ESMTP id l9JAFrJn022144\n",
            "\n",
            "\tfor <source@collab.sakaiproject.org>; Fri, 19 Oct 2007 06:15:53 -0400\n",
            "\n",
            "Received: (from apache@localhost)\n",
            "\n",
            "\tby nakamura.uits.iupui.edu (8.12.11.20060308/8.12.11/Submit) id l9JAFqBv022142\n",
            "\n",
            "\tfor source@collab.sakaiproject.org; Fri, 19 Oct 2007 06:15:52 -0400\n",
            "\n",
            "Date: Fri, 19 Oct 2007 06:15:52 -0400\n",
            "\n",
            "X-Authentication-Warning: nakamura.uits.iupui.edu: apache set sender to aaronz@vt.edu using -f\n",
            "\n",
            "To: source@collab.sakaiproject.org\n",
            "\n",
            "From: aaronz@vt.edu\n",
            "\n",
            "Subject: [sakai] svn commit: r37128 - memory/branches/SAK-11913/memory-impl/pack/src/webapp/WEB-INF\n",
            "\n",
            "X-Content-Type-Outer-Envelope: text/plain; charset=UTF-8\n",
            "\n",
            "X-Content-Type-Message-Body: text/plain; charset=UTF-8\n",
            "\n",
            "Content-Type: text/plain; charset=UTF-8\n",
            "\n",
            "X-DSPAM-Result: Innocent\n",
            "\n",
            "X-DSPAM-Processed: Fri Oct 19 06:18:11 2007\n",
            "\n",
            "X-DSPAM-Confidence: 0.7599\n",
            "\n",
            "X-DSPAM-Probability: 0.0000\n",
            "\n",
            "\n",
            "\n",
            "Details: http://source.sakaiproject.org/viewsvn/?view=rev&rev=37128\n",
            "\n",
            "\n",
            "\n",
            "Author: aaronz@vt.edu\n",
            "\n",
            "Date: 2007-10-19 06:15:48 -0400 (Fri, 19 Oct 2007)\n",
            "\n",
            "New Revision: 37128\n",
            "\n",
            "\n",
            "\n",
            "Modified:\n",
            "\n",
            "memory/branches/SAK-11913/memory-impl/pack/src/webapp/WEB-INF/components.xml\n",
            "\n",
            "Log:\n",
            "\n",
            "SAK-11913: fixed up the config path location\n",
            "\n",
            "\n",
            "\n",
            "----------------------\n",
            "\n",
            "This automatic notification message was sent by Sakai Collab (https://collab.sakaiproject.org/portal) from the Source site.\n",
            "\n",
            "You can modify how you receive notifications at My Workspace > Preferences.\n",
            "\n",
            "\n",
            "\n",
            "\n",
            "\n",
            "\n",
            "\n",
            "From aaronz@vt.edu Fri Oct 19 06:16:33 2007\n",
            "\n",
            "Return-Path: <postmaster@collab.sakaiproject.org>\n",
            "\n",
            "Received: from murder (mail.umich.edu [141.211.14.92])\n",
            "\n",
            "\t by thisboyslife.mail.umich.edu (Cyrus v2.3.8) with LMTPA;\n",
            "\n",
            "\t Fri, 19 Oct 2007 06:16:33 -0400\n",
            "\n",
            "X-Sieve: CMU Sieve 2.3\n",
            "\n",
            "Received: from murder ([unix socket])\n",
            "\n",
            "\t by mail.umich.edu (Cyrus v2.2.12) with LMTPA;\n",
            "\n",
            "\t Fri, 19 Oct 2007 06:16:33 -0400\n",
            "\n",
            "Received: from creepshow.mr.itd.umich.edu (creepshow.mr.itd.umich.edu [141.211.14.84])\n",
            "\n",
            "\tby score.mail.umich.edu () with ESMTP id l9JAGXsY014698;\n",
            "\n",
            "\tFri, 19 Oct 2007 06:16:33 -0400\n",
            "\n",
            "Received: FROM paploo.uhi.ac.uk (app1.prod.collab.uhi.ac.uk [194.35.219.184])\n",
            "\n",
            "\tBY creepshow.mr.itd.umich.edu ID 471883FC.19103.11758 ; \n",
            "\n",
            "\t19 Oct 2007 06:16:30 -0400\n",
            "\n",
            "Received: from paploo.uhi.ac.uk (localhost [127.0.0.1])\n",
            "\n",
            "\tby paploo.uhi.ac.uk (Postfix) with ESMTP id 10EF468D0E;\n",
            "\n",
            "\tThu, 18 Oct 2007 21:27:02 +0100 (BST)\n",
            "\n",
            "Message-ID: <200710191014.l9JAEHZC022130@nakamura.uits.iupui.edu>\n",
            "\n",
            "Mime-Version: 1.0\n",
            "\n",
            "Content-Transfer-Encoding: 7bit\n",
            "\n",
            "Received: from prod.collab.uhi.ac.uk ([194.35.219.182])\n",
            "\n",
            "          by paploo.uhi.ac.uk (JAMES SMTP Server 2.1.3) with SMTP ID 895\n",
            "\n",
            "          for <source@collab.sakaiproject.org>;\n",
            "\n",
            "          Thu, 18 Oct 2007 21:26:49 +0100 (BST)\n",
            "\n",
            "Received: from nakamura.uits.iupui.edu (nakamura.uits.iupui.edu [134.68.220.122])\n",
            "\n",
            "\tby shmi.uhi.ac.uk (Postfix) with ESMTP id 7EFC411B7D\n",
            "\n",
            "\tfor <source@collab.sakaiproject.org>; Fri, 19 Oct 2007 11:16:13 +0100 (BST)\n",
            "\n",
            "Received: from nakamura.uits.iupui.edu (localhost [127.0.0.1])\n",
            "\n",
            "\tby nakamura.uits.iupui.edu (8.12.11.20060308/8.12.11) with ESMTP id l9JAEInw022132\n",
            "\n",
            "\tfor <source@collab.sakaiproject.org>; Fri, 19 Oct 2007 06:14:18 -0400\n",
            "\n",
            "Received: (from apache@localhost)\n",
            "\n",
            "\tby nakamura.uits.iupui.edu (8.12.11.20060308/8.12.11/Submit) id l9JAEHZC022130\n",
            "\n",
            "\tfor source@collab.sakaiproject.org; Fri, 19 Oct 2007 06:14:17 -0400\n",
            "\n",
            "Date: Fri, 19 Oct 2007 06:14:17 -0400\n",
            "\n",
            "X-Authentication-Warning: nakamura.uits.iupui.edu: apache set sender to aaronz@vt.edu using -f\n",
            "\n",
            "To: source@collab.sakaiproject.org\n",
            "\n",
            "From: aaronz@vt.edu\n",
            "\n",
            "Subject: [sakai] svn commit: r37127 - in memory/branches/SAK-11913/memory-api/api/src/java/org/sakaiproject/memory: . exception\n",
            "\n",
            "X-Content-Type-Outer-Envelope: text/plain; charset=UTF-8\n",
            "\n",
            "X-Content-Type-Message-Body: text/plain; charset=UTF-8\n",
            "\n",
            "Content-Type: text/plain; charset=UTF-8\n",
            "\n",
            "X-DSPAM-Result: Innocent\n",
            "\n",
            "X-DSPAM-Processed: Fri Oct 19 06:16:33 2007\n",
            "\n",
            "X-DSPAM-Confidence: 0.8476\n",
            "\n",
            "X-DSPAM-Probability: 0.0000\n",
            "\n",
            "\n",
            "\n",
            "Details: http://source.sakaiproject.org/viewsvn/?view=rev&rev=37127\n",
            "\n",
            "\n",
            "\n",
            "Author: aaronz@vt.edu\n",
            "\n",
            "Date: 2007-10-19 06:14:10 -0400 (Fri, 19 Oct 2007)\n",
            "\n",
            "New Revision: 37127\n",
            "\n",
            "\n",
            "\n",
            "Added:\n",
            "\n",
            "memory/branches/SAK-11913/memory-api/api/src/java/org/sakaiproject/memory/exception/\n",
            "\n",
            "memory/branches/SAK-11913/memory-api/api/src/java/org/sakaiproject/memory/exception/CacheException.java\n",
            "\n",
            "memory/branches/SAK-11913/memory-api/api/src/java/org/sakaiproject/memory/exception/MemoryPermissionException.java\n",
            "\n",
            "memory/branches/SAK-11913/memory-api/api/src/java/org/sakaiproject/memory/exception/ObjectNotCachedException.java\n",
            "\n",
            "Log:\n",
            "\n",
            "SAK-11913: Created package for memory exceptions and fixed the SVN confusion\n",
            "\n",
            "\n",
            "\n",
            "----------------------\n",
            "\n",
            "This automatic notification message was sent by Sakai Collab (https://collab.sakaiproject.org/portal) from the Source site.\n",
            "\n",
            "You can modify how you receive notifications at My Workspace > Preferences.\n",
            "\n",
            "\n",
            "\n",
            "\n",
            "\n",
            "\n",
            "\n",
            "From aaronz@vt.edu Fri Oct 19 06:16:22 2007\n",
            "\n",
            "Return-Path: <postmaster@collab.sakaiproject.org>\n",
            "\n",
            "Received: from murder (mail.umich.edu [141.211.14.91])\n",
            "\n",
            "\t by thisboyslife.mail.umich.edu (Cyrus v2.3.8) with LMTPA;\n",
            "\n",
            "\t Fri, 19 Oct 2007 06:16:22 -0400\n",
            "\n",
            "X-Sieve: CMU Sieve 2.3\n",
            "\n",
            "Received: from murder ([unix socket])\n",
            "\n",
            "\t by mail.umich.edu (Cyrus v2.2.12) with LMTPA;\n",
            "\n",
            "\t Fri, 19 Oct 2007 06:16:22 -0400\n",
            "\n",
            "Received: from guys.mr.itd.umich.edu (guys.mr.itd.umich.edu [141.211.14.76])\n",
            "\n",
            "\tby jacknife.mail.umich.edu () with ESMTP id l9JAGLYh004058;\n",
            "\n",
            "\tFri, 19 Oct 2007 06:16:21 -0400\n",
            "\n",
            "Received: FROM paploo.uhi.ac.uk (app1.prod.collab.uhi.ac.uk [194.35.219.184])\n",
            "\n",
            "\tBY guys.mr.itd.umich.edu ID 471883F0.B23E.2259 ; \n",
            "\n",
            "\t19 Oct 2007 06:16:18 -0400\n",
            "\n",
            "Received: from paploo.uhi.ac.uk (localhost [127.0.0.1])\n",
            "\n",
            "\tby paploo.uhi.ac.uk (Postfix) with ESMTP id A2F7952099;\n",
            "\n",
            "\tThu, 18 Oct 2007 21:26:48 +0100 (BST)\n",
            "\n",
            "Message-ID: <200710191014.l9JAE7ZC022118@nakamura.uits.iupui.edu>\n",
            "\n",
            "Mime-Version: 1.0\n",
            "\n",
            "Content-Transfer-Encoding: 7bit\n",
            "\n",
            "Received: from prod.collab.uhi.ac.uk ([194.35.219.182])\n",
            "\n",
            "          by paploo.uhi.ac.uk (JAMES SMTP Server 2.1.3) with SMTP ID 292\n",
            "\n",
            "          for <source@collab.sakaiproject.org>;\n",
            "\n",
            "          Thu, 18 Oct 2007 21:26:36 +0100 (BST)\n",
            "\n",
            "Received: from nakamura.uits.iupui.edu (nakamura.uits.iupui.edu [134.68.220.122])\n",
            "\n",
            "\tby shmi.uhi.ac.uk (Postfix) with ESMTP id EA04C11B7D\n",
            "\n",
            "\tfor <source@collab.sakaiproject.org>; Fri, 19 Oct 2007 11:16:02 +0100 (BST)\n",
            "\n",
            "Received: from nakamura.uits.iupui.edu (localhost [127.0.0.1])\n",
            "\n",
            "\tby nakamura.uits.iupui.edu (8.12.11.20060308/8.12.11) with ESMTP id l9JAE7SQ022120\n",
            "\n",
            "\tfor <source@collab.sakaiproject.org>; Fri, 19 Oct 2007 06:14:07 -0400\n",
            "\n",
            "Received: (from apache@localhost)\n",
            "\n",
            "\tby nakamura.uits.iupui.edu (8.12.11.20060308/8.12.11/Submit) id l9JAE7ZC022118\n",
            "\n",
            "\tfor source@collab.sakaiproject.org; Fri, 19 Oct 2007 06:14:07 -0400\n",
            "\n",
            "Date: Fri, 19 Oct 2007 06:14:07 -0400\n",
            "\n",
            "X-Authentication-Warning: nakamura.uits.iupui.edu: apache set sender to aaronz@vt.edu using -f\n",
            "\n",
            "To: source@collab.sakaiproject.org\n",
            "\n",
            "From: aaronz@vt.edu\n",
            "\n",
            "Subject: [sakai] svn commit: r37126 - memory/branches/SAK-11913/memory-tool/tool/src/java/org/sakaiproject/memory/tool\n",
            "\n",
            "X-Content-Type-Outer-Envelope: text/plain; charset=UTF-8\n",
            "\n",
            "X-Content-Type-Message-Body: text/plain; charset=UTF-8\n",
            "\n",
            "Content-Type: text/plain; charset=UTF-8\n",
            "\n",
            "X-DSPAM-Result: Innocent\n",
            "\n",
            "X-DSPAM-Processed: Fri Oct 19 06:16:22 2007\n",
            "\n",
            "X-DSPAM-Confidence: 0.8477\n",
            "\n",
            "X-DSPAM-Probability: 0.0000\n",
            "\n",
            "\n",
            "\n",
            "Details: http://source.sakaiproject.org/viewsvn/?view=rev&rev=37126\n",
            "\n",
            "\n",
            "\n",
            "Author: aaronz@vt.edu\n",
            "\n",
            "Date: 2007-10-19 06:14:02 -0400 (Fri, 19 Oct 2007)\n",
            "\n",
            "New Revision: 37126\n",
            "\n",
            "\n",
            "\n",
            "Modified:\n",
            "\n",
            "memory/branches/SAK-11913/memory-tool/tool/src/java/org/sakaiproject/memory/tool/MemoryAction.java\n",
            "\n",
            "Log:\n",
            "\n",
            "SAK-11913: Created package for memory exceptions and fixed the SVN confusion\n",
            "\n",
            "\n",
            "\n",
            "----------------------\n",
            "\n",
            "This automatic notification message was sent by Sakai Collab (https://collab.sakaiproject.org/portal) from the Source site.\n",
            "\n",
            "You can modify how you receive notifications at My Workspace > Preferences.\n",
            "\n",
            "\n",
            "\n",
            "\n",
            "\n",
            "\n",
            "\n",
            "From ian@caret.cam.ac.uk Fri Oct 19 06:12:08 2007\n",
            "\n",
            "Return-Path: <postmaster@collab.sakaiproject.org>\n",
            "\n",
            "Received: from murder (mail.umich.edu [141.211.14.90])\n",
            "\n",
            "\t by thisboyslife.mail.umich.edu (Cyrus v2.3.8) with LMTPA;\n",
            "\n",
            "\t Fri, 19 Oct 2007 06:12:08 -0400\n",
            "\n",
            "X-Sieve: CMU Sieve 2.3\n",
            "\n",
            "Received: from murder ([unix socket])\n",
            "\n",
            "\t by mail.umich.edu (Cyrus v2.2.12) with LMTPA;\n",
            "\n",
            "\t Fri, 19 Oct 2007 06:12:08 -0400\n",
            "\n",
            "Received: from ghostbusters.mr.itd.umich.edu (ghostbusters.mr.itd.umich.edu [141.211.93.144])\n",
            "\n",
            "\tby flawless.mail.umich.edu () with ESMTP id l9JAC71x025597;\n",
            "\n",
            "\tFri, 19 Oct 2007 06:12:07 -0400\n",
            "\n",
            "Received: FROM paploo.uhi.ac.uk (app1.prod.collab.uhi.ac.uk [194.35.219.184])\n",
            "\n",
            "\tBY ghostbusters.mr.itd.umich.edu ID 471882F1.58F31.4092 ; \n",
            "\n",
            "\t19 Oct 2007 06:12:04 -0400\n",
            "\n",
            "Received: from paploo.uhi.ac.uk (localhost [127.0.0.1])\n",
            "\n",
            "\tby paploo.uhi.ac.uk (Postfix) with ESMTP id B764E52099;\n",
            "\n",
            "\tThu, 18 Oct 2007 21:22:21 +0100 (BST)\n",
            "\n",
            "Message-ID: <200710191009.l9JA9cWo022100@nakamura.uits.iupui.edu>\n",
            "\n",
            "Mime-Version: 1.0\n",
            "\n",
            "Content-Transfer-Encoding: 7bit\n",
            "\n",
            "Received: from prod.collab.uhi.ac.uk ([194.35.219.182])\n",
            "\n",
            "          by paploo.uhi.ac.uk (JAMES SMTP Server 2.1.3) with SMTP ID 650\n",
            "\n",
            "          for <source@collab.sakaiproject.org>;\n",
            "\n",
            "          Thu, 18 Oct 2007 21:22:09 +0100 (BST)\n",
            "\n",
            "Received: from nakamura.uits.iupui.edu (nakamura.uits.iupui.edu [134.68.220.122])\n",
            "\n",
            "\tby shmi.uhi.ac.uk (Postfix) with ESMTP id DEAB4102D2\n",
            "\n",
            "\tfor <source@collab.sakaiproject.org>; Fri, 19 Oct 2007 11:11:33 +0100 (BST)\n",
            "\n",
            "Received: from nakamura.uits.iupui.edu (localhost [127.0.0.1])\n",
            "\n",
            "\tby nakamura.uits.iupui.edu (8.12.11.20060308/8.12.11) with ESMTP id l9JA9cIN022102\n",
            "\n",
            "\tfor <source@collab.sakaiproject.org>; Fri, 19 Oct 2007 06:09:38 -0400\n",
            "\n",
            "Received: (from apache@localhost)\n",
            "\n",
            "\tby nakamura.uits.iupui.edu (8.12.11.20060308/8.12.11/Submit) id l9JA9cWo022100\n",
            "\n",
            "\tfor source@collab.sakaiproject.org; Fri, 19 Oct 2007 06:09:38 -0400\n",
            "\n",
            "Date: Fri, 19 Oct 2007 06:09:38 -0400\n",
            "\n",
            "X-Authentication-Warning: nakamura.uits.iupui.edu: apache set sender to ian@caret.cam.ac.uk using -f\n",
            "\n",
            "To: source@collab.sakaiproject.org\n",
            "\n",
            "From: ian@caret.cam.ac.uk\n",
            "\n",
            "Subject: [sakai] svn commit: r37125 - in portal/trunk/portal-render-engine-impl: impl/src/test/org/sakaiproject/portal/charon/test impl/src/testBundle pack/src/webapp/vm/defaultskin\n",
            "\n",
            "X-Content-Type-Outer-Envelope: text/plain; charset=UTF-8\n",
            "\n",
            "X-Content-Type-Message-Body: text/plain; charset=UTF-8\n",
            "\n",
            "Content-Type: text/plain; charset=UTF-8\n",
            "\n",
            "X-DSPAM-Result: Innocent\n",
            "\n",
            "X-DSPAM-Processed: Fri Oct 19 06:12:08 2007\n",
            "\n",
            "X-DSPAM-Confidence: 0.7565\n",
            "\n",
            "X-DSPAM-Probability: 0.0000\n",
            "\n",
            "\n",
            "\n",
            "Details: http://source.sakaiproject.org/viewsvn/?view=rev&rev=37125\n",
            "\n",
            "\n",
            "\n",
            "Author: ian@caret.cam.ac.uk\n",
            "\n",
            "Date: 2007-10-19 06:09:16 -0400 (Fri, 19 Oct 2007)\n",
            "\n",
            "New Revision: 37125\n",
            "\n",
            "\n",
            "\n",
            "Added:\n",
            "\n",
            "portal/trunk/portal-render-engine-impl/impl/src/test/org/sakaiproject/portal/charon/test/MockHttpServletRequest.java\n",
            "\n",
            "portal/trunk/portal-render-engine-impl/impl/src/test/org/sakaiproject/portal/charon/test/MockSession.java\n",
            "\n",
            "portal/trunk/portal-render-engine-impl/impl/src/test/org/sakaiproject/portal/charon/test/MockToolSession.java\n",
            "\n",
            "portal/trunk/portal-render-engine-impl/impl/src/test/org/sakaiproject/portal/charon/test/PortalTestFileUtils.java\n",
            "\n",
            "Modified:\n",
            "\n",
            "portal/trunk/portal-render-engine-impl/impl/src/test/org/sakaiproject/portal/charon/test/MockCharonPortal.java\n",
            "\n",
            "portal/trunk/portal-render-engine-impl/impl/src/test/org/sakaiproject/portal/charon/test/MockResourceLoader.java\n",
            "\n",
            "portal/trunk/portal-render-engine-impl/impl/src/test/org/sakaiproject/portal/charon/test/PortalRenderTest.java\n",
            "\n",
            "portal/trunk/portal-render-engine-impl/impl/src/testBundle/log4j.properties\n",
            "\n",
            "portal/trunk/portal-render-engine-impl/impl/src/testBundle/testportalvelocity.config\n",
            "\n",
            "portal/trunk/portal-render-engine-impl/pack/src/webapp/vm/defaultskin/error.vm\n",
            "\n",
            "portal/trunk/portal-render-engine-impl/pack/src/webapp/vm/defaultskin/macros.vm\n",
            "\n",
            "Log:\n",
            "\n",
            "http://jira.sakaiproject.org/jira/browse/SAK-11924\n",
            "\n",
            "\n",
            "\n",
            "Fixed error templates\n",
            "\n",
            "and upgraded unit tests \n",
            "\n",
            "\n",
            "\n",
            "\n",
            "\n",
            "\n",
            "\n",
            "----------------------\n",
            "\n",
            "This automatic notification message was sent by Sakai Collab (https://collab.sakaiproject.org/portal) from the Source site.\n",
            "\n",
            "You can modify how you receive notifications at My Workspace > Preferences.\n",
            "\n",
            "\n",
            "\n",
            "\n",
            "\n",
            "\n",
            "\n",
            "From aaronz@vt.edu Fri Oct 19 06:01:00 2007\n",
            "\n",
            "Return-Path: <postmaster@collab.sakaiproject.org>\n",
            "\n",
            "Received: from murder (mail.umich.edu [141.211.14.95])\n",
            "\n",
            "\t by thisboyslife.mail.umich.edu (Cyrus v2.3.8) with LMTPA;\n",
            "\n",
            "\t Fri, 19 Oct 2007 06:01:00 -0400\n",
            "\n",
            "X-Sieve: CMU Sieve 2.3\n",
            "\n",
            "Received: from murder ([unix socket])\n",
            "\n",
            "\t by mail.umich.edu (Cyrus v2.2.12) with LMTPA;\n",
            "\n",
            "\t Fri, 19 Oct 2007 06:01:00 -0400\n",
            "\n",
            "Received: from madman.mr.itd.umich.edu (madman.mr.itd.umich.edu [141.211.14.75])\n",
            "\n",
            "\tby brazil.mail.umich.edu () with ESMTP id l9JA0xYH032272;\n",
            "\n",
            "\tFri, 19 Oct 2007 06:00:59 -0400\n",
            "\n",
            "Received: FROM paploo.uhi.ac.uk (app1.prod.collab.uhi.ac.uk [194.35.219.184])\n",
            "\n",
            "\tBY madman.mr.itd.umich.edu ID 47188056.2F4E3.3772 ; \n",
            "\n",
            "\t19 Oct 2007 06:00:57 -0400\n",
            "\n",
            "Received: from paploo.uhi.ac.uk (localhost [127.0.0.1])\n",
            "\n",
            "\tby paploo.uhi.ac.uk (Postfix) with ESMTP id ADBFB68CBE;\n",
            "\n",
            "\tThu, 18 Oct 2007 21:11:27 +0100 (BST)\n",
            "\n",
            "Message-ID: <200710190958.l9J9wf9v022061@nakamura.uits.iupui.edu>\n",
            "\n",
            "Mime-Version: 1.0\n",
            "\n",
            "Content-Transfer-Encoding: 7bit\n",
            "\n",
            "Received: from prod.collab.uhi.ac.uk ([194.35.219.182])\n",
            "\n",
            "          by paploo.uhi.ac.uk (JAMES SMTP Server 2.1.3) with SMTP ID 854\n",
            "\n",
            "          for <source@collab.sakaiproject.org>;\n",
            "\n",
            "          Thu, 18 Oct 2007 21:11:13 +0100 (BST)\n",
            "\n",
            "Received: from nakamura.uits.iupui.edu (nakamura.uits.iupui.edu [134.68.220.122])\n",
            "\n",
            "\tby shmi.uhi.ac.uk (Postfix) with ESMTP id 5E2A9102D2\n",
            "\n",
            "\tfor <source@collab.sakaiproject.org>; Fri, 19 Oct 2007 11:00:37 +0100 (BST)\n",
            "\n",
            "Received: from nakamura.uits.iupui.edu (localhost [127.0.0.1])\n",
            "\n",
            "\tby nakamura.uits.iupui.edu (8.12.11.20060308/8.12.11) with ESMTP id l9J9wg6C022063\n",
            "\n",
            "\tfor <source@collab.sakaiproject.org>; Fri, 19 Oct 2007 05:58:42 -0400\n",
            "\n",
            "Received: (from apache@localhost)\n",
            "\n",
            "\tby nakamura.uits.iupui.edu (8.12.11.20060308/8.12.11/Submit) id l9J9wf9v022061\n",
            "\n",
            "\tfor source@collab.sakaiproject.org; Fri, 19 Oct 2007 05:58:41 -0400\n",
            "\n",
            "Date: Fri, 19 Oct 2007 05:58:41 -0400\n",
            "\n",
            "X-Authentication-Warning: nakamura.uits.iupui.edu: apache set sender to aaronz@vt.edu using -f\n",
            "\n",
            "To: source@collab.sakaiproject.org\n",
            "\n",
            "From: aaronz@vt.edu\n",
            "\n",
            "Subject: [sakai] svn commit: r37124 - in memory/branches/SAK-11913/memory-api/api/src/java/org/sakaiproject/memory: . api config cover\n",
            "\n",
            "X-Content-Type-Outer-Envelope: text/plain; charset=UTF-8\n",
            "\n",
            "X-Content-Type-Message-Body: text/plain; charset=UTF-8\n",
            "\n",
            "Content-Type: text/plain; charset=UTF-8\n",
            "\n",
            "X-DSPAM-Result: Innocent\n",
            "\n",
            "X-DSPAM-Processed: Fri Oct 19 06:01:00 2007\n",
            "\n",
            "X-DSPAM-Confidence: 0.8467\n",
            "\n",
            "X-DSPAM-Probability: 0.0000\n",
            "\n",
            "\n",
            "\n",
            "Details: http://source.sakaiproject.org/viewsvn/?view=rev&rev=37124\n",
            "\n",
            "\n",
            "\n",
            "Author: aaronz@vt.edu\n",
            "\n",
            "Date: 2007-10-19 05:58:29 -0400 (Fri, 19 Oct 2007)\n",
            "\n",
            "New Revision: 37124\n",
            "\n",
            "\n",
            "\n",
            "Added:\n",
            "\n",
            "memory/branches/SAK-11913/memory-api/api/src/java/org/sakaiproject/memory/config/\n",
            "\n",
            "memory/branches/SAK-11913/memory-api/api/src/java/org/sakaiproject/memory/config/ehcache.xml\n",
            "\n",
            "Removed:\n",
            "\n",
            "memory/branches/SAK-11913/memory-api/api/src/java/org/sakaiproject/memory/api/CacheException.java\n",
            "\n",
            "memory/branches/SAK-11913/memory-api/api/src/java/org/sakaiproject/memory/api/MemoryPermissionException.java\n",
            "\n",
            "memory/branches/SAK-11913/memory-api/api/src/java/org/sakaiproject/memory/api/ObjectNotCachedException.java\n",
            "\n",
            "memory/branches/SAK-11913/memory-api/api/src/java/org/sakaiproject/memory/api/ehcache.xml\n",
            "\n",
            "Modified:\n",
            "\n",
            "memory/branches/SAK-11913/memory-api/api/src/java/org/sakaiproject/memory/api/MemoryService.java\n",
            "\n",
            "memory/branches/SAK-11913/memory-api/api/src/java/org/sakaiproject/memory/api/MultipleReferenceCache.java\n",
            "\n",
            "memory/branches/SAK-11913/memory-api/api/src/java/org/sakaiproject/memory/cover/MemoryServiceLocator.java\n",
            "\n",
            "Log:\n",
            "\n",
            "SAK-11913: Adjusted the structure to make use of packages better\n",
            "\n",
            "\n",
            "\n",
            "----------------------\n",
            "\n",
            "This automatic notification message was sent by Sakai Collab (https://collab.sakaiproject.org/portal) from the Source site.\n",
            "\n",
            "You can modify how you receive notifications at My Workspace > Preferences.\n",
            "\n",
            "\n",
            "\n",
            "\n",
            "\n",
            "\n",
            "\n",
            "From aaronz@vt.edu Fri Oct 19 06:00:45 2007\n",
            "\n",
            "Return-Path: <postmaster@collab.sakaiproject.org>\n",
            "\n",
            "Received: from murder (mail.umich.edu [141.211.14.93])\n",
            "\n",
            "\t by thisboyslife.mail.umich.edu (Cyrus v2.3.8) with LMTPA;\n",
            "\n",
            "\t Fri, 19 Oct 2007 06:00:45 -0400\n",
            "\n",
            "X-Sieve: CMU Sieve 2.3\n",
            "\n",
            "Received: from murder ([unix socket])\n",
            "\n",
            "\t by mail.umich.edu (Cyrus v2.2.12) with LMTPA;\n",
            "\n",
            "\t Fri, 19 Oct 2007 06:00:45 -0400\n",
            "\n",
            "Received: from galaxyquest.mr.itd.umich.edu (galaxyquest.mr.itd.umich.edu [141.211.93.145])\n",
            "\n",
            "\tby mission.mail.umich.edu () with ESMTP id l9JA0iAa003535;\n",
            "\n",
            "\tFri, 19 Oct 2007 06:00:44 -0400\n",
            "\n",
            "Received: FROM paploo.uhi.ac.uk (app1.prod.collab.uhi.ac.uk [194.35.219.184])\n",
            "\n",
            "\tBY galaxyquest.mr.itd.umich.edu ID 47188046.BFE3A.27887 ; \n",
            "\n",
            "\t19 Oct 2007 06:00:41 -0400\n",
            "\n",
            "Received: from paploo.uhi.ac.uk (localhost [127.0.0.1])\n",
            "\n",
            "\tby paploo.uhi.ac.uk (Postfix) with ESMTP id DC83362EF2;\n",
            "\n",
            "\tThu, 18 Oct 2007 21:11:09 +0100 (BST)\n",
            "\n",
            "Message-ID: <200710190958.l9J9wQjO022049@nakamura.uits.iupui.edu>\n",
            "\n",
            "Mime-Version: 1.0\n",
            "\n",
            "Content-Transfer-Encoding: 7bit\n",
            "\n",
            "Received: from prod.collab.uhi.ac.uk ([194.35.219.182])\n",
            "\n",
            "          by paploo.uhi.ac.uk (JAMES SMTP Server 2.1.3) with SMTP ID 685\n",
            "\n",
            "          for <source@collab.sakaiproject.org>;\n",
            "\n",
            "          Thu, 18 Oct 2007 21:10:54 +0100 (BST)\n",
            "\n",
            "Received: from nakamura.uits.iupui.edu (nakamura.uits.iupui.edu [134.68.220.122])\n",
            "\n",
            "\tby shmi.uhi.ac.uk (Postfix) with ESMTP id 11880102D2\n",
            "\n",
            "\tfor <source@collab.sakaiproject.org>; Fri, 19 Oct 2007 11:00:21 +0100 (BST)\n",
            "\n",
            "Received: from nakamura.uits.iupui.edu (localhost [127.0.0.1])\n",
            "\n",
            "\tby nakamura.uits.iupui.edu (8.12.11.20060308/8.12.11) with ESMTP id l9J9wQX8022051\n",
            "\n",
            "\tfor <source@collab.sakaiproject.org>; Fri, 19 Oct 2007 05:58:26 -0400\n",
            "\n",
            "Received: (from apache@localhost)\n",
            "\n",
            "\tby nakamura.uits.iupui.edu (8.12.11.20060308/8.12.11/Submit) id l9J9wQjO022049\n",
            "\n",
            "\tfor source@collab.sakaiproject.org; Fri, 19 Oct 2007 05:58:26 -0400\n",
            "\n",
            "Date: Fri, 19 Oct 2007 05:58:26 -0400\n",
            "\n",
            "X-Authentication-Warning: nakamura.uits.iupui.edu: apache set sender to aaronz@vt.edu using -f\n",
            "\n",
            "To: source@collab.sakaiproject.org\n",
            "\n",
            "From: aaronz@vt.edu\n",
            "\n",
            "Subject: [sakai] svn commit: r37123 - in memory/branches/SAK-11913/memory-impl/impl/src/java/org/sakaiproject/memory/impl: . util\n",
            "\n",
            "X-Content-Type-Outer-Envelope: text/plain; charset=UTF-8\n",
            "\n",
            "X-Content-Type-Message-Body: text/plain; charset=UTF-8\n",
            "\n",
            "Content-Type: text/plain; charset=UTF-8\n",
            "\n",
            "X-DSPAM-Result: Innocent\n",
            "\n",
            "X-DSPAM-Processed: Fri Oct 19 06:00:45 2007\n",
            "\n",
            "X-DSPAM-Confidence: 0.9799\n",
            "\n",
            "X-DSPAM-Probability: 0.0000\n",
            "\n",
            "\n",
            "\n",
            "Details: http://source.sakaiproject.org/viewsvn/?view=rev&rev=37123\n",
            "\n",
            "\n",
            "\n",
            "Author: aaronz@vt.edu\n",
            "\n",
            "Date: 2007-10-19 05:58:16 -0400 (Fri, 19 Oct 2007)\n",
            "\n",
            "New Revision: 37123\n",
            "\n",
            "\n",
            "\n",
            "Added:\n",
            "\n",
            "memory/branches/SAK-11913/memory-impl/impl/src/java/org/sakaiproject/memory/impl/util/\n",
            "\n",
            "memory/branches/SAK-11913/memory-impl/impl/src/java/org/sakaiproject/memory/impl/util/DependentPayload.java\n",
            "\n",
            "Removed:\n",
            "\n",
            "memory/branches/SAK-11913/memory-impl/impl/src/java/org/sakaiproject/memory/impl/DependentPayload.java\n",
            "\n",
            "Modified:\n",
            "\n",
            "memory/branches/SAK-11913/memory-impl/impl/src/java/org/sakaiproject/memory/impl/BasicMemoryService.java\n",
            "\n",
            "memory/branches/SAK-11913/memory-impl/impl/src/java/org/sakaiproject/memory/impl/MultiRefCacheImpl.java\n",
            "\n",
            "memory/branches/SAK-11913/memory-impl/impl/src/java/org/sakaiproject/memory/impl/ObjectDependsOnOthersCache.java\n",
            "\n",
            "memory/branches/SAK-11913/memory-impl/impl/src/java/org/sakaiproject/memory/impl/ObjectIsDependedOnByOthersCache.java\n",
            "\n",
            "Log:\n",
            "\n",
            "SAK-11913: Adjusted the structure to make use of packages better\n",
            "\n",
            "\n",
            "\n",
            "----------------------\n",
            "\n",
            "This automatic notification message was sent by Sakai Collab (https://collab.sakaiproject.org/portal) from the Source site.\n",
            "\n",
            "You can modify how you receive notifications at My Workspace > Preferences.\n",
            "\n",
            "\n",
            "\n",
            "\n",
            "\n",
            "\n",
            "\n",
            "From ktsao@stanford.edu Fri Oct 19 02:00:02 2007\n",
            "\n",
            "Return-Path: <postmaster@collab.sakaiproject.org>\n",
            "\n",
            "Received: from murder (mail.umich.edu [141.211.14.92])\n",
            "\n",
            "\t by thisboyslife.mail.umich.edu (Cyrus v2.3.8) with LMTPA;\n",
            "\n",
            "\t Fri, 19 Oct 2007 02:00:02 -0400\n",
            "\n",
            "X-Sieve: CMU Sieve 2.3\n",
            "\n",
            "Received: from murder ([unix socket])\n",
            "\n",
            "\t by mail.umich.edu (Cyrus v2.2.12) with LMTPA;\n",
            "\n",
            "\t Fri, 19 Oct 2007 02:00:02 -0400\n",
            "\n",
            "Received: from cujo.mr.itd.umich.edu (cujo.mr.itd.umich.edu [141.211.93.157])\n",
            "\n",
            "\tby score.mail.umich.edu () with ESMTP id l9J602nj030488;\n",
            "\n",
            "\tFri, 19 Oct 2007 02:00:02 -0400\n",
            "\n",
            "Received: FROM paploo.uhi.ac.uk (app1.prod.collab.uhi.ac.uk [194.35.219.184])\n",
            "\n",
            "\tBY cujo.mr.itd.umich.edu ID 471847DB.BE898.27569 ; \n",
            "\n",
            "\t19 Oct 2007 02:00:00 -0400\n",
            "\n",
            "Received: from paploo.uhi.ac.uk (localhost [127.0.0.1])\n",
            "\n",
            "\tby paploo.uhi.ac.uk (Postfix) with ESMTP id C2E3F60F9D;\n",
            "\n",
            "\tThu, 18 Oct 2007 17:14:26 +0100 (BST)\n",
            "\n",
            "Message-ID: <200710190557.l9J5vdHf021469@nakamura.uits.iupui.edu>\n",
            "\n",
            "Mime-Version: 1.0\n",
            "\n",
            "Content-Transfer-Encoding: 7bit\n",
            "\n",
            "Received: from prod.collab.uhi.ac.uk ([194.35.219.182])\n",
            "\n",
            "          by paploo.uhi.ac.uk (JAMES SMTP Server 2.1.3) with SMTP ID 927\n",
            "\n",
            "          for <source@collab.sakaiproject.org>;\n",
            "\n",
            "          Thu, 18 Oct 2007 17:14:03 +0100 (BST)\n",
            "\n",
            "Received: from nakamura.uits.iupui.edu (nakamura.uits.iupui.edu [134.68.220.122])\n",
            "\n",
            "\tby shmi.uhi.ac.uk (Postfix) with ESMTP id 0021E1BA65\n",
            "\n",
            "\tfor <source@collab.sakaiproject.org>; Fri, 19 Oct 2007 06:59:33 +0100 (BST)\n",
            "\n",
            "Received: from nakamura.uits.iupui.edu (localhost [127.0.0.1])\n",
            "\n",
            "\tby nakamura.uits.iupui.edu (8.12.11.20060308/8.12.11) with ESMTP id l9J5vdiN021471\n",
            "\n",
            "\tfor <source@collab.sakaiproject.org>; Fri, 19 Oct 2007 01:57:39 -0400\n",
            "\n",
            "Received: (from apache@localhost)\n",
            "\n",
            "\tby nakamura.uits.iupui.edu (8.12.11.20060308/8.12.11/Submit) id l9J5vdHf021469\n",
            "\n",
            "\tfor source@collab.sakaiproject.org; Fri, 19 Oct 2007 01:57:39 -0400\n",
            "\n",
            "Date: Fri, 19 Oct 2007 01:57:39 -0400\n",
            "\n",
            "X-Authentication-Warning: nakamura.uits.iupui.edu: apache set sender to ktsao@stanford.edu using -f\n",
            "\n",
            "To: source@collab.sakaiproject.org\n",
            "\n",
            "From: ktsao@stanford.edu\n",
            "\n",
            "Subject: [sakai] svn commit: r37122 - in sam/trunk/samigo-app/src/java: com/corejsf org/sakaiproject/tool/assessment/ui/bean/delivery\n",
            "\n",
            "X-Content-Type-Outer-Envelope: text/plain; charset=UTF-8\n",
            "\n",
            "X-Content-Type-Message-Body: text/plain; charset=UTF-8\n",
            "\n",
            "Content-Type: text/plain; charset=UTF-8\n",
            "\n",
            "X-DSPAM-Result: Innocent\n",
            "\n",
            "X-DSPAM-Processed: Fri Oct 19 02:00:02 2007\n",
            "\n",
            "X-DSPAM-Confidence: 0.9807\n",
            "\n",
            "X-DSPAM-Probability: 0.0000\n",
            "\n",
            "\n",
            "\n",
            "Details: http://source.sakaiproject.org/viewsvn/?view=rev&rev=37122\n",
            "\n",
            "\n",
            "\n",
            "Author: ktsao@stanford.edu\n",
            "\n",
            "Date: 2007-10-19 01:57:33 -0400 (Fri, 19 Oct 2007)\n",
            "\n",
            "New Revision: 37122\n",
            "\n",
            "\n",
            "\n",
            "Modified:\n",
            "\n",
            "sam/trunk/samigo-app/src/java/com/corejsf/UploadRenderer.java\n",
            "\n",
            "sam/trunk/samigo-app/src/java/org/sakaiproject/tool/assessment/ui/bean/delivery/DeliveryBean.java\n",
            "\n",
            "Log:\n",
            "\n",
            "SAK-11955\n",
            "\n",
            "\n",
            "\n",
            "----------------------\n",
            "\n",
            "This automatic notification message was sent by Sakai Collab (https://collab.sakaiproject.org/portal) from the Source site.\n",
            "\n",
            "You can modify how you receive notifications at My Workspace > Preferences.\n",
            "\n",
            "\n",
            "\n",
            "\n",
            "\n",
            "\n",
            "\n",
            "From ian@caret.cam.ac.uk Thu Oct 18 18:43:47 2007\n",
            "\n",
            "Return-Path: <postmaster@collab.sakaiproject.org>\n",
            "\n",
            "Received: from murder (mail.umich.edu [141.211.14.25])\n",
            "\n",
            "\t by thisboyslife.mail.umich.edu (Cyrus v2.3.8) with LMTPA;\n",
            "\n",
            "\t Thu, 18 Oct 2007 18:43:47 -0400\n",
            "\n",
            "X-Sieve: CMU Sieve 2.3\n",
            "\n",
            "Received: from murder ([unix socket])\n",
            "\n",
            "\t by mail.umich.edu (Cyrus v2.2.12) with LMTPA;\n",
            "\n",
            "\t Thu, 18 Oct 2007 18:43:47 -0400\n",
            "\n",
            "Received: from madman.mr.itd.umich.edu (madman.mr.itd.umich.edu [141.211.14.75])\n",
            "\n",
            "\tby panther.mail.umich.edu () with ESMTP id l9IMhkfo008589;\n",
            "\n",
            "\tThu, 18 Oct 2007 18:43:46 -0400\n",
            "\n",
            "Received: FROM paploo.uhi.ac.uk (app1.prod.collab.uhi.ac.uk [194.35.219.184])\n",
            "\n",
            "\tBY madman.mr.itd.umich.edu ID 4717E19C.6EDB8.12714 ; \n",
            "\n",
            "\t18 Oct 2007 18:43:43 -0400\n",
            "\n",
            "Received: from paploo.uhi.ac.uk (localhost [127.0.0.1])\n",
            "\n",
            "\tby paploo.uhi.ac.uk (Postfix) with ESMTP id C2F8A6885C;\n",
            "\n",
            "\tThu, 18 Oct 2007 10:00:47 +0100 (BST)\n",
            "\n",
            "Message-ID: <200710182241.l9IMfCva008686@nakamura.uits.iupui.edu>\n",
            "\n",
            "Mime-Version: 1.0\n",
            "\n",
            "Content-Transfer-Encoding: 7bit\n",
            "\n",
            "Received: from prod.collab.uhi.ac.uk ([194.35.219.182])\n",
            "\n",
            "          by paploo.uhi.ac.uk (JAMES SMTP Server 2.1.3) with SMTP ID 540\n",
            "\n",
            "          for <source@collab.sakaiproject.org>;\n",
            "\n",
            "          Thu, 18 Oct 2007 10:00:24 +0100 (BST)\n",
            "\n",
            "Received: from nakamura.uits.iupui.edu (nakamura.uits.iupui.edu [134.68.220.122])\n",
            "\n",
            "\tby shmi.uhi.ac.uk (Postfix) with ESMTP id 41F3E1B9CB\n",
            "\n",
            "\tfor <source@collab.sakaiproject.org>; Thu, 18 Oct 2007 23:43:06 +0100 (BST)\n",
            "\n",
            "Received: from nakamura.uits.iupui.edu (localhost [127.0.0.1])\n",
            "\n",
            "\tby nakamura.uits.iupui.edu (8.12.11.20060308/8.12.11) with ESMTP id l9IMfCvs008688\n",
            "\n",
            "\tfor <source@collab.sakaiproject.org>; Thu, 18 Oct 2007 18:41:12 -0400\n",
            "\n",
            "Received: (from apache@localhost)\n",
            "\n",
            "\tby nakamura.uits.iupui.edu (8.12.11.20060308/8.12.11/Submit) id l9IMfCva008686\n",
            "\n",
            "\tfor source@collab.sakaiproject.org; Thu, 18 Oct 2007 18:41:12 -0400\n",
            "\n",
            "Date: Thu, 18 Oct 2007 18:41:12 -0400\n",
            "\n",
            "X-Authentication-Warning: nakamura.uits.iupui.edu: apache set sender to ian@caret.cam.ac.uk using -f\n",
            "\n",
            "To: source@collab.sakaiproject.org\n",
            "\n",
            "From: ian@caret.cam.ac.uk\n",
            "\n",
            "Subject: [sakai] svn commit: r37121 - in memory/branches/SAK-11913: memory-api/api/src/java/org/sakaiproject/memory/api memory-impl/impl/src/java memory-impl/impl/src/java/net memory-impl/impl/src/java/net/sf memory-impl/impl/src/java/net/sf/ehcache memory-impl/impl/src/java/net/sf/ehcache/distribution memory-impl/impl/src/java/org/sakaiproject/memory/impl\n",
            "\n",
            "X-Content-Type-Outer-Envelope: text/plain; charset=UTF-8\n",
            "\n",
            "X-Content-Type-Message-Body: text/plain; charset=UTF-8\n",
            "\n",
            "Content-Type: text/plain; charset=UTF-8\n",
            "\n",
            "X-DSPAM-Result: Innocent\n",
            "\n",
            "X-DSPAM-Processed: Thu Oct 18 18:43:47 2007\n",
            "\n",
            "X-DSPAM-Confidence: 0.9837\n",
            "\n",
            "X-DSPAM-Probability: 0.0000\n",
            "\n",
            "\n",
            "\n",
            "Details: http://source.sakaiproject.org/viewsvn/?view=rev&rev=37121\n",
            "\n",
            "\n",
            "\n",
            "Author: ian@caret.cam.ac.uk\n",
            "\n",
            "Date: 2007-10-18 18:40:38 -0400 (Thu, 18 Oct 2007)\n",
            "\n",
            "New Revision: 37121\n",
            "\n",
            "\n",
            "\n",
            "Added:\n",
            "\n",
            "memory/branches/SAK-11913/memory-api/api/src/java/org/sakaiproject/memory/api/CacheException.java\n",
            "\n",
            "memory/branches/SAK-11913/memory-api/api/src/java/org/sakaiproject/memory/api/MultipleReferenceCache.java\n",
            "\n",
            "memory/branches/SAK-11913/memory-api/api/src/java/org/sakaiproject/memory/api/ObjectNotCachedException.java\n",
            "\n",
            "memory/branches/SAK-11913/memory-impl/impl/src/java/net/\n",
            "\n",
            "memory/branches/SAK-11913/memory-impl/impl/src/java/net/sf/\n",
            "\n",
            "memory/branches/SAK-11913/memory-impl/impl/src/java/net/sf/ehcache/\n",
            "\n",
            "memory/branches/SAK-11913/memory-impl/impl/src/java/net/sf/ehcache/distribution/\n",
            "\n",
            "memory/branches/SAK-11913/memory-impl/impl/src/java/net/sf/ehcache/distribution/RMISakaiAsynchronousCacheReplicator.java\n",
            "\n",
            "memory/branches/SAK-11913/memory-impl/impl/src/java/net/sf/ehcache/distribution/RMISakaiCacheReplicatorFactory.java\n",
            "\n",
            "memory/branches/SAK-11913/memory-impl/impl/src/java/net/sf/ehcache/distribution/ReplicationControl.java\n",
            "\n",
            "memory/branches/SAK-11913/memory-impl/impl/src/java/org/sakaiproject/memory/impl/DependentPayload.java\n",
            "\n",
            "memory/branches/SAK-11913/memory-impl/impl/src/java/org/sakaiproject/memory/impl/ObjectDependsOnOthersCache.java\n",
            "\n",
            "memory/branches/SAK-11913/memory-impl/impl/src/java/org/sakaiproject/memory/impl/ObjectIsDependedOnByOthersCache.java\n",
            "\n",
            "Log:\n",
            "\n",
            "TreeCache and Reverse Tree cache implementations that use a local reference store and a \n",
            "\n",
            "ehcache storage Cache.\n",
            "\n",
            "\n",
            "\n",
            "Hasnt been tested, but compiles and I think its all Ok.\n",
            "\n",
            "\n",
            "\n",
            "\n",
            "\n",
            "\n",
            "\n",
            "----------------------\n",
            "\n",
            "This automatic notification message was sent by Sakai Collab (https://collab.sakaiproject.org/portal) from the Source site.\n",
            "\n",
            "You can modify how you receive notifications at My Workspace > Preferences.\n",
            "\n",
            "\n",
            "\n",
            "\n",
            "\n",
            "\n",
            "\n",
            "From zqian@umich.edu Thu Oct 18 16:42:05 2007\n",
            "\n",
            "Return-Path: <postmaster@collab.sakaiproject.org>\n",
            "\n",
            "Received: from murder (mail.umich.edu [141.211.14.25])\n",
            "\n",
            "\t by thisboyslife.mail.umich.edu (Cyrus v2.3.8) with LMTPA;\n",
            "\n",
            "\t Thu, 18 Oct 2007 16:42:05 -0400\n",
            "\n",
            "X-Sieve: CMU Sieve 2.3\n",
            "\n",
            "Received: from murder ([unix socket])\n",
            "\n",
            "\t by mail.umich.edu (Cyrus v2.2.12) with LMTPA;\n",
            "\n",
            "\t Thu, 18 Oct 2007 16:42:05 -0400\n",
            "\n",
            "Received: from icestorm.mr.itd.umich.edu (icestorm.mr.itd.umich.edu [141.211.93.149])\n",
            "\n",
            "\tby panther.mail.umich.edu () with ESMTP id l9IKg4gV007639;\n",
            "\n",
            "\tThu, 18 Oct 2007 16:42:04 -0400\n",
            "\n",
            "Received: FROM paploo.uhi.ac.uk (app1.prod.collab.uhi.ac.uk [194.35.219.184])\n",
            "\n",
            "\tBY icestorm.mr.itd.umich.edu ID 4717C509.DA79C.11387 ; \n",
            "\n",
            "\t18 Oct 2007 16:42:00 -0400\n",
            "\n",
            "Received: from paploo.uhi.ac.uk (localhost [127.0.0.1])\n",
            "\n",
            "\tby paploo.uhi.ac.uk (Postfix) with ESMTP id 6EAC6687BF;\n",
            "\n",
            "\tThu, 18 Oct 2007 08:06:59 +0100 (BST)\n",
            "\n",
            "Message-ID: <200710182039.l9IKdaI2008253@nakamura.uits.iupui.edu>\n",
            "\n",
            "Mime-Version: 1.0\n",
            "\n",
            "Content-Transfer-Encoding: 7bit\n",
            "\n",
            "Received: from prod.collab.uhi.ac.uk ([194.35.219.182])\n",
            "\n",
            "          by paploo.uhi.ac.uk (JAMES SMTP Server 2.1.3) with SMTP ID 1011\n",
            "\n",
            "          for <source@collab.sakaiproject.org>;\n",
            "\n",
            "          Thu, 18 Oct 2007 08:06:46 +0100 (BST)\n",
            "\n",
            "Received: from nakamura.uits.iupui.edu (nakamura.uits.iupui.edu [134.68.220.122])\n",
            "\n",
            "\tby shmi.uhi.ac.uk (Postfix) with ESMTP id 912491B968\n",
            "\n",
            "\tfor <source@collab.sakaiproject.org>; Thu, 18 Oct 2007 21:41:29 +0100 (BST)\n",
            "\n",
            "Received: from nakamura.uits.iupui.edu (localhost [127.0.0.1])\n",
            "\n",
            "\tby nakamura.uits.iupui.edu (8.12.11.20060308/8.12.11) with ESMTP id l9IKdaFv008255\n",
            "\n",
            "\tfor <source@collab.sakaiproject.org>; Thu, 18 Oct 2007 16:39:36 -0400\n",
            "\n",
            "Received: (from apache@localhost)\n",
            "\n",
            "\tby nakamura.uits.iupui.edu (8.12.11.20060308/8.12.11/Submit) id l9IKdaI2008253\n",
            "\n",
            "\tfor source@collab.sakaiproject.org; Thu, 18 Oct 2007 16:39:36 -0400\n",
            "\n",
            "Date: Thu, 18 Oct 2007 16:39:36 -0400\n",
            "\n",
            "X-Authentication-Warning: nakamura.uits.iupui.edu: apache set sender to zqian@umich.edu using -f\n",
            "\n",
            "To: source@collab.sakaiproject.org\n",
            "\n",
            "From: zqian@umich.edu\n",
            "\n",
            "Subject: [sakai] svn commit: r37120 - assignment/branches/post-2-4/assignment-tool/tool/src/java/org/sakaiproject/assignment/tool\n",
            "\n",
            "X-Content-Type-Outer-Envelope: text/plain; charset=UTF-8\n",
            "\n",
            "X-Content-Type-Message-Body: text/plain; charset=UTF-8\n",
            "\n",
            "Content-Type: text/plain; charset=UTF-8\n",
            "\n",
            "X-DSPAM-Result: Innocent\n",
            "\n",
            "X-DSPAM-Processed: Thu Oct 18 16:42:05 2007\n",
            "\n",
            "X-DSPAM-Confidence: 0.8489\n",
            "\n",
            "X-DSPAM-Probability: 0.0000\n",
            "\n",
            "\n",
            "\n",
            "Details: http://source.sakaiproject.org/viewsvn/?view=rev&rev=37120\n",
            "\n",
            "\n",
            "\n",
            "Author: zqian@umich.edu\n",
            "\n",
            "Date: 2007-10-18 16:39:33 -0400 (Thu, 18 Oct 2007)\n",
            "\n",
            "New Revision: 37120\n",
            "\n",
            "\n",
            "\n",
            "Modified:\n",
            "\n",
            "assignment/branches/post-2-4/assignment-tool/tool/src/java/org/sakaiproject/assignment/tool/AssignmentAction.java\n",
            "\n",
            "Log:\n",
            "\n",
            "fix to SAK-11944: NPE when accessing sort order\n",
            "\n",
            "\n",
            "\n",
            "----------------------\n",
            "\n",
            "This automatic notification message was sent by Sakai Collab (https://collab.sakaiproject.org/portal) from the Source site.\n",
            "\n",
            "You can modify how you receive notifications at My Workspace > Preferences.\n",
            "\n",
            "\n",
            "\n",
            "\n",
            "\n",
            "\n",
            "\n",
            "From zqian@umich.edu Thu Oct 18 16:41:19 2007\n",
            "\n",
            "Return-Path: <postmaster@collab.sakaiproject.org>\n",
            "\n",
            "Received: from murder (mail.umich.edu [141.211.14.91])\n",
            "\n",
            "\t by thisboyslife.mail.umich.edu (Cyrus v2.3.8) with LMTPA;\n",
            "\n",
            "\t Thu, 18 Oct 2007 16:41:19 -0400\n",
            "\n",
            "X-Sieve: CMU Sieve 2.3\n",
            "\n",
            "Received: from murder ([unix socket])\n",
            "\n",
            "\t by mail.umich.edu (Cyrus v2.2.12) with LMTPA;\n",
            "\n",
            "\t Thu, 18 Oct 2007 16:41:19 -0400\n",
            "\n",
            "Received: from anniehall.mr.itd.umich.edu (anniehall.mr.itd.umich.edu [141.211.93.141])\n",
            "\n",
            "\tby jacknife.mail.umich.edu () with ESMTP id l9IKfI2l019933;\n",
            "\n",
            "\tThu, 18 Oct 2007 16:41:18 -0400\n",
            "\n",
            "Received: FROM paploo.uhi.ac.uk (app1.prod.collab.uhi.ac.uk [194.35.219.184])\n",
            "\n",
            "\tBY anniehall.mr.itd.umich.edu ID 4717C4E7.D7234.9453 ; \n",
            "\n",
            "\t18 Oct 2007 16:41:15 -0400\n",
            "\n",
            "Received: from paploo.uhi.ac.uk (localhost [127.0.0.1])\n",
            "\n",
            "\tby paploo.uhi.ac.uk (Postfix) with ESMTP id 6F529687B3;\n",
            "\n",
            "\tThu, 18 Oct 2007 08:06:26 +0100 (BST)\n",
            "\n",
            "Message-ID: <200710182039.l9IKd26b008241@nakamura.uits.iupui.edu>\n",
            "\n",
            "Mime-Version: 1.0\n",
            "\n",
            "Content-Transfer-Encoding: 7bit\n",
            "\n",
            "Received: from prod.collab.uhi.ac.uk ([194.35.219.182])\n",
            "\n",
            "          by paploo.uhi.ac.uk (JAMES SMTP Server 2.1.3) with SMTP ID 190\n",
            "\n",
            "          for <source@collab.sakaiproject.org>;\n",
            "\n",
            "          Thu, 18 Oct 2007 08:06:13 +0100 (BST)\n",
            "\n",
            "Received: from nakamura.uits.iupui.edu (nakamura.uits.iupui.edu [134.68.220.122])\n",
            "\n",
            "\tby shmi.uhi.ac.uk (Postfix) with ESMTP id 511CD1B966\n",
            "\n",
            "\tfor <source@collab.sakaiproject.org>; Thu, 18 Oct 2007 21:40:56 +0100 (BST)\n",
            "\n",
            "Received: from nakamura.uits.iupui.edu (localhost [127.0.0.1])\n",
            "\n",
            "\tby nakamura.uits.iupui.edu (8.12.11.20060308/8.12.11) with ESMTP id l9IKd2Pj008243\n",
            "\n",
            "\tfor <source@collab.sakaiproject.org>; Thu, 18 Oct 2007 16:39:03 -0400\n",
            "\n",
            "Received: (from apache@localhost)\n",
            "\n",
            "\tby nakamura.uits.iupui.edu (8.12.11.20060308/8.12.11/Submit) id l9IKd26b008241\n",
            "\n",
            "\tfor source@collab.sakaiproject.org; Thu, 18 Oct 2007 16:39:02 -0400\n",
            "\n",
            "Date: Thu, 18 Oct 2007 16:39:02 -0400\n",
            "\n",
            "X-Authentication-Warning: nakamura.uits.iupui.edu: apache set sender to zqian@umich.edu using -f\n",
            "\n",
            "To: source@collab.sakaiproject.org\n",
            "\n",
            "From: zqian@umich.edu\n",
            "\n",
            "Subject: [sakai] svn commit: r37119 - assignment/branches/sakai_2-4-x/assignment-tool/tool/src/java/org/sakaiproject/assignment/tool\n",
            "\n",
            "X-Content-Type-Outer-Envelope: text/plain; charset=UTF-8\n",
            "\n",
            "X-Content-Type-Message-Body: text/plain; charset=UTF-8\n",
            "\n",
            "Content-Type: text/plain; charset=UTF-8\n",
            "\n",
            "X-DSPAM-Result: Innocent\n",
            "\n",
            "X-DSPAM-Processed: Thu Oct 18 16:41:19 2007\n",
            "\n",
            "X-DSPAM-Confidence: 0.8481\n",
            "\n",
            "X-DSPAM-Probability: 0.0000\n",
            "\n",
            "\n",
            "\n",
            "Details: http://source.sakaiproject.org/viewsvn/?view=rev&rev=37119\n",
            "\n",
            "\n",
            "\n",
            "Author: zqian@umich.edu\n",
            "\n",
            "Date: 2007-10-18 16:39:00 -0400 (Thu, 18 Oct 2007)\n",
            "\n",
            "New Revision: 37119\n",
            "\n",
            "\n",
            "\n",
            "Modified:\n",
            "\n",
            "assignment/branches/sakai_2-4-x/assignment-tool/tool/src/java/org/sakaiproject/assignment/tool/AssignmentAction.java\n",
            "\n",
            "Log:\n",
            "\n",
            "fix to SAK-11944: NPE when accessing sort order\n",
            "\n",
            "\n",
            "\n",
            "----------------------\n",
            "\n",
            "This automatic notification message was sent by Sakai Collab (https://collab.sakaiproject.org/portal) from the Source site.\n",
            "\n",
            "You can modify how you receive notifications at My Workspace > Preferences.\n",
            "\n",
            "\n",
            "\n",
            "\n",
            "\n",
            "\n",
            "\n",
            "From zqian@umich.edu Thu Oct 18 16:29:46 2007\n",
            "\n",
            "Return-Path: <postmaster@collab.sakaiproject.org>\n",
            "\n",
            "Received: from murder (mail.umich.edu [141.211.14.25])\n",
            "\n",
            "\t by thisboyslife.mail.umich.edu (Cyrus v2.3.8) with LMTPA;\n",
            "\n",
            "\t Thu, 18 Oct 2007 16:29:46 -0400\n",
            "\n",
            "X-Sieve: CMU Sieve 2.3\n",
            "\n",
            "Received: from murder ([unix socket])\n",
            "\n",
            "\t by mail.umich.edu (Cyrus v2.2.12) with LMTPA;\n",
            "\n",
            "\t Thu, 18 Oct 2007 16:29:46 -0400\n",
            "\n",
            "Received: from firestarter.mr.itd.umich.edu (firestarter.mr.itd.umich.edu [141.211.14.83])\n",
            "\n",
            "\tby panther.mail.umich.edu () with ESMTP id l9IKTjOo030113;\n",
            "\n",
            "\tThu, 18 Oct 2007 16:29:45 -0400\n",
            "\n",
            "Received: FROM paploo.uhi.ac.uk (app1.prod.collab.uhi.ac.uk [194.35.219.184])\n",
            "\n",
            "\tBY firestarter.mr.itd.umich.edu ID 4717C234.958E0.7591 ; \n",
            "\n",
            "\t18 Oct 2007 16:29:43 -0400\n",
            "\n",
            "Received: from paploo.uhi.ac.uk (localhost [127.0.0.1])\n",
            "\n",
            "\tby paploo.uhi.ac.uk (Postfix) with ESMTP id 27B3E68798;\n",
            "\n",
            "\tThu, 18 Oct 2007 07:54:52 +0100 (BST)\n",
            "\n",
            "Message-ID: <200710182027.l9IKRW3l008194@nakamura.uits.iupui.edu>\n",
            "\n",
            "Mime-Version: 1.0\n",
            "\n",
            "Content-Transfer-Encoding: 7bit\n",
            "\n",
            "Received: from prod.collab.uhi.ac.uk ([194.35.219.182])\n",
            "\n",
            "          by paploo.uhi.ac.uk (JAMES SMTP Server 2.1.3) with SMTP ID 557\n",
            "\n",
            "          for <source@collab.sakaiproject.org>;\n",
            "\n",
            "          Thu, 18 Oct 2007 07:54:32 +0100 (BST)\n",
            "\n",
            "Received: from nakamura.uits.iupui.edu (nakamura.uits.iupui.edu [134.68.220.122])\n",
            "\n",
            "\tby shmi.uhi.ac.uk (Postfix) with ESMTP id 32EF81B781\n",
            "\n",
            "\tfor <source@collab.sakaiproject.org>; Thu, 18 Oct 2007 21:29:26 +0100 (BST)\n",
            "\n",
            "Received: from nakamura.uits.iupui.edu (localhost [127.0.0.1])\n",
            "\n",
            "\tby nakamura.uits.iupui.edu (8.12.11.20060308/8.12.11) with ESMTP id l9IKRW8S008196\n",
            "\n",
            "\tfor <source@collab.sakaiproject.org>; Thu, 18 Oct 2007 16:27:32 -0400\n",
            "\n",
            "Received: (from apache@localhost)\n",
            "\n",
            "\tby nakamura.uits.iupui.edu (8.12.11.20060308/8.12.11/Submit) id l9IKRW3l008194\n",
            "\n",
            "\tfor source@collab.sakaiproject.org; Thu, 18 Oct 2007 16:27:32 -0400\n",
            "\n",
            "Date: Thu, 18 Oct 2007 16:27:32 -0400\n",
            "\n",
            "X-Authentication-Warning: nakamura.uits.iupui.edu: apache set sender to zqian@umich.edu using -f\n",
            "\n",
            "To: source@collab.sakaiproject.org\n",
            "\n",
            "From: zqian@umich.edu\n",
            "\n",
            "Subject: [sakai] svn commit: r37118 - assignment/trunk/assignment-tool/tool/src/java/org/sakaiproject/assignment/tool\n",
            "\n",
            "X-Content-Type-Outer-Envelope: text/plain; charset=UTF-8\n",
            "\n",
            "X-Content-Type-Message-Body: text/plain; charset=UTF-8\n",
            "\n",
            "Content-Type: text/plain; charset=UTF-8\n",
            "\n",
            "X-DSPAM-Result: Innocent\n",
            "\n",
            "X-DSPAM-Processed: Thu Oct 18 16:29:46 2007\n",
            "\n",
            "X-DSPAM-Confidence: 0.8473\n",
            "\n",
            "X-DSPAM-Probability: 0.0000\n",
            "\n",
            "\n",
            "\n",
            "Details: http://source.sakaiproject.org/viewsvn/?view=rev&rev=37118\n",
            "\n",
            "\n",
            "\n",
            "Author: zqian@umich.edu\n",
            "\n",
            "Date: 2007-10-18 16:27:30 -0400 (Thu, 18 Oct 2007)\n",
            "\n",
            "New Revision: 37118\n",
            "\n",
            "\n",
            "\n",
            "Modified:\n",
            "\n",
            "assignment/trunk/assignment-tool/tool/src/java/org/sakaiproject/assignment/tool/AssignmentAction.java\n",
            "\n",
            "Log:\n",
            "\n",
            "Fix to SAK-11944: NPE when accessing sort order\n",
            "\n",
            "\n",
            "\n",
            "----------------------\n",
            "\n",
            "This automatic notification message was sent by Sakai Collab (https://collab.sakaiproject.org/portal) from the Source site.\n",
            "\n",
            "You can modify how you receive notifications at My Workspace > Preferences.\n",
            "\n",
            "\n",
            "\n",
            "\n",
            "\n",
            "\n",
            "\n",
            "From zqian@umich.edu Thu Oct 18 16:10:39 2007\n",
            "\n",
            "Return-Path: <postmaster@collab.sakaiproject.org>\n",
            "\n",
            "Received: from murder (mail.umich.edu [141.211.14.46])\n",
            "\n",
            "\t by thisboyslife.mail.umich.edu (Cyrus v2.3.8) with LMTPA;\n",
            "\n",
            "\t Thu, 18 Oct 2007 16:10:39 -0400\n",
            "\n",
            "X-Sieve: CMU Sieve 2.3\n",
            "\n",
            "Received: from murder ([unix socket])\n",
            "\n",
            "\t by mail.umich.edu (Cyrus v2.2.12) with LMTPA;\n",
            "\n",
            "\t Thu, 18 Oct 2007 16:10:39 -0400\n",
            "\n",
            "Received: from shining.mr.itd.umich.edu (shining.mr.itd.umich.edu [141.211.93.153])\n",
            "\n",
            "\tby fan.mail.umich.edu () with ESMTP id l9IKAc5s030501;\n",
            "\n",
            "\tThu, 18 Oct 2007 16:10:38 -0400\n",
            "\n",
            "Received: FROM paploo.uhi.ac.uk (app1.prod.collab.uhi.ac.uk [194.35.219.184])\n",
            "\n",
            "\tBY shining.mr.itd.umich.edu ID 4717BD6D.D3CBA.7237 ; \n",
            "\n",
            "\t18 Oct 2007 16:09:20 -0400\n",
            "\n",
            "Received: from paploo.uhi.ac.uk (localhost [127.0.0.1])\n",
            "\n",
            "\tby paploo.uhi.ac.uk (Postfix) with ESMTP id 2BE81546DF;\n",
            "\n",
            "\tThu, 18 Oct 2007 07:34:23 +0100 (BST)\n",
            "\n",
            "Message-ID: <200710182006.l9IK6xi0008112@nakamura.uits.iupui.edu>\n",
            "\n",
            "Mime-Version: 1.0\n",
            "\n",
            "Content-Transfer-Encoding: 7bit\n",
            "\n",
            "Received: from prod.collab.uhi.ac.uk ([194.35.219.182])\n",
            "\n",
            "          by paploo.uhi.ac.uk (JAMES SMTP Server 2.1.3) with SMTP ID 286\n",
            "\n",
            "          for <source@collab.sakaiproject.org>;\n",
            "\n",
            "          Thu, 18 Oct 2007 07:34:09 +0100 (BST)\n",
            "\n",
            "Received: from nakamura.uits.iupui.edu (nakamura.uits.iupui.edu [134.68.220.122])\n",
            "\n",
            "\tby shmi.uhi.ac.uk (Postfix) with ESMTP id EE9051B952\n",
            "\n",
            "\tfor <source@collab.sakaiproject.org>; Thu, 18 Oct 2007 21:08:52 +0100 (BST)\n",
            "\n",
            "Received: from nakamura.uits.iupui.edu (localhost [127.0.0.1])\n",
            "\n",
            "\tby nakamura.uits.iupui.edu (8.12.11.20060308/8.12.11) with ESMTP id l9IK6x1d008114\n",
            "\n",
            "\tfor <source@collab.sakaiproject.org>; Thu, 18 Oct 2007 16:06:59 -0400\n",
            "\n",
            "Received: (from apache@localhost)\n",
            "\n",
            "\tby nakamura.uits.iupui.edu (8.12.11.20060308/8.12.11/Submit) id l9IK6xi0008112\n",
            "\n",
            "\tfor source@collab.sakaiproject.org; Thu, 18 Oct 2007 16:06:59 -0400\n",
            "\n",
            "Date: Thu, 18 Oct 2007 16:06:59 -0400\n",
            "\n",
            "X-Authentication-Warning: nakamura.uits.iupui.edu: apache set sender to zqian@umich.edu using -f\n",
            "\n",
            "To: source@collab.sakaiproject.org\n",
            "\n",
            "From: zqian@umich.edu\n",
            "\n",
            "Subject: [sakai] svn commit: r37117 - authz/trunk/authz-tool/tool/src/java/org/sakaiproject/authz/tool\n",
            "\n",
            "X-Content-Type-Outer-Envelope: text/plain; charset=UTF-8\n",
            "\n",
            "X-Content-Type-Message-Body: text/plain; charset=UTF-8\n",
            "\n",
            "Content-Type: text/plain; charset=UTF-8\n",
            "\n",
            "X-DSPAM-Result: Innocent\n",
            "\n",
            "X-DSPAM-Processed: Thu Oct 18 16:10:39 2007\n",
            "\n",
            "X-DSPAM-Confidence: 0.9862\n",
            "\n",
            "X-DSPAM-Probability: 0.0000\n",
            "\n",
            "\n",
            "\n",
            "Details: http://source.sakaiproject.org/viewsvn/?view=rev&rev=37117\n",
            "\n",
            "\n",
            "\n",
            "Author: zqian@umich.edu\n",
            "\n",
            "Date: 2007-10-18 16:06:57 -0400 (Thu, 18 Oct 2007)\n",
            "\n",
            "New Revision: 37117\n",
            "\n",
            "\n",
            "\n",
            "Modified:\n",
            "\n",
            "authz/trunk/authz-tool/tool/src/java/org/sakaiproject/authz/tool/RealmsAction.java\n",
            "\n",
            "Log:\n",
            "\n",
            "fix to SAK-9996:Cannot save realm and no warning to user if invalid provider id is entered\n",
            "\n",
            "\n",
            "\n",
            "----------------------\n",
            "\n",
            "This automatic notification message was sent by Sakai Collab (https://collab.sakaiproject.org/portal) from the Source site.\n",
            "\n",
            "You can modify how you receive notifications at My Workspace > Preferences.\n",
            "\n",
            "\n",
            "\n",
            "\n",
            "\n",
            "\n",
            "\n",
            "From zqian@umich.edu Thu Oct 18 16:02:03 2007\n",
            "\n",
            "Return-Path: <postmaster@collab.sakaiproject.org>\n",
            "\n",
            "Received: from murder (mail.umich.edu [141.211.14.39])\n",
            "\n",
            "\t by thisboyslife.mail.umich.edu (Cyrus v2.3.8) with LMTPA;\n",
            "\n",
            "\t Thu, 18 Oct 2007 16:02:03 -0400\n",
            "\n",
            "X-Sieve: CMU Sieve 2.3\n",
            "\n",
            "Received: from murder ([unix socket])\n",
            "\n",
            "\t by mail.umich.edu (Cyrus v2.2.12) with LMTPA;\n",
            "\n",
            "\t Thu, 18 Oct 2007 16:02:03 -0400\n",
            "\n",
            "Received: from dave.mr.itd.umich.edu (dave.mr.itd.umich.edu [141.211.14.70])\n",
            "\n",
            "\tby faithful.mail.umich.edu () with ESMTP id l9IK20GN025479;\n",
            "\n",
            "\tThu, 18 Oct 2007 16:02:00 -0400\n",
            "\n",
            "Received: FROM paploo.uhi.ac.uk (app1.prod.collab.uhi.ac.uk [194.35.219.184])\n",
            "\n",
            "\tBY dave.mr.itd.umich.edu ID 4717BB7E.CE4EF.1865 ; \n",
            "\n",
            "\t18 Oct 2007 16:01:05 -0400\n",
            "\n",
            "Received: from paploo.uhi.ac.uk (localhost [127.0.0.1])\n",
            "\n",
            "\tby paploo.uhi.ac.uk (Postfix) with ESMTP id 22B5568782;\n",
            "\n",
            "\tThu, 18 Oct 2007 07:26:14 +0100 (BST)\n",
            "\n",
            "Message-ID: <200710181958.l9IJwpY0008097@nakamura.uits.iupui.edu>\n",
            "\n",
            "Mime-Version: 1.0\n",
            "\n",
            "Content-Transfer-Encoding: 7bit\n",
            "\n",
            "Received: from prod.collab.uhi.ac.uk ([194.35.219.182])\n",
            "\n",
            "          by paploo.uhi.ac.uk (JAMES SMTP Server 2.1.3) with SMTP ID 254\n",
            "\n",
            "          for <source@collab.sakaiproject.org>;\n",
            "\n",
            "          Thu, 18 Oct 2007 07:25:58 +0100 (BST)\n",
            "\n",
            "Received: from nakamura.uits.iupui.edu (nakamura.uits.iupui.edu [134.68.220.122])\n",
            "\n",
            "\tby shmi.uhi.ac.uk (Postfix) with ESMTP id 3B3001B66A\n",
            "\n",
            "\tfor <source@collab.sakaiproject.org>; Thu, 18 Oct 2007 21:00:45 +0100 (BST)\n",
            "\n",
            "Received: from nakamura.uits.iupui.edu (localhost [127.0.0.1])\n",
            "\n",
            "\tby nakamura.uits.iupui.edu (8.12.11.20060308/8.12.11) with ESMTP id l9IJwptS008099\n",
            "\n",
            "\tfor <source@collab.sakaiproject.org>; Thu, 18 Oct 2007 15:58:51 -0400\n",
            "\n",
            "Received: (from apache@localhost)\n",
            "\n",
            "\tby nakamura.uits.iupui.edu (8.12.11.20060308/8.12.11/Submit) id l9IJwpY0008097\n",
            "\n",
            "\tfor source@collab.sakaiproject.org; Thu, 18 Oct 2007 15:58:51 -0400\n",
            "\n",
            "Date: Thu, 18 Oct 2007 15:58:51 -0400\n",
            "\n",
            "X-Authentication-Warning: nakamura.uits.iupui.edu: apache set sender to zqian@umich.edu using -f\n",
            "\n",
            "To: source@collab.sakaiproject.org\n",
            "\n",
            "From: zqian@umich.edu\n",
            "\n",
            "Subject: [sakai] svn commit: r37116 - in site-manage/trunk/site-manage-tool/tool/src: java/org/sakaiproject/site/tool webapp/vm/sitesetup\n",
            "\n",
            "X-Content-Type-Outer-Envelope: text/plain; charset=UTF-8\n",
            "\n",
            "X-Content-Type-Message-Body: text/plain; charset=UTF-8\n",
            "\n",
            "Content-Type: text/plain; charset=UTF-8\n",
            "\n",
            "X-DSPAM-Result: Innocent\n",
            "\n",
            "X-DSPAM-Processed: Thu Oct 18 16:02:03 2007\n",
            "\n",
            "X-DSPAM-Confidence: 0.9872\n",
            "\n",
            "X-DSPAM-Probability: 0.0000\n",
            "\n",
            "\n",
            "\n",
            "Details: http://source.sakaiproject.org/viewsvn/?view=rev&rev=37116\n",
            "\n",
            "\n",
            "\n",
            "Author: zqian@umich.edu\n",
            "\n",
            "Date: 2007-10-18 15:58:44 -0400 (Thu, 18 Oct 2007)\n",
            "\n",
            "New Revision: 37116\n",
            "\n",
            "\n",
            "\n",
            "Modified:\n",
            "\n",
            "site-manage/trunk/site-manage-tool/tool/src/java/org/sakaiproject/site/tool/SiteAction.java\n",
            "\n",
            "site-manage/trunk/site-manage-tool/tool/src/webapp/vm/sitesetup/chef_site-siteInfo-list.vm\n",
            "\n",
            "Log:\n",
            "\n",
            "Fix to SAK-9996: Cannot save realm and no warning to user if invalid provider id is entered\n",
            "\n",
            "\n",
            "\n",
            "Only log the exception message when the section id is fake.\n",
            "\n",
            "\n",
            "\n",
            "----------------------\n",
            "\n",
            "This automatic notification message was sent by Sakai Collab (https://collab.sakaiproject.org/portal) from the Source site.\n",
            "\n",
            "You can modify how you receive notifications at My Workspace > Preferences.\n",
            "\n",
            "\n",
            "\n",
            "\n",
            "\n",
            "\n",
            "\n",
            "From aaronz@vt.edu Thu Oct 18 13:30:28 2007\n",
            "\n",
            "Return-Path: <postmaster@collab.sakaiproject.org>\n",
            "\n",
            "Received: from murder (mail.umich.edu [141.211.14.91])\n",
            "\n",
            "\t by thisboyslife.mail.umich.edu (Cyrus v2.3.8) with LMTPA;\n",
            "\n",
            "\t Thu, 18 Oct 2007 13:30:28 -0400\n",
            "\n",
            "X-Sieve: CMU Sieve 2.3\n",
            "\n",
            "Received: from murder ([unix socket])\n",
            "\n",
            "\t by mail.umich.edu (Cyrus v2.2.12) with LMTPA;\n",
            "\n",
            "\t Thu, 18 Oct 2007 13:30:28 -0400\n",
            "\n",
            "Received: from firestarter.mr.itd.umich.edu (firestarter.mr.itd.umich.edu [141.211.14.83])\n",
            "\n",
            "\tby jacknife.mail.umich.edu () with ESMTP id l9IHURNL027112;\n",
            "\n",
            "\tThu, 18 Oct 2007 13:30:27 -0400\n",
            "\n",
            "Received: FROM paploo.uhi.ac.uk (app1.prod.collab.uhi.ac.uk [194.35.219.184])\n",
            "\n",
            "\tBY firestarter.mr.itd.umich.edu ID 4717982D.B291E.9060 ; \n",
            "\n",
            "\t18 Oct 2007 13:30:24 -0400\n",
            "\n",
            "Received: from paploo.uhi.ac.uk (localhost [127.0.0.1])\n",
            "\n",
            "\tby paploo.uhi.ac.uk (Postfix) with ESMTP id AC79055D1D;\n",
            "\n",
            "\tThu, 18 Oct 2007 05:07:33 +0100 (BST)\n",
            "\n",
            "Message-ID: <200710181728.l9IHSCUh007603@nakamura.uits.iupui.edu>\n",
            "\n",
            "Mime-Version: 1.0\n",
            "\n",
            "Content-Transfer-Encoding: 7bit\n",
            "\n",
            "Received: from prod.collab.uhi.ac.uk ([194.35.219.182])\n",
            "\n",
            "          by paploo.uhi.ac.uk (JAMES SMTP Server 2.1.3) with SMTP ID 807\n",
            "\n",
            "          for <source@collab.sakaiproject.org>;\n",
            "\n",
            "          Thu, 18 Oct 2007 05:07:21 +0100 (BST)\n",
            "\n",
            "Received: from nakamura.uits.iupui.edu (nakamura.uits.iupui.edu [134.68.220.122])\n",
            "\n",
            "\tby shmi.uhi.ac.uk (Postfix) with ESMTP id B616D1B768\n",
            "\n",
            "\tfor <source@collab.sakaiproject.org>; Thu, 18 Oct 2007 18:30:05 +0100 (BST)\n",
            "\n",
            "Received: from nakamura.uits.iupui.edu (localhost [127.0.0.1])\n",
            "\n",
            "\tby nakamura.uits.iupui.edu (8.12.11.20060308/8.12.11) with ESMTP id l9IHSCJ1007605\n",
            "\n",
            "\tfor <source@collab.sakaiproject.org>; Thu, 18 Oct 2007 13:28:12 -0400\n",
            "\n",
            "Received: (from apache@localhost)\n",
            "\n",
            "\tby nakamura.uits.iupui.edu (8.12.11.20060308/8.12.11/Submit) id l9IHSCUh007603\n",
            "\n",
            "\tfor source@collab.sakaiproject.org; Thu, 18 Oct 2007 13:28:12 -0400\n",
            "\n",
            "Date: Thu, 18 Oct 2007 13:28:12 -0400\n",
            "\n",
            "X-Authentication-Warning: nakamura.uits.iupui.edu: apache set sender to aaronz@vt.edu using -f\n",
            "\n",
            "To: source@collab.sakaiproject.org\n",
            "\n",
            "From: aaronz@vt.edu\n",
            "\n",
            "Subject: [sakai] svn commit: r37113 - in memory/branches/SAK-11913/memory-impl: . impl/src impl/src/test impl/src/test/org impl/src/test/org/sakaiproject impl/src/test/org/sakaiproject/memory impl/src/test/org/sakaiproject/memory/impl impl/src/test/org/sakaiproject/memory/impl/test\n",
            "\n",
            "X-Content-Type-Outer-Envelope: text/plain; charset=UTF-8\n",
            "\n",
            "X-Content-Type-Message-Body: text/plain; charset=UTF-8\n",
            "\n",
            "Content-Type: text/plain; charset=UTF-8\n",
            "\n",
            "X-DSPAM-Result: Innocent\n",
            "\n",
            "X-DSPAM-Processed: Thu Oct 18 13:30:28 2007\n",
            "\n",
            "X-DSPAM-Confidence: 0.8484\n",
            "\n",
            "X-DSPAM-Probability: 0.0000\n",
            "\n",
            "\n",
            "\n",
            "Details: http://source.sakaiproject.org/viewsvn/?view=rev&rev=37113\n",
            "\n",
            "\n",
            "\n",
            "Author: aaronz@vt.edu\n",
            "\n",
            "Date: 2007-10-18 13:28:02 -0400 (Thu, 18 Oct 2007)\n",
            "\n",
            "New Revision: 37113\n",
            "\n",
            "\n",
            "\n",
            "Added:\n",
            "\n",
            "memory/branches/SAK-11913/memory-impl/impl/src/test/\n",
            "\n",
            "memory/branches/SAK-11913/memory-impl/impl/src/test/org/\n",
            "\n",
            "memory/branches/SAK-11913/memory-impl/impl/src/test/org/sakaiproject/\n",
            "\n",
            "memory/branches/SAK-11913/memory-impl/impl/src/test/org/sakaiproject/memory/\n",
            "\n",
            "memory/branches/SAK-11913/memory-impl/impl/src/test/org/sakaiproject/memory/impl/\n",
            "\n",
            "memory/branches/SAK-11913/memory-impl/impl/src/test/org/sakaiproject/memory/impl/test/\n",
            "\n",
            "memory/branches/SAK-11913/memory-impl/impl/src/test/org/sakaiproject/memory/impl/test/BasicMemoryServiceTest.java\n",
            "\n",
            "memory/branches/SAK-11913/memory-impl/impl/src/test/org/sakaiproject/memory/impl/test/MemCacheTest.java\n",
            "\n",
            "Modified:\n",
            "\n",
            "memory/branches/SAK-11913/memory-impl/.classpath\n",
            "\n",
            "Log:\n",
            "\n",
            "SAK-11913: Committed the non-working test stubs since I had to abandon the old tests\n",
            "\n",
            "\n",
            "\n",
            "----------------------\n",
            "\n",
            "This automatic notification message was sent by Sakai Collab (https://collab.sakaiproject.org/portal) from the Source site.\n",
            "\n",
            "You can modify how you receive notifications at My Workspace > Preferences.\n",
            "\n",
            "\n",
            "\n",
            "\n",
            "\n",
            "\n",
            "\n",
            "From aaronz@vt.edu Thu Oct 18 13:14:54 2007\n",
            "\n",
            "Return-Path: <postmaster@collab.sakaiproject.org>\n",
            "\n",
            "Received: from murder (mail.umich.edu [141.211.14.36])\n",
            "\n",
            "\t by thisboyslife.mail.umich.edu (Cyrus v2.3.8) with LMTPA;\n",
            "\n",
            "\t Thu, 18 Oct 2007 13:14:54 -0400\n",
            "\n",
            "X-Sieve: CMU Sieve 2.3\n",
            "\n",
            "Received: from murder ([unix socket])\n",
            "\n",
            "\t by mail.umich.edu (Cyrus v2.2.12) with LMTPA;\n",
            "\n",
            "\t Thu, 18 Oct 2007 13:14:54 -0400\n",
            "\n",
            "Received: from workinggirl.mr.itd.umich.edu (workinggirl.mr.itd.umich.edu [141.211.93.143])\n",
            "\n",
            "\tby godsend.mail.umich.edu () with ESMTP id l9IHEqan017760;\n",
            "\n",
            "\tThu, 18 Oct 2007 13:14:52 -0400\n",
            "\n",
            "Received: FROM paploo.uhi.ac.uk (app1.prod.collab.uhi.ac.uk [194.35.219.184])\n",
            "\n",
            "\tBY workinggirl.mr.itd.umich.edu ID 47179481.2EBC6.32204 ; \n",
            "\n",
            "\t18 Oct 2007 13:14:47 -0400\n",
            "\n",
            "Received: from paploo.uhi.ac.uk (localhost [127.0.0.1])\n",
            "\n",
            "\tby paploo.uhi.ac.uk (Postfix) with ESMTP id 17BD9596E0;\n",
            "\n",
            "\tThu, 18 Oct 2007 04:51:53 +0100 (BST)\n",
            "\n",
            "Message-ID: <200710181712.l9IHCSB4007532@nakamura.uits.iupui.edu>\n",
            "\n",
            "Mime-Version: 1.0\n",
            "\n",
            "Content-Transfer-Encoding: 7bit\n",
            "\n",
            "Received: from prod.collab.uhi.ac.uk ([194.35.219.182])\n",
            "\n",
            "          by paploo.uhi.ac.uk (JAMES SMTP Server 2.1.3) with SMTP ID 157\n",
            "\n",
            "          for <source@collab.sakaiproject.org>;\n",
            "\n",
            "          Thu, 18 Oct 2007 04:51:36 +0100 (BST)\n",
            "\n",
            "Received: from nakamura.uits.iupui.edu (nakamura.uits.iupui.edu [134.68.220.122])\n",
            "\n",
            "\tby shmi.uhi.ac.uk (Postfix) with ESMTP id 6601A1B792\n",
            "\n",
            "\tfor <source@collab.sakaiproject.org>; Thu, 18 Oct 2007 18:14:21 +0100 (BST)\n",
            "\n",
            "Received: from nakamura.uits.iupui.edu (localhost [127.0.0.1])\n",
            "\n",
            "\tby nakamura.uits.iupui.edu (8.12.11.20060308/8.12.11) with ESMTP id l9IHCSUP007534\n",
            "\n",
            "\tfor <source@collab.sakaiproject.org>; Thu, 18 Oct 2007 13:12:28 -0400\n",
            "\n",
            "Received: (from apache@localhost)\n",
            "\n",
            "\tby nakamura.uits.iupui.edu (8.12.11.20060308/8.12.11/Submit) id l9IHCSB4007532\n",
            "\n",
            "\tfor source@collab.sakaiproject.org; Thu, 18 Oct 2007 13:12:28 -0400\n",
            "\n",
            "Date: Thu, 18 Oct 2007 13:12:28 -0400\n",
            "\n",
            "X-Authentication-Warning: nakamura.uits.iupui.edu: apache set sender to aaronz@vt.edu using -f\n",
            "\n",
            "To: source@collab.sakaiproject.org\n",
            "\n",
            "From: aaronz@vt.edu\n",
            "\n",
            "Subject: [sakai] svn commit: r37112 - memory/branches/SAK-11913/memory-impl/pack/src/webapp/WEB-INF\n",
            "\n",
            "X-Content-Type-Outer-Envelope: text/plain; charset=UTF-8\n",
            "\n",
            "X-Content-Type-Message-Body: text/plain; charset=UTF-8\n",
            "\n",
            "Content-Type: text/plain; charset=UTF-8\n",
            "\n",
            "X-DSPAM-Result: Innocent\n",
            "\n",
            "X-DSPAM-Processed: Thu Oct 18 13:14:54 2007\n",
            "\n",
            "X-DSPAM-Confidence: 0.9830\n",
            "\n",
            "X-DSPAM-Probability: 0.0000\n",
            "\n",
            "\n",
            "\n",
            "Details: http://source.sakaiproject.org/viewsvn/?view=rev&rev=37112\n",
            "\n",
            "\n",
            "\n",
            "Author: aaronz@vt.edu\n",
            "\n",
            "Date: 2007-10-18 13:12:23 -0400 (Thu, 18 Oct 2007)\n",
            "\n",
            "New Revision: 37112\n",
            "\n",
            "\n",
            "\n",
            "Modified:\n",
            "\n",
            "memory/branches/SAK-11913/memory-impl/pack/src/webapp/WEB-INF/components.xml\n",
            "\n",
            "Log:\n",
            "\n",
            "SAK-11913: fixed up the circular dependency\n",
            "\n",
            "\n",
            "\n",
            "----------------------\n",
            "\n",
            "This automatic notification message was sent by Sakai Collab (https://collab.sakaiproject.org/portal) from the Source site.\n",
            "\n",
            "You can modify how you receive notifications at My Workspace > Preferences.\n",
            "\n",
            "\n",
            "\n",
            "\n",
            "\n",
            "\n",
            "\n",
            "From jzaremba@unicon.net Thu Oct 18 12:17:38 2007\n",
            "\n",
            "Return-Path: <postmaster@collab.sakaiproject.org>\n",
            "\n",
            "Received: from murder (mail.umich.edu [141.211.14.92])\n",
            "\n",
            "\t by thisboyslife.mail.umich.edu (Cyrus v2.3.8) with LMTPA;\n",
            "\n",
            "\t Thu, 18 Oct 2007 12:17:38 -0400\n",
            "\n",
            "X-Sieve: CMU Sieve 2.3\n",
            "\n",
            "Received: from murder ([unix socket])\n",
            "\n",
            "\t by mail.umich.edu (Cyrus v2.2.12) with LMTPA;\n",
            "\n",
            "\t Thu, 18 Oct 2007 12:17:38 -0400\n",
            "\n",
            "Received: from ghostbusters.mr.itd.umich.edu (ghostbusters.mr.itd.umich.edu [141.211.93.144])\n",
            "\n",
            "\tby score.mail.umich.edu () with ESMTP id l9IGHb1c028241;\n",
            "\n",
            "\tThu, 18 Oct 2007 12:17:37 -0400\n",
            "\n",
            "Received: FROM paploo.uhi.ac.uk (app1.prod.collab.uhi.ac.uk [194.35.219.184])\n",
            "\n",
            "\tBY ghostbusters.mr.itd.umich.edu ID 4717871B.19A74.7527 ; \n",
            "\n",
            "\t18 Oct 2007 12:17:34 -0400\n",
            "\n",
            "Received: from paploo.uhi.ac.uk (localhost [127.0.0.1])\n",
            "\n",
            "\tby paploo.uhi.ac.uk (Postfix) with ESMTP id A55A256012;\n",
            "\n",
            "\tThu, 18 Oct 2007 04:12:48 +0100 (BST)\n",
            "\n",
            "Message-ID: <200710181615.l9IGFJUn007405@nakamura.uits.iupui.edu>\n",
            "\n",
            "Mime-Version: 1.0\n",
            "\n",
            "Content-Transfer-Encoding: 7bit\n",
            "\n",
            "Received: from prod.collab.uhi.ac.uk ([194.35.219.182])\n",
            "\n",
            "          by paploo.uhi.ac.uk (JAMES SMTP Server 2.1.3) with SMTP ID 1010\n",
            "\n",
            "          for <source@collab.sakaiproject.org>;\n",
            "\n",
            "          Thu, 18 Oct 2007 04:12:33 +0100 (BST)\n",
            "\n",
            "Received: from nakamura.uits.iupui.edu (nakamura.uits.iupui.edu [134.68.220.122])\n",
            "\n",
            "\tby shmi.uhi.ac.uk (Postfix) with ESMTP id 7E7FD1B781\n",
            "\n",
            "\tfor <source@collab.sakaiproject.org>; Thu, 18 Oct 2007 17:17:13 +0100 (BST)\n",
            "\n",
            "Received: from nakamura.uits.iupui.edu (localhost [127.0.0.1])\n",
            "\n",
            "\tby nakamura.uits.iupui.edu (8.12.11.20060308/8.12.11) with ESMTP id l9IGFK2l007407\n",
            "\n",
            "\tfor <source@collab.sakaiproject.org>; Thu, 18 Oct 2007 12:15:20 -0400\n",
            "\n",
            "Received: (from apache@localhost)\n",
            "\n",
            "\tby nakamura.uits.iupui.edu (8.12.11.20060308/8.12.11/Submit) id l9IGFJUn007405\n",
            "\n",
            "\tfor source@collab.sakaiproject.org; Thu, 18 Oct 2007 12:15:19 -0400\n",
            "\n",
            "Date: Thu, 18 Oct 2007 12:15:19 -0400\n",
            "\n",
            "X-Authentication-Warning: nakamura.uits.iupui.edu: apache set sender to jzaremba@unicon.net using -f\n",
            "\n",
            "To: source@collab.sakaiproject.org\n",
            "\n",
            "From: jzaremba@unicon.net\n",
            "\n",
            "Subject: [sakai] svn commit: r37111 - content/branches/SAK-11543/content-tool/tool/src/java/org/sakaiproject/content/tool\n",
            "\n",
            "X-Content-Type-Outer-Envelope: text/plain; charset=UTF-8\n",
            "\n",
            "X-Content-Type-Message-Body: text/plain; charset=UTF-8\n",
            "\n",
            "Content-Type: text/plain; charset=UTF-8\n",
            "\n",
            "X-DSPAM-Result: Innocent\n",
            "\n",
            "X-DSPAM-Processed: Thu Oct 18 12:17:38 2007\n",
            "\n",
            "X-DSPAM-Confidence: 0.9769\n",
            "\n",
            "X-DSPAM-Probability: 0.0000\n",
            "\n",
            "\n",
            "\n",
            "Details: http://source.sakaiproject.org/viewsvn/?view=rev&rev=37111\n",
            "\n",
            "\n",
            "\n",
            "Author: jzaremba@unicon.net\n",
            "\n",
            "Date: 2007-10-18 12:15:15 -0400 (Thu, 18 Oct 2007)\n",
            "\n",
            "New Revision: 37111\n",
            "\n",
            "\n",
            "\n",
            "Modified:\n",
            "\n",
            "content/branches/SAK-11543/content-tool/tool/src/java/org/sakaiproject/content/tool/ResourcesAction.java\n",
            "\n",
            "Log:\n",
            "\n",
            "TSQ-737 Now passing operator value from UI.\n",
            "\n",
            "\n",
            "\n",
            "----------------------\n",
            "\n",
            "This automatic notification message was sent by Sakai Collab (https://collab.sakaiproject.org/portal) from the Source site.\n",
            "\n",
            "You can modify how you receive notifications at My Workspace > Preferences.\n",
            "\n",
            "\n",
            "\n",
            "\n",
            "\n",
            "\n",
            "\n",
            "From dlhaines@umich.edu Thu Oct 18 12:08:06 2007\n",
            "\n",
            "Return-Path: <postmaster@collab.sakaiproject.org>\n",
            "\n",
            "Received: from murder (mail.umich.edu [141.211.14.95])\n",
            "\n",
            "\t by thisboyslife.mail.umich.edu (Cyrus v2.3.8) with LMTPA;\n",
            "\n",
            "\t Thu, 18 Oct 2007 12:08:06 -0400\n",
            "\n",
            "X-Sieve: CMU Sieve 2.3\n",
            "\n",
            "Received: from murder ([unix socket])\n",
            "\n",
            "\t by mail.umich.edu (Cyrus v2.2.12) with LMTPA;\n",
            "\n",
            "\t Thu, 18 Oct 2007 12:08:06 -0400\n",
            "\n",
            "Received: from serenity.mr.itd.umich.edu (serenity.mr.itd.umich.edu [141.211.14.43])\n",
            "\n",
            "\tby brazil.mail.umich.edu () with ESMTP id l9IG84OT023831;\n",
            "\n",
            "\tThu, 18 Oct 2007 12:08:04 -0400\n",
            "\n",
            "Received: FROM paploo.uhi.ac.uk (app1.prod.collab.uhi.ac.uk [194.35.219.184])\n",
            "\n",
            "\tBY serenity.mr.itd.umich.edu ID 471784DE.928DD.1090 ; \n",
            "\n",
            "\t18 Oct 2007 12:08:01 -0400\n",
            "\n",
            "Received: from paploo.uhi.ac.uk (localhost [127.0.0.1])\n",
            "\n",
            "\tby paploo.uhi.ac.uk (Postfix) with ESMTP id 24D1B5347C;\n",
            "\n",
            "\tThu, 18 Oct 2007 04:03:13 +0100 (BST)\n",
            "\n",
            "Message-ID: <200710181605.l9IG5mWZ007379@nakamura.uits.iupui.edu>\n",
            "\n",
            "Mime-Version: 1.0\n",
            "\n",
            "Content-Transfer-Encoding: 7bit\n",
            "\n",
            "Received: from prod.collab.uhi.ac.uk ([194.35.219.182])\n",
            "\n",
            "          by paploo.uhi.ac.uk (JAMES SMTP Server 2.1.3) with SMTP ID 828\n",
            "\n",
            "          for <source@collab.sakaiproject.org>;\n",
            "\n",
            "          Thu, 18 Oct 2007 04:02:57 +0100 (BST)\n",
            "\n",
            "Received: from nakamura.uits.iupui.edu (nakamura.uits.iupui.edu [134.68.220.122])\n",
            "\n",
            "\tby shmi.uhi.ac.uk (Postfix) with ESMTP id 519A4D910\n",
            "\n",
            "\tfor <source@collab.sakaiproject.org>; Thu, 18 Oct 2007 17:07:41 +0100 (BST)\n",
            "\n",
            "Received: from nakamura.uits.iupui.edu (localhost [127.0.0.1])\n",
            "\n",
            "\tby nakamura.uits.iupui.edu (8.12.11.20060308/8.12.11) with ESMTP id l9IG5mvL007381\n",
            "\n",
            "\tfor <source@collab.sakaiproject.org>; Thu, 18 Oct 2007 12:05:48 -0400\n",
            "\n",
            "Received: (from apache@localhost)\n",
            "\n",
            "\tby nakamura.uits.iupui.edu (8.12.11.20060308/8.12.11/Submit) id l9IG5mWZ007379\n",
            "\n",
            "\tfor source@collab.sakaiproject.org; Thu, 18 Oct 2007 12:05:48 -0400\n",
            "\n",
            "Date: Thu, 18 Oct 2007 12:05:48 -0400\n",
            "\n",
            "X-Authentication-Warning: nakamura.uits.iupui.edu: apache set sender to dlhaines@umich.edu using -f\n",
            "\n",
            "To: source@collab.sakaiproject.org\n",
            "\n",
            "From: dlhaines@umich.edu\n",
            "\n",
            "Subject: [sakai] svn commit: r37110 - ctools/trunk/builds/ctools_2-4/configs\n",
            "\n",
            "X-Content-Type-Outer-Envelope: text/plain; charset=UTF-8\n",
            "\n",
            "X-Content-Type-Message-Body: text/plain; charset=UTF-8\n",
            "\n",
            "Content-Type: text/plain; charset=UTF-8\n",
            "\n",
            "X-DSPAM-Result: Innocent\n",
            "\n",
            "X-DSPAM-Processed: Thu Oct 18 12:08:06 2007\n",
            "\n",
            "X-DSPAM-Confidence: 0.9826\n",
            "\n",
            "X-DSPAM-Probability: 0.0000\n",
            "\n",
            "\n",
            "\n",
            "Details: http://source.sakaiproject.org/viewsvn/?view=rev&rev=37110\n",
            "\n",
            "\n",
            "\n",
            "Author: dlhaines@umich.edu\n",
            "\n",
            "Date: 2007-10-18 12:05:46 -0400 (Thu, 18 Oct 2007)\n",
            "\n",
            "New Revision: 37110\n",
            "\n",
            "\n",
            "\n",
            "Removed:\n",
            "\n",
            "ctools/trunk/builds/ctools_2-4/configs/ctools_2-4-0_RELEASE/\n",
            "\n",
            "ctools/trunk/builds/ctools_2-4/configs/ctools_2-4-0_daily/\n",
            "\n",
            "ctools/trunk/builds/ctools_2-4/configs/ctools_2-4-x_DAILY/\n",
            "\n",
            "ctools/trunk/builds/ctools_2-4/configs/ctools_2-4-x_LOADTEST/\n",
            "\n",
            "ctools/trunk/builds/ctools_2-4/configs/ctools_2-4_QA_TAG/\n",
            "\n",
            "Log:\n",
            "\n",
            "CTools: remove obsolete builds.\n",
            "\n",
            "\n",
            "\n",
            "----------------------\n",
            "\n",
            "This automatic notification message was sent by Sakai Collab (https://collab.sakaiproject.org/portal) from the Source site.\n",
            "\n",
            "You can modify how you receive notifications at My Workspace > Preferences.\n",
            "\n",
            "\n",
            "\n",
            "\n",
            "\n",
            "\n",
            "\n",
            "From chmaurer@iupui.edu Thu Oct 18 11:51:45 2007\n",
            "\n",
            "Return-Path: <postmaster@collab.sakaiproject.org>\n",
            "\n",
            "Received: from murder (mail.umich.edu [141.211.14.46])\n",
            "\n",
            "\t by thisboyslife.mail.umich.edu (Cyrus v2.3.8) with LMTPA;\n",
            "\n",
            "\t Thu, 18 Oct 2007 11:51:45 -0400\n",
            "\n",
            "X-Sieve: CMU Sieve 2.3\n",
            "\n",
            "Received: from murder ([unix socket])\n",
            "\n",
            "\t by mail.umich.edu (Cyrus v2.2.12) with LMTPA;\n",
            "\n",
            "\t Thu, 18 Oct 2007 11:51:45 -0400\n",
            "\n",
            "Received: from ghostbusters.mr.itd.umich.edu (ghostbusters.mr.itd.umich.edu [141.211.93.144])\n",
            "\n",
            "\tby fan.mail.umich.edu () with ESMTP id l9IFpjMR020636;\n",
            "\n",
            "\tThu, 18 Oct 2007 11:51:45 -0400\n",
            "\n",
            "Received: FROM paploo.uhi.ac.uk (app1.prod.collab.uhi.ac.uk [194.35.219.184])\n",
            "\n",
            "\tBY ghostbusters.mr.itd.umich.edu ID 4717810A.B71AE.5207 ; \n",
            "\n",
            "\t18 Oct 2007 11:51:41 -0400\n",
            "\n",
            "Received: from paploo.uhi.ac.uk (localhost [127.0.0.1])\n",
            "\n",
            "\tby paploo.uhi.ac.uk (Postfix) with ESMTP id B99AA66E96;\n",
            "\n",
            "\tThu, 18 Oct 2007 03:46:55 +0100 (BST)\n",
            "\n",
            "Message-ID: <200710181549.l9IFnUJj007340@nakamura.uits.iupui.edu>\n",
            "\n",
            "Mime-Version: 1.0\n",
            "\n",
            "Content-Transfer-Encoding: 7bit\n",
            "\n",
            "Received: from prod.collab.uhi.ac.uk ([194.35.219.182])\n",
            "\n",
            "          by paploo.uhi.ac.uk (JAMES SMTP Server 2.1.3) with SMTP ID 555\n",
            "\n",
            "          for <source@collab.sakaiproject.org>;\n",
            "\n",
            "          Thu, 18 Oct 2007 03:46:43 +0100 (BST)\n",
            "\n",
            "Received: from nakamura.uits.iupui.edu (nakamura.uits.iupui.edu [134.68.220.122])\n",
            "\n",
            "\tby shmi.uhi.ac.uk (Postfix) with ESMTP id CAFD1179F5\n",
            "\n",
            "\tfor <source@collab.sakaiproject.org>; Thu, 18 Oct 2007 16:51:23 +0100 (BST)\n",
            "\n",
            "Received: from nakamura.uits.iupui.edu (localhost [127.0.0.1])\n",
            "\n",
            "\tby nakamura.uits.iupui.edu (8.12.11.20060308/8.12.11) with ESMTP id l9IFnVFY007342\n",
            "\n",
            "\tfor <source@collab.sakaiproject.org>; Thu, 18 Oct 2007 11:49:31 -0400\n",
            "\n",
            "Received: (from apache@localhost)\n",
            "\n",
            "\tby nakamura.uits.iupui.edu (8.12.11.20060308/8.12.11/Submit) id l9IFnUJj007340\n",
            "\n",
            "\tfor source@collab.sakaiproject.org; Thu, 18 Oct 2007 11:49:30 -0400\n",
            "\n",
            "Date: Thu, 18 Oct 2007 11:49:30 -0400\n",
            "\n",
            "X-Authentication-Warning: nakamura.uits.iupui.edu: apache set sender to chmaurer@iupui.edu using -f\n",
            "\n",
            "To: source@collab.sakaiproject.org\n",
            "\n",
            "From: chmaurer@iupui.edu\n",
            "\n",
            "Subject: [sakai] svn commit: r37109 - osp/trunk/matrix/tool/src/webapp/WEB-INF/jsp/evaluation\n",
            "\n",
            "X-Content-Type-Outer-Envelope: text/plain; charset=UTF-8\n",
            "\n",
            "X-Content-Type-Message-Body: text/plain; charset=UTF-8\n",
            "\n",
            "Content-Type: text/plain; charset=UTF-8\n",
            "\n",
            "X-DSPAM-Result: Innocent\n",
            "\n",
            "X-DSPAM-Processed: Thu Oct 18 11:51:45 2007\n",
            "\n",
            "X-DSPAM-Confidence: 0.9861\n",
            "\n",
            "X-DSPAM-Probability: 0.0000\n",
            "\n",
            "\n",
            "\n",
            "Details: http://source.sakaiproject.org/viewsvn/?view=rev&rev=37109\n",
            "\n",
            "\n",
            "\n",
            "Author: chmaurer@iupui.edu\n",
            "\n",
            "Date: 2007-10-18 11:49:29 -0400 (Thu, 18 Oct 2007)\n",
            "\n",
            "New Revision: 37109\n",
            "\n",
            "\n",
            "\n",
            "Modified:\n",
            "\n",
            "osp/trunk/matrix/tool/src/webapp/WEB-INF/jsp/evaluation/listEvaluationItems.jsp\n",
            "\n",
            "Log:\n",
            "\n",
            "http://bugs.sakaiproject.org/jira/browse/SAK-11984\n",
            "\n",
            "Removed the action param from the Show All/Show Site evals link as it was causing problems if it was clicked before clicking the link to eval the item.\n",
            "\n",
            "\n",
            "\n",
            "----------------------\n",
            "\n",
            "This automatic notification message was sent by Sakai Collab (https://collab.sakaiproject.org/portal) from the Source site.\n",
            "\n",
            "You can modify how you receive notifications at My Workspace > Preferences.\n",
            "\n",
            "\n",
            "\n",
            "\n",
            "\n",
            "\n",
            "\n",
            "From zach.thomas@txstate.edu Thu Oct 18 11:34:11 2007\n",
            "\n",
            "Return-Path: <postmaster@collab.sakaiproject.org>\n",
            "\n",
            "Received: from murder (mail.umich.edu [141.211.14.25])\n",
            "\n",
            "\t by thisboyslife.mail.umich.edu (Cyrus v2.3.8) with LMTPA;\n",
            "\n",
            "\t Thu, 18 Oct 2007 11:34:11 -0400\n",
            "\n",
            "X-Sieve: CMU Sieve 2.3\n",
            "\n",
            "Received: from murder ([unix socket])\n",
            "\n",
            "\t by mail.umich.edu (Cyrus v2.2.12) with LMTPA;\n",
            "\n",
            "\t Thu, 18 Oct 2007 11:34:11 -0400\n",
            "\n",
            "Received: from galaxyquest.mr.itd.umich.edu (galaxyquest.mr.itd.umich.edu [141.211.93.145])\n",
            "\n",
            "\tby panther.mail.umich.edu () with ESMTP id l9IFYAEH025992;\n",
            "\n",
            "\tThu, 18 Oct 2007 11:34:10 -0400\n",
            "\n",
            "Received: FROM paploo.uhi.ac.uk (app1.prod.collab.uhi.ac.uk [194.35.219.184])\n",
            "\n",
            "\tBY galaxyquest.mr.itd.umich.edu ID 47177CEC.91C46.21260 ; \n",
            "\n",
            "\t18 Oct 2007 11:34:07 -0400\n",
            "\n",
            "Received: from paploo.uhi.ac.uk (localhost [127.0.0.1])\n",
            "\n",
            "\tby paploo.uhi.ac.uk (Postfix) with ESMTP id 09F1B682EC;\n",
            "\n",
            "\tThu, 18 Oct 2007 03:29:21 +0100 (BST)\n",
            "\n",
            "Message-ID: <200710181531.l9IFVnHH007248@nakamura.uits.iupui.edu>\n",
            "\n",
            "Mime-Version: 1.0\n",
            "\n",
            "Content-Transfer-Encoding: 7bit\n",
            "\n",
            "Received: from prod.collab.uhi.ac.uk ([194.35.219.182])\n",
            "\n",
            "          by paploo.uhi.ac.uk (JAMES SMTP Server 2.1.3) with SMTP ID 738\n",
            "\n",
            "          for <source@collab.sakaiproject.org>;\n",
            "\n",
            "          Thu, 18 Oct 2007 03:29:02 +0100 (BST)\n",
            "\n",
            "Received: from nakamura.uits.iupui.edu (nakamura.uits.iupui.edu [134.68.220.122])\n",
            "\n",
            "\tby shmi.uhi.ac.uk (Postfix) with ESMTP id CBA611B6AA\n",
            "\n",
            "\tfor <source@collab.sakaiproject.org>; Thu, 18 Oct 2007 16:33:41 +0100 (BST)\n",
            "\n",
            "Received: from nakamura.uits.iupui.edu (localhost [127.0.0.1])\n",
            "\n",
            "\tby nakamura.uits.iupui.edu (8.12.11.20060308/8.12.11) with ESMTP id l9IFVnPZ007250\n",
            "\n",
            "\tfor <source@collab.sakaiproject.org>; Thu, 18 Oct 2007 11:31:49 -0400\n",
            "\n",
            "Received: (from apache@localhost)\n",
            "\n",
            "\tby nakamura.uits.iupui.edu (8.12.11.20060308/8.12.11/Submit) id l9IFVnHH007248\n",
            "\n",
            "\tfor source@collab.sakaiproject.org; Thu, 18 Oct 2007 11:31:49 -0400\n",
            "\n",
            "Date: Thu, 18 Oct 2007 11:31:49 -0400\n",
            "\n",
            "X-Authentication-Warning: nakamura.uits.iupui.edu: apache set sender to zach.thomas@txstate.edu using -f\n",
            "\n",
            "To: source@collab.sakaiproject.org\n",
            "\n",
            "From: zach.thomas@txstate.edu\n",
            "\n",
            "Subject: [sakai] svn commit: r37108 - content/branches/SAK-11543/content-tool/tool/src/java/org/sakaiproject/content/tool\n",
            "\n",
            "X-Content-Type-Outer-Envelope: text/plain; charset=UTF-8\n",
            "\n",
            "X-Content-Type-Message-Body: text/plain; charset=UTF-8\n",
            "\n",
            "Content-Type: text/plain; charset=UTF-8\n",
            "\n",
            "X-DSPAM-Result: Innocent\n",
            "\n",
            "X-DSPAM-Processed: Thu Oct 18 11:34:11 2007\n",
            "\n",
            "X-DSPAM-Confidence: 0.9810\n",
            "\n",
            "X-DSPAM-Probability: 0.0000\n",
            "\n",
            "\n",
            "\n",
            "Details: http://source.sakaiproject.org/viewsvn/?view=rev&rev=37108\n",
            "\n",
            "\n",
            "\n",
            "Author: zach.thomas@txstate.edu\n",
            "\n",
            "Date: 2007-10-18 11:31:46 -0400 (Thu, 18 Oct 2007)\n",
            "\n",
            "New Revision: 37108\n",
            "\n",
            "\n",
            "\n",
            "Modified:\n",
            "\n",
            "content/branches/SAK-11543/content-tool/tool/src/java/org/sakaiproject/content/tool/ResourcesAction.java\n",
            "\n",
            "Log:\n",
            "\n",
            "added proper function names and query names for conditions\n",
            "\n",
            "\n",
            "\n",
            "----------------------\n",
            "\n",
            "This automatic notification message was sent by Sakai Collab (https://collab.sakaiproject.org/portal) from the Source site.\n",
            "\n",
            "You can modify how you receive notifications at My Workspace > Preferences.\n",
            "\n",
            "\n",
            "\n",
            "\n",
            "\n",
            "\n",
            "\n",
            "From dlhaines@umich.edu Thu Oct 18 10:56:16 2007\n",
            "\n",
            "Return-Path: <postmaster@collab.sakaiproject.org>\n",
            "\n",
            "Received: from murder (mail.umich.edu [141.211.14.93])\n",
            "\n",
            "\t by thisboyslife.mail.umich.edu (Cyrus v2.3.8) with LMTPA;\n",
            "\n",
            "\t Thu, 18 Oct 2007 10:56:16 -0400\n",
            "\n",
            "X-Sieve: CMU Sieve 2.3\n",
            "\n",
            "Received: from murder ([unix socket])\n",
            "\n",
            "\t by mail.umich.edu (Cyrus v2.2.12) with LMTPA;\n",
            "\n",
            "\t Thu, 18 Oct 2007 10:56:16 -0400\n",
            "\n",
            "Received: from salemslot.mr.itd.umich.edu (salemslot.mr.itd.umich.edu [141.211.14.58])\n",
            "\n",
            "\tby mission.mail.umich.edu () with ESMTP id l9IEuFrS014699;\n",
            "\n",
            "\tThu, 18 Oct 2007 10:56:15 -0400\n",
            "\n",
            "Received: FROM paploo.uhi.ac.uk (app1.prod.collab.uhi.ac.uk [194.35.219.184])\n",
            "\n",
            "\tBY salemslot.mr.itd.umich.edu ID 47177409.BBEE4.28758 ; \n",
            "\n",
            "\t18 Oct 2007 10:56:12 -0400\n",
            "\n",
            "Received: from paploo.uhi.ac.uk (localhost [127.0.0.1])\n",
            "\n",
            "\tby paploo.uhi.ac.uk (Postfix) with ESMTP id 446D968515;\n",
            "\n",
            "\tThu, 18 Oct 2007 02:51:20 +0100 (BST)\n",
            "\n",
            "Message-ID: <200710181453.l9IErsL6007196@nakamura.uits.iupui.edu>\n",
            "\n",
            "Mime-Version: 1.0\n",
            "\n",
            "Content-Transfer-Encoding: 7bit\n",
            "\n",
            "Received: from prod.collab.uhi.ac.uk ([194.35.219.182])\n",
            "\n",
            "          by paploo.uhi.ac.uk (JAMES SMTP Server 2.1.3) with SMTP ID 541\n",
            "\n",
            "          for <source@collab.sakaiproject.org>;\n",
            "\n",
            "          Thu, 18 Oct 2007 02:51:05 +0100 (BST)\n",
            "\n",
            "Received: from nakamura.uits.iupui.edu (nakamura.uits.iupui.edu [134.68.220.122])\n",
            "\n",
            "\tby shmi.uhi.ac.uk (Postfix) with ESMTP id D29ACD8FB\n",
            "\n",
            "\tfor <source@collab.sakaiproject.org>; Thu, 18 Oct 2007 15:55:46 +0100 (BST)\n",
            "\n",
            "Received: from nakamura.uits.iupui.edu (localhost [127.0.0.1])\n",
            "\n",
            "\tby nakamura.uits.iupui.edu (8.12.11.20060308/8.12.11) with ESMTP id l9IErsHG007198\n",
            "\n",
            "\tfor <source@collab.sakaiproject.org>; Thu, 18 Oct 2007 10:53:54 -0400\n",
            "\n",
            "Received: (from apache@localhost)\n",
            "\n",
            "\tby nakamura.uits.iupui.edu (8.12.11.20060308/8.12.11/Submit) id l9IErsL6007196\n",
            "\n",
            "\tfor source@collab.sakaiproject.org; Thu, 18 Oct 2007 10:53:54 -0400\n",
            "\n",
            "Date: Thu, 18 Oct 2007 10:53:54 -0400\n",
            "\n",
            "X-Authentication-Warning: nakamura.uits.iupui.edu: apache set sender to dlhaines@umich.edu using -f\n",
            "\n",
            "To: source@collab.sakaiproject.org\n",
            "\n",
            "From: dlhaines@umich.edu\n",
            "\n",
            "Subject: [sakai] svn commit: r37107 - ctools/trunk/builds/ctools_2-4/tools\n",
            "\n",
            "X-Content-Type-Outer-Envelope: text/plain; charset=UTF-8\n",
            "\n",
            "X-Content-Type-Message-Body: text/plain; charset=UTF-8\n",
            "\n",
            "Content-Type: text/plain; charset=UTF-8\n",
            "\n",
            "X-DSPAM-Result: Innocent\n",
            "\n",
            "X-DSPAM-Processed: Thu Oct 18 10:56:16 2007\n",
            "\n",
            "X-DSPAM-Confidence: 0.9836\n",
            "\n",
            "X-DSPAM-Probability: 0.0000\n",
            "\n",
            "\n",
            "\n",
            "Details: http://source.sakaiproject.org/viewsvn/?view=rev&rev=37107\n",
            "\n",
            "\n",
            "\n",
            "Author: dlhaines@umich.edu\n",
            "\n",
            "Date: 2007-10-18 10:53:52 -0400 (Thu, 18 Oct 2007)\n",
            "\n",
            "New Revision: 37107\n",
            "\n",
            "\n",
            "\n",
            "Modified:\n",
            "\n",
            "ctools/trunk/builds/ctools_2-4/tools/applyPatches.pl\n",
            "\n",
            "Log:\n",
            "\n",
            "CTools: clean up applyPatches.pl\n",
            "\n",
            "\n",
            "\n",
            "----------------------\n",
            "\n",
            "This automatic notification message was sent by Sakai Collab (https://collab.sakaiproject.org/portal) from the Source site.\n",
            "\n",
            "You can modify how you receive notifications at My Workspace > Preferences.\n",
            "\n",
            "\n",
            "\n",
            "\n",
            "\n",
            "\n",
            "\n"
          ]
        }
      ]
    },
    {
      "cell_type": "markdown",
      "source": [
        "### Counting lines in a file"
      ],
      "metadata": {
        "id": "hPeT1O5Q74_d"
      }
    },
    {
      "cell_type": "code",
      "source": [
        "fhand = open('mbox.txt')\n",
        "count = 0\n",
        "for line in fhand:\n",
        "  count = count+1\n",
        "print('Line count: ',count)"
      ],
      "metadata": {
        "colab": {
          "base_uri": "https://localhost:8080/"
        },
        "id": "HydVUyV-61ue",
        "outputId": "810c7298-aba0-4a32-e1a8-15e4df467429"
      },
      "execution_count": 23,
      "outputs": [
        {
          "output_type": "stream",
          "name": "stdout",
          "text": [
            "Line count:  132045\n"
          ]
        }
      ]
    },
    {
      "cell_type": "markdown",
      "source": [
        "### Reading the whole file"
      ],
      "metadata": {
        "id": "T2Y6JQv983ne"
      }
    },
    {
      "cell_type": "code",
      "source": [
        "# If the whole file is relatively small compared to your main memory you can read the whole file using read()\n",
        "\n",
        "fhand = open('mbox-short.txt')\n",
        "inp = fhand.read()\n",
        "print(len(inp))"
      ],
      "metadata": {
        "colab": {
          "base_uri": "https://localhost:8080/"
        },
        "id": "zcs4v2pU8Sq5",
        "outputId": "28377056-6aa7-4998-f7a5-f1e41f8d8bbc"
      },
      "execution_count": 25,
      "outputs": [
        {
          "output_type": "stream",
          "name": "stdout",
          "text": [
            "94626\n"
          ]
        }
      ]
    },
    {
      "cell_type": "code",
      "source": [
        "print(inp[:20])"
      ],
      "metadata": {
        "colab": {
          "base_uri": "https://localhost:8080/"
        },
        "id": "TAJrjBV-9SZ7",
        "outputId": "a61ec84f-72ae-40ba-9a7a-bb82555d38cc"
      },
      "execution_count": 27,
      "outputs": [
        {
          "output_type": "stream",
          "name": "stdout",
          "text": [
            "From stephen.marquar\n"
          ]
        }
      ]
    },
    {
      "cell_type": "code",
      "source": [
        "# It is important to store the read in one variable because each call to read exhausts the resources\n",
        "\n",
        "fhand = open('mbox-short.txt')\n",
        "print(len(fhand.read()))"
      ],
      "metadata": {
        "colab": {
          "base_uri": "https://localhost:8080/"
        },
        "id": "GirgBYVe-fVx",
        "outputId": "2bdcaa2c-39fc-4432-c3a5-3ff53c09d6b6"
      },
      "execution_count": 30,
      "outputs": [
        {
          "output_type": "stream",
          "name": "stdout",
          "text": [
            "94626\n"
          ]
        }
      ]
    },
    {
      "cell_type": "code",
      "source": [
        "print(len(fhand.read()))"
      ],
      "metadata": {
        "colab": {
          "base_uri": "https://localhost:8080/"
        },
        "id": "yyCLserm_Fjj",
        "outputId": "2fac3cfa-f9eb-4167-b780-c23bac104cf4"
      },
      "execution_count": 31,
      "outputs": [
        {
          "output_type": "stream",
          "name": "stdout",
          "text": [
            "0\n"
          ]
        }
      ]
    },
    {
      "cell_type": "markdown",
      "source": [
        "### Searching through a file"
      ],
      "metadata": {
        "id": "O6EQ2CZeDAvJ"
      }
    },
    {
      "cell_type": "code",
      "source": [
        "fhand = open('mbox-short.txt')\n",
        "for line in fhand:\n",
        "  if line.startswith('From:'):\n",
        "    print(line)"
      ],
      "metadata": {
        "colab": {
          "base_uri": "https://localhost:8080/"
        },
        "id": "xywJgUED_TiW",
        "outputId": "46dc89a5-969b-43fa-c1e7-9365c69f4095"
      },
      "execution_count": 32,
      "outputs": [
        {
          "output_type": "stream",
          "name": "stdout",
          "text": [
            "From: stephen.marquard@uct.ac.za\n",
            "\n",
            "From: louis@media.berkeley.edu\n",
            "\n",
            "From: zqian@umich.edu\n",
            "\n",
            "From: rjlowe@iupui.edu\n",
            "\n",
            "From: zqian@umich.edu\n",
            "\n",
            "From: rjlowe@iupui.edu\n",
            "\n",
            "From: cwen@iupui.edu\n",
            "\n",
            "From: cwen@iupui.edu\n",
            "\n",
            "From: gsilver@umich.edu\n",
            "\n",
            "From: gsilver@umich.edu\n",
            "\n",
            "From: zqian@umich.edu\n",
            "\n",
            "From: gsilver@umich.edu\n",
            "\n",
            "From: wagnermr@iupui.edu\n",
            "\n",
            "From: zqian@umich.edu\n",
            "\n",
            "From: antranig@caret.cam.ac.uk\n",
            "\n",
            "From: gopal.ramasammycook@gmail.com\n",
            "\n",
            "From: david.horwitz@uct.ac.za\n",
            "\n",
            "From: david.horwitz@uct.ac.za\n",
            "\n",
            "From: david.horwitz@uct.ac.za\n",
            "\n",
            "From: david.horwitz@uct.ac.za\n",
            "\n",
            "From: stephen.marquard@uct.ac.za\n",
            "\n",
            "From: louis@media.berkeley.edu\n",
            "\n",
            "From: louis@media.berkeley.edu\n",
            "\n",
            "From: ray@media.berkeley.edu\n",
            "\n",
            "From: cwen@iupui.edu\n",
            "\n",
            "From: cwen@iupui.edu\n",
            "\n",
            "From: cwen@iupui.edu\n",
            "\n"
          ]
        }
      ]
    },
    {
      "cell_type": "code",
      "source": [
        "# Searching thorugh a file fixed as to remove the white spaces at the end of each line using rstrip\n",
        "\n",
        "fhand = open('mbox-short.txt')\n",
        "for line in fhand:\n",
        "  line = line.rstrip()\n",
        "  if line.startswith('From:'):\n",
        "    print(line)"
      ],
      "metadata": {
        "colab": {
          "base_uri": "https://localhost:8080/"
        },
        "id": "3oQ8K52yDYKD",
        "outputId": "bfe1ff64-ad6e-448f-dfbf-b4a27cc99162"
      },
      "execution_count": 35,
      "outputs": [
        {
          "output_type": "stream",
          "name": "stdout",
          "text": [
            "From: stephen.marquard@uct.ac.za\n",
            "From: louis@media.berkeley.edu\n",
            "From: zqian@umich.edu\n",
            "From: rjlowe@iupui.edu\n",
            "From: zqian@umich.edu\n",
            "From: rjlowe@iupui.edu\n",
            "From: cwen@iupui.edu\n",
            "From: cwen@iupui.edu\n",
            "From: gsilver@umich.edu\n",
            "From: gsilver@umich.edu\n",
            "From: zqian@umich.edu\n",
            "From: gsilver@umich.edu\n",
            "From: wagnermr@iupui.edu\n",
            "From: zqian@umich.edu\n",
            "From: antranig@caret.cam.ac.uk\n",
            "From: gopal.ramasammycook@gmail.com\n",
            "From: david.horwitz@uct.ac.za\n",
            "From: david.horwitz@uct.ac.za\n",
            "From: david.horwitz@uct.ac.za\n",
            "From: david.horwitz@uct.ac.za\n",
            "From: stephen.marquard@uct.ac.za\n",
            "From: louis@media.berkeley.edu\n",
            "From: louis@media.berkeley.edu\n",
            "From: ray@media.berkeley.edu\n",
            "From: cwen@iupui.edu\n",
            "From: cwen@iupui.edu\n",
            "From: cwen@iupui.edu\n"
          ]
        }
      ]
    },
    {
      "cell_type": "markdown",
      "source": [
        "### Skipping with continue"
      ],
      "metadata": {
        "id": "Yvu_TLZLGbJL"
      }
    },
    {
      "cell_type": "code",
      "source": [
        "fhand = open(\"mbox-short.txt\")\n",
        "for line in fhand:\n",
        "  line=line.rstrip()\n",
        "  # Skip 'uninteresting lines'\n",
        "  if not line.startswith('From:'):\n",
        "    continue\n",
        "  # Process our 'interesting' line\n",
        "  print(line)"
      ],
      "metadata": {
        "colab": {
          "base_uri": "https://localhost:8080/"
        },
        "id": "t3XO1tLgFFhn",
        "outputId": "8cb7d563-2bdb-4277-f7f1-e9820c03287e"
      },
      "execution_count": 38,
      "outputs": [
        {
          "output_type": "stream",
          "name": "stdout",
          "text": [
            "From: stephen.marquard@uct.ac.za\n",
            "From: louis@media.berkeley.edu\n",
            "From: zqian@umich.edu\n",
            "From: rjlowe@iupui.edu\n",
            "From: zqian@umich.edu\n",
            "From: rjlowe@iupui.edu\n",
            "From: cwen@iupui.edu\n",
            "From: cwen@iupui.edu\n",
            "From: gsilver@umich.edu\n",
            "From: gsilver@umich.edu\n",
            "From: zqian@umich.edu\n",
            "From: gsilver@umich.edu\n",
            "From: wagnermr@iupui.edu\n",
            "From: zqian@umich.edu\n",
            "From: antranig@caret.cam.ac.uk\n",
            "From: gopal.ramasammycook@gmail.com\n",
            "From: david.horwitz@uct.ac.za\n",
            "From: david.horwitz@uct.ac.za\n",
            "From: david.horwitz@uct.ac.za\n",
            "From: david.horwitz@uct.ac.za\n",
            "From: stephen.marquard@uct.ac.za\n",
            "From: louis@media.berkeley.edu\n",
            "From: louis@media.berkeley.edu\n",
            "From: ray@media.berkeley.edu\n",
            "From: cwen@iupui.edu\n",
            "From: cwen@iupui.edu\n",
            "From: cwen@iupui.edu\n"
          ]
        }
      ]
    },
    {
      "cell_type": "markdown",
      "source": [
        "### Using in to select Lines"
      ],
      "metadata": {
        "id": "z-9YPKGzHnwO"
      }
    },
    {
      "cell_type": "code",
      "source": [
        "fhand = open('mbox-short.txt')\n",
        "for line in fhand:\n",
        "  line = line.rstrip()\n",
        "  if not '@utc.ac.za' in line:\n",
        "    continue\n",
        "  print(line)"
      ],
      "metadata": {
        "id": "m1Rv3R_6GwCU"
      },
      "execution_count": 48,
      "outputs": []
    },
    {
      "cell_type": "markdown",
      "source": [
        "## Letting the user choose the file name"
      ],
      "metadata": {
        "id": "jK9llbSPKtJ1"
      }
    },
    {
      "cell_type": "code",
      "source": [
        "fname = input('Enter the file name: ')\n",
        "fhand = open(fname)\n",
        "count=0\n",
        "for line in fhand:\n",
        "  if line.startswith('Subject:'):\n",
        "    count = count+1\n",
        "print('There were', count, 'subject lines in',fname)"
      ],
      "metadata": {
        "colab": {
          "base_uri": "https://localhost:8080/"
        },
        "id": "yVGrVY-eI-5V",
        "outputId": "7ae569b4-80e5-41a1-e15a-71b9c6209a25"
      },
      "execution_count": 50,
      "outputs": [
        {
          "output_type": "stream",
          "name": "stdout",
          "text": [
            "Enter the file name: mbox-short.txt\n",
            "There were 27 subject lines in mbox-short.txt\n"
          ]
        }
      ]
    },
    {
      "cell_type": "markdown",
      "source": [
        "##Using try and except to identify bad file names"
      ],
      "metadata": {
        "id": "BJSQgK5ILnA7"
      }
    },
    {
      "cell_type": "code",
      "source": [
        "fname = input('Enter the file name: ')\n",
        "try:\n",
        "  fhand = open(fname)\n",
        "except:\n",
        "  print('file cannot be found: ', fname)\n",
        "  quit()\n",
        "count = 0\n",
        "for line in fhand:\n",
        "  if line.startswith('Subject:'):\n",
        "    count+=1\n",
        "print('There were', count, 'subject lines in', fname)"
      ],
      "metadata": {
        "id": "eHyxp8mhLZKd",
        "outputId": "17adeb49-de9f-4a05-fec7-ce4d0b3f527a",
        "colab": {
          "base_uri": "https://localhost:8080/"
        }
      },
      "execution_count": 51,
      "outputs": [
        {
          "output_type": "stream",
          "name": "stdout",
          "text": [
            "Enter the file name: mbox.txt\n",
            "There were 1797 subject lines in mbox.txt\n"
          ]
        }
      ]
    },
    {
      "cell_type": "code",
      "source": [
        "fname = input('Enter the file name: ')\n",
        "try:\n",
        "  fhand = open(fname)\n",
        "except:\n",
        "  print('file cannot be opened: ', fname)\n",
        "  quit()\n",
        "\n",
        "count = 0\n",
        "for line in fhand:\n",
        "  if line.startswith('Subject:'):\n",
        "    count+=1\n",
        "print('There were', count, 'subject lines in', fname)"
      ],
      "metadata": {
        "id": "9R2zjcUgMmeA",
        "outputId": "4ca9f9aa-7470-408a-d025-5520be716907",
        "colab": {
          "base_uri": "https://localhost:8080/"
        }
      },
      "execution_count": 1,
      "outputs": [
        {
          "output_type": "stream",
          "name": "stdout",
          "text": [
            "Enter the file name: mbox-short.txt\n",
            "There were 27 subject lines in mbox-short.txt\n"
          ]
        }
      ]
    },
    {
      "cell_type": "code",
      "source": [
        "fname = input('Enter the file name: ')\n",
        "try:\n",
        "    fhand = open(fname)\n",
        "    count = 0\n",
        "    for line in fhand:\n",
        "        if line.startswith('Subject:'):\n",
        "            count = count + 1\n",
        "    print('There were', count, 'subject lines in', fname)\n",
        "except:\n",
        "    print('File cannot be opened:', fname)\n",
        "    exit()"
      ],
      "metadata": {
        "id": "3T9Xcs_mMq_E",
        "outputId": "ac41bbbb-3cc7-443f-87fb-ddf238e6405c",
        "colab": {
          "base_uri": "https://localhost:8080/"
        }
      },
      "execution_count": 2,
      "outputs": [
        {
          "output_type": "stream",
          "name": "stdout",
          "text": [
            "Enter the file name: sad\n",
            "File cannot be opened: sad\n"
          ]
        }
      ]
    },
    {
      "cell_type": "markdown",
      "source": [
        "##Writing files"
      ],
      "metadata": {
        "id": "zR8Luf7POVAi"
      }
    },
    {
      "cell_type": "code",
      "source": [
        "# To write a file, you have to open it with mode “w” as a second parameter\n",
        "\n",
        "fout = open('output.txt','w')\n",
        "print(fout)"
      ],
      "metadata": {
        "id": "dHOJyk_4N3C-",
        "outputId": "e0df81a5-2789-4851-e971-524429c7fc48",
        "colab": {
          "base_uri": "https://localhost:8080/"
        }
      },
      "execution_count": 3,
      "outputs": [
        {
          "output_type": "stream",
          "name": "stdout",
          "text": [
            "<_io.TextIOWrapper name='output.txt' mode='w' encoding='utf-8'>\n"
          ]
        }
      ]
    },
    {
      "cell_type": "code",
      "source": [
        "line1 = \"This here's the wattle,\\n\""
      ],
      "metadata": {
        "id": "e_r344TNPztr"
      },
      "execution_count": 4,
      "outputs": []
    },
    {
      "cell_type": "code",
      "source": [
        "fout.write(line1)"
      ],
      "metadata": {
        "id": "qKzArUopQFf9",
        "outputId": "80a80323-81af-474e-cd46-d318635cd4c4",
        "colab": {
          "base_uri": "https://localhost:8080/"
        }
      },
      "execution_count": 5,
      "outputs": [
        {
          "output_type": "execute_result",
          "data": {
            "text/plain": [
              "24"
            ]
          },
          "metadata": {},
          "execution_count": 5
        }
      ]
    },
    {
      "cell_type": "code",
      "source": [
        "line2 = 'the emblem of our land.\\n'"
      ],
      "metadata": {
        "id": "KlLArJncQJUs"
      },
      "execution_count": 6,
      "outputs": []
    },
    {
      "cell_type": "code",
      "source": [
        "fout.write(line2)"
      ],
      "metadata": {
        "id": "HmRjTkoVQNEz",
        "outputId": "25b188d4-6a6c-406c-94ff-d90d89793eca",
        "colab": {
          "base_uri": "https://localhost:8080/"
        }
      },
      "execution_count": 7,
      "outputs": [
        {
          "output_type": "execute_result",
          "data": {
            "text/plain": [
              "24"
            ]
          },
          "metadata": {},
          "execution_count": 7
        }
      ]
    },
    {
      "cell_type": "code",
      "source": [
        "# When we are writing files, we want to explicitly close the files so as to leave nothing to chance.\n",
        "fout.close()"
      ],
      "metadata": {
        "id": "AW4b7nyHQQXj"
      },
      "execution_count": 12,
      "outputs": []
    },
    {
      "cell_type": "code",
      "source": [],
      "metadata": {
        "id": "8ZpeYv07QeDf"
      },
      "execution_count": null,
      "outputs": []
    }
  ]
}